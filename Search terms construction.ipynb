{
 "cells": [
  {
   "cell_type": "code",
   "execution_count": null,
   "metadata": {},
   "outputs": [
    {
     "name": "stderr",
     "output_type": "stream",
     "text": [
      "c:\\Anaconda\\envs\\ML\\lib\\site-packages\\IPython\\core\\interactiveshell.py:3577: FutureWarning: The error_bad_lines argument has been deprecated and will be removed in a future version.\n",
      "\n",
      "\n",
      "  exec(code_obj, self.user_global_ns, self.user_ns)\n",
      "  0%|          | 0/595 [00:00<?, ?it/s]"
     ]
    },
    {
     "name": "stdout",
     "output_type": "stream",
     "text": [
      "===== search term =====\n",
      "( Abnormality of the orbital region[tiab] OR  Abnormality of the region around the eyes[tiab] OR  Abnormality of the eye region[tiab] OR  Deformity of the orbital region of the face[tiab] OR  Anomaly of the orbital region of the face[tiab] OR  Malformation of the orbital region of the face[tiab]) AND ( variat*[tiab] or SNP[tiab] or allele*[tiab] or mutat*[tiab] or polymorphism*[tiab] or haplotype*[tiab] or SNPs[tiab] or genotype[tiab] or gene[tiab] or chromosome[tiab] or deletion[tiab] or indel[tiab] or insertion[tiab] or substitution[tiab] or transition[tiab] or transversion[tiab] or translocation[tiab] or CNV[tiab] or copy number variation[tiab] or SV[tiab] or chromosome structure variation[tiab]) NOT review[pt] AND English[LA] AND (\"1980/01/01\"[DP] : \"2023/4/1\"[DP])\n",
      "Retrieved article numbers：0\n"
     ]
    },
    {
     "name": "stderr",
     "output_type": "stream",
     "text": [
      "  0%|          | 1/595 [00:02<20:04,  2.03s/it]"
     ]
    },
    {
     "name": "stdout",
     "output_type": "stream",
     "text": [
      "===== search term =====\n",
      "( Abnormality of the nose[tiab]) AND ( variat*[tiab] or SNP[tiab] or allele*[tiab] or mutat*[tiab] or polymorphism*[tiab] or haplotype*[tiab] or SNPs[tiab] or genotype[tiab] or gene[tiab] or chromosome[tiab] or deletion[tiab] or indel[tiab] or insertion[tiab] or substitution[tiab] or transition[tiab] or transversion[tiab] or translocation[tiab] or CNV[tiab] or copy number variation[tiab] or SV[tiab] or chromosome structure variation[tiab]) NOT review[pt] AND English[LA] AND (\"1980/01/01\"[DP] : \"2023/4/1\"[DP])\n",
      "Retrieved article numbers：6\n"
     ]
    },
    {
     "name": "stderr",
     "output_type": "stream",
     "text": [
      "  0%|          | 2/595 [00:03<17:40,  1.79s/it]"
     ]
    },
    {
     "name": "stdout",
     "output_type": "stream",
     "text": [
      "===== search term =====\n",
      "( Abnormality of facial soft tissue[tiab] OR  Malformation of facial soft tissue[tiab] OR  Abnormality of facial soft tissue[tiab] OR  Deformity of facial soft tissue[tiab] OR  Anomaly of facial soft tissue[tiab]) AND ( variat*[tiab] or SNP[tiab] or allele*[tiab] or mutat*[tiab] or polymorphism*[tiab] or haplotype*[tiab] or SNPs[tiab] or genotype[tiab] or gene[tiab] or chromosome[tiab] or deletion[tiab] or indel[tiab] or insertion[tiab] or substitution[tiab] or transition[tiab] or transversion[tiab] or translocation[tiab] or CNV[tiab] or copy number variation[tiab] or SV[tiab] or chromosome structure variation[tiab]) NOT review[pt] AND English[LA] AND (\"1980/01/01\"[DP] : \"2023/4/1\"[DP])\n",
      "Retrieved article numbers：0\n"
     ]
    },
    {
     "name": "stderr",
     "output_type": "stream",
     "text": [
      "  1%|          | 3/595 [00:08<33:35,  3.40s/it]"
     ]
    },
    {
     "name": "stdout",
     "output_type": "stream",
     "text": [
      "===== search term =====\n",
      "( Abnormality of the forehead[tiab]) AND ( variat*[tiab] or SNP[tiab] or allele*[tiab] or mutat*[tiab] or polymorphism*[tiab] or haplotype*[tiab] or SNPs[tiab] or genotype[tiab] or gene[tiab] or chromosome[tiab] or deletion[tiab] or indel[tiab] or insertion[tiab] or substitution[tiab] or transition[tiab] or transversion[tiab] or translocation[tiab] or CNV[tiab] or copy number variation[tiab] or SV[tiab] or chromosome structure variation[tiab]) NOT review[pt] AND English[LA] AND (\"1980/01/01\"[DP] : \"2023/4/1\"[DP])\n",
      "Retrieved article numbers：13\n"
     ]
    },
    {
     "name": "stderr",
     "output_type": "stream",
     "text": [
      "  1%|          | 4/595 [00:10<26:44,  2.71s/it]"
     ]
    },
    {
     "name": "stdout",
     "output_type": "stream",
     "text": [
      "===== search term =====\n",
      "( Abnormal facial shape[tiab] OR  Malformation of face[tiab] OR  Abnormal morphology of the face[tiab] OR  Distortion of face[tiab] OR  Unusual facies[tiab] OR  Funny looking face[tiab] OR  Deformity of face[tiab] OR  Dysmorphic facies[tiab] OR  Dysmorphic facial features[tiab] OR  Distinctive facies[tiab] OR  Facial dysmorphism[tiab] OR  Unusual facial appearance[tiab]) AND ( variat*[tiab] or SNP[tiab] or allele*[tiab] or mutat*[tiab] or polymorphism*[tiab] or haplotype*[tiab] or SNPs[tiab] or genotype[tiab] or gene[tiab] or chromosome[tiab] or deletion[tiab] or indel[tiab] or insertion[tiab] or substitution[tiab] or transition[tiab] or transversion[tiab] or translocation[tiab] or CNV[tiab] or copy number variation[tiab] or SV[tiab] or chromosome structure variation[tiab]) NOT review[pt] AND English[LA] AND (\"1980/01/01\"[DP] : \"2023/4/1\"[DP])\n",
      "Retrieved article numbers：0\n"
     ]
    },
    {
     "name": "stderr",
     "output_type": "stream",
     "text": [
      "  1%|          | 5/595 [00:13<26:06,  2.66s/it]"
     ]
    },
    {
     "name": "stdout",
     "output_type": "stream",
     "text": [
      "===== search term =====\n",
      "( Abnormality of the midface[tiab] OR  Deformity of the midface[tiab] OR  Anomaly of the midface[tiab] OR  Abnormality of the midface[tiab] OR  Malformation of the midface[tiab]) AND ( variat*[tiab] or SNP[tiab] or allele*[tiab] or mutat*[tiab] or polymorphism*[tiab] or haplotype*[tiab] or SNPs[tiab] or genotype[tiab] or gene[tiab] or chromosome[tiab] or deletion[tiab] or indel[tiab] or insertion[tiab] or substitution[tiab] or transition[tiab] or transversion[tiab] or translocation[tiab] or CNV[tiab] or copy number variation[tiab] or SV[tiab] or chromosome structure variation[tiab]) NOT review[pt] AND English[LA] AND (\"1980/01/01\"[DP] : \"2023/4/1\"[DP])\n",
      "Retrieved article numbers：2203\n"
     ]
    },
    {
     "name": "stderr",
     "output_type": "stream",
     "text": [
      "  1%|          | 6/595 [00:14<23:07,  2.36s/it]"
     ]
    },
    {
     "name": "stdout",
     "output_type": "stream",
     "text": [
      "===== search term =====\n",
      "( Facial cleft[tiab] OR  Facial clefts[tiab] OR  Tessier facial cleft[tiab] OR  Facial cleft[tiab] OR  Cleft of the face[tiab]) AND ( variat*[tiab] or SNP[tiab] or allele*[tiab] or mutat*[tiab] or polymorphism*[tiab] or haplotype*[tiab] or SNPs[tiab] or genotype[tiab] or gene[tiab] or chromosome[tiab] or deletion[tiab] or indel[tiab] or insertion[tiab] or substitution[tiab] or transition[tiab] or transversion[tiab] or translocation[tiab] or CNV[tiab] or copy number variation[tiab] or SV[tiab] or chromosome structure variation[tiab]) NOT review[pt] AND English[LA] AND (\"1980/01/01\"[DP] : \"2023/4/1\"[DP])\n",
      "Retrieved article numbers：0\n"
     ]
    },
    {
     "name": "stderr",
     "output_type": "stream",
     "text": [
      "  1%|          | 7/595 [00:16<21:32,  2.20s/it]"
     ]
    },
    {
     "name": "stdout",
     "output_type": "stream",
     "text": [
      "===== search term =====\n",
      "( Abnormality of the periorbital region[tiab] OR  Anomaly of the periorbital region[tiab] OR  Abnormality of the region around the eye[tiab] OR  Malformation of the periorbital region[tiab] OR  Abnormality of the region around the eye socket[tiab] OR  Deformity of the periorbital region[tiab]) AND ( variat*[tiab] or SNP[tiab] or allele*[tiab] or mutat*[tiab] or polymorphism*[tiab] or haplotype*[tiab] or SNPs[tiab] or genotype[tiab] or gene[tiab] or chromosome[tiab] or deletion[tiab] or indel[tiab] or insertion[tiab] or substitution[tiab] or transition[tiab] or transversion[tiab] or translocation[tiab] or CNV[tiab] or copy number variation[tiab] or SV[tiab] or chromosome structure variation[tiab]) NOT review[pt] AND English[LA] AND (\"1980/01/01\"[DP] : \"2023/4/1\"[DP])\n",
      "Retrieved article numbers：108\n"
     ]
    },
    {
     "name": "stderr",
     "output_type": "stream",
     "text": [
      "  1%|▏         | 8/595 [00:19<24:04,  2.46s/it]"
     ]
    },
    {
     "name": "stdout",
     "output_type": "stream",
     "text": [
      "===== search term =====\n",
      "( Abnormality of the chin[tiab] OR  Anomaly of the chin[tiab] OR  Abnormality of the menton[tiab] OR  Deformity of the chin[tiab] OR  Malformation of the chin[tiab] OR  Abnormality of the chin[tiab]) AND ( variat*[tiab] or SNP[tiab] or allele*[tiab] or mutat*[tiab] or polymorphism*[tiab] or haplotype*[tiab] or SNPs[tiab] or genotype[tiab] or gene[tiab] or chromosome[tiab] or deletion[tiab] or indel[tiab] or insertion[tiab] or substitution[tiab] or transition[tiab] or transversion[tiab] or translocation[tiab] or CNV[tiab] or copy number variation[tiab] or SV[tiab] or chromosome structure variation[tiab]) NOT review[pt] AND English[LA] AND (\"1980/01/01\"[DP] : \"2023/4/1\"[DP])\n",
      "Retrieved article numbers：6\n"
     ]
    },
    {
     "name": "stderr",
     "output_type": "stream",
     "text": [
      "  2%|▏         | 9/595 [00:21<22:59,  2.35s/it]"
     ]
    },
    {
     "name": "stdout",
     "output_type": "stream",
     "text": [
      "===== search term =====\n",
      "( Abnormal facial expression[tiab] OR  Abnormal facial expression[tiab]) AND ( variat*[tiab] or SNP[tiab] or allele*[tiab] or mutat*[tiab] or polymorphism*[tiab] or haplotype*[tiab] or SNPs[tiab] or genotype[tiab] or gene[tiab] or chromosome[tiab] or deletion[tiab] or indel[tiab] or insertion[tiab] or substitution[tiab] or transition[tiab] or transversion[tiab] or translocation[tiab] or CNV[tiab] or copy number variation[tiab] or SV[tiab] or chromosome structure variation[tiab]) NOT review[pt] AND English[LA] AND (\"1980/01/01\"[DP] : \"2023/4/1\"[DP])\n",
      "Retrieved article numbers：5\n"
     ]
    },
    {
     "name": "stderr",
     "output_type": "stream",
     "text": [
      "  2%|▏         | 10/595 [00:24<22:16,  2.28s/it]"
     ]
    },
    {
     "name": "stdout",
     "output_type": "stream",
     "text": [
      "===== search term =====\n",
      "( Craniofacial hyperostosis[tiab] OR  Excessive growth of craniofacial bones[tiab] OR  Thick craniofacial bones[tiab] OR  Increased ossification of craniofacial bones[tiab] OR  Hyperostosis of craniofacial bones[tiab] OR  Hypertrophy of craniofacial bones[tiab] OR  Enlargement of craniofacial bones[tiab] OR  Overgrowth of craniofacial bones[tiab] OR  Excessive bone growth of the skull and face[tiab]) AND ( variat*[tiab] or SNP[tiab] or allele*[tiab] or mutat*[tiab] or polymorphism*[tiab] or haplotype*[tiab] or SNPs[tiab] or genotype[tiab] or gene[tiab] or chromosome[tiab] or deletion[tiab] or indel[tiab] or insertion[tiab] or substitution[tiab] or transition[tiab] or transversion[tiab] or translocation[tiab] or CNV[tiab] or copy number variation[tiab] or SV[tiab] or chromosome structure variation[tiab]) NOT review[pt] AND English[LA] AND (\"1980/01/01\"[DP] : \"2023/4/1\"[DP])\n",
      "Retrieved article numbers：6\n"
     ]
    },
    {
     "name": "stderr",
     "output_type": "stream",
     "text": [
      "  2%|▏         | 11/595 [00:26<23:22,  2.40s/it]"
     ]
    },
    {
     "name": "stdout",
     "output_type": "stream",
     "text": [
      "===== search term =====\n",
      "( Craniofacial dysostosis[tiab] OR  Crouzon syndrome[tiab]) AND ( variat*[tiab] or SNP[tiab] or allele*[tiab] or mutat*[tiab] or polymorphism*[tiab] or haplotype*[tiab] or SNPs[tiab] or genotype[tiab] or gene[tiab] or chromosome[tiab] or deletion[tiab] or indel[tiab] or insertion[tiab] or substitution[tiab] or transition[tiab] or transversion[tiab] or translocation[tiab] or CNV[tiab] or copy number variation[tiab] or SV[tiab] or chromosome structure variation[tiab]) NOT review[pt] AND English[LA] AND (\"1980/01/01\"[DP] : \"2023/4/1\"[DP])\n",
      "Retrieved article numbers：33\n"
     ]
    },
    {
     "name": "stderr",
     "output_type": "stream",
     "text": [
      "  2%|▏         | 12/595 [00:28<21:27,  2.21s/it]"
     ]
    },
    {
     "name": "stdout",
     "output_type": "stream",
     "text": [
      "===== search term =====\n",
      "( Abnormality of the submandibular region[tiab] OR  [tiab]) AND ( variat*[tiab] or SNP[tiab] or allele*[tiab] or mutat*[tiab] or polymorphism*[tiab] or haplotype*[tiab] or SNPs[tiab] or genotype[tiab] or gene[tiab] or chromosome[tiab] or deletion[tiab] or indel[tiab] or insertion[tiab] or substitution[tiab] or transition[tiab] or transversion[tiab] or translocation[tiab] or CNV[tiab] or copy number variation[tiab] or SV[tiab] or chromosome structure variation[tiab]) NOT review[pt] AND English[LA] AND (\"1980/01/01\"[DP] : \"2023/4/1\"[DP])\n",
      "Retrieved article numbers：226\n"
     ]
    },
    {
     "name": "stderr",
     "output_type": "stream",
     "text": [
      "  2%|▏         | 13/595 [00:31<23:50,  2.46s/it]"
     ]
    },
    {
     "name": "stdout",
     "output_type": "stream",
     "text": [
      "===== search term =====\n",
      "(Abnormality of the ocular adnexa[tiab]) AND ( variat*[tiab] or SNP[tiab] or allele*[tiab] or mutat*[tiab] or polymorphism*[tiab] or haplotype*[tiab] or SNPs[tiab] or genotype[tiab] or gene[tiab] or chromosome[tiab] or deletion[tiab] or indel[tiab] or insertion[tiab] or substitution[tiab] or transition[tiab] or transversion[tiab] or translocation[tiab] or CNV[tiab] or copy number variation[tiab] or SV[tiab] or chromosome structure variation[tiab]) NOT review[pt] AND English[LA] AND (\"1980/01/01\"[DP] : \"2023/4/1\"[DP])\n",
      "Retrieved article numbers：0\n"
     ]
    },
    {
     "name": "stderr",
     "output_type": "stream",
     "text": [
      "  2%|▏         | 14/595 [00:33<21:31,  2.22s/it]"
     ]
    },
    {
     "name": "stdout",
     "output_type": "stream",
     "text": [
      "===== search term =====\n",
      "(Hamartoma of the orbital region[tiab]) AND ( variat*[tiab] or SNP[tiab] or allele*[tiab] or mutat*[tiab] or polymorphism*[tiab] or haplotype*[tiab] or SNPs[tiab] or genotype[tiab] or gene[tiab] or chromosome[tiab] or deletion[tiab] or indel[tiab] or insertion[tiab] or substitution[tiab] or transition[tiab] or transversion[tiab] or translocation[tiab] or CNV[tiab] or copy number variation[tiab] or SV[tiab] or chromosome structure variation[tiab]) NOT review[pt] AND English[LA] AND (\"1980/01/01\"[DP] : \"2023/4/1\"[DP])\n",
      "Retrieved article numbers：0\n"
     ]
    },
    {
     "name": "stderr",
     "output_type": "stream",
     "text": [
      "  3%|▎         | 15/595 [00:35<21:04,  2.18s/it]"
     ]
    },
    {
     "name": "stdout",
     "output_type": "stream",
     "text": [
      "===== search term =====\n",
      "(Abnormality of bony orbit of skull[tiab] OR  Abnormality of the bony eye socket[tiab] OR  Abnormality of the orbital bones of skull[tiab] OR  Abnormality of bones of the orbit of the skull[tiab]) AND ( variat*[tiab] or SNP[tiab] or allele*[tiab] or mutat*[tiab] or polymorphism*[tiab] or haplotype*[tiab] or SNPs[tiab] or genotype[tiab] or gene[tiab] or chromosome[tiab] or deletion[tiab] or indel[tiab] or insertion[tiab] or substitution[tiab] or transition[tiab] or transversion[tiab] or translocation[tiab] or CNV[tiab] or copy number variation[tiab] or SV[tiab] or chromosome structure variation[tiab]) NOT review[pt] AND English[LA] AND (\"1980/01/01\"[DP] : \"2023/4/1\"[DP])\n",
      "Retrieved article numbers：0\n"
     ]
    },
    {
     "name": "stderr",
     "output_type": "stream",
     "text": [
      "  3%|▎         | 16/595 [00:37<20:59,  2.18s/it]"
     ]
    },
    {
     "name": "stdout",
     "output_type": "stream",
     "text": [
      "===== search term =====\n",
      "(Orbital cyst[tiab] OR  Orbital cysts[tiab] OR  Cyst of eye socket[tiab]) AND ( variat*[tiab] or SNP[tiab] or allele*[tiab] or mutat*[tiab] or polymorphism*[tiab] or haplotype*[tiab] or SNPs[tiab] or genotype[tiab] or gene[tiab] or chromosome[tiab] or deletion[tiab] or indel[tiab] or insertion[tiab] or substitution[tiab] or transition[tiab] or transversion[tiab] or translocation[tiab] or CNV[tiab] or copy number variation[tiab] or SV[tiab] or chromosome structure variation[tiab]) NOT review[pt] AND English[LA] AND (\"1980/01/01\"[DP] : \"2023/4/1\"[DP])\n",
      "Retrieved article numbers：0\n"
     ]
    },
    {
     "name": "stderr",
     "output_type": "stream",
     "text": [
      "  3%|▎         | 17/595 [00:40<22:43,  2.36s/it]"
     ]
    },
    {
     "name": "stdout",
     "output_type": "stream",
     "text": [
      "===== search term =====\n",
      "(Abnormality of the external nose[tiab] OR  Malformation of the external nose[tiab] OR  Deformity of the external nose[tiab] OR  Abnormality of the external nose[tiab] OR  Anomaly of the external nose[tiab]) AND ( variat*[tiab] or SNP[tiab] or allele*[tiab] or mutat*[tiab] or polymorphism*[tiab] or haplotype*[tiab] or SNPs[tiab] or genotype[tiab] or gene[tiab] or chromosome[tiab] or deletion[tiab] or indel[tiab] or insertion[tiab] or substitution[tiab] or transition[tiab] or transversion[tiab] or translocation[tiab] or CNV[tiab] or copy number variation[tiab] or SV[tiab] or chromosome structure variation[tiab]) NOT review[pt] AND English[LA] AND (\"1980/01/01\"[DP] : \"2023/4/1\"[DP])\n",
      "Retrieved article numbers：13\n"
     ]
    },
    {
     "name": "stderr",
     "output_type": "stream",
     "text": [
      "  3%|▎         | 18/595 [00:42<21:17,  2.21s/it]"
     ]
    },
    {
     "name": "stdout",
     "output_type": "stream",
     "text": [
      "===== search term =====\n",
      "(Abnormal nasal morphology[tiab]) AND ( variat*[tiab] or SNP[tiab] or allele*[tiab] or mutat*[tiab] or polymorphism*[tiab] or haplotype*[tiab] or SNPs[tiab] or genotype[tiab] or gene[tiab] or chromosome[tiab] or deletion[tiab] or indel[tiab] or insertion[tiab] or substitution[tiab] or transition[tiab] or transversion[tiab] or translocation[tiab] or CNV[tiab] or copy number variation[tiab] or SV[tiab] or chromosome structure variation[tiab]) NOT review[pt] AND English[LA] AND (\"1980/01/01\"[DP] : \"2023/4/1\"[DP])\n",
      "Retrieved article numbers：2\n"
     ]
    },
    {
     "name": "stderr",
     "output_type": "stream",
     "text": [
      "  3%|▎         | 19/595 [00:45<24:16,  2.53s/it]"
     ]
    },
    {
     "name": "stdout",
     "output_type": "stream",
     "text": [
      "===== search term =====\n",
      "(Abnormal nasopharynx morphology[tiab] OR  Abnormality of the nasopharynx[tiab]) AND ( variat*[tiab] or SNP[tiab] or allele*[tiab] or mutat*[tiab] or polymorphism*[tiab] or haplotype*[tiab] or SNPs[tiab] or genotype[tiab] or gene[tiab] or chromosome[tiab] or deletion[tiab] or indel[tiab] or insertion[tiab] or substitution[tiab] or transition[tiab] or transversion[tiab] or translocation[tiab] or CNV[tiab] or copy number variation[tiab] or SV[tiab] or chromosome structure variation[tiab]) NOT review[pt] AND English[LA] AND (\"1980/01/01\"[DP] : \"2023/4/1\"[DP])\n",
      "Retrieved article numbers：4\n"
     ]
    },
    {
     "name": "stderr",
     "output_type": "stream",
     "text": [
      "  3%|▎         | 20/595 [00:48<24:55,  2.60s/it]"
     ]
    },
    {
     "name": "stdout",
     "output_type": "stream",
     "text": [
      "===== search term =====\n",
      "(Abnormality of the sense of smell[tiab]) AND ( variat*[tiab] or SNP[tiab] or allele*[tiab] or mutat*[tiab] or polymorphism*[tiab] or haplotype*[tiab] or SNPs[tiab] or genotype[tiab] or gene[tiab] or chromosome[tiab] or deletion[tiab] or indel[tiab] or insertion[tiab] or substitution[tiab] or transition[tiab] or transversion[tiab] or translocation[tiab] or CNV[tiab] or copy number variation[tiab] or SV[tiab] or chromosome structure variation[tiab]) NOT review[pt] AND English[LA] AND (\"1980/01/01\"[DP] : \"2023/4/1\"[DP])\n",
      "Retrieved article numbers：5\n"
     ]
    },
    {
     "name": "stderr",
     "output_type": "stream",
     "text": [
      "  4%|▎         | 21/595 [00:50<23:47,  2.49s/it]"
     ]
    },
    {
     "name": "stdout",
     "output_type": "stream",
     "text": [
      "===== search term =====\n",
      "(Abnormality of the nasal septum[tiab] OR  Anomaly of nasal septum[tiab] OR  Anomaly of septum of nose[tiab] OR  Abnormality of septum of nose[tiab] OR  Abnormality of the nasal septum[tiab]) AND ( variat*[tiab] or SNP[tiab] or allele*[tiab] or mutat*[tiab] or polymorphism*[tiab] or haplotype*[tiab] or SNPs[tiab] or genotype[tiab] or gene[tiab] or chromosome[tiab] or deletion[tiab] or indel[tiab] or insertion[tiab] or substitution[tiab] or transition[tiab] or transversion[tiab] or translocation[tiab] or CNV[tiab] or copy number variation[tiab] or SV[tiab] or chromosome structure variation[tiab]) NOT review[pt] AND English[LA] AND (\"1980/01/01\"[DP] : \"2023/4/1\"[DP])\n",
      "Retrieved article numbers：6\n"
     ]
    },
    {
     "name": "stderr",
     "output_type": "stream",
     "text": [
      "  4%|▎         | 22/595 [00:53<24:07,  2.53s/it]"
     ]
    },
    {
     "name": "stdout",
     "output_type": "stream",
     "text": [
      "===== search term =====\n",
      "(Abnormality of the nares[tiab] OR  Deformity of the nares[tiab] OR  Malformation of the nares[tiab] OR  Malformation of the nostrils[tiab] OR  Deformity of the nostrils[tiab] OR  Abnormality of the nostrils[tiab] OR  Anomaly of the nares[tiab]) AND ( variat*[tiab] or SNP[tiab] or allele*[tiab] or mutat*[tiab] or polymorphism*[tiab] or haplotype*[tiab] or SNPs[tiab] or genotype[tiab] or gene[tiab] or chromosome[tiab] or deletion[tiab] or indel[tiab] or insertion[tiab] or substitution[tiab] or transition[tiab] or transversion[tiab] or translocation[tiab] or CNV[tiab] or copy number variation[tiab] or SV[tiab] or chromosome structure variation[tiab]) NOT review[pt] AND English[LA] AND (\"1980/01/01\"[DP] : \"2023/4/1\"[DP])\n",
      "Retrieved article numbers：0\n"
     ]
    },
    {
     "name": "stderr",
     "output_type": "stream",
     "text": [
      "  4%|▍         | 23/595 [00:55<25:02,  2.63s/it]"
     ]
    },
    {
     "name": "stdout",
     "output_type": "stream",
     "text": [
      "===== search term =====\n",
      "(Abnormality of the nasal skeleton[tiab] OR  Abnormality of the nasal skeleton[tiab] OR  Distortion of the nasal skeleton[tiab] OR  Malformation of the bones of the nose[tiab] OR  Deformity of the nasal skeleton[tiab] OR  Distortion of the bones of the nose[tiab] OR  Anomaly of the nasal skeleton[tiab] OR  Deformity of the bones of the nose[tiab] OR  Malformation of the nasal skeleton[tiab]) AND ( variat*[tiab] or SNP[tiab] or allele*[tiab] or mutat*[tiab] or polymorphism*[tiab] or haplotype*[tiab] or SNPs[tiab] or genotype[tiab] or gene[tiab] or chromosome[tiab] or deletion[tiab] or indel[tiab] or insertion[tiab] or substitution[tiab] or transition[tiab] or transversion[tiab] or translocation[tiab] or CNV[tiab] or copy number variation[tiab] or SV[tiab] or chromosome structure variation[tiab]) NOT review[pt] AND English[LA] AND (\"1980/01/01\"[DP] : \"2023/4/1\"[DP])\n",
      "Retrieved article numbers：161\n"
     ]
    },
    {
     "name": "stderr",
     "output_type": "stream",
     "text": [
      "  4%|▍         | 24/595 [01:00<30:24,  3.20s/it]"
     ]
    },
    {
     "name": "stdout",
     "output_type": "stream",
     "text": [
      "===== search term =====\n",
      "(Abnormality of the choanae[tiab]) AND ( variat*[tiab] or SNP[tiab] or allele*[tiab] or mutat*[tiab] or polymorphism*[tiab] or haplotype*[tiab] or SNPs[tiab] or genotype[tiab] or gene[tiab] or chromosome[tiab] or deletion[tiab] or indel[tiab] or insertion[tiab] or substitution[tiab] or transition[tiab] or transversion[tiab] or translocation[tiab] or CNV[tiab] or copy number variation[tiab] or SV[tiab] or chromosome structure variation[tiab]) NOT review[pt] AND English[LA] AND (\"1980/01/01\"[DP] : \"2023/4/1\"[DP])\n",
      "Retrieved article numbers：2\n"
     ]
    },
    {
     "name": "stderr",
     "output_type": "stream",
     "text": [
      "  4%|▍         | 25/595 [01:04<32:26,  3.42s/it]"
     ]
    },
    {
     "name": "stdout",
     "output_type": "stream",
     "text": [
      "===== search term =====\n",
      "(Rhinitis[tiab] OR  Nasal inflammation[tiab]) AND ( variat*[tiab] or SNP[tiab] or allele*[tiab] or mutat*[tiab] or polymorphism*[tiab] or haplotype*[tiab] or SNPs[tiab] or genotype[tiab] or gene[tiab] or chromosome[tiab] or deletion[tiab] or indel[tiab] or insertion[tiab] or substitution[tiab] or transition[tiab] or transversion[tiab] or translocation[tiab] or CNV[tiab] or copy number variation[tiab] or SV[tiab] or chromosome structure variation[tiab]) NOT review[pt] AND English[LA] AND (\"1980/01/01\"[DP] : \"2023/4/1\"[DP])\n",
      "Retrieved article numbers：0\n"
     ]
    },
    {
     "name": "stderr",
     "output_type": "stream",
     "text": [
      "  4%|▍         | 26/595 [01:08<35:24,  3.73s/it]"
     ]
    },
    {
     "name": "stdout",
     "output_type": "stream",
     "text": [
      "===== search term =====\n",
      "(Abnormal nasal mucosa morphology[tiab] OR   Abnormality of the nasal mucosa[tiab] OR  Abnormality of mucous membrane of nose[tiab] OR  Abnormality of mucosa of nose[tiab] OR  Abnormality of nasal mucous membrane[tiab]) AND ( variat*[tiab] or SNP[tiab] or allele*[tiab] or mutat*[tiab] or polymorphism*[tiab] or haplotype*[tiab] or SNPs[tiab] or genotype[tiab] or gene[tiab] or chromosome[tiab] or deletion[tiab] or indel[tiab] or insertion[tiab] or substitution[tiab] or transition[tiab] or transversion[tiab] or translocation[tiab] or CNV[tiab] or copy number variation[tiab] or SV[tiab] or chromosome structure variation[tiab]) NOT review[pt] AND English[LA] AND (\"1980/01/01\"[DP] : \"2023/4/1\"[DP])\n",
      "Retrieved article numbers：1738\n"
     ]
    },
    {
     "name": "stderr",
     "output_type": "stream",
     "text": [
      "  5%|▍         | 27/595 [01:11<33:36,  3.55s/it]"
     ]
    },
    {
     "name": "stdout",
     "output_type": "stream",
     "text": [
      "===== search term =====\n",
      "(Abnormality of the nasal cavity[tiab]) AND ( variat*[tiab] or SNP[tiab] or allele*[tiab] or mutat*[tiab] or polymorphism*[tiab] or haplotype*[tiab] or SNPs[tiab] or genotype[tiab] or gene[tiab] or chromosome[tiab] or deletion[tiab] or indel[tiab] or insertion[tiab] or substitution[tiab] or transition[tiab] or transversion[tiab] or translocation[tiab] or CNV[tiab] or copy number variation[tiab] or SV[tiab] or chromosome structure variation[tiab]) NOT review[pt] AND English[LA] AND (\"1980/01/01\"[DP] : \"2023/4/1\"[DP])\n",
      "Retrieved article numbers：41\n"
     ]
    },
    {
     "name": "stderr",
     "output_type": "stream",
     "text": [
      "  5%|▍         | 28/595 [01:15<34:28,  3.65s/it]"
     ]
    },
    {
     "name": "stdout",
     "output_type": "stream",
     "text": [
      "===== search term =====\n",
      "(Abnormality of the nasolabial region[tiab] OR  Deformity of the nasolabial region[tiab] OR  Malformation of the nasolabial region[tiab] OR  Anomaly of the nasolabial region[tiab]) AND ( variat*[tiab] or SNP[tiab] or allele*[tiab] or mutat*[tiab] or polymorphism*[tiab] or haplotype*[tiab] or SNPs[tiab] or genotype[tiab] or gene[tiab] or chromosome[tiab] or deletion[tiab] or indel[tiab] or insertion[tiab] or substitution[tiab] or transition[tiab] or transversion[tiab] or translocation[tiab] or CNV[tiab] or copy number variation[tiab] or SV[tiab] or chromosome structure variation[tiab]) NOT review[pt] AND English[LA] AND (\"1980/01/01\"[DP] : \"2023/4/1\"[DP])\n",
      "Retrieved article numbers：0\n"
     ]
    },
    {
     "name": "stderr",
     "output_type": "stream",
     "text": [
      "  5%|▍         | 29/595 [01:19<33:13,  3.52s/it]"
     ]
    },
    {
     "name": "stdout",
     "output_type": "stream",
     "text": [
      "===== search term =====\n",
      "(Abnormal nasal base[tiab] OR  Malformation of base of nose[tiab] OR  Malformation of nasal base[tiab] OR  Anomaly of nasal base[tiab] OR  Deformity of nasal base[tiab] OR  Deformity of base of nose[tiab] OR  Abnormality of base of nose[tiab] OR  Anomaly of base of nose[tiab] OR  Abnormal nasal base[tiab]) AND ( variat*[tiab] or SNP[tiab] or allele*[tiab] or mutat*[tiab] or polymorphism*[tiab] or haplotype*[tiab] or SNPs[tiab] or genotype[tiab] or gene[tiab] or chromosome[tiab] or deletion[tiab] or indel[tiab] or insertion[tiab] or substitution[tiab] or transition[tiab] or transversion[tiab] or translocation[tiab] or CNV[tiab] or copy number variation[tiab] or SV[tiab] or chromosome structure variation[tiab]) NOT review[pt] AND English[LA] AND (\"1980/01/01\"[DP] : \"2023/4/1\"[DP])\n",
      "Retrieved article numbers：4\n"
     ]
    },
    {
     "name": "stderr",
     "output_type": "stream",
     "text": [
      "  5%|▌         | 30/595 [01:22<31:41,  3.36s/it]"
     ]
    },
    {
     "name": "stdout",
     "output_type": "stream",
     "text": [
      "===== search term =====\n",
      "(Epistaxis[tiab] OR  Bloody nose[tiab] OR  Nasal hemorrhage[tiab] OR  Nasal haemorrhage[tiab] OR  Nosebleed[tiab] OR  Frequent nosebleeds[tiab] OR  Nose bleeding[tiab] OR  Nose bleed[tiab]) AND ( variat*[tiab] or SNP[tiab] or allele*[tiab] or mutat*[tiab] or polymorphism*[tiab] or haplotype*[tiab] or SNPs[tiab] or genotype[tiab] or gene[tiab] or chromosome[tiab] or deletion[tiab] or indel[tiab] or insertion[tiab] or substitution[tiab] or transition[tiab] or transversion[tiab] or translocation[tiab] or CNV[tiab] or copy number variation[tiab] or SV[tiab] or chromosome structure variation[tiab]) NOT review[pt] AND English[LA] AND (\"1980/01/01\"[DP] : \"2023/4/1\"[DP])\n",
      "Retrieved article numbers：10\n"
     ]
    },
    {
     "name": "stderr",
     "output_type": "stream",
     "text": [
      "  5%|▌         | 31/595 [01:24<30:14,  3.22s/it]"
     ]
    },
    {
     "name": "stdout",
     "output_type": "stream",
     "text": [
      "===== search term =====\n",
      "(Abnormality of nasalis muscle[tiab]) AND ( variat*[tiab] or SNP[tiab] or allele*[tiab] or mutat*[tiab] or polymorphism*[tiab] or haplotype*[tiab] or SNPs[tiab] or genotype[tiab] or gene[tiab] or chromosome[tiab] or deletion[tiab] or indel[tiab] or insertion[tiab] or substitution[tiab] or transition[tiab] or transversion[tiab] or translocation[tiab] or CNV[tiab] or copy number variation[tiab] or SV[tiab] or chromosome structure variation[tiab]) NOT review[pt] AND English[LA] AND (\"1980/01/01\"[DP] : \"2023/4/1\"[DP])\n",
      "Retrieved article numbers：497\n"
     ]
    },
    {
     "name": "stderr",
     "output_type": "stream",
     "text": [
      "  5%|▌         | 32/595 [01:27<27:51,  2.97s/it]"
     ]
    },
    {
     "name": "stdout",
     "output_type": "stream",
     "text": [
      "===== search term =====\n",
      "(Abnormality of nasal hair[tiab] OR Abnormality of nose hair[tiab] OR  Abnormality of nasal hair[tiab]) AND ( variat*[tiab] or SNP[tiab] or allele*[tiab] or mutat*[tiab] or polymorphism*[tiab] or haplotype*[tiab] or SNPs[tiab] or genotype[tiab] or gene[tiab] or chromosome[tiab] or deletion[tiab] or indel[tiab] or insertion[tiab] or substitution[tiab] or transition[tiab] or transversion[tiab] or translocation[tiab] or CNV[tiab] or copy number variation[tiab] or SV[tiab] or chromosome structure variation[tiab]) NOT review[pt] AND English[LA] AND (\"1980/01/01\"[DP] : \"2023/4/1\"[DP])\n",
      "Retrieved article numbers：1\n"
     ]
    },
    {
     "name": "stderr",
     "output_type": "stream",
     "text": [
      "  6%|▌         | 33/595 [01:29<26:13,  2.80s/it]"
     ]
    },
    {
     "name": "stdout",
     "output_type": "stream",
     "text": [
      "===== search term =====\n",
      "( Abnormality of procerus muscle[tiab]) AND ( variat*[tiab] or SNP[tiab] or allele*[tiab] or mutat*[tiab] or polymorphism*[tiab] or haplotype*[tiab] or SNPs[tiab] or genotype[tiab] or gene[tiab] or chromosome[tiab] or deletion[tiab] or indel[tiab] or insertion[tiab] or substitution[tiab] or transition[tiab] or transversion[tiab] or translocation[tiab] or CNV[tiab] or copy number variation[tiab] or SV[tiab] or chromosome structure variation[tiab]) NOT review[pt] AND English[LA] AND (\"1980/01/01\"[DP] : \"2023/4/1\"[DP])\n",
      "Retrieved article numbers：0\n"
     ]
    },
    {
     "name": "stderr",
     "output_type": "stream",
     "text": [
      "  6%|▌         | 34/595 [01:32<24:47,  2.65s/it]"
     ]
    },
    {
     "name": "stdout",
     "output_type": "stream",
     "text": [
      "===== search term =====\n",
      "( Nasal congestion[tiab] OR Nasal blockage[tiab] OR  Congestion of nose[tiab] OR  Stuffy nose[tiab] OR  Nasal obstruction[tiab] OR  Blockage of nose[tiab] OR  Obstruction of nose[tiab]) AND ( variat*[tiab] or SNP[tiab] or allele*[tiab] or mutat*[tiab] or polymorphism*[tiab] or haplotype*[tiab] or SNPs[tiab] or genotype[tiab] or gene[tiab] or chromosome[tiab] or deletion[tiab] or indel[tiab] or insertion[tiab] or substitution[tiab] or transition[tiab] or transversion[tiab] or translocation[tiab] or CNV[tiab] or copy number variation[tiab] or SV[tiab] or chromosome structure variation[tiab]) NOT review[pt] AND English[LA] AND (\"1980/01/01\"[DP] : \"2023/4/1\"[DP])\n",
      "Retrieved article numbers：0\n"
     ]
    },
    {
     "name": "stderr",
     "output_type": "stream",
     "text": [
      "  6%|▌         | 35/595 [01:38<35:55,  3.85s/it]"
     ]
    },
    {
     "name": "stdout",
     "output_type": "stream",
     "text": [
      "===== search term =====\n",
      "( Abnormality of facial musculature[tiab]) AND ( variat*[tiab] or SNP[tiab] or allele*[tiab] or mutat*[tiab] or polymorphism*[tiab] or haplotype*[tiab] or SNPs[tiab] or genotype[tiab] or gene[tiab] or chromosome[tiab] or deletion[tiab] or indel[tiab] or insertion[tiab] or substitution[tiab] or transition[tiab] or transversion[tiab] or translocation[tiab] or CNV[tiab] or copy number variation[tiab] or SV[tiab] or chromosome structure variation[tiab]) NOT review[pt] AND English[LA] AND (\"1980/01/01\"[DP] : \"2023/4/1\"[DP])\n",
      "Retrieved article numbers：322\n"
     ]
    },
    {
     "name": "stderr",
     "output_type": "stream",
     "text": [
      "  6%|▌         | 36/595 [01:41<34:14,  3.68s/it]"
     ]
    },
    {
     "name": "stdout",
     "output_type": "stream",
     "text": [
      "===== search term =====\n",
      "( Facial hemangioma[tiab] OR  Facial hemangiomata[tiab]) AND ( variat*[tiab] or SNP[tiab] or allele*[tiab] or mutat*[tiab] or polymorphism*[tiab] or haplotype*[tiab] or SNPs[tiab] or genotype[tiab] or gene[tiab] or chromosome[tiab] or deletion[tiab] or indel[tiab] or insertion[tiab] or substitution[tiab] or transition[tiab] or transversion[tiab] or translocation[tiab] or CNV[tiab] or copy number variation[tiab] or SV[tiab] or chromosome structure variation[tiab]) NOT review[pt] AND English[LA] AND (\"1980/01/01\"[DP] : \"2023/4/1\"[DP])\n",
      "Retrieved article numbers：1\n"
     ]
    },
    {
     "name": "stderr",
     "output_type": "stream",
     "text": [
      "  6%|▌         | 37/595 [01:45<32:54,  3.54s/it]"
     ]
    },
    {
     "name": "stdout",
     "output_type": "stream",
     "text": [
      "===== search term =====\n",
      "( Facial edema[tiab] OR   Facial puffiness[tiab] OR  Facial oedema[tiab] OR  Facial swelling[tiab]) AND ( variat*[tiab] or SNP[tiab] or allele*[tiab] or mutat*[tiab] or polymorphism*[tiab] or haplotype*[tiab] or SNPs[tiab] or genotype[tiab] or gene[tiab] or chromosome[tiab] or deletion[tiab] or indel[tiab] or insertion[tiab] or substitution[tiab] or transition[tiab] or transversion[tiab] or translocation[tiab] or CNV[tiab] or copy number variation[tiab] or SV[tiab] or chromosome structure variation[tiab]) NOT review[pt] AND English[LA] AND (\"1980/01/01\"[DP] : \"2023/4/1\"[DP])\n",
      "Retrieved article numbers：4\n"
     ]
    },
    {
     "name": "stderr",
     "output_type": "stream",
     "text": [
      "  6%|▋         | 38/595 [01:48<32:16,  3.48s/it]"
     ]
    },
    {
     "name": "stdout",
     "output_type": "stream",
     "text": [
      "===== search term =====\n",
      "( Abnormality of facial adipose tissue[tiab] OR  Malformation of facial adipose tissue[tiab] OR  Abnormality of facial fat[tiab] OR  Deformity of facial adipose tissue[tiab]) AND ( variat*[tiab] or SNP[tiab] or allele*[tiab] or mutat*[tiab] or polymorphism*[tiab] or haplotype*[tiab] or SNPs[tiab] or genotype[tiab] or gene[tiab] or chromosome[tiab] or deletion[tiab] or indel[tiab] or insertion[tiab] or substitution[tiab] or transition[tiab] or transversion[tiab] or translocation[tiab] or CNV[tiab] or copy number variation[tiab] or SV[tiab] or chromosome structure variation[tiab]) NOT review[pt] AND English[LA] AND (\"1980/01/01\"[DP] : \"2023/4/1\"[DP])\n",
      "Retrieved article numbers：84\n"
     ]
    },
    {
     "name": "stderr",
     "output_type": "stream",
     "text": [
      "  7%|▋         | 39/595 [01:50<28:31,  3.08s/it]"
     ]
    },
    {
     "name": "stdout",
     "output_type": "stream",
     "text": [
      "===== search term =====\n",
      "( Facial papillomaFacial wart[tiab] OR  Facial verruca[tiab]) AND ( variat*[tiab] or SNP[tiab] or allele*[tiab] or mutat*[tiab] or polymorphism*[tiab] or haplotype*[tiab] or SNPs[tiab] or genotype[tiab] or gene[tiab] or chromosome[tiab] or deletion[tiab] or indel[tiab] or insertion[tiab] or substitution[tiab] or transition[tiab] or transversion[tiab] or translocation[tiab] or CNV[tiab] or copy number variation[tiab] or SV[tiab] or chromosome structure variation[tiab]) NOT review[pt] AND English[LA] AND (\"1980/01/01\"[DP] : \"2023/4/1\"[DP])\n",
      "Retrieved article numbers：0\n"
     ]
    },
    {
     "name": "stderr",
     "output_type": "stream",
     "text": [
      "  7%|▋         | 40/595 [01:54<31:53,  3.45s/it]"
     ]
    },
    {
     "name": "stdout",
     "output_type": "stream",
     "text": [
      "===== search term =====\n",
      "( Adenoma sebaceum[tiab] OR  Sebaceous adenomas[tiab] OR  Sebaceous adenoma[tiab] OR  Facial angiofibromas[tiab]) AND ( variat*[tiab] or SNP[tiab] or allele*[tiab] or mutat*[tiab] or polymorphism*[tiab] or haplotype*[tiab] or SNPs[tiab] or genotype[tiab] or gene[tiab] or chromosome[tiab] or deletion[tiab] or indel[tiab] or insertion[tiab] or substitution[tiab] or transition[tiab] or transversion[tiab] or translocation[tiab] or CNV[tiab] or copy number variation[tiab] or SV[tiab] or chromosome structure variation[tiab]) NOT review[pt] AND English[LA] AND (\"1980/01/01\"[DP] : \"2023/4/1\"[DP])\n",
      "Retrieved article numbers：5\n"
     ]
    },
    {
     "name": "stderr",
     "output_type": "stream",
     "text": [
      "  7%|▋         | 41/595 [01:57<28:47,  3.12s/it]"
     ]
    },
    {
     "name": "stdout",
     "output_type": "stream",
     "text": [
      "===== search term =====\n",
      "( Atrophodermia vermiculata[tiab] OR Vermiculata atrophoderma[tiab]) AND ( variat*[tiab] or SNP[tiab] or allele*[tiab] or mutat*[tiab] or polymorphism*[tiab] or haplotype*[tiab] or SNPs[tiab] or genotype[tiab] or gene[tiab] or chromosome[tiab] or deletion[tiab] or indel[tiab] or insertion[tiab] or substitution[tiab] or transition[tiab] or transversion[tiab] or translocation[tiab] or CNV[tiab] or copy number variation[tiab] or SV[tiab] or chromosome structure variation[tiab]) NOT review[pt] AND English[LA] AND (\"1980/01/01\"[DP] : \"2023/4/1\"[DP])\n",
      "Retrieved article numbers：109\n"
     ]
    },
    {
     "name": "stderr",
     "output_type": "stream",
     "text": [
      "  7%|▋         | 42/595 [02:01<31:09,  3.38s/it]"
     ]
    },
    {
     "name": "stdout",
     "output_type": "stream",
     "text": [
      "===== search term =====\n",
      "( Abnormality of frontalis muscle belly[tiab]) AND ( variat*[tiab] or SNP[tiab] or allele*[tiab] or mutat*[tiab] or polymorphism*[tiab] or haplotype*[tiab] or SNPs[tiab] or genotype[tiab] or gene[tiab] or chromosome[tiab] or deletion[tiab] or indel[tiab] or insertion[tiab] or substitution[tiab] or transition[tiab] or transversion[tiab] or translocation[tiab] or CNV[tiab] or copy number variation[tiab] or SV[tiab] or chromosome structure variation[tiab]) NOT review[pt] AND English[LA] AND (\"1980/01/01\"[DP] : \"2023/4/1\"[DP])\n",
      "Retrieved article numbers：0\n"
     ]
    },
    {
     "name": "stderr",
     "output_type": "stream",
     "text": [
      "  7%|▋         | 43/595 [02:03<28:36,  3.11s/it]"
     ]
    },
    {
     "name": "stdout",
     "output_type": "stream",
     "text": [
      "===== search term =====\n",
      "( Abnormality of the frontal hairline[tiab] OR  Abnormality of hairline at front of head[tiab] OR  Abnormality of the frontal hairline[tiab]) AND ( variat*[tiab] or SNP[tiab] or allele*[tiab] or mutat*[tiab] or polymorphism*[tiab] or haplotype*[tiab] or SNPs[tiab] or genotype[tiab] or gene[tiab] or chromosome[tiab] or deletion[tiab] or indel[tiab] or insertion[tiab] or substitution[tiab] or transition[tiab] or transversion[tiab] or translocation[tiab] or CNV[tiab] or copy number variation[tiab] or SV[tiab] or chromosome structure variation[tiab]) NOT review[pt] AND English[LA] AND (\"1980/01/01\"[DP] : \"2023/4/1\"[DP])\n",
      "Retrieved article numbers：0\n"
     ]
    },
    {
     "name": "stderr",
     "output_type": "stream",
     "text": [
      "  7%|▋         | 44/595 [02:07<29:11,  3.18s/it]"
     ]
    },
    {
     "name": "stdout",
     "output_type": "stream",
     "text": [
      "===== search term =====\n",
      "( Abnormality of the glabella[tiab] OR  Abnormality of the area between the eyebrows[tiab] OR  Glabellar abnormality[tiab] OR  Deformity of the area between the eyebrows[tiab] OR  Malformation of the area between the eyebrows[tiab]) AND ( variat*[tiab] or SNP[tiab] or allele*[tiab] or mutat*[tiab] or polymorphism*[tiab] or haplotype*[tiab] or SNPs[tiab] or genotype[tiab] or gene[tiab] or chromosome[tiab] or deletion[tiab] or indel[tiab] or insertion[tiab] or substitution[tiab] or transition[tiab] or transversion[tiab] or translocation[tiab] or CNV[tiab] or copy number variation[tiab] or SV[tiab] or chromosome structure variation[tiab]) NOT review[pt] AND English[LA] AND (\"1980/01/01\"[DP] : \"2023/4/1\"[DP])\n",
      "Retrieved article numbers：15\n"
     ]
    },
    {
     "name": "stderr",
     "output_type": "stream",
     "text": [
      "  8%|▊         | 45/595 [02:11<32:30,  3.55s/it]"
     ]
    },
    {
     "name": "stdout",
     "output_type": "stream",
     "text": [
      "===== search term =====\n",
      "( Abnormality of the metopic suture[tiab]) AND ( variat*[tiab] or SNP[tiab] or allele*[tiab] or mutat*[tiab] or polymorphism*[tiab] or haplotype*[tiab] or SNPs[tiab] or genotype[tiab] or gene[tiab] or chromosome[tiab] or deletion[tiab] or indel[tiab] or insertion[tiab] or substitution[tiab] or transition[tiab] or transversion[tiab] or translocation[tiab] or CNV[tiab] or copy number variation[tiab] or SV[tiab] or chromosome structure variation[tiab]) NOT review[pt] AND English[LA] AND (\"1980/01/01\"[DP] : \"2023/4/1\"[DP])\n",
      "Retrieved article numbers：57\n"
     ]
    },
    {
     "name": "stderr",
     "output_type": "stream",
     "text": [
      "  8%|▊         | 46/595 [02:15<32:22,  3.54s/it]"
     ]
    },
    {
     "name": "stdout",
     "output_type": "stream",
     "text": [
      "===== search term =====\n",
      "( Broad forehead[tiab] OR Intertemporal widening[tiab] OR  Broad forehead[tiab] OR  Increased bitemporal dimension[tiab] OR  Increased bitemporal width[tiab] OR  Wide forehead[tiab] OR  Increased width of the forehead[tiab] OR  Bitemporal widening[tiab]) AND ( variat*[tiab] or SNP[tiab] or allele*[tiab] or mutat*[tiab] or polymorphism*[tiab] or haplotype*[tiab] or SNPs[tiab] or genotype[tiab] or gene[tiab] or chromosome[tiab] or deletion[tiab] or indel[tiab] or insertion[tiab] or substitution[tiab] or transition[tiab] or transversion[tiab] or translocation[tiab] or CNV[tiab] or copy number variation[tiab] or SV[tiab] or chromosome structure variation[tiab]) NOT review[pt] AND English[LA] AND (\"1980/01/01\"[DP] : \"2023/4/1\"[DP])\n",
      "Retrieved article numbers：53\n"
     ]
    },
    {
     "name": "stderr",
     "output_type": "stream",
     "text": [
      "  8%|▊         | 47/595 [02:17<29:03,  3.18s/it]"
     ]
    },
    {
     "name": "stdout",
     "output_type": "stream",
     "text": [
      "===== search term =====\n",
      "( Flat forehead[tiab] OR Flattened forehead[tiab] OR  Frontal flattening[tiab] OR  Flat forehead[tiab]) AND ( variat*[tiab] or SNP[tiab] or allele*[tiab] or mutat*[tiab] or polymorphism*[tiab] or haplotype*[tiab] or SNPs[tiab] or genotype[tiab] or gene[tiab] or chromosome[tiab] or deletion[tiab] or indel[tiab] or insertion[tiab] or substitution[tiab] or transition[tiab] or transversion[tiab] or translocation[tiab] or CNV[tiab] or copy number variation[tiab] or SV[tiab] or chromosome structure variation[tiab]) NOT review[pt] AND English[LA] AND (\"1980/01/01\"[DP] : \"2023/4/1\"[DP])\n",
      "Retrieved article numbers：78\n"
     ]
    },
    {
     "name": "stderr",
     "output_type": "stream",
     "text": [
      "  8%|▊         | 48/595 [02:22<33:12,  3.64s/it]"
     ]
    },
    {
     "name": "stdout",
     "output_type": "stream",
     "text": [
      "===== search term =====\n",
      "( Frontal bossing[tiab] OR Frontal protruberance[tiab] OR  Skull bossing[tiab]) AND ( variat*[tiab] or SNP[tiab] or allele*[tiab] or mutat*[tiab] or polymorphism*[tiab] or haplotype*[tiab] or SNPs[tiab] or genotype[tiab] or gene[tiab] or chromosome[tiab] or deletion[tiab] or indel[tiab] or insertion[tiab] or substitution[tiab] or transition[tiab] or transversion[tiab] or translocation[tiab] or CNV[tiab] or copy number variation[tiab] or SV[tiab] or chromosome structure variation[tiab]) NOT review[pt] AND English[LA] AND (\"1980/01/01\"[DP] : \"2023/4/1\"[DP])\n",
      "Retrieved article numbers：5\n"
     ]
    },
    {
     "name": "stderr",
     "output_type": "stream",
     "text": [
      "  8%|▊         | 49/595 [02:24<28:41,  3.15s/it]"
     ]
    },
    {
     "name": "stdout",
     "output_type": "stream",
     "text": [
      "===== search term =====\n",
      "( Frontal hirsutism[tiab] OR Hirsute forehead[tiab] OR  Hairy forehead[tiab]) AND ( variat*[tiab] or SNP[tiab] or allele*[tiab] or mutat*[tiab] or polymorphism*[tiab] or haplotype*[tiab] or SNPs[tiab] or genotype[tiab] or gene[tiab] or chromosome[tiab] or deletion[tiab] or indel[tiab] or insertion[tiab] or substitution[tiab] or transition[tiab] or transversion[tiab] or translocation[tiab] or CNV[tiab] or copy number variation[tiab] or SV[tiab] or chromosome structure variation[tiab]) NOT review[pt] AND English[LA] AND (\"1980/01/01\"[DP] : \"2023/4/1\"[DP])\n",
      "Retrieved article numbers：236\n"
     ]
    },
    {
     "name": "stderr",
     "output_type": "stream",
     "text": [
      "  8%|▊         | 50/595 [02:27<28:02,  3.09s/it]"
     ]
    },
    {
     "name": "stdout",
     "output_type": "stream",
     "text": [
      "===== search term =====\n",
      "( High forehead[tiab] OR High forehead[tiab] OR  Tall forehead[tiab]) AND ( variat*[tiab] or SNP[tiab] or allele*[tiab] or mutat*[tiab] or polymorphism*[tiab] or haplotype*[tiab] or SNPs[tiab] or genotype[tiab] or gene[tiab] or chromosome[tiab] or deletion[tiab] or indel[tiab] or insertion[tiab] or substitution[tiab] or transition[tiab] or transversion[tiab] or translocation[tiab] or CNV[tiab] or copy number variation[tiab] or SV[tiab] or chromosome structure variation[tiab]) NOT review[pt] AND English[LA] AND (\"1980/01/01\"[DP] : \"2023/4/1\"[DP])\n",
      "Retrieved article numbers：5\n"
     ]
    },
    {
     "name": "stderr",
     "output_type": "stream",
     "text": [
      "  9%|▊         | 51/595 [02:29<25:15,  2.79s/it]"
     ]
    },
    {
     "name": "stdout",
     "output_type": "stream",
     "text": [
      "===== search term =====\n",
      "( Large forehead[tiab] OR Hypertrophy of forehead[tiab] OR  Increased size of frontal region of face[tiab] OR  Increased size of forehead[tiab] OR  Large forehead[tiab] OR  Hyperplasia of forehead[tiab]) AND ( variat*[tiab] or SNP[tiab] or allele*[tiab] or mutat*[tiab] or polymorphism*[tiab] or haplotype*[tiab] or SNPs[tiab] or genotype[tiab] or gene[tiab] or chromosome[tiab] or deletion[tiab] or indel[tiab] or insertion[tiab] or substitution[tiab] or transition[tiab] or transversion[tiab] or translocation[tiab] or CNV[tiab] or copy number variation[tiab] or SV[tiab] or chromosome structure variation[tiab]) NOT review[pt] AND English[LA] AND (\"1980/01/01\"[DP] : \"2023/4/1\"[DP])\n",
      "Retrieved article numbers：90\n"
     ]
    },
    {
     "name": "stderr",
     "output_type": "stream",
     "text": [
      "  9%|▊         | 52/595 [02:31<22:52,  2.53s/it]"
     ]
    },
    {
     "name": "stdout",
     "output_type": "stream",
     "text": [
      "===== search term =====\n",
      "( Narrow forehead[tiab] OR Intertemporal narrowing[tiab] OR  Decreased width of the forehead[tiab] OR  Bitemporal narrowness[tiab] OR  Bitemporal skull narrowing[tiab] OR  Narrow bitemporal width[tiab] OR  Bitemporal narrowing[tiab] OR  Narrow forehead[tiab] OR  Temporal narrowness[tiab] OR  Narrow bitemporal diameter[tiab]) AND ( variat*[tiab] or SNP[tiab] or allele*[tiab] or mutat*[tiab] or polymorphism*[tiab] or haplotype*[tiab] or SNPs[tiab] or genotype[tiab] or gene[tiab] or chromosome[tiab] or deletion[tiab] or indel[tiab] or insertion[tiab] or substitution[tiab] or transition[tiab] or transversion[tiab] or translocation[tiab] or CNV[tiab] or copy number variation[tiab] or SV[tiab] or chromosome structure variation[tiab]) NOT review[pt] AND English[LA] AND (\"1980/01/01\"[DP] : \"2023/4/1\"[DP])\n",
      "Retrieved article numbers：14\n"
     ]
    },
    {
     "name": "stderr",
     "output_type": "stream",
     "text": [
      "  9%|▉         | 53/595 [02:33<22:14,  2.46s/it]"
     ]
    },
    {
     "name": "stdout",
     "output_type": "stream",
     "text": [
      "===== search term =====\n",
      "( Prominent forehead[tiab] OR Protruding forehead[tiab] OR  Bulging forehead[tiab] OR  Prominence of frontal region[tiab] OR  Prominent forehead[tiab] OR  Pronounced forehead[tiab]) AND ( variat*[tiab] or SNP[tiab] or allele*[tiab] or mutat*[tiab] or polymorphism*[tiab] or haplotype*[tiab] or SNPs[tiab] or genotype[tiab] or gene[tiab] or chromosome[tiab] or deletion[tiab] or indel[tiab] or insertion[tiab] or substitution[tiab] or transition[tiab] or transversion[tiab] or translocation[tiab] or CNV[tiab] or copy number variation[tiab] or SV[tiab] or chromosome structure variation[tiab]) NOT review[pt] AND English[LA] AND (\"1980/01/01\"[DP] : \"2023/4/1\"[DP])\n",
      "Retrieved article numbers：40\n"
     ]
    },
    {
     "name": "stderr",
     "output_type": "stream",
     "text": [
      "  9%|▉         | 54/595 [02:35<21:16,  2.36s/it]"
     ]
    },
    {
     "name": "stdout",
     "output_type": "stream",
     "text": [
      "===== search term =====\n",
      "( Small forehead[tiab] OR  Decreased size of frontal region of face[tiab] OR  Hypoplasia of forehead[tiab] OR  Decreased size of forehead[tiab] OR  Small forehead[tiab] OR  Hypotrophic forehead[tiab]) AND ( variat*[tiab] or SNP[tiab] or allele*[tiab] or mutat*[tiab] or polymorphism*[tiab] or haplotype*[tiab] or SNPs[tiab] or genotype[tiab] or gene[tiab] or chromosome[tiab] or deletion[tiab] or indel[tiab] or insertion[tiab] or substitution[tiab] or transition[tiab] or transversion[tiab] or translocation[tiab] or CNV[tiab] or copy number variation[tiab] or SV[tiab] or chromosome structure variation[tiab]) NOT review[pt] AND English[LA] AND (\"1980/01/01\"[DP] : \"2023/4/1\"[DP])\n",
      "Retrieved article numbers：236\n"
     ]
    },
    {
     "name": "stderr",
     "output_type": "stream",
     "text": [
      "  9%|▉         | 55/595 [02:37<20:45,  2.31s/it]"
     ]
    },
    {
     "name": "stdout",
     "output_type": "stream",
     "text": [
      "===== search term =====\n",
      "( Vertical forehead creases[tiab] OR Frontal creases of face[tiab] OR  Vertical forehead wrinkles[tiab] OR  Vertical forehead creases[tiab] OR  Vertical forehead rhytids[tiab]) AND ( variat*[tiab] or SNP[tiab] or allele*[tiab] or mutat*[tiab] or polymorphism*[tiab] or haplotype*[tiab] or SNPs[tiab] or genotype[tiab] or gene[tiab] or chromosome[tiab] or deletion[tiab] or indel[tiab] or insertion[tiab] or substitution[tiab] or transition[tiab] or transversion[tiab] or translocation[tiab] or CNV[tiab] or copy number variation[tiab] or SV[tiab] or chromosome structure variation[tiab]) NOT review[pt] AND English[LA] AND (\"1980/01/01\"[DP] : \"2023/4/1\"[DP])\n",
      "Retrieved article numbers：5\n"
     ]
    },
    {
     "name": "stderr",
     "output_type": "stream",
     "text": [
      "  9%|▉         | 56/595 [02:39<20:02,  2.23s/it]"
     ]
    },
    {
     "name": "stdout",
     "output_type": "stream",
     "text": [
      "===== search term =====\n",
      "( Sloping forehead[tiab] OR Inclined forehead[tiab] OR  Receding forehead[tiab] OR  Sloping forehead[tiab] OR  Posteriorly sloping forehead[tiab]) AND ( variat*[tiab] or SNP[tiab] or allele*[tiab] or mutat*[tiab] or polymorphism*[tiab] or haplotype*[tiab] or SNPs[tiab] or genotype[tiab] or gene[tiab] or chromosome[tiab] or deletion[tiab] or indel[tiab] or insertion[tiab] or substitution[tiab] or transition[tiab] or transversion[tiab] or translocation[tiab] or CNV[tiab] or copy number variation[tiab] or SV[tiab] or chromosome structure variation[tiab]) NOT review[pt] AND English[LA] AND (\"1980/01/01\"[DP] : \"2023/4/1\"[DP])\n",
      "Retrieved article numbers：0\n"
     ]
    },
    {
     "name": "stderr",
     "output_type": "stream",
     "text": [
      " 10%|▉         | 57/595 [02:41<19:35,  2.18s/it]"
     ]
    },
    {
     "name": "stdout",
     "output_type": "stream",
     "text": [
      "===== search term =====\n",
      "( Forehead hyperpigmentation[tiab] OR Darkening of the forehead[tiab]) AND ( variat*[tiab] or SNP[tiab] or allele*[tiab] or mutat*[tiab] or polymorphism*[tiab] or haplotype*[tiab] or SNPs[tiab] or genotype[tiab] or gene[tiab] or chromosome[tiab] or deletion[tiab] or indel[tiab] or insertion[tiab] or substitution[tiab] or transition[tiab] or transversion[tiab] or translocation[tiab] or CNV[tiab] or copy number variation[tiab] or SV[tiab] or chromosome structure variation[tiab]) NOT review[pt] AND English[LA] AND (\"1980/01/01\"[DP] : \"2023/4/1\"[DP])\n",
      "Retrieved article numbers：24\n"
     ]
    },
    {
     "name": "stderr",
     "output_type": "stream",
     "text": [
      " 10%|▉         | 58/595 [02:43<18:53,  2.11s/it]"
     ]
    },
    {
     "name": "stdout",
     "output_type": "stream",
     "text": [
      "===== search term =====\n",
      "( Facial asymmetry[tiab] OR  Unsymmetrical face[tiab] OR  Uneven face[tiab] OR  Asymmetry of right and left side of face[tiab] OR  Uneven sides of face[tiab] OR  Unbalanced face[tiab] OR  Asymmetry of face[tiab] OR  Unequal sides of face[tiab] OR  Crooked face[tiab] OR  Asymmetric facies[tiab] OR  Facial asymmetry[tiab]) AND ( variat*[tiab] or SNP[tiab] or allele*[tiab] or mutat*[tiab] or polymorphism*[tiab] or haplotype*[tiab] or SNPs[tiab] or genotype[tiab] or gene[tiab] or chromosome[tiab] or deletion[tiab] or indel[tiab] or insertion[tiab] or substitution[tiab] or transition[tiab] or transversion[tiab] or translocation[tiab] or CNV[tiab] or copy number variation[tiab] or SV[tiab] or chromosome structure variation[tiab]) NOT review[pt] AND English[LA] AND (\"1980/01/01\"[DP] : \"2023/4/1\"[DP])\n",
      "Retrieved article numbers：4\n"
     ]
    },
    {
     "name": "stderr",
     "output_type": "stream",
     "text": [
      " 10%|▉         | 59/595 [02:46<20:38,  2.31s/it]"
     ]
    },
    {
     "name": "stdout",
     "output_type": "stream",
     "text": [
      "===== search term =====\n",
      "( Large face[tiab] OR  Large face[tiab] OR  Large facies[tiab] OR  Big face[tiab]) AND ( variat*[tiab] or SNP[tiab] or allele*[tiab] or mutat*[tiab] or polymorphism*[tiab] or haplotype*[tiab] or SNPs[tiab] or genotype[tiab] or gene[tiab] or chromosome[tiab] or deletion[tiab] or indel[tiab] or insertion[tiab] or substitution[tiab] or transition[tiab] or transversion[tiab] or translocation[tiab] or CNV[tiab] or copy number variation[tiab] or SV[tiab] or chromosome structure variation[tiab]) NOT review[pt] AND English[LA] AND (\"1980/01/01\"[DP] : \"2023/4/1\"[DP])\n",
      "Retrieved article numbers：238\n"
     ]
    },
    {
     "name": "stderr",
     "output_type": "stream",
     "text": [
      " 10%|█         | 60/595 [02:49<22:02,  2.47s/it]"
     ]
    },
    {
     "name": "stdout",
     "output_type": "stream",
     "text": [
      "===== search term =====\n",
      "( Small face[tiab] OR   Hypoplasia of face[tiab] OR  Small face[tiab] OR  Microfacies[tiab] OR  Facial hypoplasia[tiab] OR  Small facies[tiab] OR  Microface[tiab] OR  Short and narrow face[tiab]) AND ( variat*[tiab] or SNP[tiab] or allele*[tiab] or mutat*[tiab] or polymorphism*[tiab] or haplotype*[tiab] or SNPs[tiab] or genotype[tiab] or gene[tiab] or chromosome[tiab] or deletion[tiab] or indel[tiab] or insertion[tiab] or substitution[tiab] or transition[tiab] or transversion[tiab] or translocation[tiab] or CNV[tiab] or copy number variation[tiab] or SV[tiab] or chromosome structure variation[tiab]) NOT review[pt] AND English[LA] AND (\"1980/01/01\"[DP] : \"2023/4/1\"[DP])\n",
      "Retrieved article numbers：194\n"
     ]
    },
    {
     "name": "stderr",
     "output_type": "stream",
     "text": [
      " 10%|█         | 61/595 [02:53<27:41,  3.11s/it]"
     ]
    },
    {
     "name": "stdout",
     "output_type": "stream",
     "text": [
      "===== search term =====\n",
      "( Coarse facial features[tiab] OR  Thickened facial skin with coarse facial features[tiab] OR  Coarse facial appearance[tiab] OR  Coarse facial features[tiab] OR  Coarse facies[tiab] OR  Coarse face[tiab] OR  \"Rounded and heavy facial features\"[tiab]) AND ( variat*[tiab] or SNP[tiab] or allele*[tiab] or mutat*[tiab] or polymorphism*[tiab] or haplotype*[tiab] or SNPs[tiab] or genotype[tiab] or gene[tiab] or chromosome[tiab] or deletion[tiab] or indel[tiab] or insertion[tiab] or substitution[tiab] or transition[tiab] or transversion[tiab] or translocation[tiab] or CNV[tiab] or copy number variation[tiab] or SV[tiab] or chromosome structure variation[tiab]) NOT review[pt] AND English[LA] AND (\"1980/01/01\"[DP] : \"2023/4/1\"[DP])\n",
      "Retrieved article numbers：170\n"
     ]
    },
    {
     "name": "stderr",
     "output_type": "stream",
     "text": [
      " 10%|█         | 62/595 [03:05<49:04,  5.53s/it]"
     ]
    },
    {
     "name": "stdout",
     "output_type": "stream",
     "text": [
      "===== search term =====\n",
      "( Facial shape deformation[tiab] OR  Facial shape compression[tiab] OR  Facial shape deformation[tiab] OR  Distortion of facial shape[tiab]) AND ( variat*[tiab] or SNP[tiab] or allele*[tiab] or mutat*[tiab] or polymorphism*[tiab] or haplotype*[tiab] or SNPs[tiab] or genotype[tiab] or gene[tiab] or chromosome[tiab] or deletion[tiab] or indel[tiab] or insertion[tiab] or substitution[tiab] or transition[tiab] or transversion[tiab] or translocation[tiab] or CNV[tiab] or copy number variation[tiab] or SV[tiab] or chromosome structure variation[tiab]) NOT review[pt] AND English[LA] AND (\"1980/01/01\"[DP] : \"2023/4/1\"[DP])\n",
      "Retrieved article numbers：252\n"
     ]
    },
    {
     "name": "stderr",
     "output_type": "stream",
     "text": [
      " 11%|█         | 63/595 [03:07<40:03,  4.52s/it]"
     ]
    },
    {
     "name": "stdout",
     "output_type": "stream",
     "text": [
      "===== search term =====\n",
      "( Oval face[tiab] OR Oval facies[tiab] OR  Oval face[tiab] OR  Oval facial shape[tiab]) AND ( variat*[tiab] or SNP[tiab] or allele*[tiab] or mutat*[tiab] or polymorphism*[tiab] or haplotype*[tiab] or SNPs[tiab] or genotype[tiab] or gene[tiab] or chromosome[tiab] or deletion[tiab] or indel[tiab] or insertion[tiab] or substitution[tiab] or transition[tiab] or transversion[tiab] or translocation[tiab] or CNV[tiab] or copy number variation[tiab] or SV[tiab] or chromosome structure variation[tiab]) NOT review[pt] AND English[LA] AND (\"1980/01/01\"[DP] : \"2023/4/1\"[DP])\n",
      "Retrieved article numbers：4\n"
     ]
    },
    {
     "name": "stderr",
     "output_type": "stream",
     "text": [
      " 11%|█         | 64/595 [03:10<35:51,  4.05s/it]"
     ]
    },
    {
     "name": "stdout",
     "output_type": "stream",
     "text": [
      "===== search term =====\n",
      "( Bird-like facies[tiab] OR Bird-like facial appearance[tiab]) AND ( variat*[tiab] or SNP[tiab] or allele*[tiab] or mutat*[tiab] or polymorphism*[tiab] or haplotype*[tiab] or SNPs[tiab] or genotype[tiab] or gene[tiab] or chromosome[tiab] or deletion[tiab] or indel[tiab] or insertion[tiab] or substitution[tiab] or transition[tiab] or transversion[tiab] or translocation[tiab] or CNV[tiab] or copy number variation[tiab] or SV[tiab] or chromosome structure variation[tiab]) NOT review[pt] AND English[LA] AND (\"1980/01/01\"[DP] : \"2023/4/1\"[DP])\n",
      "Retrieved article numbers：8\n"
     ]
    },
    {
     "name": "stderr",
     "output_type": "stream",
     "text": [
      " 11%|█         | 65/595 [03:12<32:13,  3.65s/it]"
     ]
    },
    {
     "name": "stdout",
     "output_type": "stream",
     "text": [
      "===== search term =====\n",
      "( Elfin facies[tiab] OR Elf-like facial appearance[tiab] OR  Elf-like facial features[tiab] OR  Leprechaun facies[tiab]) AND ( variat*[tiab] or SNP[tiab] or allele*[tiab] or mutat*[tiab] or polymorphism*[tiab] or haplotype*[tiab] or SNPs[tiab] or genotype[tiab] or gene[tiab] or chromosome[tiab] or deletion[tiab] or indel[tiab] or insertion[tiab] or substitution[tiab] or transition[tiab] or transversion[tiab] or translocation[tiab] or CNV[tiab] or copy number variation[tiab] or SV[tiab] or chromosome structure variation[tiab]) NOT review[pt] AND English[LA] AND (\"1980/01/01\"[DP] : \"2023/4/1\"[DP])\n",
      "Retrieved article numbers：13\n"
     ]
    },
    {
     "name": "stderr",
     "output_type": "stream",
     "text": [
      " 11%|█         | 66/595 [03:22<48:58,  5.55s/it]"
     ]
    },
    {
     "name": "stdout",
     "output_type": "stream",
     "text": [
      "===== search term =====\n",
      "( Triangular face[tiab] OR Triangular facies[tiab] OR  Triangular face[tiab] OR  Triangular facial shape[tiab] OR  Face with broad temples and narrow chin[tiab]) AND ( variat*[tiab] or SNP[tiab] or allele*[tiab] or mutat*[tiab] or polymorphism*[tiab] or haplotype*[tiab] or SNPs[tiab] or genotype[tiab] or gene[tiab] or chromosome[tiab] or deletion[tiab] or indel[tiab] or insertion[tiab] or substitution[tiab] or transition[tiab] or transversion[tiab] or translocation[tiab] or CNV[tiab] or copy number variation[tiab] or SV[tiab] or chromosome structure variation[tiab]) NOT review[pt] AND English[LA] AND (\"1980/01/01\"[DP] : \"2023/4/1\"[DP])\n",
      "Retrieved article numbers：7\n"
     ]
    },
    {
     "name": "stderr",
     "output_type": "stream",
     "text": [
      " 11%|█▏        | 67/595 [03:38<1:14:22,  8.45s/it]"
     ]
    },
    {
     "name": "stdout",
     "output_type": "stream",
     "text": [
      "===== search term =====\n",
      "( Doll-like facies[tiab] OR  Doll-like facial appearance[tiab]) AND ( variat*[tiab] or SNP[tiab] or allele*[tiab] or mutat*[tiab] or polymorphism*[tiab] or haplotype*[tiab] or SNPs[tiab] or genotype[tiab] or gene[tiab] or chromosome[tiab] or deletion[tiab] or indel[tiab] or insertion[tiab] or substitution[tiab] or transition[tiab] or transversion[tiab] or translocation[tiab] or CNV[tiab] or copy number variation[tiab] or SV[tiab] or chromosome structure variation[tiab]) NOT review[pt] AND English[LA] AND (\"1980/01/01\"[DP] : \"2023/4/1\"[DP])\n",
      "Retrieved article numbers：124\n"
     ]
    },
    {
     "name": "stderr",
     "output_type": "stream",
     "text": [
      " 11%|█▏        | 68/595 [03:40<58:31,  6.66s/it]  "
     ]
    },
    {
     "name": "stdout",
     "output_type": "stream",
     "text": [
      "===== search term =====\n",
      "( Moon faciesPuffy facies[tiab] OR  Moon face[tiab] OR  Puffy face[tiab]) AND ( variat*[tiab] or SNP[tiab] or allele*[tiab] or mutat*[tiab] or polymorphism*[tiab] or haplotype*[tiab] or SNPs[tiab] or genotype[tiab] or gene[tiab] or chromosome[tiab] or deletion[tiab] or indel[tiab] or insertion[tiab] or substitution[tiab] or transition[tiab] or transversion[tiab] or translocation[tiab] or CNV[tiab] or copy number variation[tiab] or SV[tiab] or chromosome structure variation[tiab]) NOT review[pt] AND English[LA] AND (\"1980/01/01\"[DP] : \"2023/4/1\"[DP])\n",
      "Retrieved article numbers：4\n"
     ]
    },
    {
     "name": "stderr",
     "output_type": "stream",
     "text": [
      " 12%|█▏        | 69/595 [03:43<48:38,  5.55s/it]"
     ]
    },
    {
     "name": "stdout",
     "output_type": "stream",
     "text": [
      "===== search term =====\n",
      "( Square face[tiab] OR Square face[tiab] OR  Square facies[tiab] OR  Square facial shape[tiab]) AND ( variat*[tiab] or SNP[tiab] or allele*[tiab] or mutat*[tiab] or polymorphism*[tiab] or haplotype*[tiab] or SNPs[tiab] or genotype[tiab] or gene[tiab] or chromosome[tiab] or deletion[tiab] or indel[tiab] or insertion[tiab] or substitution[tiab] or transition[tiab] or transversion[tiab] or translocation[tiab] or CNV[tiab] or copy number variation[tiab] or SV[tiab] or chromosome structure variation[tiab]) NOT review[pt] AND English[LA] AND (\"1980/01/01\"[DP] : \"2023/4/1\"[DP])\n",
      "Retrieved article numbers：14\n"
     ]
    },
    {
     "name": "stderr",
     "output_type": "stream",
     "text": [
      " 12%|█▏        | 70/595 [03:47<43:44,  5.00s/it]"
     ]
    },
    {
     "name": "stdout",
     "output_type": "stream",
     "text": [
      "===== search term =====\n",
      "(Abnormality of the shape of the midface[tiab] OR Abnormality of the shape of the midface[tiab] OR  Abnormal morphology of the midface[tiab] OR  Dysmorphic midface[tiab]) AND ( variat*[tiab] or SNP[tiab] or allele*[tiab] or mutat*[tiab] or polymorphism*[tiab] or haplotype*[tiab] or SNPs[tiab] or genotype[tiab] or gene[tiab] or chromosome[tiab] or deletion[tiab] or indel[tiab] or insertion[tiab] or substitution[tiab] or transition[tiab] or transversion[tiab] or translocation[tiab] or CNV[tiab] or copy number variation[tiab] or SV[tiab] or chromosome structure variation[tiab]) NOT review[pt] AND English[LA] AND (\"1980/01/01\"[DP] : \"2023/4/1\"[DP])\n",
      "Retrieved article numbers：28\n"
     ]
    },
    {
     "name": "stderr",
     "output_type": "stream",
     "text": [
      " 12%|█▏        | 71/595 [03:50<39:41,  4.54s/it]"
     ]
    },
    {
     "name": "stdout",
     "output_type": "stream",
     "text": [
      "===== search term =====\n",
      "( Round face[tiab] OR Circular face[tiab] OR  Round full face[tiab] OR  Round facies[tiab] OR  Round facial shape[tiab] OR  Round facial appearance[tiab]) AND ( variat*[tiab] or SNP[tiab] or allele*[tiab] or mutat*[tiab] or polymorphism*[tiab] or haplotype*[tiab] or SNPs[tiab] or genotype[tiab] or gene[tiab] or chromosome[tiab] or deletion[tiab] or indel[tiab] or insertion[tiab] or substitution[tiab] or transition[tiab] or transversion[tiab] or translocation[tiab] or CNV[tiab] or copy number variation[tiab] or SV[tiab] or chromosome structure variation[tiab]) NOT review[pt] AND English[LA] AND (\"1980/01/01\"[DP] : \"2023/4/1\"[DP])\n",
      "Retrieved article numbers：312\n"
     ]
    },
    {
     "name": "stderr",
     "output_type": "stream",
     "text": [
      " 12%|█▏        | 72/595 [03:53<36:01,  4.13s/it]"
     ]
    },
    {
     "name": "stdout",
     "output_type": "stream",
     "text": [
      "===== search term =====\n",
      "( Flat face[tiab] OR   Flat facial shape[tiab] OR  Flat face[tiab] OR  Flat facies[tiab] OR  Flat facial profile[tiab]) AND ( variat*[tiab] or SNP[tiab] or allele*[tiab] or mutat*[tiab] or polymorphism*[tiab] or haplotype*[tiab] or SNPs[tiab] or genotype[tiab] or gene[tiab] or chromosome[tiab] or deletion[tiab] or indel[tiab] or insertion[tiab] or substitution[tiab] or transition[tiab] or transversion[tiab] or translocation[tiab] or CNV[tiab] or copy number variation[tiab] or SV[tiab] or chromosome structure variation[tiab]) NOT review[pt] AND English[LA] AND (\"1980/01/01\"[DP] : \"2023/4/1\"[DP])\n",
      "Retrieved article numbers：90\n"
     ]
    },
    {
     "name": "stderr",
     "output_type": "stream",
     "text": [
      " 12%|█▏        | 73/595 [04:00<41:33,  4.78s/it]"
     ]
    },
    {
     "name": "stdout",
     "output_type": "stream",
     "text": [
      "===== search term =====\n",
      "( Craniofacial disproportion[tiab]) AND ( variat*[tiab] or SNP[tiab] or allele*[tiab] or mutat*[tiab] or polymorphism*[tiab] or haplotype*[tiab] or SNPs[tiab] or genotype[tiab] or gene[tiab] or chromosome[tiab] or deletion[tiab] or indel[tiab] or insertion[tiab] or substitution[tiab] or transition[tiab] or transversion[tiab] or translocation[tiab] or CNV[tiab] or copy number variation[tiab] or SV[tiab] or chromosome structure variation[tiab]) NOT review[pt] AND English[LA] AND (\"1980/01/01\"[DP] : \"2023/4/1\"[DP])\n",
      "Retrieved article numbers：68\n"
     ]
    },
    {
     "name": "stderr",
     "output_type": "stream",
     "text": [
      " 12%|█▏        | 74/595 [04:02<33:54,  3.91s/it]"
     ]
    },
    {
     "name": "stdout",
     "output_type": "stream",
     "text": [
      "===== search term =====\n",
      "( Abnormality of the cheek[tiab] OR  Abnormality of the cheeks[tiab] OR  Malformation of the cheeks[tiab] OR  Deformity of the cheeks[tiab] OR  Anomaly of the cheeks[tiab] OR  Abnormality of the cheek[tiab]) AND ( variat*[tiab] or SNP[tiab] or allele*[tiab] or mutat*[tiab] or polymorphism*[tiab] or haplotype*[tiab] or SNPs[tiab] or genotype[tiab] or gene[tiab] or chromosome[tiab] or deletion[tiab] or indel[tiab] or insertion[tiab] or substitution[tiab] or transition[tiab] or transversion[tiab] or translocation[tiab] or CNV[tiab] or copy number variation[tiab] or SV[tiab] or chromosome structure variation[tiab]) NOT review[pt] AND English[LA] AND (\"1980/01/01\"[DP] : \"2023/4/1\"[DP])\n",
      "Retrieved article numbers：10\n"
     ]
    },
    {
     "name": "stderr",
     "output_type": "stream",
     "text": [
      " 13%|█▎        | 75/595 [04:04<29:30,  3.41s/it]"
     ]
    },
    {
     "name": "stdout",
     "output_type": "stream",
     "text": [
      "===== search term =====\n",
      "( Abnormality of malar bones[tiab] OR  Malar anomaly[tiab] OR  Anomaly of the malar bones[tiab] OR  Malformation of the malar bones[tiab] OR  Deformity of the malar bones[tiab]) AND ( variat*[tiab] or SNP[tiab] or allele*[tiab] or mutat*[tiab] or polymorphism*[tiab] or haplotype*[tiab] or SNPs[tiab] or genotype[tiab] or gene[tiab] or chromosome[tiab] or deletion[tiab] or indel[tiab] or insertion[tiab] or substitution[tiab] or transition[tiab] or transversion[tiab] or translocation[tiab] or CNV[tiab] or copy number variation[tiab] or SV[tiab] or chromosome structure variation[tiab]) NOT review[pt] AND English[LA] AND (\"1980/01/01\"[DP] : \"2023/4/1\"[DP])\n",
      "Retrieved article numbers：80\n"
     ]
    },
    {
     "name": "stderr",
     "output_type": "stream",
     "text": [
      " 13%|█▎        | 76/595 [04:07<29:54,  3.46s/it]"
     ]
    },
    {
     "name": "stdout",
     "output_type": "stream",
     "text": [
      "===== search term =====\n",
      "( Midface retrusion[tiab] OR Hypertrophy of midface[tiab] OR  Large midface[tiab] OR  Big midface[tiab] OR  Overgrowth of the midface[tiab] OR  Midfacial prominence[tiab] OR  Midfacial excess[tiab] OR  Midface hyperplasia[tiab]) AND ( variat*[tiab] or SNP[tiab] or allele*[tiab] or mutat*[tiab] or polymorphism*[tiab] or haplotype*[tiab] or SNPs[tiab] or genotype[tiab] or gene[tiab] or chromosome[tiab] or deletion[tiab] or indel[tiab] or insertion[tiab] or substitution[tiab] or transition[tiab] or transversion[tiab] or translocation[tiab] or CNV[tiab] or copy number variation[tiab] or SV[tiab] or chromosome structure variation[tiab]) NOT review[pt] AND English[LA] AND (\"1980/01/01\"[DP] : \"2023/4/1\"[DP])\n",
      "Retrieved article numbers：9\n"
     ]
    },
    {
     "name": "stderr",
     "output_type": "stream",
     "text": [
      " 13%|█▎        | 77/595 [04:12<31:30,  3.65s/it]"
     ]
    },
    {
     "name": "stdout",
     "output_type": "stream",
     "text": [
      "===== search term =====\n",
      "( Hyperplasia of midface[tiab] OR Hypertrophy of midface[tiab] OR  Large midface[tiab] OR  Big midface[tiab] OR  Overgrowth of the midface[tiab] OR  Midfacial prominence[tiab] OR  Midfacial excess[tiab] OR  Midface hyperplasia[tiab]) AND ( variat*[tiab] or SNP[tiab] or allele*[tiab] or mutat*[tiab] or polymorphism*[tiab] or haplotype*[tiab] or SNPs[tiab] or genotype[tiab] or gene[tiab] or chromosome[tiab] or deletion[tiab] or indel[tiab] or insertion[tiab] or substitution[tiab] or transition[tiab] or transversion[tiab] or translocation[tiab] or CNV[tiab] or copy number variation[tiab] or SV[tiab] or chromosome structure variation[tiab]) NOT review[pt] AND English[LA] AND (\"1980/01/01\"[DP] : \"2023/4/1\"[DP])\n",
      "Retrieved article numbers：79\n"
     ]
    },
    {
     "name": "stderr",
     "output_type": "stream",
     "text": [
      " 13%|█▎        | 78/595 [04:14<27:06,  3.15s/it]"
     ]
    },
    {
     "name": "stdout",
     "output_type": "stream",
     "text": [
      "===== search term =====\n",
      "( Abnormality of the shape of the midface[tiab] OR    Abnormality of the shape of the midface[tiab] OR  Abnormal morphology of the midface[tiab] OR  Dysmorphic midface[tiab]) AND ( variat*[tiab] or SNP[tiab] or allele*[tiab] or mutat*[tiab] or polymorphism*[tiab] or haplotype*[tiab] or SNPs[tiab] or genotype[tiab] or gene[tiab] or chromosome[tiab] or deletion[tiab] or indel[tiab] or insertion[tiab] or substitution[tiab] or transition[tiab] or transversion[tiab] or translocation[tiab] or CNV[tiab] or copy number variation[tiab] or SV[tiab] or chromosome structure variation[tiab]) NOT review[pt] AND English[LA] AND (\"1980/01/01\"[DP] : \"2023/4/1\"[DP])\n",
      "Retrieved article numbers：63\n"
     ]
    },
    {
     "name": "stderr",
     "output_type": "stream",
     "text": [
      " 13%|█▎        | 79/595 [04:16<24:36,  2.86s/it]"
     ]
    },
    {
     "name": "stdout",
     "output_type": "stream",
     "text": [
      "===== search term =====\n",
      "( Orbital cleft[tiab]) AND ( variat*[tiab] or SNP[tiab] or allele*[tiab] or mutat*[tiab] or polymorphism*[tiab] or haplotype*[tiab] or SNPs[tiab] or genotype[tiab] or gene[tiab] or chromosome[tiab] or deletion[tiab] or indel[tiab] or insertion[tiab] or substitution[tiab] or transition[tiab] or transversion[tiab] or translocation[tiab] or CNV[tiab] or copy number variation[tiab] or SV[tiab] or chromosome structure variation[tiab]) NOT review[pt] AND English[LA] AND (\"1980/01/01\"[DP] : \"2023/4/1\"[DP])\n",
      "Retrieved article numbers：312\n"
     ]
    },
    {
     "name": "stderr",
     "output_type": "stream",
     "text": [
      " 13%|█▎        | 80/595 [04:18<24:12,  2.82s/it]"
     ]
    },
    {
     "name": "stdout",
     "output_type": "stream",
     "text": [
      "===== search term =====\n",
      "( Paramedian facial cleft[tiab]) AND ( variat*[tiab] or SNP[tiab] or allele*[tiab] or mutat*[tiab] or polymorphism*[tiab] or haplotype*[tiab] or SNPs[tiab] or genotype[tiab] or gene[tiab] or chromosome[tiab] or deletion[tiab] or indel[tiab] or insertion[tiab] or substitution[tiab] or transition[tiab] or transversion[tiab] or translocation[tiab] or CNV[tiab] or copy number variation[tiab] or SV[tiab] or chromosome structure variation[tiab]) NOT review[pt] AND English[LA] AND (\"1980/01/01\"[DP] : \"2023/4/1\"[DP])\n",
      "Retrieved article numbers：0\n"
     ]
    },
    {
     "name": "stderr",
     "output_type": "stream",
     "text": [
      " 14%|█▎        | 81/595 [04:21<23:00,  2.69s/it]"
     ]
    },
    {
     "name": "stdout",
     "output_type": "stream",
     "text": [
      "===== search term =====\n",
      "( Transverse facial cleft[tiab] OR  Lateral facial cleft[tiab]) AND ( variat*[tiab] or SNP[tiab] or allele*[tiab] or mutat*[tiab] or polymorphism*[tiab] or haplotype*[tiab] or SNPs[tiab] or genotype[tiab] or gene[tiab] or chromosome[tiab] or deletion[tiab] or indel[tiab] or insertion[tiab] or substitution[tiab] or transition[tiab] or transversion[tiab] or translocation[tiab] or CNV[tiab] or copy number variation[tiab] or SV[tiab] or chromosome structure variation[tiab]) NOT review[pt] AND English[LA] AND (\"1980/01/01\"[DP] : \"2023/4/1\"[DP])\n",
      "Retrieved article numbers：1\n"
     ]
    },
    {
     "name": "stderr",
     "output_type": "stream",
     "text": [
      " 14%|█▍        | 82/595 [04:23<21:25,  2.51s/it]"
     ]
    },
    {
     "name": "stdout",
     "output_type": "stream",
     "text": [
      "===== search term =====\n",
      "( Midline facial cleft[tiab] OR  Midline facial cleft[tiab]) AND ( variat*[tiab] or SNP[tiab] or allele*[tiab] or mutat*[tiab] or polymorphism*[tiab] or haplotype*[tiab] or SNPs[tiab] or genotype[tiab] or gene[tiab] or chromosome[tiab] or deletion[tiab] or indel[tiab] or insertion[tiab] or substitution[tiab] or transition[tiab] or transversion[tiab] or translocation[tiab] or CNV[tiab] or copy number variation[tiab] or SV[tiab] or chromosome structure variation[tiab]) NOT review[pt] AND English[LA] AND (\"1980/01/01\"[DP] : \"2023/4/1\"[DP])\n",
      "Retrieved article numbers：3\n"
     ]
    },
    {
     "name": "stderr",
     "output_type": "stream",
     "text": [
      " 14%|█▍        | 83/595 [04:25<20:41,  2.42s/it]"
     ]
    },
    {
     "name": "stdout",
     "output_type": "stream",
     "text": [
      "===== search term =====\n",
      "( Periorbital edema[tiab] OR  Periorbital oedema[tiab] OR  Periorbital cellulitis[tiab]) AND ( variat*[tiab] or SNP[tiab] or allele*[tiab] or mutat*[tiab] or polymorphism*[tiab] or haplotype*[tiab] or SNPs[tiab] or genotype[tiab] or gene[tiab] or chromosome[tiab] or deletion[tiab] or indel[tiab] or insertion[tiab] or substitution[tiab] or transition[tiab] or transversion[tiab] or translocation[tiab] or CNV[tiab] or copy number variation[tiab] or SV[tiab] or chromosome structure variation[tiab]) NOT review[pt] AND English[LA] AND (\"1980/01/01\"[DP] : \"2023/4/1\"[DP])\n",
      "Retrieved article numbers：4\n"
     ]
    },
    {
     "name": "stderr",
     "output_type": "stream",
     "text": [
      " 14%|█▍        | 84/595 [04:27<19:26,  2.28s/it]"
     ]
    },
    {
     "name": "stdout",
     "output_type": "stream",
     "text": [
      "===== search term =====\n",
      "( Abnormality of the supraorbital ridges[tiab] OR  Malformation of the supraorbital ridges[tiab] OR  Malformation of the supraorbital margins[tiab] OR  Abnormality of the brow of the face[tiab] OR  Deformity of the supraorbital margins[tiab] OR  Deformity of the supraorbital ridges[tiab]) AND ( variat*[tiab] or SNP[tiab] or allele*[tiab] or mutat*[tiab] or polymorphism*[tiab] or haplotype*[tiab] or SNPs[tiab] or genotype[tiab] or gene[tiab] or chromosome[tiab] or deletion[tiab] or indel[tiab] or insertion[tiab] or substitution[tiab] or transition[tiab] or transversion[tiab] or translocation[tiab] or CNV[tiab] or copy number variation[tiab] or SV[tiab] or chromosome structure variation[tiab]) NOT review[pt] AND English[LA] AND (\"1980/01/01\"[DP] : \"2023/4/1\"[DP])\n",
      "Retrieved article numbers：50\n"
     ]
    },
    {
     "name": "stderr",
     "output_type": "stream",
     "text": [
      " 14%|█▍        | 85/595 [04:29<18:42,  2.20s/it]"
     ]
    },
    {
     "name": "stdout",
     "output_type": "stream",
     "text": [
      "===== search term =====\n",
      "( Infra-orbital crease[tiab] OR  Infraorbital creases[tiab] OR  Underorbital skin creases[tiab] OR  Infraorbital crease[tiab] OR  Crease in skin under the eye[tiab] OR  Groove in skin under the eye[tiab]) AND ( variat*[tiab] or SNP[tiab] or allele*[tiab] or mutat*[tiab] or polymorphism*[tiab] or haplotype*[tiab] or SNPs[tiab] or genotype[tiab] or gene[tiab] or chromosome[tiab] or deletion[tiab] or indel[tiab] or insertion[tiab] or substitution[tiab] or transition[tiab] or transversion[tiab] or translocation[tiab] or CNV[tiab] or copy number variation[tiab] or SV[tiab] or chromosome structure variation[tiab]) NOT review[pt] AND English[LA] AND (\"1980/01/01\"[DP] : \"2023/4/1\"[DP])\n",
      "Retrieved article numbers：17\n"
     ]
    },
    {
     "name": "stderr",
     "output_type": "stream",
     "text": [
      " 14%|█▍        | 86/595 [04:31<18:20,  2.16s/it]"
     ]
    },
    {
     "name": "stdout",
     "output_type": "stream",
     "text": [
      "===== search term =====\n",
      "( Periorbital hyperpigmentation[tiab] OR Dark circles around the eyes[tiab] OR  Dark circles under the eyes[tiab] OR  Pigmentation around the eyes[tiab] OR  Periorbital melanosis[tiab] OR  Darkening around the eyes[tiab] OR  Infraorbital pigmentation[tiab] OR  Idiopathic cutaneous hyperchromia at the orbital region[tiab]) AND ( variat*[tiab] or SNP[tiab] or allele*[tiab] or mutat*[tiab] or polymorphism*[tiab] or haplotype*[tiab] or SNPs[tiab] or genotype[tiab] or gene[tiab] or chromosome[tiab] or deletion[tiab] or indel[tiab] or insertion[tiab] or substitution[tiab] or transition[tiab] or transversion[tiab] or translocation[tiab] or CNV[tiab] or copy number variation[tiab] or SV[tiab] or chromosome structure variation[tiab]) NOT review[pt] AND English[LA] AND (\"1980/01/01\"[DP] : \"2023/4/1\"[DP])\n",
      "Retrieved article numbers：19\n"
     ]
    },
    {
     "name": "stderr",
     "output_type": "stream",
     "text": [
      " 15%|█▍        | 87/595 [04:34<19:31,  2.31s/it]"
     ]
    },
    {
     "name": "stdout",
     "output_type": "stream",
     "text": [
      "===== search term =====\n",
      "( Periorbital ecchymosis with tarsal plate sparing[tiab] OR Raccoon eyes[tiab]) AND ( variat*[tiab] or SNP[tiab] or allele*[tiab] or mutat*[tiab] or polymorphism*[tiab] or haplotype*[tiab] or SNPs[tiab] or genotype[tiab] or gene[tiab] or chromosome[tiab] or deletion[tiab] or indel[tiab] or insertion[tiab] or substitution[tiab] or transition[tiab] or transversion[tiab] or translocation[tiab] or CNV[tiab] or copy number variation[tiab] or SV[tiab] or chromosome structure variation[tiab]) NOT review[pt] AND English[LA] AND (\"1980/01/01\"[DP] : \"2023/4/1\"[DP])\n",
      "Retrieved article numbers：8\n"
     ]
    },
    {
     "name": "stderr",
     "output_type": "stream",
     "text": [
      " 15%|█▍        | 88/595 [04:36<18:35,  2.20s/it]"
     ]
    },
    {
     "name": "stdout",
     "output_type": "stream",
     "text": [
      "===== search term =====\n",
      "( Bitemporal forceps marks[tiab] OR Bitemporal aplasia cutis congenita[tiab] OR  Congenital bilateral scarlike facial lesions[tiab] OR  Congenital ectodermal dysplasia of the face[tiab] OR  Temporal skin defect[tiab] OR  Focal facial dermal dysplasia[tiab]) AND ( variat*[tiab] or SNP[tiab] or allele*[tiab] or mutat*[tiab] or polymorphism*[tiab] or haplotype*[tiab] or SNPs[tiab] or genotype[tiab] or gene[tiab] or chromosome[tiab] or deletion[tiab] or indel[tiab] or insertion[tiab] or substitution[tiab] or transition[tiab] or transversion[tiab] or translocation[tiab] or CNV[tiab] or copy number variation[tiab] or SV[tiab] or chromosome structure variation[tiab]) NOT review[pt] AND English[LA] AND (\"1980/01/01\"[DP] : \"2023/4/1\"[DP])\n",
      "Retrieved article numbers：0\n"
     ]
    },
    {
     "name": "stderr",
     "output_type": "stream",
     "text": [
      " 15%|█▍        | 89/595 [04:38<18:48,  2.23s/it]"
     ]
    },
    {
     "name": "stdout",
     "output_type": "stream",
     "text": [
      "===== search term =====\n",
      "( Infra-orbital fold[tiab] OR Dennie-Morgan fold[tiab] OR  Infraorbital fold[tiab]) AND ( variat*[tiab] or SNP[tiab] or allele*[tiab] or mutat*[tiab] or polymorphism*[tiab] or haplotype*[tiab] or SNPs[tiab] or genotype[tiab] or gene[tiab] or chromosome[tiab] or deletion[tiab] or indel[tiab] or insertion[tiab] or substitution[tiab] or transition[tiab] or transversion[tiab] or translocation[tiab] or CNV[tiab] or copy number variation[tiab] or SV[tiab] or chromosome structure variation[tiab]) NOT review[pt] AND English[LA] AND (\"1980/01/01\"[DP] : \"2023/4/1\"[DP])\n",
      "Retrieved article numbers：9\n"
     ]
    },
    {
     "name": "stderr",
     "output_type": "stream",
     "text": [
      " 15%|█▌        | 90/595 [04:40<18:19,  2.18s/it]"
     ]
    },
    {
     "name": "stdout",
     "output_type": "stream",
     "text": [
      "===== search term =====\n",
      "( Periorbital wrinkles[tiab] OR Wrinkles around the eyes[tiab] OR  Excess periorbital skin wrinkling[tiab] OR  Periorbital wrinkling[tiab] OR  Periorbital rhytids[tiab]) AND ( variat*[tiab] or SNP[tiab] or allele*[tiab] or mutat*[tiab] or polymorphism*[tiab] or haplotype*[tiab] or SNPs[tiab] or genotype[tiab] or gene[tiab] or chromosome[tiab] or deletion[tiab] or indel[tiab] or insertion[tiab] or substitution[tiab] or transition[tiab] or transversion[tiab] or translocation[tiab] or CNV[tiab] or copy number variation[tiab] or SV[tiab] or chromosome structure variation[tiab]) NOT review[pt] AND English[LA] AND (\"1980/01/01\"[DP] : \"2023/4/1\"[DP])\n",
      "Retrieved article numbers：4\n"
     ]
    },
    {
     "name": "stderr",
     "output_type": "stream",
     "text": [
      " 15%|█▌        | 91/595 [04:42<18:01,  2.15s/it]"
     ]
    },
    {
     "name": "stdout",
     "output_type": "stream",
     "text": [
      "===== search term =====\n",
      "( Bitemporal hollowing[tiab]) AND ( variat*[tiab] or SNP[tiab] or allele*[tiab] or mutat*[tiab] or polymorphism*[tiab] or haplotype*[tiab] or SNPs[tiab] or genotype[tiab] or gene[tiab] or chromosome[tiab] or deletion[tiab] or indel[tiab] or insertion[tiab] or substitution[tiab] or transition[tiab] or transversion[tiab] or translocation[tiab] or CNV[tiab] or copy number variation[tiab] or SV[tiab] or chromosome structure variation[tiab]) NOT review[pt] AND English[LA] AND (\"1980/01/01\"[DP] : \"2023/4/1\"[DP])\n",
      "Retrieved article numbers：10\n"
     ]
    },
    {
     "name": "stderr",
     "output_type": "stream",
     "text": [
      " 15%|█▌        | 92/595 [04:45<19:17,  2.30s/it]"
     ]
    },
    {
     "name": "stdout",
     "output_type": "stream",
     "text": [
      "===== search term =====\n",
      "( Periorbital fullness[tiab] OR  Fullness around the eyes[tiab] OR  Puffy eyes[tiab] OR  Periorbital puffiness[tiab] OR  Puffiness around eye[tiab] OR  Periorbital swelling[tiab] OR  Swelling around the eyes[tiab]) AND ( variat*[tiab] or SNP[tiab] or allele*[tiab] or mutat*[tiab] or polymorphism*[tiab] or haplotype*[tiab] or SNPs[tiab] or genotype[tiab] or gene[tiab] or chromosome[tiab] or deletion[tiab] or indel[tiab] or insertion[tiab] or substitution[tiab] or transition[tiab] or transversion[tiab] or translocation[tiab] or CNV[tiab] or copy number variation[tiab] or SV[tiab] or chromosome structure variation[tiab]) NOT review[pt] AND English[LA] AND (\"1980/01/01\"[DP] : \"2023/4/1\"[DP])\n",
      "Retrieved article numbers：3\n"
     ]
    },
    {
     "name": "stderr",
     "output_type": "stream",
     "text": [
      " 16%|█▌        | 93/595 [04:49<24:11,  2.89s/it]"
     ]
    },
    {
     "name": "stdout",
     "output_type": "stream",
     "text": [
      "===== search term =====\n",
      "( Periorbital purpura[tiab]) AND ( variat*[tiab] or SNP[tiab] or allele*[tiab] or mutat*[tiab] or polymorphism*[tiab] or haplotype*[tiab] or SNPs[tiab] or genotype[tiab] or gene[tiab] or chromosome[tiab] or deletion[tiab] or indel[tiab] or insertion[tiab] or substitution[tiab] or transition[tiab] or transversion[tiab] or translocation[tiab] or CNV[tiab] or copy number variation[tiab] or SV[tiab] or chromosome structure variation[tiab]) NOT review[pt] AND English[LA] AND (\"1980/01/01\"[DP] : \"2023/4/1\"[DP])\n",
      "Retrieved article numbers：23\n"
     ]
    },
    {
     "name": "stderr",
     "output_type": "stream",
     "text": [
      " 16%|█▌        | 94/595 [04:52<25:14,  3.02s/it]"
     ]
    },
    {
     "name": "stdout",
     "output_type": "stream",
     "text": [
      "===== search term =====\n",
      "( Pointed chin[tiab] OR Pointed chin[tiab] OR  Small pointed chin[tiab] OR  Pointy chin[tiab] OR  Pointed mention region[tiab] OR  Witch's chin[tiab]) AND ( variat*[tiab] or SNP[tiab] or allele*[tiab] or mutat*[tiab] or polymorphism*[tiab] or haplotype*[tiab] or SNPs[tiab] or genotype[tiab] or gene[tiab] or chromosome[tiab] or deletion[tiab] or indel[tiab] or insertion[tiab] or substitution[tiab] or transition[tiab] or transversion[tiab] or translocation[tiab] or CNV[tiab] or copy number variation[tiab] or SV[tiab] or chromosome structure variation[tiab]) NOT review[pt] AND English[LA] AND (\"1980/01/01\"[DP] : \"2023/4/1\"[DP])\n",
      "Retrieved article numbers：1\n"
     ]
    },
    {
     "name": "stderr",
     "output_type": "stream",
     "text": [
      " 16%|█▌        | 95/595 [04:55<24:41,  2.96s/it]"
     ]
    },
    {
     "name": "stdout",
     "output_type": "stream",
     "text": [
      "===== search term =====\n",
      "( Abnormality of mentalis muscle[tiab]) AND ( variat*[tiab] or SNP[tiab] or allele*[tiab] or mutat*[tiab] or polymorphism*[tiab] or haplotype*[tiab] or SNPs[tiab] or genotype[tiab] or gene[tiab] or chromosome[tiab] or deletion[tiab] or indel[tiab] or insertion[tiab] or substitution[tiab] or transition[tiab] or transversion[tiab] or translocation[tiab] or CNV[tiab] or copy number variation[tiab] or SV[tiab] or chromosome structure variation[tiab]) NOT review[pt] AND English[LA] AND (\"1980/01/01\"[DP] : \"2023/4/1\"[DP])\n",
      "Retrieved article numbers：127\n"
     ]
    },
    {
     "name": "stderr",
     "output_type": "stream",
     "text": [
      " 16%|█▌        | 96/595 [04:57<22:01,  2.65s/it]"
     ]
    },
    {
     "name": "stdout",
     "output_type": "stream",
     "text": [
      "===== search term =====\n",
      "( Chin with H-shaped crease[tiab] OR  Chin with H-shaped crease[tiab] OR  H-shaped dimple of the chin[tiab] OR  H-Shaped Crease Chin[tiab] OR  H-shaped groove[tiab]) AND ( variat*[tiab] or SNP[tiab] or allele*[tiab] or mutat*[tiab] or polymorphism*[tiab] or haplotype*[tiab] or SNPs[tiab] or genotype[tiab] or gene[tiab] or chromosome[tiab] or deletion[tiab] or indel[tiab] or insertion[tiab] or substitution[tiab] or transition[tiab] or transversion[tiab] or translocation[tiab] or CNV[tiab] or copy number variation[tiab] or SV[tiab] or chromosome structure variation[tiab]) NOT review[pt] AND English[LA] AND (\"1980/01/01\"[DP] : \"2023/4/1\"[DP])\n",
      "Retrieved article numbers：1\n"
     ]
    },
    {
     "name": "stderr",
     "output_type": "stream",
     "text": [
      " 16%|█▋        | 97/595 [04:59<20:33,  2.48s/it]"
     ]
    },
    {
     "name": "stdout",
     "output_type": "stream",
     "text": [
      "===== search term =====\n",
      "( Mandibular prognathia[tiab] OR Hyperplasia of lower jaw[tiab] OR  Relative mandibular prognathism[tiab] OR  Lower jaw excess[tiab] OR  Big lower jaw[tiab] OR  Increased size of mandible[tiab] OR  Mandibular prognathism[tiab] OR  Macromandible[tiab] OR  Mandible prognathism[tiab] OR  Hypertrophy of lower jaw[tiab] OR  Mandibular hyperplasia[tiab] OR  Big mandible[tiab] OR  Prognathism[tiab] OR  Enlarged mandible[tiab] OR  Lower jaw hyperplasia[tiab] OR  Prominent chin[tiab] OR  Increased projection of lower jaw[tiab] OR  Prominent jaw[tiab] OR  Hypertrophy of mandible[tiab] OR  Mandibular macrognathia[tiab] OR  Prognathia[tiab] OR  Large lower jaw[tiab] OR  Prominent lower jaw[tiab] OR  Mandibular excess[tiab] OR  Large mandible[tiab] OR  Prominent mandible[tiab] OR  Increased size of lower jaw[tiab] OR  Enlargement of mandible[tiab] OR  Increased projection of mandible[tiab]) AND ( variat*[tiab] or SNP[tiab] or allele*[tiab] or mutat*[tiab] or polymorphism*[tiab] or haplotype*[tiab] or SNPs[tiab] or genotype[tiab] or gene[tiab] or chromosome[tiab] or deletion[tiab] or indel[tiab] or insertion[tiab] or substitution[tiab] or transition[tiab] or transversion[tiab] or translocation[tiab] or CNV[tiab] or copy number variation[tiab] or SV[tiab] or chromosome structure variation[tiab]) NOT review[pt] AND English[LA] AND (\"1980/01/01\"[DP] : \"2023/4/1\"[DP])\n",
      "Retrieved article numbers：2\n"
     ]
    },
    {
     "name": "stderr",
     "output_type": "stream",
     "text": [
      " 16%|█▋        | 98/595 [05:01<19:38,  2.37s/it]"
     ]
    },
    {
     "name": "stdout",
     "output_type": "stream",
     "text": [
      "===== search term =====\n",
      "( Dimple chin[tiab] OR  Indentation of chin[tiab] OR  Chin dimples[tiab] OR  Chin dimple[tiab] OR  Chin skin dimple[tiab] OR  Chin butt[tiab] OR  Gelasin of chin[tiab] OR  Chin dent[tiab]) AND ( variat*[tiab] or SNP[tiab] or allele*[tiab] or mutat*[tiab] or polymorphism*[tiab] or haplotype*[tiab] or SNPs[tiab] or genotype[tiab] or gene[tiab] or chromosome[tiab] or deletion[tiab] or indel[tiab] or insertion[tiab] or substitution[tiab] or transition[tiab] or transversion[tiab] or translocation[tiab] or CNV[tiab] or copy number variation[tiab] or SV[tiab] or chromosome structure variation[tiab]) NOT review[pt] AND English[LA] AND (\"1980/01/01\"[DP] : \"2023/4/1\"[DP])\n",
      "Retrieved article numbers：304\n"
     ]
    },
    {
     "name": "stderr",
     "output_type": "stream",
     "text": [
      " 17%|█▋        | 99/595 [05:03<18:48,  2.27s/it]"
     ]
    },
    {
     "name": "stdout",
     "output_type": "stream",
     "text": [
      "===== search term =====\n",
      "( Tall chin[tiab] OR Long lower third of face[tiab] OR  Long chin[tiab] OR  Vertical hyperplasia of chin[tiab] OR  Increased height of chin[tiab] OR  Vertical excess of chin[tiab] OR  Increased height of menton region[tiab] OR  Tall chin[tiab]) AND ( variat*[tiab] or SNP[tiab] or allele*[tiab] or mutat*[tiab] or polymorphism*[tiab] or haplotype*[tiab] or SNPs[tiab] or genotype[tiab] or gene[tiab] or chromosome[tiab] or deletion[tiab] or indel[tiab] or insertion[tiab] or substitution[tiab] or transition[tiab] or transversion[tiab] or translocation[tiab] or CNV[tiab] or copy number variation[tiab] or SV[tiab] or chromosome structure variation[tiab]) NOT review[pt] AND English[LA] AND (\"1980/01/01\"[DP] : \"2023/4/1\"[DP])\n",
      "Retrieved article numbers：13\n"
     ]
    },
    {
     "name": "stderr",
     "output_type": "stream",
     "text": [
      " 17%|█▋        | 100/595 [05:05<18:13,  2.21s/it]"
     ]
    },
    {
     "name": "stdout",
     "output_type": "stream",
     "text": [
      "===== search term =====\n",
      "( Cleft of chin[tiab] OR Cleft of chin[tiab] OR  Midline defect of chin[tiab]) AND ( variat*[tiab] or SNP[tiab] or allele*[tiab] or mutat*[tiab] or polymorphism*[tiab] or haplotype*[tiab] or SNPs[tiab] or genotype[tiab] or gene[tiab] or chromosome[tiab] or deletion[tiab] or indel[tiab] or insertion[tiab] or substitution[tiab] or transition[tiab] or transversion[tiab] or translocation[tiab] or CNV[tiab] or copy number variation[tiab] or SV[tiab] or chromosome structure variation[tiab]) NOT review[pt] AND English[LA] AND (\"1980/01/01\"[DP] : \"2023/4/1\"[DP])\n",
      "Retrieved article numbers：6\n"
     ]
    },
    {
     "name": "stderr",
     "output_type": "stream",
     "text": [
      " 17%|█▋        | 101/595 [05:08<18:17,  2.22s/it]"
     ]
    },
    {
     "name": "stdout",
     "output_type": "stream",
     "text": [
      "===== search term =====\n",
      "( Broad chin[tiab] OR  Increased width of menton region[tiab] OR  Broad chin[tiab] OR  Wide chin[tiab] OR  Increased width of chin[tiab]) AND ( variat*[tiab] or SNP[tiab] or allele*[tiab] or mutat*[tiab] or polymorphism*[tiab] or haplotype*[tiab] or SNPs[tiab] or genotype[tiab] or gene[tiab] or chromosome[tiab] or deletion[tiab] or indel[tiab] or insertion[tiab] or substitution[tiab] or transition[tiab] or transversion[tiab] or translocation[tiab] or CNV[tiab] or copy number variation[tiab] or SV[tiab] or chromosome structure variation[tiab]) NOT review[pt] AND English[LA] AND (\"1980/01/01\"[DP] : \"2023/4/1\"[DP])\n",
      "Retrieved article numbers：1\n"
     ]
    },
    {
     "name": "stderr",
     "output_type": "stream",
     "text": [
      " 17%|█▋        | 102/595 [05:10<18:00,  2.19s/it]"
     ]
    },
    {
     "name": "stdout",
     "output_type": "stream",
     "text": [
      "===== search term =====\n",
      "( Abnormality of depressor labii inferioris[tiab] OR Abnormality of depressor labii inferioris muscle[tiab]) AND ( variat*[tiab] or SNP[tiab] or allele*[tiab] or mutat*[tiab] or polymorphism*[tiab] or haplotype*[tiab] or SNPs[tiab] or genotype[tiab] or gene[tiab] or chromosome[tiab] or deletion[tiab] or indel[tiab] or insertion[tiab] or substitution[tiab] or transition[tiab] or transversion[tiab] or translocation[tiab] or CNV[tiab] or copy number variation[tiab] or SV[tiab] or chromosome structure variation[tiab]) NOT review[pt] AND English[LA] AND (\"1980/01/01\"[DP] : \"2023/4/1\"[DP])\n",
      "Retrieved article numbers：40\n"
     ]
    },
    {
     "name": "stderr",
     "output_type": "stream",
     "text": [
      " 17%|█▋        | 103/595 [05:12<17:47,  2.17s/it]"
     ]
    },
    {
     "name": "stdout",
     "output_type": "stream",
     "text": [
      "===== search term =====\n",
      "( Chin with vertical crease[tiab] OR Vertical menton crease[tiab] OR  Vertical chin skin cleft[tiab] OR  Cleft chin[tiab] OR  Chin with vertical furrow[tiab] OR  Vertical crease chin[tiab] OR  Chin with vertical groove[tiab] OR  Chin with vertical crease[tiab] OR  Chin with vertical sulcus[tiab]) AND ( variat*[tiab] or SNP[tiab] or allele*[tiab] or mutat*[tiab] or polymorphism*[tiab] or haplotype*[tiab] or SNPs[tiab] or genotype[tiab] or gene[tiab] or chromosome[tiab] or deletion[tiab] or indel[tiab] or insertion[tiab] or substitution[tiab] or transition[tiab] or transversion[tiab] or translocation[tiab] or CNV[tiab] or copy number variation[tiab] or SV[tiab] or chromosome structure variation[tiab]) NOT review[pt] AND English[LA] AND (\"1980/01/01\"[DP] : \"2023/4/1\"[DP])\n",
      "Retrieved article numbers：0\n"
     ]
    },
    {
     "name": "stderr",
     "output_type": "stream",
     "text": [
      " 17%|█▋        | 104/595 [05:16<22:51,  2.79s/it]"
     ]
    },
    {
     "name": "stdout",
     "output_type": "stream",
     "text": [
      "===== search term =====\n",
      "( Chin with horizontal crease[tiab] OR Chin with horizontal groove[tiab] OR  Chin with horizontal crease[tiab] OR  Chin with horizontal sulcus[tiab] OR  Horizontal menton crease[tiab] OR  Horizontal chin skin cleft[tiab] OR  Chin with horizontal furrow[tiab]) AND ( variat*[tiab] or SNP[tiab] or allele*[tiab] or mutat*[tiab] or polymorphism*[tiab] or haplotype*[tiab] or SNPs[tiab] or genotype[tiab] or gene[tiab] or chromosome[tiab] or deletion[tiab] or indel[tiab] or insertion[tiab] or substitution[tiab] or transition[tiab] or transversion[tiab] or translocation[tiab] or CNV[tiab] or copy number variation[tiab] or SV[tiab] or chromosome structure variation[tiab]) NOT review[pt] AND English[LA] AND (\"1980/01/01\"[DP] : \"2023/4/1\"[DP])\n",
      "Retrieved article numbers：4\n"
     ]
    },
    {
     "name": "stderr",
     "output_type": "stream",
     "text": [
      " 18%|█▊        | 105/595 [05:20<24:07,  2.95s/it]"
     ]
    },
    {
     "name": "stdout",
     "output_type": "stream",
     "text": [
      "===== search term =====\n",
      "( Short chin[tiab] OR Short chin[tiab] OR  Small chin[tiab] OR  Decreased height of chin[tiab] OR  Short lower third of face[tiab] OR  Vertical deficiency of chin[tiab] OR  Vertical hypoplasia of chin[tiab]) AND ( variat*[tiab] or SNP[tiab] or allele*[tiab] or mutat*[tiab] or polymorphism*[tiab] or haplotype*[tiab] or SNPs[tiab] or genotype[tiab] or gene[tiab] or chromosome[tiab] or deletion[tiab] or indel[tiab] or insertion[tiab] or substitution[tiab] or transition[tiab] or transversion[tiab] or translocation[tiab] or CNV[tiab] or copy number variation[tiab] or SV[tiab] or chromosome structure variation[tiab]) NOT review[pt] AND English[LA] AND (\"1980/01/01\"[DP] : \"2023/4/1\"[DP])\n",
      "Retrieved article numbers：2\n"
     ]
    },
    {
     "name": "stderr",
     "output_type": "stream",
     "text": [
      " 18%|█▊        | 106/595 [05:22<22:19,  2.74s/it]"
     ]
    },
    {
     "name": "stdout",
     "output_type": "stream",
     "text": [
      "===== search term =====\n",
      "( Decreased facial expression[tiab] OR   Decreased facial expression[tiab]) AND ( variat*[tiab] or SNP[tiab] or allele*[tiab] or mutat*[tiab] or polymorphism*[tiab] or haplotype*[tiab] or SNPs[tiab] or genotype[tiab] or gene[tiab] or chromosome[tiab] or deletion[tiab] or indel[tiab] or insertion[tiab] or substitution[tiab] or transition[tiab] or transversion[tiab] or translocation[tiab] or CNV[tiab] or copy number variation[tiab] or SV[tiab] or chromosome structure variation[tiab]) NOT review[pt] AND English[LA] AND (\"1980/01/01\"[DP] : \"2023/4/1\"[DP])\n",
      "Retrieved article numbers：27\n"
     ]
    },
    {
     "name": "stderr",
     "output_type": "stream",
     "text": [
      " 18%|█▊        | 107/595 [05:24<22:09,  2.72s/it]"
     ]
    },
    {
     "name": "stdout",
     "output_type": "stream",
     "text": [
      "===== search term =====\n",
      "( Disturbance of facial expression[tiab] OR  Disturbance of facial expression[tiab]) AND ( variat*[tiab] or SNP[tiab] or allele*[tiab] or mutat*[tiab] or polymorphism*[tiab] or haplotype*[tiab] or SNPs[tiab] or genotype[tiab] or gene[tiab] or chromosome[tiab] or deletion[tiab] or indel[tiab] or insertion[tiab] or substitution[tiab] or transition[tiab] or transversion[tiab] or translocation[tiab] or CNV[tiab] or copy number variation[tiab] or SV[tiab] or chromosome structure variation[tiab]) NOT review[pt] AND English[LA] AND (\"1980/01/01\"[DP] : \"2023/4/1\"[DP])\n",
      "Retrieved article numbers：3\n"
     ]
    },
    {
     "name": "stderr",
     "output_type": "stream",
     "text": [
      " 18%|█▊        | 108/595 [05:26<19:53,  2.45s/it]"
     ]
    },
    {
     "name": "stdout",
     "output_type": "stream",
     "text": [
      "===== search term =====\n",
      "( Facial hyperostosis[tiab] OR  Enlargement of facial bones[tiab] OR  Overgrowth of facial bones[tiab] OR  Hyperostosis of facial skeleton[tiab] OR  Hypertrophy of the facial bones[tiab] OR  Hyperostosis of facial bones[tiab] OR  Excessive growth of facial skeleton[tiab] OR  Increased ossification of facial skeleton[tiab] OR  Increased ossification of facial bones[tiab] OR  Hypertrophy of facial skeleton[tiab] OR  Increase in size of the facial bones[tiab] OR  Excessive growth of facial bones[tiab] OR  Overgrowth of facial skeleton[tiab] OR  Hypertrophy of facial bones[tiab] OR  Overgrowth of the facial bones[tiab] OR  Enlargement of facial skeleton[tiab] OR  Enlargment of the facial bones[tiab]) AND ( variat*[tiab] or SNP[tiab] or allele*[tiab] or mutat*[tiab] or polymorphism*[tiab] or haplotype*[tiab] or SNPs[tiab] or genotype[tiab] or gene[tiab] or chromosome[tiab] or deletion[tiab] or indel[tiab] or insertion[tiab] or substitution[tiab] or transition[tiab] or transversion[tiab] or translocation[tiab] or CNV[tiab] or copy number variation[tiab] or SV[tiab] or chromosome structure variation[tiab]) NOT review[pt] AND English[LA] AND (\"1980/01/01\"[DP] : \"2023/4/1\"[DP])\n",
      "Retrieved article numbers：0\n"
     ]
    },
    {
     "name": "stderr",
     "output_type": "stream",
     "text": [
      " 18%|█▊        | 109/595 [05:29<19:16,  2.38s/it]"
     ]
    },
    {
     "name": "stdout",
     "output_type": "stream",
     "text": [
      "===== search term =====\n",
      "( Congenital craniofacial dysostosis[tiab]) AND ( variat*[tiab] or SNP[tiab] or allele*[tiab] or mutat*[tiab] or polymorphism*[tiab] or haplotype*[tiab] or SNPs[tiab] or genotype[tiab] or gene[tiab] or chromosome[tiab] or deletion[tiab] or indel[tiab] or insertion[tiab] or substitution[tiab] or transition[tiab] or transversion[tiab] or translocation[tiab] or CNV[tiab] or copy number variation[tiab] or SV[tiab] or chromosome structure variation[tiab]) NOT review[pt] AND English[LA] AND (\"1980/01/01\"[DP] : \"2023/4/1\"[DP])\n",
      "Retrieved article numbers：13\n"
     ]
    },
    {
     "name": "stderr",
     "output_type": "stream",
     "text": [
      " 18%|█▊        | 110/595 [05:30<17:32,  2.17s/it]"
     ]
    },
    {
     "name": "stdout",
     "output_type": "stream",
     "text": [
      "===== search term =====\n",
      "( Mandibulofacial dysostosis[tiab] OR Treacher collins syndrome[tiab]) AND ( variat*[tiab] or SNP[tiab] or allele*[tiab] or mutat*[tiab] or polymorphism*[tiab] or haplotype*[tiab] or SNPs[tiab] or genotype[tiab] or gene[tiab] or chromosome[tiab] or deletion[tiab] or indel[tiab] or insertion[tiab] or substitution[tiab] or transition[tiab] or transversion[tiab] or translocation[tiab] or CNV[tiab] or copy number variation[tiab] or SV[tiab] or chromosome structure variation[tiab]) NOT review[pt] AND English[LA] AND (\"1980/01/01\"[DP] : \"2023/4/1\"[DP])\n",
      "Retrieved article numbers：5\n"
     ]
    },
    {
     "name": "stderr",
     "output_type": "stream",
     "text": [
      " 19%|█▊        | 111/595 [05:32<16:16,  2.02s/it]"
     ]
    },
    {
     "name": "stdout",
     "output_type": "stream",
     "text": [
      "===== search term =====\n",
      "( Abnormality of mylohyoid muscle[tiab]) AND ( variat*[tiab] or SNP[tiab] or allele*[tiab] or mutat*[tiab] or polymorphism*[tiab] or haplotype*[tiab] or SNPs[tiab] or genotype[tiab] or gene[tiab] or chromosome[tiab] or deletion[tiab] or indel[tiab] or insertion[tiab] or substitution[tiab] or transition[tiab] or transversion[tiab] or translocation[tiab] or CNV[tiab] or copy number variation[tiab] or SV[tiab] or chromosome structure variation[tiab]) NOT review[pt] AND English[LA] AND (\"1980/01/01\"[DP] : \"2023/4/1\"[DP])\n",
      "Retrieved article numbers：228\n"
     ]
    },
    {
     "name": "stderr",
     "output_type": "stream",
     "text": [
      " 19%|█▉        | 112/595 [05:34<15:53,  1.98s/it]"
     ]
    },
    {
     "name": "stdout",
     "output_type": "stream",
     "text": [
      "===== search term =====\n",
      "(Abnormal ocular adnexa morphology[tiab]) AND ( variat*[tiab] or SNP[tiab] or allele*[tiab] or mutat*[tiab] or polymorphism*[tiab] or haplotype*[tiab] or SNPs[tiab] or genotype[tiab] or gene[tiab] or chromosome[tiab] or deletion[tiab] or indel[tiab] or insertion[tiab] or substitution[tiab] or transition[tiab] or transversion[tiab] or translocation[tiab] or CNV[tiab] or copy number variation[tiab] or SV[tiab] or chromosome structure variation[tiab]) NOT review[pt] AND English[LA] AND (\"1980/01/01\"[DP] : \"2023/4/1\"[DP])\n",
      "Retrieved article numbers：8\n"
     ]
    },
    {
     "name": "stderr",
     "output_type": "stream",
     "text": [
      " 19%|█▉        | 113/595 [05:36<17:43,  2.21s/it]"
     ]
    },
    {
     "name": "stdout",
     "output_type": "stream",
     "text": [
      "===== search term =====\n",
      "(Abnormal ocular adnexa physiology[tiab]) AND ( variat*[tiab] or SNP[tiab] or allele*[tiab] or mutat*[tiab] or polymorphism*[tiab] or haplotype*[tiab] or SNPs[tiab] or genotype[tiab] or gene[tiab] or chromosome[tiab] or deletion[tiab] or indel[tiab] or insertion[tiab] or substitution[tiab] or transition[tiab] or transversion[tiab] or translocation[tiab] or CNV[tiab] or copy number variation[tiab] or SV[tiab] or chromosome structure variation[tiab]) NOT review[pt] AND English[LA] AND (\"1980/01/01\"[DP] : \"2023/4/1\"[DP])\n",
      "Retrieved article numbers：2\n"
     ]
    },
    {
     "name": "stderr",
     "output_type": "stream",
     "text": [
      " 19%|█▉        | 114/595 [05:38<17:10,  2.14s/it]"
     ]
    },
    {
     "name": "stdout",
     "output_type": "stream",
     "text": [
      "===== search term =====\n",
      "(Hamartoma of the eye[tiab]) AND ( variat*[tiab] or SNP[tiab] or allele*[tiab] or mutat*[tiab] or polymorphism*[tiab] or haplotype*[tiab] or SNPs[tiab] or genotype[tiab] or gene[tiab] or chromosome[tiab] or deletion[tiab] or indel[tiab] or insertion[tiab] or substitution[tiab] or transition[tiab] or transversion[tiab] or translocation[tiab] or CNV[tiab] or copy number variation[tiab] or SV[tiab] or chromosome structure variation[tiab]) NOT review[pt] AND English[LA] AND (\"1980/01/01\"[DP] : \"2023/4/1\"[DP])\n",
      "Retrieved article numbers：1\n"
     ]
    },
    {
     "name": "stderr",
     "output_type": "stream",
     "text": [
      " 19%|█▉        | 115/595 [05:41<17:00,  2.13s/it]"
     ]
    },
    {
     "name": "stdout",
     "output_type": "stream",
     "text": [
      "===== search term =====\n",
      "(Lymphangioma of the orbit[tiab]) AND ( variat*[tiab] or SNP[tiab] or allele*[tiab] or mutat*[tiab] or polymorphism*[tiab] or haplotype*[tiab] or SNPs[tiab] or genotype[tiab] or gene[tiab] or chromosome[tiab] or deletion[tiab] or indel[tiab] or insertion[tiab] or substitution[tiab] or transition[tiab] or transversion[tiab] or translocation[tiab] or CNV[tiab] or copy number variation[tiab] or SV[tiab] or chromosome structure variation[tiab]) NOT review[pt] AND English[LA] AND (\"1980/01/01\"[DP] : \"2023/4/1\"[DP])\n",
      "Retrieved article numbers：0\n"
     ]
    },
    {
     "name": "stderr",
     "output_type": "stream",
     "text": [
      " 19%|█▉        | 116/595 [05:43<18:51,  2.36s/it]"
     ]
    },
    {
     "name": "stdout",
     "output_type": "stream",
     "text": [
      "===== search term =====\n",
      "(Orbital craniosynostosis[tiab]) AND ( variat*[tiab] or SNP[tiab] or allele*[tiab] or mutat*[tiab] or polymorphism*[tiab] or haplotype*[tiab] or SNPs[tiab] or genotype[tiab] or gene[tiab] or chromosome[tiab] or deletion[tiab] or indel[tiab] or insertion[tiab] or substitution[tiab] or transition[tiab] or transversion[tiab] or translocation[tiab] or CNV[tiab] or copy number variation[tiab] or SV[tiab] or chromosome structure variation[tiab]) NOT review[pt] AND English[LA] AND (\"1980/01/01\"[DP] : \"2023/4/1\"[DP])\n",
      "Retrieved article numbers：0\n"
     ]
    },
    {
     "name": "stderr",
     "output_type": "stream",
     "text": [
      " 20%|█▉        | 117/595 [05:46<18:20,  2.30s/it]"
     ]
    },
    {
     "name": "stdout",
     "output_type": "stream",
     "text": [
      "===== search term =====\n",
      "(Shallow orbits[tiab] OR Decreased depth of eye sockets[tiab] OR  Small shallow orbits[tiab] OR  Shallow eye sockets[tiab] OR  Decreased depth of orbits[tiab]) AND ( variat*[tiab] or SNP[tiab] or allele*[tiab] or mutat*[tiab] or polymorphism*[tiab] or haplotype*[tiab] or SNPs[tiab] or genotype[tiab] or gene[tiab] or chromosome[tiab] or deletion[tiab] or indel[tiab] or insertion[tiab] or substitution[tiab] or transition[tiab] or transversion[tiab] or translocation[tiab] or CNV[tiab] or copy number variation[tiab] or SV[tiab] or chromosome structure variation[tiab]) NOT review[pt] AND English[LA] AND (\"1980/01/01\"[DP] : \"2023/4/1\"[DP])\n",
      "Retrieved article numbers：54\n"
     ]
    },
    {
     "name": "stderr",
     "output_type": "stream",
     "text": [
      " 20%|█▉        | 118/595 [05:48<17:26,  2.19s/it]"
     ]
    },
    {
     "name": "stdout",
     "output_type": "stream",
     "text": [
      "===== search term =====\n",
      "(Fractured orbit of skull[tiab] OR bone orbit of skull[tiab]) AND ( variat*[tiab] or SNP[tiab] or allele*[tiab] or mutat*[tiab] or polymorphism*[tiab] or haplotype*[tiab] or SNPs[tiab] or genotype[tiab] or gene[tiab] or chromosome[tiab] or deletion[tiab] or indel[tiab] or insertion[tiab] or substitution[tiab] or transition[tiab] or transversion[tiab] or translocation[tiab] or CNV[tiab] or copy number variation[tiab] or SV[tiab] or chromosome structure variation[tiab]) NOT review[pt] AND English[LA] AND (\"1980/01/01\"[DP] : \"2023/4/1\"[DP])\n",
      "Retrieved article numbers：27\n"
     ]
    },
    {
     "name": "stderr",
     "output_type": "stream",
     "text": [
      " 20%|██        | 119/595 [05:50<18:03,  2.28s/it]"
     ]
    },
    {
     "name": "stdout",
     "output_type": "stream",
     "text": [
      "===== search term =====\n",
      "( Periorbital dermoid cyst[tiab]) AND ( variat*[tiab] or SNP[tiab] or allele*[tiab] or mutat*[tiab] or polymorphism*[tiab] or haplotype*[tiab] or SNPs[tiab] or genotype[tiab] or gene[tiab] or chromosome[tiab] or deletion[tiab] or indel[tiab] or insertion[tiab] or substitution[tiab] or transition[tiab] or transversion[tiab] or translocation[tiab] or CNV[tiab] or copy number variation[tiab] or SV[tiab] or chromosome structure variation[tiab]) NOT review[pt] AND English[LA] AND (\"1980/01/01\"[DP] : \"2023/4/1\"[DP])\n",
      "Retrieved article numbers：15\n"
     ]
    },
    {
     "name": "stderr",
     "output_type": "stream",
     "text": [
      " 20%|██        | 120/595 [05:52<17:39,  2.23s/it]"
     ]
    },
    {
     "name": "stdout",
     "output_type": "stream",
     "text": [
      "===== search term =====\n",
      "(Abnormality of the nasal tip[tiab]) AND ( variat*[tiab] or SNP[tiab] or allele*[tiab] or mutat*[tiab] or polymorphism*[tiab] or haplotype*[tiab] or SNPs[tiab] or genotype[tiab] or gene[tiab] or chromosome[tiab] or deletion[tiab] or indel[tiab] or insertion[tiab] or substitution[tiab] or transition[tiab] or transversion[tiab] or translocation[tiab] or CNV[tiab] or copy number variation[tiab] or SV[tiab] or chromosome structure variation[tiab]) NOT review[pt] AND English[LA] AND (\"1980/01/01\"[DP] : \"2023/4/1\"[DP])\n",
      "Retrieved article numbers：1\n"
     ]
    },
    {
     "name": "stderr",
     "output_type": "stream",
     "text": [
      " 20%|██        | 121/595 [05:54<16:52,  2.14s/it]"
     ]
    },
    {
     "name": "stdout",
     "output_type": "stream",
     "text": [
      "===== search term =====\n",
      "(Abnormality of the nasal alae[tiab] OR  [tiab]) AND ( variat*[tiab] or SNP[tiab] or allele*[tiab] or mutat*[tiab] or polymorphism*[tiab] or haplotype*[tiab] or SNPs[tiab] or genotype[tiab] or gene[tiab] or chromosome[tiab] or deletion[tiab] or indel[tiab] or insertion[tiab] or substitution[tiab] or transition[tiab] or transversion[tiab] or translocation[tiab] or CNV[tiab] or copy number variation[tiab] or SV[tiab] or chromosome structure variation[tiab]) NOT review[pt] AND English[LA] AND (\"1980/01/01\"[DP] : \"2023/4/1\"[DP])\n",
      "Retrieved article numbers：0\n"
     ]
    },
    {
     "name": "stderr",
     "output_type": "stream",
     "text": [
      " 21%|██        | 122/595 [05:57<17:31,  2.22s/it]"
     ]
    },
    {
     "name": "stdout",
     "output_type": "stream",
     "text": [
      "===== search term =====\n",
      "(Abnormality of the nasal dorsum[tiab]) AND ( variat*[tiab] or SNP[tiab] or allele*[tiab] or mutat*[tiab] or polymorphism*[tiab] or haplotype*[tiab] or SNPs[tiab] or genotype[tiab] or gene[tiab] or chromosome[tiab] or deletion[tiab] or indel[tiab] or insertion[tiab] or substitution[tiab] or transition[tiab] or transversion[tiab] or translocation[tiab] or CNV[tiab] or copy number variation[tiab] or SV[tiab] or chromosome structure variation[tiab]) NOT review[pt] AND English[LA] AND (\"1980/01/01\"[DP] : \"2023/4/1\"[DP])\n",
      "Retrieved article numbers：5\n"
     ]
    },
    {
     "name": "stderr",
     "output_type": "stream",
     "text": [
      " 21%|██        | 123/595 [05:59<17:37,  2.24s/it]"
     ]
    },
    {
     "name": "stdout",
     "output_type": "stream",
     "text": [
      "===== search term =====\n",
      "(Abnormality of the columella[tiab]) AND ( variat*[tiab] or SNP[tiab] or allele*[tiab] or mutat*[tiab] or polymorphism*[tiab] or haplotype*[tiab] or SNPs[tiab] or genotype[tiab] or gene[tiab] or chromosome[tiab] or deletion[tiab] or indel[tiab] or insertion[tiab] or substitution[tiab] or transition[tiab] or transversion[tiab] or translocation[tiab] or CNV[tiab] or copy number variation[tiab] or SV[tiab] or chromosome structure variation[tiab]) NOT review[pt] AND English[LA] AND (\"1980/01/01\"[DP] : \"2023/4/1\"[DP])\n",
      "Retrieved article numbers：4\n"
     ]
    },
    {
     "name": "stderr",
     "output_type": "stream",
     "text": [
      " 21%|██        | 124/595 [06:01<17:05,  2.18s/it]"
     ]
    },
    {
     "name": "stdout",
     "output_type": "stream",
     "text": [
      "===== search term =====\n",
      "(Abnormality of the nasal cartilage[tiab] OR  Abnormality of cartilage of nose[tiab] OR  Malformation of nasal cartilage[tiab] OR  Anomaly of nasal cartilage[tiab] OR  Deformity of nasal cartilage[tiab] OR  Abnormality of the nasal cartilage[tiab] OR  Anomaly of cartilage of nose[tiab] OR  Malformation of cartilage of nose[tiab] OR  Deformity of cartilage of nose[tiab]) AND ( variat*[tiab] or SNP[tiab] or allele*[tiab] or mutat*[tiab] or polymorphism*[tiab] or haplotype*[tiab] or SNPs[tiab] or genotype[tiab] or gene[tiab] or chromosome[tiab] or deletion[tiab] or indel[tiab] or insertion[tiab] or substitution[tiab] or transition[tiab] or transversion[tiab] or translocation[tiab] or CNV[tiab] or copy number variation[tiab] or SV[tiab] or chromosome structure variation[tiab]) NOT review[pt] AND English[LA] AND (\"1980/01/01\"[DP] : \"2023/4/1\"[DP])\n",
      "Retrieved article numbers：66\n"
     ]
    },
    {
     "name": "stderr",
     "output_type": "stream",
     "text": [
      " 21%|██        | 125/595 [06:03<17:32,  2.24s/it]"
     ]
    },
    {
     "name": "stdout",
     "output_type": "stream",
     "text": [
      "===== search term =====\n",
      "(Abnormal nasal bridge morphology[tiab] OR   Deformity of the nasal bridge[tiab] OR  Malformation of the nasal bridge[tiab] OR  Abnormality of the nasal root[tiab] OR  Abnormality of the nasal bridge[tiab] OR  Deformity of the bridge of the nose[tiab] OR  Abnormality of the bridge of the nose[tiab] OR  Malformation of the bridge of the nose[tiab]) AND ( variat*[tiab] or SNP[tiab] or allele*[tiab] or mutat*[tiab] or polymorphism*[tiab] or haplotype*[tiab] or SNPs[tiab] or genotype[tiab] or gene[tiab] or chromosome[tiab] or deletion[tiab] or indel[tiab] or insertion[tiab] or substitution[tiab] or transition[tiab] or transversion[tiab] or translocation[tiab] or CNV[tiab] or copy number variation[tiab] or SV[tiab] or chromosome structure variation[tiab]) NOT review[pt] AND English[LA] AND (\"1980/01/01\"[DP] : \"2023/4/1\"[DP])\n",
      "Retrieved article numbers：15\n"
     ]
    },
    {
     "name": "stderr",
     "output_type": "stream",
     "text": [
      " 21%|██        | 126/595 [06:06<18:08,  2.32s/it]"
     ]
    },
    {
     "name": "stdout",
     "output_type": "stream",
     "text": [
      "===== search term =====\n",
      "(Aplasia/Hypoplasia involving the nose[tiab] OR  Decreased size of nose[tiab] OR  Hypotrophic nose[tiab] OR  Hypoplasia of the nose[tiab] OR  Decreased nasal size[tiab]) AND ( variat*[tiab] or SNP[tiab] or allele*[tiab] or mutat*[tiab] or polymorphism*[tiab] or haplotype*[tiab] or SNPs[tiab] or genotype[tiab] or gene[tiab] or chromosome[tiab] or deletion[tiab] or indel[tiab] or insertion[tiab] or substitution[tiab] or transition[tiab] or transversion[tiab] or translocation[tiab] or CNV[tiab] or copy number variation[tiab] or SV[tiab] or chromosome structure variation[tiab]) NOT review[pt] AND English[LA] AND (\"1980/01/01\"[DP] : \"2023/4/1\"[DP])\n",
      "Retrieved article numbers：452\n"
     ]
    },
    {
     "name": "stderr",
     "output_type": "stream",
     "text": [
      " 21%|██▏       | 127/595 [06:09<20:13,  2.59s/it]"
     ]
    },
    {
     "name": "stdout",
     "output_type": "stream",
     "text": [
      "===== search term =====\n",
      "(Midline defect of the nose[tiab] OR  Central nasal defect[tiab] OR  Midline defect of the nose[tiab] OR  Midline cleft of nose[tiab] OR  Central defect of nose[tiab] OR  Central cleft of nose[tiab] OR  Midline nasal defect[tiab]) AND ( variat*[tiab] or SNP[tiab] or allele*[tiab] or mutat*[tiab] or polymorphism*[tiab] or haplotype*[tiab] or SNPs[tiab] or genotype[tiab] or gene[tiab] or chromosome[tiab] or deletion[tiab] or indel[tiab] or insertion[tiab] or substitution[tiab] or transition[tiab] or transversion[tiab] or translocation[tiab] or CNV[tiab] or copy number variation[tiab] or SV[tiab] or chromosome structure variation[tiab]) NOT review[pt] AND English[LA] AND (\"1980/01/01\"[DP] : \"2023/4/1\"[DP])\n",
      "Retrieved article numbers：0\n"
     ]
    },
    {
     "name": "stderr",
     "output_type": "stream",
     "text": [
      " 22%|██▏       | 128/595 [06:11<19:15,  2.47s/it]"
     ]
    },
    {
     "name": "stdout",
     "output_type": "stream",
     "text": [
      "===== search term =====\n",
      "(Anteverted nares[tiab] OR  Anteverted nose[tiab] OR  Upturned nasal tip[tiab] OR  Upturned nares[tiab] OR  Upturned nasal tips[tiab] OR  Upturned nostrils[tiab] OR  Anteverted nostrils[tiab] OR  Nostrils anteverted[tiab] OR  Upturned nasal tip[tiab] OR  Upturned nose[tiab]) AND ( variat*[tiab] or SNP[tiab] or allele*[tiab] or mutat*[tiab] or polymorphism*[tiab] or haplotype*[tiab] or SNPs[tiab] or genotype[tiab] or gene[tiab] or chromosome[tiab] or deletion[tiab] or indel[tiab] or insertion[tiab] or substitution[tiab] or transition[tiab] or transversion[tiab] or translocation[tiab] or CNV[tiab] or copy number variation[tiab] or SV[tiab] or chromosome structure variation[tiab]) NOT review[pt] AND English[LA] AND (\"1980/01/01\"[DP] : \"2023/4/1\"[DP])\n",
      "Retrieved article numbers：0\n"
     ]
    },
    {
     "name": "stderr",
     "output_type": "stream",
     "text": [
      " 22%|██▏       | 129/595 [06:14<21:07,  2.72s/it]"
     ]
    },
    {
     "name": "stdout",
     "output_type": "stream",
     "text": [
      "===== search term =====\n",
      "(Fullness of paranasal tissue[tiab] OR  Laterally built up nose[tiab] OR  Thick paranasal tissue[tiab] OR  Hyperplasia of  paranasal tissue[tiab] OR  Hypertrophy of paranasal tissue[tiab] OR  Paranasal fullness[tiab] OR  Thick tissue around the nose[tiab] OR  Fullness of tissue around the nose[tiab]) AND ( variat*[tiab] or SNP[tiab] or allele*[tiab] or mutat*[tiab] or polymorphism*[tiab] or haplotype*[tiab] or SNPs[tiab] or genotype[tiab] or gene[tiab] or chromosome[tiab] or deletion[tiab] or indel[tiab] or insertion[tiab] or substitution[tiab] or transition[tiab] or transversion[tiab] or translocation[tiab] or CNV[tiab] or copy number variation[tiab] or SV[tiab] or chromosome structure variation[tiab]) NOT review[pt] AND English[LA] AND (\"1980/01/01\"[DP] : \"2023/4/1\"[DP])\n",
      "Retrieved article numbers：181\n"
     ]
    },
    {
     "name": "stderr",
     "output_type": "stream",
     "text": [
      " 22%|██▏       | 130/595 [06:16<19:20,  2.50s/it]"
     ]
    },
    {
     "name": "stdout",
     "output_type": "stream",
     "text": [
      "===== search term =====\n",
      "(Prominent nose[tiab] OR Increased size of nose[tiab] OR  Large nose[tiab] OR  Nasal hypertrophy[tiab] OR  Pronounced nose[tiab] OR  Disproportionately large nose[tiab] OR  Nasal hyperplasia[tiab] OR  Hypertrophy of nose[tiab] OR  Big nose[tiab] OR  Increased nasal size[tiab] OR  Hyperplasia of nose[tiab] OR  Prominent nose[tiab]) AND ( variat*[tiab] or SNP[tiab] or allele*[tiab] or mutat*[tiab] or polymorphism*[tiab] or haplotype*[tiab] or SNPs[tiab] or genotype[tiab] or gene[tiab] or chromosome[tiab] or deletion[tiab] or indel[tiab] or insertion[tiab] or substitution[tiab] or transition[tiab] or transversion[tiab] or translocation[tiab] or CNV[tiab] or copy number variation[tiab] or SV[tiab] or chromosome structure variation[tiab]) NOT review[pt] AND English[LA] AND (\"1980/01/01\"[DP] : \"2023/4/1\"[DP])\n",
      "Retrieved article numbers：2\n"
     ]
    },
    {
     "name": "stderr",
     "output_type": "stream",
     "text": [
      " 22%|██▏       | 131/595 [06:23<29:06,  3.76s/it]"
     ]
    },
    {
     "name": "stdout",
     "output_type": "stream",
     "text": [
      "===== search term =====\n",
      "(Bulbous nose[tiab] OR Bulbous nasal tip[tiab] OR  Bulbous nose[tiab] OR  Potato nose[tiab]) AND ( variat*[tiab] or SNP[tiab] or allele*[tiab] or mutat*[tiab] or polymorphism*[tiab] or haplotype*[tiab] or SNPs[tiab] or genotype[tiab] or gene[tiab] or chromosome[tiab] or deletion[tiab] or indel[tiab] or insertion[tiab] or substitution[tiab] or transition[tiab] or transversion[tiab] or translocation[tiab] or CNV[tiab] or copy number variation[tiab] or SV[tiab] or chromosome structure variation[tiab]) NOT review[pt] AND English[LA] AND (\"1980/01/01\"[DP] : \"2023/4/1\"[DP])\n",
      "Retrieved article numbers：369\n"
     ]
    },
    {
     "name": "stderr",
     "output_type": "stream",
     "text": [
      " 22%|██▏       | 132/595 [06:25<25:00,  3.24s/it]"
     ]
    },
    {
     "name": "stdout",
     "output_type": "stream",
     "text": [
      "===== search term =====\n",
      "(Proboscis[tiab]) AND ( variat*[tiab] or SNP[tiab] or allele*[tiab] or mutat*[tiab] or polymorphism*[tiab] or haplotype*[tiab] or SNPs[tiab] or genotype[tiab] or gene[tiab] or chromosome[tiab] or deletion[tiab] or indel[tiab] or insertion[tiab] or substitution[tiab] or transition[tiab] or transversion[tiab] or translocation[tiab] or CNV[tiab] or copy number variation[tiab] or SV[tiab] or chromosome structure variation[tiab]) NOT review[pt] AND English[LA] AND (\"1980/01/01\"[DP] : \"2023/4/1\"[DP])\n",
      "Retrieved article numbers：111\n"
     ]
    },
    {
     "name": "stderr",
     "output_type": "stream",
     "text": [
      " 22%|██▏       | 133/595 [06:27<22:33,  2.93s/it]"
     ]
    },
    {
     "name": "stdout",
     "output_type": "stream",
     "text": [
      "===== search term =====\n",
      "(Pyriform aperture stenosis[tiab]) AND ( variat*[tiab] or SNP[tiab] or allele*[tiab] or mutat*[tiab] or polymorphism*[tiab] or haplotype*[tiab] or SNPs[tiab] or genotype[tiab] or gene[tiab] or chromosome[tiab] or deletion[tiab] or indel[tiab] or insertion[tiab] or substitution[tiab] or transition[tiab] or transversion[tiab] or translocation[tiab] or CNV[tiab] or copy number variation[tiab] or SV[tiab] or chromosome structure variation[tiab]) NOT review[pt] AND English[LA] AND (\"1980/01/01\"[DP] : \"2023/4/1\"[DP])\n",
      "Retrieved article numbers：338\n"
     ]
    },
    {
     "name": "stderr",
     "output_type": "stream",
     "text": [
      " 23%|██▎       | 134/595 [06:29<20:41,  2.69s/it]"
     ]
    },
    {
     "name": "stdout",
     "output_type": "stream",
     "text": [
      "===== search term =====\n",
      "(Narrow nose[tiab] OR Decreased nasal width[tiab] OR  Decreased nasal breadth[tiab] OR  Narrow nose[tiab] OR  Thin nose[tiab]) AND ( variat*[tiab] or SNP[tiab] or allele*[tiab] or mutat*[tiab] or polymorphism*[tiab] or haplotype*[tiab] or SNPs[tiab] or genotype[tiab] or gene[tiab] or chromosome[tiab] or deletion[tiab] or indel[tiab] or insertion[tiab] or substitution[tiab] or transition[tiab] or transversion[tiab] or translocation[tiab] or CNV[tiab] or copy number variation[tiab] or SV[tiab] or chromosome structure variation[tiab]) NOT review[pt] AND English[LA] AND (\"1980/01/01\"[DP] : \"2023/4/1\"[DP])\n",
      "Retrieved article numbers：10\n"
     ]
    },
    {
     "name": "stderr",
     "output_type": "stream",
     "text": [
      " 23%|██▎       | 135/595 [06:41<40:01,  5.22s/it]"
     ]
    },
    {
     "name": "stdout",
     "output_type": "stream",
     "text": [
      "===== search term =====\n",
      "(Fractured nose[tiab] OR bone nose[tiab]) AND ( variat*[tiab] or SNP[tiab] or allele*[tiab] or mutat*[tiab] or polymorphism*[tiab] or haplotype*[tiab] or SNPs[tiab] or genotype[tiab] or gene[tiab] or chromosome[tiab] or deletion[tiab] or indel[tiab] or insertion[tiab] or substitution[tiab] or transition[tiab] or transversion[tiab] or translocation[tiab] or CNV[tiab] or copy number variation[tiab] or SV[tiab] or chromosome structure variation[tiab]) NOT review[pt] AND English[LA] AND (\"1980/01/01\"[DP] : \"2023/4/1\"[DP])\n",
      "Retrieved article numbers：19\n"
     ]
    },
    {
     "name": "stderr",
     "output_type": "stream",
     "text": [
      " 23%|██▎       | 136/595 [06:43<32:36,  4.26s/it]"
     ]
    },
    {
     "name": "stdout",
     "output_type": "stream",
     "text": [
      "===== search term =====\n",
      "(Slender nose[tiab] OR Slender nose[tiab]) AND ( variat*[tiab] or SNP[tiab] or allele*[tiab] or mutat*[tiab] or polymorphism*[tiab] or haplotype*[tiab] or SNPs[tiab] or genotype[tiab] or gene[tiab] or chromosome[tiab] or deletion[tiab] or indel[tiab] or insertion[tiab] or substitution[tiab] or transition[tiab] or transversion[tiab] or translocation[tiab] or CNV[tiab] or copy number variation[tiab] or SV[tiab] or chromosome structure variation[tiab]) NOT review[pt] AND English[LA] AND (\"1980/01/01\"[DP] : \"2023/4/1\"[DP])\n",
      "Retrieved article numbers：0\n"
     ]
    },
    {
     "name": "stderr",
     "output_type": "stream",
     "text": [
      " 23%|██▎       | 137/595 [06:45<27:40,  3.63s/it]"
     ]
    },
    {
     "name": "stdout",
     "output_type": "stream",
     "text": [
      "===== search term =====\n",
      "(Wide nose[tiab] OR Increased width of nose[tiab] OR  Wide nose[tiab] OR  Broad nose[tiab] OR  Increased breadth of nose[tiab] OR  Increased nasal breadth[tiab] OR  Increased nasal width[tiab]) AND ( variat*[tiab] or SNP[tiab] or allele*[tiab] or mutat*[tiab] or polymorphism*[tiab] or haplotype*[tiab] or SNPs[tiab] or genotype[tiab] or gene[tiab] or chromosome[tiab] or deletion[tiab] or indel[tiab] or insertion[tiab] or substitution[tiab] or transition[tiab] or transversion[tiab] or translocation[tiab] or CNV[tiab] or copy number variation[tiab] or SV[tiab] or chromosome structure variation[tiab]) NOT review[pt] AND English[LA] AND (\"1980/01/01\"[DP] : \"2023/4/1\"[DP])\n",
      "Retrieved article numbers：11\n"
     ]
    },
    {
     "name": "stderr",
     "output_type": "stream",
     "text": [
      " 23%|██▎       | 138/595 [06:48<26:20,  3.46s/it]"
     ]
    },
    {
     "name": "stdout",
     "output_type": "stream",
     "text": [
      "===== search term =====\n",
      "(Long nose[tiab] OR Long nose[tiab] OR  Increased nasal height[tiab] OR  Elongated nose[tiab] OR  Increased length of nose[tiab] OR  Increased height of nose[tiab] OR  Increased nasal length[tiab] OR  Nasal elongation[tiab]) AND ( variat*[tiab] or SNP[tiab] or allele*[tiab] or mutat*[tiab] or polymorphism*[tiab] or haplotype*[tiab] or SNPs[tiab] or genotype[tiab] or gene[tiab] or chromosome[tiab] or deletion[tiab] or indel[tiab] or insertion[tiab] or substitution[tiab] or transition[tiab] or transversion[tiab] or translocation[tiab] or CNV[tiab] or copy number variation[tiab] or SV[tiab] or chromosome structure variation[tiab]) NOT review[pt] AND English[LA] AND (\"1980/01/01\"[DP] : \"2023/4/1\"[DP])\n",
      "Retrieved article numbers：49\n"
     ]
    },
    {
     "name": "stderr",
     "output_type": "stream",
     "text": [
      " 23%|██▎       | 139/595 [06:51<26:04,  3.43s/it]"
     ]
    },
    {
     "name": "stdout",
     "output_type": "stream",
     "text": [
      "===== search term =====\n",
      "(Short nose[tiab] OR Shortened nose[tiab] OR  Short nose[tiab] OR  Hypoplastic nose[tiab] OR  Nasal hypoplasia[tiab] OR  Decreased length of nose[tiab] OR  Small nose[tiab]) AND ( variat*[tiab] or SNP[tiab] or allele*[tiab] or mutat*[tiab] or polymorphism*[tiab] or haplotype*[tiab] or SNPs[tiab] or genotype[tiab] or gene[tiab] or chromosome[tiab] or deletion[tiab] or indel[tiab] or insertion[tiab] or substitution[tiab] or transition[tiab] or transversion[tiab] or translocation[tiab] or CNV[tiab] or copy number variation[tiab] or SV[tiab] or chromosome structure variation[tiab]) NOT review[pt] AND English[LA] AND (\"1980/01/01\"[DP] : \"2023/4/1\"[DP])\n",
      "Retrieved article numbers：22\n"
     ]
    },
    {
     "name": "stderr",
     "output_type": "stream",
     "text": [
      " 24%|██▎       | 140/595 [06:54<24:32,  3.24s/it]"
     ]
    },
    {
     "name": "stdout",
     "output_type": "stream",
     "text": [
      "===== search term =====\n",
      "(Pear-shaped nose[tiab] OR Pear-shaped nose[tiab]) AND ( variat*[tiab] or SNP[tiab] or allele*[tiab] or mutat*[tiab] or polymorphism*[tiab] or haplotype*[tiab] or SNPs[tiab] or genotype[tiab] or gene[tiab] or chromosome[tiab] or deletion[tiab] or indel[tiab] or insertion[tiab] or substitution[tiab] or transition[tiab] or transversion[tiab] or translocation[tiab] or CNV[tiab] or copy number variation[tiab] or SV[tiab] or chromosome structure variation[tiab]) NOT review[pt] AND English[LA] AND (\"1980/01/01\"[DP] : \"2023/4/1\"[DP])\n",
      "Retrieved article numbers：139\n"
     ]
    },
    {
     "name": "stderr",
     "output_type": "stream",
     "text": [
      " 24%|██▎       | 141/595 [06:57<23:28,  3.10s/it]"
     ]
    },
    {
     "name": "stdout",
     "output_type": "stream",
     "text": [
      "===== search term =====\n",
      "(Abnormal nasopharyngeal adenoid morphology[tiab] OR   Abnormality of pharyngeal tonsil[tiab] OR  Abnormality of nasopharyngeal tonsil[tiab] OR  Abnormality of adenoids[tiab] OR  Abnormality of nasopharyngeal adenoids[tiab]) AND ( variat*[tiab] or SNP[tiab] or allele*[tiab] or mutat*[tiab] or polymorphism*[tiab] or haplotype*[tiab] or SNPs[tiab] or genotype[tiab] or gene[tiab] or chromosome[tiab] or deletion[tiab] or indel[tiab] or insertion[tiab] or substitution[tiab] or transition[tiab] or transversion[tiab] or translocation[tiab] or CNV[tiab] or copy number variation[tiab] or SV[tiab] or chromosome structure variation[tiab]) NOT review[pt] AND English[LA] AND (\"1980/01/01\"[DP] : \"2023/4/1\"[DP])\n",
      "Retrieved article numbers：16\n"
     ]
    },
    {
     "name": "stderr",
     "output_type": "stream",
     "text": [
      " 24%|██▍       | 142/595 [07:00<23:51,  3.16s/it]"
     ]
    },
    {
     "name": "stdout",
     "output_type": "stream",
     "text": [
      "===== search term =====\n",
      "(Recurrent upper respiratory tract infections[tiab] OR   Recurrent upper respiratory infection[tiab] OR  Recurrent colds[tiab] OR  \"Recurrent upper respiratory and lower respiratory infections\"[tiab] OR  Recurrent upper respiratory infections[tiab] OR  Frequent upper respiratory infections[tiab] OR  Recurrent URI[tiab] OR  Frequent upper respiratory tract infections[tiab] OR  Upper respiratory tract infections[tiab]) AND ( variat*[tiab] or SNP[tiab] or allele*[tiab] or mutat*[tiab] or polymorphism*[tiab] or haplotype*[tiab] or SNPs[tiab] or genotype[tiab] or gene[tiab] or chromosome[tiab] or deletion[tiab] or indel[tiab] or insertion[tiab] or substitution[tiab] or transition[tiab] or transversion[tiab] or translocation[tiab] or CNV[tiab] or copy number variation[tiab] or SV[tiab] or chromosome structure variation[tiab]) NOT review[pt] AND English[LA] AND (\"1980/01/01\"[DP] : \"2023/4/1\"[DP])\n",
      "Retrieved article numbers：0\n"
     ]
    },
    {
     "name": "stderr",
     "output_type": "stream",
     "text": [
      " 24%|██▍       | 143/595 [07:03<23:07,  3.07s/it]"
     ]
    },
    {
     "name": "stdout",
     "output_type": "stream",
     "text": [
      "===== search term =====\n",
      "(Neoplasia of the nasopharynx[tiab] OR  Tumour of the nasopharynx[tiab] OR  Neoplasm of the nasopharynx[tiab] OR  Nasopharyngeal neoplasm[tiab] OR  Tumor of the nasopharynx[tiab]) AND ( variat*[tiab] or SNP[tiab] or allele*[tiab] or mutat*[tiab] or polymorphism*[tiab] or haplotype*[tiab] or SNPs[tiab] or genotype[tiab] or gene[tiab] or chromosome[tiab] or deletion[tiab] or indel[tiab] or insertion[tiab] or substitution[tiab] or transition[tiab] or transversion[tiab] or translocation[tiab] or CNV[tiab] or copy number variation[tiab] or SV[tiab] or chromosome structure variation[tiab]) NOT review[pt] AND English[LA] AND (\"1980/01/01\"[DP] : \"2023/4/1\"[DP])\n",
      "Retrieved article numbers：221\n"
     ]
    },
    {
     "name": "stderr",
     "output_type": "stream",
     "text": [
      " 24%|██▍       | 144/595 [07:06<23:13,  3.09s/it]"
     ]
    },
    {
     "name": "stdout",
     "output_type": "stream",
     "text": [
      "===== search term =====\n",
      "(Abnormality nasal septum cartilage morphology[tiab] OR  Abnormality of cartilage of septum of nose[tiab] OR  Anomaly of cartilage of nasal septum[tiab] OR  Abnormality of cartilage of nasal septum[tiab] OR  Deformity of cartilage of nasal septum[tiab] OR  Malformation of cartilage of nasal septu[tiab]) AND ( variat*[tiab] or SNP[tiab] or allele*[tiab] or mutat*[tiab] or polymorphism*[tiab] or haplotype*[tiab] or SNPs[tiab] or genotype[tiab] or gene[tiab] or chromosome[tiab] or deletion[tiab] or indel[tiab] or insertion[tiab] or substitution[tiab] or transition[tiab] or transversion[tiab] or translocation[tiab] or CNV[tiab] or copy number variation[tiab] or SV[tiab] or chromosome structure variation[tiab]) NOT review[pt] AND English[LA] AND (\"1980/01/01\"[DP] : \"2023/4/1\"[DP])\n",
      "Retrieved article numbers：4\n"
     ]
    },
    {
     "name": "stderr",
     "output_type": "stream",
     "text": [
      " 24%|██▍       | 145/595 [07:10<25:34,  3.41s/it]"
     ]
    },
    {
     "name": "stdout",
     "output_type": "stream",
     "text": [
      "===== search term =====\n",
      "(Aplasia/Hypoplasia of the nasal septum[tiab] OR  Ageneis of nasal septum[tiab] OR  Underdevelopment of nasal septum[tiab] OR  Failure of development of nasal septum[tiab]) AND ( variat*[tiab] or SNP[tiab] or allele*[tiab] or mutat*[tiab] or polymorphism*[tiab] or haplotype*[tiab] or SNPs[tiab] or genotype[tiab] or gene[tiab] or chromosome[tiab] or deletion[tiab] or indel[tiab] or insertion[tiab] or substitution[tiab] or transition[tiab] or transversion[tiab] or translocation[tiab] or CNV[tiab] or copy number variation[tiab] or SV[tiab] or chromosome structure variation[tiab]) NOT review[pt] AND English[LA] AND (\"1980/01/01\"[DP] : \"2023/4/1\"[DP])\n",
      "Retrieved article numbers：0\n"
     ]
    },
    {
     "name": "stderr",
     "output_type": "stream",
     "text": [
      " 25%|██▍       | 146/595 [07:12<22:11,  2.96s/it]"
     ]
    },
    {
     "name": "stdout",
     "output_type": "stream",
     "text": [
      "===== search term =====\n",
      "(Prominent nasal septum[tiab] OR Prominent nasal septum[tiab] OR  Visible nasal septum[tiab] OR  Low hanging nasal septum[tiab] OR  Prominent septum of nose[tiab] OR  Visible septum of nose[tiab] OR  Low hanging septum of nose[tiab]) AND ( variat*[tiab] or SNP[tiab] or allele*[tiab] or mutat*[tiab] or polymorphism*[tiab] or haplotype*[tiab] or SNPs[tiab] or genotype[tiab] or gene[tiab] or chromosome[tiab] or deletion[tiab] or indel[tiab] or insertion[tiab] or substitution[tiab] or transition[tiab] or transversion[tiab] or translocation[tiab] or CNV[tiab] or copy number variation[tiab] or SV[tiab] or chromosome structure variation[tiab]) NOT review[pt] AND English[LA] AND (\"1980/01/01\"[DP] : \"2023/4/1\"[DP])\n",
      "Retrieved article numbers：0\n"
     ]
    },
    {
     "name": "stderr",
     "output_type": "stream",
     "text": [
      " 25%|██▍       | 147/595 [07:15<22:18,  2.99s/it]"
     ]
    },
    {
     "name": "stdout",
     "output_type": "stream",
     "text": [
      "===== search term =====\n",
      "(Thick nasal septum[tiab] OR Broad septum of nose[tiab] OR  Wide nasal septum[tiab] OR  Wide septum of nose[tiab] OR  Thick nasal septum[tiab] OR  Thick septum of nose[tiab] OR  Broad nasal septum[tiab]) AND ( variat*[tiab] or SNP[tiab] or allele*[tiab] or mutat*[tiab] or polymorphism*[tiab] or haplotype*[tiab] or SNPs[tiab] or genotype[tiab] or gene[tiab] or chromosome[tiab] or deletion[tiab] or indel[tiab] or insertion[tiab] or substitution[tiab] or transition[tiab] or transversion[tiab] or translocation[tiab] or CNV[tiab] or copy number variation[tiab] or SV[tiab] or chromosome structure variation[tiab]) NOT review[pt] AND English[LA] AND (\"1980/01/01\"[DP] : \"2023/4/1\"[DP])\n",
      "Retrieved article numbers：15\n"
     ]
    },
    {
     "name": "stderr",
     "output_type": "stream",
     "text": [
      " 25%|██▍       | 148/595 [07:18<21:18,  2.86s/it]"
     ]
    },
    {
     "name": "stdout",
     "output_type": "stream",
     "text": [
      "===== search term =====\n",
      "(Narrow nasal septum[tiab] OR Thin septum of nose[tiab] OR  Narrow nasal septum[tiab] OR  Decreased width of nasal septum[tiab] OR  Thin nasal septum[tiab] OR  Narrow septum of nose[tiab]) AND ( variat*[tiab] or SNP[tiab] or allele*[tiab] or mutat*[tiab] or polymorphism*[tiab] or haplotype*[tiab] or SNPs[tiab] or genotype[tiab] or gene[tiab] or chromosome[tiab] or deletion[tiab] or indel[tiab] or insertion[tiab] or substitution[tiab] or transition[tiab] or transversion[tiab] or translocation[tiab] or CNV[tiab] or copy number variation[tiab] or SV[tiab] or chromosome structure variation[tiab]) NOT review[pt] AND English[LA] AND (\"1980/01/01\"[DP] : \"2023/4/1\"[DP])\n",
      "Retrieved article numbers：39\n"
     ]
    },
    {
     "name": "stderr",
     "output_type": "stream",
     "text": [
      " 25%|██▌       | 149/595 [07:20<19:46,  2.66s/it]"
     ]
    },
    {
     "name": "stdout",
     "output_type": "stream",
     "text": [
      "===== search term =====\n",
      "(Nasal septum perforation[tiab] OR Perforation of the nasal septum[tiab] OR  Nasal-septum perforation[tiab]) AND ( variat*[tiab] or SNP[tiab] or allele*[tiab] or mutat*[tiab] or polymorphism*[tiab] or haplotype*[tiab] or SNPs[tiab] or genotype[tiab] or gene[tiab] or chromosome[tiab] or deletion[tiab] or indel[tiab] or insertion[tiab] or substitution[tiab] or transition[tiab] or transversion[tiab] or translocation[tiab] or CNV[tiab] or copy number variation[tiab] or SV[tiab] or chromosome structure variation[tiab]) NOT review[pt] AND English[LA] AND (\"1980/01/01\"[DP] : \"2023/4/1\"[DP])\n",
      "Retrieved article numbers：12\n"
     ]
    },
    {
     "name": "stderr",
     "output_type": "stream",
     "text": [
      " 25%|██▌       | 150/595 [07:23<19:44,  2.66s/it]"
     ]
    },
    {
     "name": "stdout",
     "output_type": "stream",
     "text": [
      "===== search term =====\n",
      "(Deviated nasal septum[tiab] OR Crooked nasal septum[tiab] OR  Deviated septum of nose[tiab] OR  Deviated nasal septum[tiab] OR  Crooked septum of nose[tiab]) AND ( variat*[tiab] or SNP[tiab] or allele*[tiab] or mutat*[tiab] or polymorphism*[tiab] or haplotype*[tiab] or SNPs[tiab] or genotype[tiab] or gene[tiab] or chromosome[tiab] or deletion[tiab] or indel[tiab] or insertion[tiab] or substitution[tiab] or transition[tiab] or transversion[tiab] or translocation[tiab] or CNV[tiab] or copy number variation[tiab] or SV[tiab] or chromosome structure variation[tiab]) NOT review[pt] AND English[LA] AND (\"1980/01/01\"[DP] : \"2023/4/1\"[DP])\n",
      "Retrieved article numbers：6\n"
     ]
    },
    {
     "name": "stderr",
     "output_type": "stream",
     "text": [
      " 25%|██▌       | 151/595 [07:25<18:10,  2.46s/it]"
     ]
    },
    {
     "name": "stdout",
     "output_type": "stream",
     "text": [
      "===== search term =====\n",
      "(Short nasal septum[tiab] OR Short septum of nose[tiab] OR  Decreased length of septum of nose[tiab] OR  Short nasal septum[tiab] OR  Decreased length of nasal septum[tiab]) AND ( variat*[tiab] or SNP[tiab] or allele*[tiab] or mutat*[tiab] or polymorphism*[tiab] or haplotype*[tiab] or SNPs[tiab] or genotype[tiab] or gene[tiab] or chromosome[tiab] or deletion[tiab] or indel[tiab] or insertion[tiab] or substitution[tiab] or transition[tiab] or transversion[tiab] or translocation[tiab] or CNV[tiab] or copy number variation[tiab] or SV[tiab] or chromosome structure variation[tiab]) NOT review[pt] AND English[LA] AND (\"1980/01/01\"[DP] : \"2023/4/1\"[DP])\n",
      "Retrieved article numbers：37\n"
     ]
    },
    {
     "name": "stderr",
     "output_type": "stream",
     "text": [
      " 26%|██▌       | 152/595 [07:27<17:16,  2.34s/it]"
     ]
    },
    {
     "name": "stdout",
     "output_type": "stream",
     "text": [
      "===== search term =====\n",
      "(Enlarged naris[tiab] OR  Increased diameter of nares[tiab] OR  Enlarged nares[tiab] OR  Wide nares[tiab] OR  Dilated nares[tiab] OR  Wide nostril[tiab] OR  Broad naris[tiab] OR  Large nares[tiab] OR  Increased width of nares[tiab] OR  Increased diameter of nostril[tiab] OR  Enlarged nostril[tiab] OR  Broad nostril[tiab] OR  Dilated nostril[tiab]) AND ( variat*[tiab] or SNP[tiab] or allele*[tiab] or mutat*[tiab] or polymorphism*[tiab] or haplotype*[tiab] or SNPs[tiab] or genotype[tiab] or gene[tiab] or chromosome[tiab] or deletion[tiab] or indel[tiab] or insertion[tiab] or substitution[tiab] or transition[tiab] or transversion[tiab] or translocation[tiab] or CNV[tiab] or copy number variation[tiab] or SV[tiab] or chromosome structure variation[tiab]) NOT review[pt] AND English[LA] AND (\"1980/01/01\"[DP] : \"2023/4/1\"[DP])\n",
      "Retrieved article numbers：2\n"
     ]
    },
    {
     "name": "stderr",
     "output_type": "stream",
     "text": [
      " 26%|██▌       | 153/595 [07:32<23:22,  3.17s/it]"
     ]
    },
    {
     "name": "stdout",
     "output_type": "stream",
     "text": [
      "===== search term =====\n",
      "(Narrow naris[tiab] OR Thin nostrils[tiab] OR  Narrow nostrils[tiab] OR  Slit-like naris[tiab] OR  Collapsed nostrils[tiab] OR  Narrow nares[tiab] OR  Thin nares[tiab] OR  Slit-like nostrils[tiab] OR  Small nostrils[tiab]) AND ( variat*[tiab] or SNP[tiab] or allele*[tiab] or mutat*[tiab] or polymorphism*[tiab] or haplotype*[tiab] or SNPs[tiab] or genotype[tiab] or gene[tiab] or chromosome[tiab] or deletion[tiab] or indel[tiab] or insertion[tiab] or substitution[tiab] or transition[tiab] or transversion[tiab] or translocation[tiab] or CNV[tiab] or copy number variation[tiab] or SV[tiab] or chromosome structure variation[tiab]) NOT review[pt] AND English[LA] AND (\"1980/01/01\"[DP] : \"2023/4/1\"[DP])\n",
      "Retrieved article numbers：105\n"
     ]
    },
    {
     "name": "stderr",
     "output_type": "stream",
     "text": [
      " 26%|██▌       | 154/595 [07:35<23:18,  3.17s/it]"
     ]
    },
    {
     "name": "stdout",
     "output_type": "stream",
     "text": [
      "===== search term =====\n",
      "(Asymmetry of the nares[tiab] OR Unequal nostril shape[tiab] OR  Uneven nostril size[tiab] OR  Unequal nostril size[tiab] OR  Uneven nostril shape[tiab] OR  Asymmetry of nostrils[tiab] OR  Crooked nostrils[tiab]) AND ( variat*[tiab] or SNP[tiab] or allele*[tiab] or mutat*[tiab] or polymorphism*[tiab] or haplotype*[tiab] or SNPs[tiab] or genotype[tiab] or gene[tiab] or chromosome[tiab] or deletion[tiab] or indel[tiab] or insertion[tiab] or substitution[tiab] or transition[tiab] or transversion[tiab] or translocation[tiab] or CNV[tiab] or copy number variation[tiab] or SV[tiab] or chromosome structure variation[tiab]) NOT review[pt] AND English[LA] AND (\"1980/01/01\"[DP] : \"2023/4/1\"[DP])\n",
      "Retrieved article numbers：33\n"
     ]
    },
    {
     "name": "stderr",
     "output_type": "stream",
     "text": [
      " 26%|██▌       | 155/595 [07:40<27:03,  3.69s/it]"
     ]
    },
    {
     "name": "stdout",
     "output_type": "stream",
     "text": [
      "===== search term =====\n",
      "(Absent nares[tiab] OR Abouphalia[tiab] OR  Aplasia/Hypoplasia of the nares[tiab] OR  Missing nostrils[tiab] OR  Aplasia of the nares[tiab]) AND ( variat*[tiab] or SNP[tiab] or allele*[tiab] or mutat*[tiab] or polymorphism*[tiab] or haplotype*[tiab] or SNPs[tiab] or genotype[tiab] or gene[tiab] or chromosome[tiab] or deletion[tiab] or indel[tiab] or insertion[tiab] or substitution[tiab] or transition[tiab] or transversion[tiab] or translocation[tiab] or CNV[tiab] or copy number variation[tiab] or SV[tiab] or chromosome structure variation[tiab]) NOT review[pt] AND English[LA] AND (\"1980/01/01\"[DP] : \"2023/4/1\"[DP])\n",
      "Retrieved article numbers：10\n"
     ]
    },
    {
     "name": "stderr",
     "output_type": "stream",
     "text": [
      " 26%|██▌       | 156/595 [13:00<12:01:59, 98.68s/it]"
     ]
    },
    {
     "name": "stdout",
     "output_type": "stream",
     "text": [
      "===== search term =====\n",
      "(Supernumerary naris[tiab] OR Extra nostril[tiab] OR  Accessory nostril[tiab] OR  Accessory nares[tiab] OR  Supernumerary nares[tiab] OR  Supernumerary nostrils[tiab]) AND ( variat*[tiab] or SNP[tiab] or allele*[tiab] or mutat*[tiab] or polymorphism*[tiab] or haplotype*[tiab] or SNPs[tiab] or genotype[tiab] or gene[tiab] or chromosome[tiab] or deletion[tiab] or indel[tiab] or insertion[tiab] or substitution[tiab] or transition[tiab] or transversion[tiab] or translocation[tiab] or CNV[tiab] or copy number variation[tiab] or SV[tiab] or chromosome structure variation[tiab]) NOT review[pt] AND English[LA] AND (\"1980/01/01\"[DP] : \"2023/4/1\"[DP])\n",
      "Retrieved article numbers：78\n"
     ]
    },
    {
     "name": "stderr",
     "output_type": "stream",
     "text": [
      " 26%|██▋       | 157/595 [13:06<8:36:22, 70.74s/it] "
     ]
    },
    {
     "name": "stdout",
     "output_type": "stream",
     "text": [
      "===== search term =====\n",
      "(Single naris[tiab] OR Single nostril[tiab] OR  Single nare[tiab] OR  One nostril[tiab] OR  Mono nostril[tiab]) AND ( variat*[tiab] or SNP[tiab] or allele*[tiab] or mutat*[tiab] or polymorphism*[tiab] or haplotype*[tiab] or SNPs[tiab] or genotype[tiab] or gene[tiab] or chromosome[tiab] or deletion[tiab] or indel[tiab] or insertion[tiab] or substitution[tiab] or transition[tiab] or transversion[tiab] or translocation[tiab] or CNV[tiab] or copy number variation[tiab] or SV[tiab] or chromosome structure variation[tiab]) NOT review[pt] AND English[LA] AND (\"1980/01/01\"[DP] : \"2023/4/1\"[DP])\n",
      "Retrieved article numbers：15\n"
     ]
    },
    {
     "name": "stderr",
     "output_type": "stream",
     "text": [
      " 27%|██▋       | 158/595 [13:08<6:04:39, 50.07s/it]"
     ]
    },
    {
     "name": "stdout",
     "output_type": "stream",
     "text": [
      "===== search term =====\n",
      "(Abnormality of the nasal bone[tiab] OR  Anomaly of the nasal bones[tiab] OR  Malformation of the nasal bones[tiab] OR  Abnormality of the nasal bone[tiab] OR  Deformity of the nasal bones[tiab]) AND ( variat*[tiab] or SNP[tiab] or allele*[tiab] or mutat*[tiab] or polymorphism*[tiab] or haplotype*[tiab] or SNPs[tiab] or genotype[tiab] or gene[tiab] or chromosome[tiab] or deletion[tiab] or indel[tiab] or insertion[tiab] or substitution[tiab] or transition[tiab] or transversion[tiab] or translocation[tiab] or CNV[tiab] or copy number variation[tiab] or SV[tiab] or chromosome structure variation[tiab]) NOT review[pt] AND English[LA] AND (\"1980/01/01\"[DP] : \"2023/4/1\"[DP])\n",
      "Retrieved article numbers：30\n"
     ]
    },
    {
     "name": "stderr",
     "output_type": "stream",
     "text": [
      " 27%|██▋       | 159/595 [13:13<4:27:19, 36.79s/it]"
     ]
    },
    {
     "name": "stdout",
     "output_type": "stream",
     "text": [
      "===== search term =====\n",
      "(Abnormality nasal septum cartilage morphology[tiab] OR  Abnormality of cartilage of septum of nose[tiab] OR  Anomaly of cartilage of nasal septum[tiab] OR  Abnormality of cartilage of nasal septum[tiab] OR  Deformity of cartilage of nasal septum[tiab] OR  Malformation of cartilage of nasal septum[tiab]) AND ( variat*[tiab] or SNP[tiab] or allele*[tiab] or mutat*[tiab] or polymorphism*[tiab] or haplotype*[tiab] or SNPs[tiab] or genotype[tiab] or gene[tiab] or chromosome[tiab] or deletion[tiab] or indel[tiab] or insertion[tiab] or substitution[tiab] or transition[tiab] or transversion[tiab] or translocation[tiab] or CNV[tiab] or copy number variation[tiab] or SV[tiab] or chromosome structure variation[tiab]) NOT review[pt] AND English[LA] AND (\"1980/01/01\"[DP] : \"2023/4/1\"[DP])\n",
      "Retrieved article numbers：66\n"
     ]
    },
    {
     "name": "stderr",
     "output_type": "stream",
     "text": [
      " 27%|██▋       | 160/595 [13:16<3:11:58, 26.48s/it]"
     ]
    },
    {
     "name": "stdout",
     "output_type": "stream",
     "text": [
      "===== search term =====\n",
      "(Choanal atresia[tiab] OR  Obstruction of the rear opening of the nasal cavity[tiab] OR  Blockage of the rear opening of the nasal cavity[tiab]) AND ( variat*[tiab] or SNP[tiab] or allele*[tiab] or mutat*[tiab] or polymorphism*[tiab] or haplotype*[tiab] or SNPs[tiab] or genotype[tiab] or gene[tiab] or chromosome[tiab] or deletion[tiab] or indel[tiab] or insertion[tiab] or substitution[tiab] or transition[tiab] or transversion[tiab] or translocation[tiab] or CNV[tiab] or copy number variation[tiab] or SV[tiab] or chromosome structure variation[tiab]) NOT review[pt] AND English[LA] AND (\"1980/01/01\"[DP] : \"2023/4/1\"[DP])\n",
      "Retrieved article numbers：0\n"
     ]
    },
    {
     "name": "stderr",
     "output_type": "stream",
     "text": [
      " 27%|██▋       | 161/595 [13:18<2:19:04, 19.23s/it]"
     ]
    },
    {
     "name": "stdout",
     "output_type": "stream",
     "text": [
      "===== search term =====\n",
      "(Choanal stenosis[tiab] OR  Coanal stenosis[tiab] OR  Narrowing of the rear opening of the nasal cavity[tiab]) AND ( variat*[tiab] or SNP[tiab] or allele*[tiab] or mutat*[tiab] or polymorphism*[tiab] or haplotype*[tiab] or SNPs[tiab] or genotype[tiab] or gene[tiab] or chromosome[tiab] or deletion[tiab] or indel[tiab] or insertion[tiab] or substitution[tiab] or transition[tiab] or transversion[tiab] or translocation[tiab] or CNV[tiab] or copy number variation[tiab] or SV[tiab] or chromosome structure variation[tiab]) NOT review[pt] AND English[LA] AND (\"1980/01/01\"[DP] : \"2023/4/1\"[DP])\n",
      "Retrieved article numbers：186\n"
     ]
    },
    {
     "name": "stderr",
     "output_type": "stream",
     "text": [
      " 27%|██▋       | 162/595 [13:20<1:42:10, 14.16s/it]"
     ]
    },
    {
     "name": "stdout",
     "output_type": "stream",
     "text": [
      "===== search term =====\n",
      "(Chronic rhinitis[tiab]) AND ( variat*[tiab] or SNP[tiab] or allele*[tiab] or mutat*[tiab] or polymorphism*[tiab] or haplotype*[tiab] or SNPs[tiab] or genotype[tiab] or gene[tiab] or chromosome[tiab] or deletion[tiab] or indel[tiab] or insertion[tiab] or substitution[tiab] or transition[tiab] or transversion[tiab] or translocation[tiab] or CNV[tiab] or copy number variation[tiab] or SV[tiab] or chromosome structure variation[tiab]) NOT review[pt] AND English[LA] AND (\"1980/01/01\"[DP] : \"2023/4/1\"[DP])\n",
      "Retrieved article numbers：15\n"
     ]
    },
    {
     "name": "stderr",
     "output_type": "stream",
     "text": [
      " 27%|██▋       | 163/595 [13:22<1:15:07, 10.43s/it]"
     ]
    },
    {
     "name": "stdout",
     "output_type": "stream",
     "text": [
      "===== search term =====\n",
      "(Allergic rhinitis[tiab] OR Nasal allergies[tiab] OR  Hayfever[tiab] OR  Hay fever[tiab]) AND ( variat*[tiab] or SNP[tiab] or allele*[tiab] or mutat*[tiab] or polymorphism*[tiab] or haplotype*[tiab] or SNPs[tiab] or genotype[tiab] or gene[tiab] or chromosome[tiab] or deletion[tiab] or indel[tiab] or insertion[tiab] or substitution[tiab] or transition[tiab] or transversion[tiab] or translocation[tiab] or CNV[tiab] or copy number variation[tiab] or SV[tiab] or chromosome structure variation[tiab]) NOT review[pt] AND English[LA] AND (\"1980/01/01\"[DP] : \"2023/4/1\"[DP])\n",
      "Retrieved article numbers：24\n"
     ]
    },
    {
     "name": "stderr",
     "output_type": "stream",
     "text": [
      " 28%|██▊       | 164/595 [13:29<1:07:52,  9.45s/it]"
     ]
    },
    {
     "name": "stdout",
     "output_type": "stream",
     "text": [
      "===== search term =====\n",
      "(Nasal mucosa telangiectasia[tiab] OR Spider veins of mucous membrane of nose[tiab] OR  Angioectasia of mucous membrane of nose[tiab] OR  Telangiectasia of mucosa of nose[tiab] OR  Spider veins of nasal mucous membrane[tiab] OR  Telangiectasia of mucous membrane of nose[tiab] OR  Nasal mucous membrane telangiectasia[tiab] OR  Angioectasia of mucosa of nose[tiab] OR  Spider veins of mucosa of nose[tiab] OR  Angioectasia of nasal mucous membrane[tiab] OR  Telangiectasia of nasal mucous membrane[tiab]) AND ( variat*[tiab] or SNP[tiab] or allele*[tiab] or mutat*[tiab] or polymorphism*[tiab] or haplotype*[tiab] or SNPs[tiab] or genotype[tiab] or gene[tiab] or chromosome[tiab] or deletion[tiab] or indel[tiab] or insertion[tiab] or substitution[tiab] or transition[tiab] or transversion[tiab] or translocation[tiab] or CNV[tiab] or copy number variation[tiab] or SV[tiab] or chromosome structure variation[tiab]) NOT review[pt] AND English[LA] AND (\"1980/01/01\"[DP] : \"2023/4/1\"[DP])\n",
      "Retrieved article numbers：1359\n"
     ]
    },
    {
     "name": "stderr",
     "output_type": "stream",
     "text": [
      " 28%|██▊       | 165/595 [13:31<52:00,  7.26s/it]  "
     ]
    },
    {
     "name": "stdout",
     "output_type": "stream",
     "text": [
      "===== search term =====\n",
      "(Nasal dryness[tiab]) AND ( variat*[tiab] or SNP[tiab] or allele*[tiab] or mutat*[tiab] or polymorphism*[tiab] or haplotype*[tiab] or SNPs[tiab] or genotype[tiab] or gene[tiab] or chromosome[tiab] or deletion[tiab] or indel[tiab] or insertion[tiab] or substitution[tiab] or transition[tiab] or transversion[tiab] or translocation[tiab] or CNV[tiab] or copy number variation[tiab] or SV[tiab] or chromosome structure variation[tiab]) NOT review[pt] AND English[LA] AND (\"1980/01/01\"[DP] : \"2023/4/1\"[DP])\n",
      "Retrieved article numbers：10\n"
     ]
    },
    {
     "name": "stderr",
     "output_type": "stream",
     "text": [
      " 28%|██▊       | 166/595 [13:33<40:22,  5.65s/it]"
     ]
    },
    {
     "name": "stdout",
     "output_type": "stream",
     "text": [
      "===== search term =====\n",
      "(Nasal polyposis[tiab] OR Polyposis nasi[tiab] OR  Polys of nose[tiab] OR  Nasal polyps[tiab]) AND ( variat*[tiab] or SNP[tiab] or allele*[tiab] or mutat*[tiab] or polymorphism*[tiab] or haplotype*[tiab] or SNPs[tiab] or genotype[tiab] or gene[tiab] or chromosome[tiab] or deletion[tiab] or indel[tiab] or insertion[tiab] or substitution[tiab] or transition[tiab] or transversion[tiab] or translocation[tiab] or CNV[tiab] or copy number variation[tiab] or SV[tiab] or chromosome structure variation[tiab]) NOT review[pt] AND English[LA] AND (\"1980/01/01\"[DP] : \"2023/4/1\"[DP])\n",
      "Retrieved article numbers：2\n"
     ]
    },
    {
     "name": "stderr",
     "output_type": "stream",
     "text": [
      " 28%|██▊       | 167/595 [13:35<32:31,  4.56s/it]"
     ]
    },
    {
     "name": "stdout",
     "output_type": "stream",
     "text": [
      "===== search term =====\n",
      "(Nasal ulcer[tiab]) AND ( variat*[tiab] or SNP[tiab] or allele*[tiab] or mutat*[tiab] or polymorphism*[tiab] or haplotype*[tiab] or SNPs[tiab] or genotype[tiab] or gene[tiab] or chromosome[tiab] or deletion[tiab] or indel[tiab] or insertion[tiab] or substitution[tiab] or transition[tiab] or transversion[tiab] or translocation[tiab] or CNV[tiab] or copy number variation[tiab] or SV[tiab] or chromosome structure variation[tiab]) NOT review[pt] AND English[LA] AND (\"1980/01/01\"[DP] : \"2023/4/1\"[DP])\n",
      "Retrieved article numbers：677\n"
     ]
    },
    {
     "name": "stderr",
     "output_type": "stream",
     "text": [
      " 28%|██▊       | 168/595 [13:37<26:55,  3.78s/it]"
     ]
    },
    {
     "name": "stdout",
     "output_type": "stream",
     "text": [
      "===== search term =====\n",
      "( Abnormality of the midnasal cavity[tiab]) AND ( variat*[tiab] or SNP[tiab] or allele*[tiab] or mutat*[tiab] or polymorphism*[tiab] or haplotype*[tiab] or SNPs[tiab] or genotype[tiab] or gene[tiab] or chromosome[tiab] or deletion[tiab] or indel[tiab] or insertion[tiab] or substitution[tiab] or transition[tiab] or transversion[tiab] or translocation[tiab] or CNV[tiab] or copy number variation[tiab] or SV[tiab] or chromosome structure variation[tiab]) NOT review[pt] AND English[LA] AND (\"1980/01/01\"[DP] : \"2023/4/1\"[DP])\n",
      "Retrieved article numbers：0\n"
     ]
    },
    {
     "name": "stderr",
     "output_type": "stream",
     "text": [
      " 28%|██▊       | 169/595 [13:43<31:02,  4.37s/it]"
     ]
    },
    {
     "name": "stdout",
     "output_type": "stream",
     "text": [
      "===== search term =====\n",
      "( Prominent nasolabial fold[tiab] OR Deep laugh lines[tiab] OR  Prominent nasolabial groove[tiab] OR  Prominent laugh lines[tiab] OR  Deep nasolabial fold[tiab] OR  Prominent nasolabial crease[tiab] OR  Deep smile lines[tiab] OR  Deep nasolabial crease[tiab] OR  Deep nasolabial groove[tiab] OR  Prominent smile lines[tiab]) AND ( variat*[tiab] or SNP[tiab] or allele*[tiab] or mutat*[tiab] or polymorphism*[tiab] or haplotype*[tiab] or SNPs[tiab] or genotype[tiab] or gene[tiab] or chromosome[tiab] or deletion[tiab] or indel[tiab] or insertion[tiab] or substitution[tiab] or transition[tiab] or transversion[tiab] or translocation[tiab] or CNV[tiab] or copy number variation[tiab] or SV[tiab] or chromosome structure variation[tiab]) NOT review[pt] AND English[LA] AND (\"1980/01/01\"[DP] : \"2023/4/1\"[DP])\n",
      "Retrieved article numbers：0\n"
     ]
    },
    {
     "name": "stderr",
     "output_type": "stream",
     "text": [
      " 29%|██▊       | 170/595 [13:50<36:43,  5.19s/it]"
     ]
    },
    {
     "name": "stdout",
     "output_type": "stream",
     "text": [
      "===== search term =====\n",
      "( Underdeveloped nasolabial fold[tiab] OR  Underdeveloped nasolabial crease[tiab] OR  Hypoplastic nasolabial fold[tiab] OR  Shallow nasolabial fold[tiab] OR  Hypoplastic nasolabial crease[tiab] OR  Flat nasolabial fold[tiab]) AND ( variat*[tiab] or SNP[tiab] or allele*[tiab] or mutat*[tiab] or polymorphism*[tiab] or haplotype*[tiab] or SNPs[tiab] or genotype[tiab] or gene[tiab] or chromosome[tiab] or deletion[tiab] or indel[tiab] or insertion[tiab] or substitution[tiab] or transition[tiab] or transversion[tiab] or translocation[tiab] or CNV[tiab] or copy number variation[tiab] or SV[tiab] or chromosome structure variation[tiab]) NOT review[pt] AND English[LA] AND (\"1980/01/01\"[DP] : \"2023/4/1\"[DP])\n",
      "Retrieved article numbers：3\n"
     ]
    },
    {
     "name": "stderr",
     "output_type": "stream",
     "text": [
      " 29%|██▊       | 171/595 [13:58<43:00,  6.09s/it]"
     ]
    },
    {
     "name": "stdout",
     "output_type": "stream",
     "text": [
      "===== search term =====\n",
      "( Wide nasal base[tiab] OR Broad base of nose[tiab] OR  Broad nasal base[tiab] OR  Increased width of nasal base[tiab] OR  Wide base of nose[tiab] OR  Wide nasal base[tiab] OR  Increased width of base of nose[tiab]) AND ( variat*[tiab] or SNP[tiab] or allele*[tiab] or mutat*[tiab] or polymorphism*[tiab] or haplotype*[tiab] or SNPs[tiab] or genotype[tiab] or gene[tiab] or chromosome[tiab] or deletion[tiab] or indel[tiab] or insertion[tiab] or substitution[tiab] or transition[tiab] or transversion[tiab] or translocation[tiab] or CNV[tiab] or copy number variation[tiab] or SV[tiab] or chromosome structure variation[tiab]) NOT review[pt] AND English[LA] AND (\"1980/01/01\"[DP] : \"2023/4/1\"[DP])\n",
      "Retrieved article numbers：0\n"
     ]
    },
    {
     "name": "stderr",
     "output_type": "stream",
     "text": [
      " 29%|██▉       | 172/595 [19:15<11:40:23, 99.35s/it]"
     ]
    },
    {
     "name": "stdout",
     "output_type": "stream",
     "text": [
      "===== search term =====\n",
      "( Narrow nasal base[tiab] OR Thin nasal base[tiab] OR  Narrow nasal base[tiab] OR  Thin base of nose[tiab] OR  Decreased width of base of nose[tiab] OR  Decreased width of nasal base[tiab] OR  Narrow base of nose[tiab]) AND ( variat*[tiab] or SNP[tiab] or allele*[tiab] or mutat*[tiab] or polymorphism*[tiab] or haplotype*[tiab] or SNPs[tiab] or genotype[tiab] or gene[tiab] or chromosome[tiab] or deletion[tiab] or indel[tiab] or insertion[tiab] or substitution[tiab] or transition[tiab] or transversion[tiab] or translocation[tiab] or CNV[tiab] or copy number variation[tiab] or SV[tiab] or chromosome structure variation[tiab]) NOT review[pt] AND English[LA] AND (\"1980/01/01\"[DP] : \"2023/4/1\"[DP])\n",
      "Retrieved article numbers：10\n"
     ]
    },
    {
     "name": "stderr",
     "output_type": "stream",
     "text": [
      " 29%|██▉       | 173/595 [19:18<8:15:04, 70.39s/it] "
     ]
    },
    {
     "name": "stdout",
     "output_type": "stream",
     "text": [
      "===== search term =====\n",
      "( Spontaneous recurrent epistaxis[tiab] OR Spontaneous recurrent nosebleed[tiab] OR  Recurring nosebleed[tiab] OR  Recurrent epistaxes[tiab] OR  Recurrent epistaxis[tiab]) AND ( variat*[tiab] or SNP[tiab] or allele*[tiab] or mutat*[tiab] or polymorphism*[tiab] or haplotype*[tiab] or SNPs[tiab] or genotype[tiab] or gene[tiab] or chromosome[tiab] or deletion[tiab] or indel[tiab] or insertion[tiab] or substitution[tiab] or transition[tiab] or transversion[tiab] or translocation[tiab] or CNV[tiab] or copy number variation[tiab] or SV[tiab] or chromosome structure variation[tiab]) NOT review[pt] AND English[LA] AND (\"1980/01/01\"[DP] : \"2023/4/1\"[DP])\n",
      "Retrieved article numbers：2\n"
     ]
    },
    {
     "name": "stderr",
     "output_type": "stream",
     "text": [
      " 29%|██▉       | 174/595 [19:20<5:50:35, 49.96s/it]"
     ]
    },
    {
     "name": "stdout",
     "output_type": "stream",
     "text": [
      "===== search term =====\n",
      "( Abnormality of muscle of facial expression[tiab] OR   Abnormality of musculature of facial expression[tiab] OR  Abnormality of muscle of facial expression[tiab]) AND ( variat*[tiab] or SNP[tiab] or allele*[tiab] or mutat*[tiab] or polymorphism*[tiab] or haplotype*[tiab] or SNPs[tiab] or genotype[tiab] or gene[tiab] or chromosome[tiab] or deletion[tiab] or indel[tiab] or insertion[tiab] or substitution[tiab] or transition[tiab] or transversion[tiab] or translocation[tiab] or CNV[tiab] or copy number variation[tiab] or SV[tiab] or chromosome structure variation[tiab]) NOT review[pt] AND English[LA] AND (\"1980/01/01\"[DP] : \"2023/4/1\"[DP])\n",
      "Retrieved article numbers：51\n"
     ]
    },
    {
     "name": "stderr",
     "output_type": "stream",
     "text": [
      " 29%|██▉       | 175/595 [19:23<4:09:25, 35.63s/it]"
     ]
    },
    {
     "name": "stdout",
     "output_type": "stream",
     "text": [
      "===== search term =====\n",
      "( Weakness of facial musculature[tiab] OR  Decreased strength of facial muscles[tiab] OR  Face weakness[tiab] OR  Facial weakness[tiab] OR  Myasthenia of facial muscles[tiab] OR  Reduced facial muscle strength[tiab] OR  Decreased facial muscle strength[tiab] OR  Weakness of facial musculature[tiab] OR  Facial muscle weakness[tiab] OR  Weakness of face[tiab]) AND ( variat*[tiab] or SNP[tiab] or allele*[tiab] or mutat*[tiab] or polymorphism*[tiab] or haplotype*[tiab] or SNPs[tiab] or genotype[tiab] or gene[tiab] or chromosome[tiab] or deletion[tiab] or indel[tiab] or insertion[tiab] or substitution[tiab] or transition[tiab] or transversion[tiab] or translocation[tiab] or CNV[tiab] or copy number variation[tiab] or SV[tiab] or chromosome structure variation[tiab]) NOT review[pt] AND English[LA] AND (\"1980/01/01\"[DP] : \"2023/4/1\"[DP])\n",
      "Retrieved article numbers：1\n"
     ]
    },
    {
     "name": "stderr",
     "output_type": "stream",
     "text": [
      " 30%|██▉       | 176/595 [19:25<2:58:52, 25.61s/it]"
     ]
    },
    {
     "name": "stdout",
     "output_type": "stream",
     "text": [
      "===== search term =====\n",
      "( Abnormality of jaw muscles[tiab] OR  Abnormality of jaw muscles[tiab]) AND ( variat*[tiab] or SNP[tiab] or allele*[tiab] or mutat*[tiab] or polymorphism*[tiab] or haplotype*[tiab] or SNPs[tiab] or genotype[tiab] or gene[tiab] or chromosome[tiab] or deletion[tiab] or indel[tiab] or insertion[tiab] or substitution[tiab] or transition[tiab] or transversion[tiab] or translocation[tiab] or CNV[tiab] or copy number variation[tiab] or SV[tiab] or chromosome structure variation[tiab]) NOT review[pt] AND English[LA] AND (\"1980/01/01\"[DP] : \"2023/4/1\"[DP])\n",
      "Retrieved article numbers：163\n"
     ]
    },
    {
     "name": "stderr",
     "output_type": "stream",
     "text": [
      " 30%|██▉       | 177/595 [19:27<2:08:50, 18.49s/it]"
     ]
    },
    {
     "name": "stdout",
     "output_type": "stream",
     "text": [
      "===== search term =====\n",
      "( Abnormality of nasal musculature[tiab] OR  Abnormality of musculature of the nose[tiab] OR  Abnormality of muscle of nose[tiab] OR  Abnormality of nasal musculature[tiab]) AND ( variat*[tiab] or SNP[tiab] or allele*[tiab] or mutat*[tiab] or polymorphism*[tiab] or haplotype*[tiab] or SNPs[tiab] or genotype[tiab] or gene[tiab] or chromosome[tiab] or deletion[tiab] or indel[tiab] or insertion[tiab] or substitution[tiab] or transition[tiab] or transversion[tiab] or translocation[tiab] or CNV[tiab] or copy number variation[tiab] or SV[tiab] or chromosome structure variation[tiab]) NOT review[pt] AND English[LA] AND (\"1980/01/01\"[DP] : \"2023/4/1\"[DP])\n",
      "Retrieved article numbers：2\n"
     ]
    },
    {
     "name": "stderr",
     "output_type": "stream",
     "text": [
      " 30%|██▉       | 178/595 [19:29<1:33:43, 13.48s/it]"
     ]
    },
    {
     "name": "stdout",
     "output_type": "stream",
     "text": [
      "===== search term =====\n",
      "( Facial hypotonia[tiab] OR Low facial muscle tone[tiab] OR  Decreased facial muscle tone[tiab] OR  Atony of facial musculature[tiab] OR  Reduced facial muscle tone[tiab] OR  Hypotonic facies[tiab]) AND ( variat*[tiab] or SNP[tiab] or allele*[tiab] or mutat*[tiab] or polymorphism*[tiab] or haplotype*[tiab] or SNPs[tiab] or genotype[tiab] or gene[tiab] or chromosome[tiab] or deletion[tiab] or indel[tiab] or insertion[tiab] or substitution[tiab] or transition[tiab] or transversion[tiab] or translocation[tiab] or CNV[tiab] or copy number variation[tiab] or SV[tiab] or chromosome structure variation[tiab]) NOT review[pt] AND English[LA] AND (\"1980/01/01\"[DP] : \"2023/4/1\"[DP])\n",
      "Retrieved article numbers：0\n"
     ]
    },
    {
     "name": "stderr",
     "output_type": "stream",
     "text": [
      " 30%|███       | 179/595 [19:30<1:09:13,  9.98s/it]"
     ]
    },
    {
     "name": "stdout",
     "output_type": "stream",
     "text": [
      "===== search term =====\n",
      "( Abnormality of platysma[tiab] OR Abnormality of the platysma muscle[tiab]) AND ( variat*[tiab] or SNP[tiab] or allele*[tiab] or mutat*[tiab] or polymorphism*[tiab] or haplotype*[tiab] or SNPs[tiab] or genotype[tiab] or gene[tiab] or chromosome[tiab] or deletion[tiab] or indel[tiab] or insertion[tiab] or substitution[tiab] or transition[tiab] or transversion[tiab] or translocation[tiab] or CNV[tiab] or copy number variation[tiab] or SV[tiab] or chromosome structure variation[tiab]) NOT review[pt] AND English[LA] AND (\"1980/01/01\"[DP] : \"2023/4/1\"[DP])\n",
      "Retrieved article numbers：9\n"
     ]
    },
    {
     "name": "stderr",
     "output_type": "stream",
     "text": [
      " 30%|███       | 180/595 [19:33<52:52,  7.64s/it]  "
     ]
    },
    {
     "name": "stdout",
     "output_type": "stream",
     "text": [
      "===== search term =====\n",
      "( Hypoplasia of facial musculature[tiab] OR Hypotrophic facial musculature[tiab] OR  Small facial muscles[tiab] OR  Underdevelopment of facial muscles[tiab] OR  Atrophy of facial musculature[tiab] OR  Decreased size of facial muscles[tiab] OR  Deficiency of facial musculature[tiab]) AND ( variat*[tiab] or SNP[tiab] or allele*[tiab] or mutat*[tiab] or polymorphism*[tiab] or haplotype*[tiab] or SNPs[tiab] or genotype[tiab] or gene[tiab] or chromosome[tiab] or deletion[tiab] or indel[tiab] or insertion[tiab] or substitution[tiab] or transition[tiab] or transversion[tiab] or translocation[tiab] or CNV[tiab] or copy number variation[tiab] or SV[tiab] or chromosome structure variation[tiab]) NOT review[pt] AND English[LA] AND (\"1980/01/01\"[DP] : \"2023/4/1\"[DP])\n",
      "Retrieved article numbers：4\n"
     ]
    },
    {
     "name": "stderr",
     "output_type": "stream",
     "text": [
      " 30%|███       | 181/595 [19:38<47:26,  6.88s/it]"
     ]
    },
    {
     "name": "stdout",
     "output_type": "stream",
     "text": [
      "===== search term =====\n",
      "( Spasticity of facial muscles[tiab] OR Incrased stiffness of facial muscles[tiab] OR  Increased tone of facial muscles[tiab] OR  Spasticity of the facial muscles[tiab]) AND ( variat*[tiab] or SNP[tiab] or allele*[tiab] or mutat*[tiab] or polymorphism*[tiab] or haplotype*[tiab] or SNPs[tiab] or genotype[tiab] or gene[tiab] or chromosome[tiab] or deletion[tiab] or indel[tiab] or insertion[tiab] or substitution[tiab] or transition[tiab] or transversion[tiab] or translocation[tiab] or CNV[tiab] or copy number variation[tiab] or SV[tiab] or chromosome structure variation[tiab]) NOT review[pt] AND English[LA] AND (\"1980/01/01\"[DP] : \"2023/4/1\"[DP])\n",
      "Retrieved article numbers：11\n"
     ]
    },
    {
     "name": "stderr",
     "output_type": "stream",
     "text": [
      " 31%|███       | 182/595 [19:40<38:14,  5.56s/it]"
     ]
    },
    {
     "name": "stdout",
     "output_type": "stream",
     "text": [
      "===== search term =====\n",
      "( Facial muscle hypertrophy[tiab] OR Large facial muscles[tiab] OR  Hyperplasia of facial muscles[tiab] OR  Increased size of facial muscles[tiab]) AND ( variat*[tiab] or SNP[tiab] or allele*[tiab] or mutat*[tiab] or polymorphism*[tiab] or haplotype*[tiab] or SNPs[tiab] or genotype[tiab] or gene[tiab] or chromosome[tiab] or deletion[tiab] or indel[tiab] or insertion[tiab] or substitution[tiab] or transition[tiab] or transversion[tiab] or translocation[tiab] or CNV[tiab] or copy number variation[tiab] or SV[tiab] or chromosome structure variation[tiab]) NOT review[pt] AND English[LA] AND (\"1980/01/01\"[DP] : \"2023/4/1\"[DP])\n",
      "Retrieved article numbers：0\n"
     ]
    },
    {
     "name": "stderr",
     "output_type": "stream",
     "text": [
      " 31%|███       | 183/595 [19:42<31:34,  4.60s/it]"
     ]
    },
    {
     "name": "stdout",
     "output_type": "stream",
     "text": [
      "===== search term =====\n",
      "( Facial myokymia[tiab] OR Involuntary facial contraction[tiab] OR  Involuntary facial quivering[tiab]) AND ( variat*[tiab] or SNP[tiab] or allele*[tiab] or mutat*[tiab] or polymorphism*[tiab] or haplotype*[tiab] or SNPs[tiab] or genotype[tiab] or gene[tiab] or chromosome[tiab] or deletion[tiab] or indel[tiab] or insertion[tiab] or substitution[tiab] or transition[tiab] or transversion[tiab] or translocation[tiab] or CNV[tiab] or copy number variation[tiab] or SV[tiab] or chromosome structure variation[tiab]) NOT review[pt] AND English[LA] AND (\"1980/01/01\"[DP] : \"2023/4/1\"[DP])\n",
      "Retrieved article numbers：29\n"
     ]
    },
    {
     "name": "stderr",
     "output_type": "stream",
     "text": [
      " 31%|███       | 184/595 [19:46<29:16,  4.27s/it]"
     ]
    },
    {
     "name": "stdout",
     "output_type": "stream",
     "text": [
      "===== search term =====\n",
      "( Hypomimic face[tiab] OR Hypomimia[tiab] OR  Dull facial expression[tiab] OR  Decreased facial muscle movement[tiab] OR  Decreased facial expressions[tiab]) AND ( variat*[tiab] or SNP[tiab] or allele*[tiab] or mutat*[tiab] or polymorphism*[tiab] or haplotype*[tiab] or SNPs[tiab] or genotype[tiab] or gene[tiab] or chromosome[tiab] or deletion[tiab] or indel[tiab] or insertion[tiab] or substitution[tiab] or transition[tiab] or transversion[tiab] or translocation[tiab] or CNV[tiab] or copy number variation[tiab] or SV[tiab] or chromosome structure variation[tiab]) NOT review[pt] AND English[LA] AND (\"1980/01/01\"[DP] : \"2023/4/1\"[DP])\n",
      "Retrieved article numbers：19\n"
     ]
    },
    {
     "name": "stderr",
     "output_type": "stream",
     "text": [
      " 31%|███       | 185/595 [19:50<27:52,  4.08s/it]"
     ]
    },
    {
     "name": "stdout",
     "output_type": "stream",
     "text": [
      "===== search term =====\n",
      "( Facial capillary hemangioma[tiab]) AND ( variat*[tiab] or SNP[tiab] or allele*[tiab] or mutat*[tiab] or polymorphism*[tiab] or haplotype*[tiab] or SNPs[tiab] or genotype[tiab] or gene[tiab] or chromosome[tiab] or deletion[tiab] or indel[tiab] or insertion[tiab] or substitution[tiab] or transition[tiab] or transversion[tiab] or translocation[tiab] or CNV[tiab] or copy number variation[tiab] or SV[tiab] or chromosome structure variation[tiab]) NOT review[pt] AND English[LA] AND (\"1980/01/01\"[DP] : \"2023/4/1\"[DP])\n",
      "Retrieved article numbers：43\n"
     ]
    },
    {
     "name": "stderr",
     "output_type": "stream",
     "text": [
      " 31%|███▏      | 186/595 [19:54<28:01,  4.11s/it]"
     ]
    },
    {
     "name": "stdout",
     "output_type": "stream",
     "text": [
      "===== search term =====\n",
      "( Plaque-like facial hemangioma[tiab]) AND ( variat*[tiab] or SNP[tiab] or allele*[tiab] or mutat*[tiab] or polymorphism*[tiab] or haplotype*[tiab] or SNPs[tiab] or genotype[tiab] or gene[tiab] or chromosome[tiab] or deletion[tiab] or indel[tiab] or insertion[tiab] or substitution[tiab] or transition[tiab] or transversion[tiab] or translocation[tiab] or CNV[tiab] or copy number variation[tiab] or SV[tiab] or chromosome structure variation[tiab]) NOT review[pt] AND English[LA] AND (\"1980/01/01\"[DP] : \"2023/4/1\"[DP])\n",
      "Retrieved article numbers：0\n"
     ]
    },
    {
     "name": "stderr",
     "output_type": "stream",
     "text": [
      " 31%|███▏      | 187/595 [19:56<24:45,  3.64s/it]"
     ]
    },
    {
     "name": "stdout",
     "output_type": "stream",
     "text": [
      "===== search term =====\n",
      "( Facial midline hemangioma[tiab]) AND ( variat*[tiab] or SNP[tiab] or allele*[tiab] or mutat*[tiab] or polymorphism*[tiab] or haplotype*[tiab] or SNPs[tiab] or genotype[tiab] or gene[tiab] or chromosome[tiab] or deletion[tiab] or indel[tiab] or insertion[tiab] or substitution[tiab] or transition[tiab] or transversion[tiab] or translocation[tiab] or CNV[tiab] or copy number variation[tiab] or SV[tiab] or chromosome structure variation[tiab]) NOT review[pt] AND English[LA] AND (\"1980/01/01\"[DP] : \"2023/4/1\"[DP])\n",
      "Retrieved article numbers：0\n"
     ]
    },
    {
     "name": "stderr",
     "output_type": "stream",
     "text": [
      " 32%|███▏      | 188/595 [20:01<25:47,  3.80s/it]"
     ]
    },
    {
     "name": "stdout",
     "output_type": "stream",
     "text": [
      "===== search term =====\n",
      "( Periorbital edema[tiab] OR   Periorbital oedema[tiab] OR  Periorbital cellulitis[tiab]) AND ( variat*[tiab] or SNP[tiab] or allele*[tiab] or mutat*[tiab] or polymorphism*[tiab] or haplotype*[tiab] or SNPs[tiab] or genotype[tiab] or gene[tiab] or chromosome[tiab] or deletion[tiab] or indel[tiab] or insertion[tiab] or substitution[tiab] or transition[tiab] or transversion[tiab] or translocation[tiab] or CNV[tiab] or copy number variation[tiab] or SV[tiab] or chromosome structure variation[tiab]) NOT review[pt] AND English[LA] AND (\"1980/01/01\"[DP] : \"2023/4/1\"[DP])\n",
      "Retrieved article numbers：0\n"
     ]
    },
    {
     "name": "stderr",
     "output_type": "stream",
     "text": [
      " 32%|███▏      | 189/595 [20:04<25:48,  3.82s/it]"
     ]
    },
    {
     "name": "stdout",
     "output_type": "stream",
     "text": [
      "===== search term =====\n",
      "( Loss of facial adipose tissue[tiab] OR  Decreased amount of facial fat[tiab] OR  Loss of facial subcutaneous adipose tissue[tiab] OR  Loss of facial fat[tiab] OR  Loss of subcutaneous adipose tissue from face[tiab] OR  Decreased volume of facial adipose tissue[tiab] OR  Decreased amount of facial adipose tissue[tiab]) AND ( variat*[tiab] or SNP[tiab] or allele*[tiab] or mutat*[tiab] or polymorphism*[tiab] or haplotype*[tiab] or SNPs[tiab] or genotype[tiab] or gene[tiab] or chromosome[tiab] or deletion[tiab] or indel[tiab] or insertion[tiab] or substitution[tiab] or transition[tiab] or transversion[tiab] or translocation[tiab] or CNV[tiab] or copy number variation[tiab] or SV[tiab] or chromosome structure variation[tiab]) NOT review[pt] AND English[LA] AND (\"1980/01/01\"[DP] : \"2023/4/1\"[DP])\n",
      "Retrieved article numbers：50\n"
     ]
    },
    {
     "name": "stderr",
     "output_type": "stream",
     "text": [
      " 32%|███▏      | 190/595 [20:07<22:37,  3.35s/it]"
     ]
    },
    {
     "name": "stdout",
     "output_type": "stream",
     "text": [
      "===== search term =====\n",
      "( Increased facial adipose tissue[tiab] OR Facial fat hypertrophy[tiab] OR  Increased amount of facial fat[tiab] OR  Facial fat hyperplasia[tiab] OR  Hyperplasia of facial adipose tissue[tiab] OR  Increased amount of facial adipose tissue[tiab] OR  Increased volume of facial adipose tissue[tiab] OR  Hypertrophy of facial adipose tissue[tiab]) AND ( variat*[tiab] or SNP[tiab] or allele*[tiab] or mutat*[tiab] or polymorphism*[tiab] or haplotype*[tiab] or SNPs[tiab] or genotype[tiab] or gene[tiab] or chromosome[tiab] or deletion[tiab] or indel[tiab] or insertion[tiab] or substitution[tiab] or transition[tiab] or transversion[tiab] or translocation[tiab] or CNV[tiab] or copy number variation[tiab] or SV[tiab] or chromosome structure variation[tiab]) NOT review[pt] AND English[LA] AND (\"1980/01/01\"[DP] : \"2023/4/1\"[DP])\n",
      "Retrieved article numbers：7\n"
     ]
    },
    {
     "name": "stderr",
     "output_type": "stream",
     "text": [
      " 32%|███▏      | 191/595 [20:09<20:37,  3.06s/it]"
     ]
    },
    {
     "name": "stdout",
     "output_type": "stream",
     "text": [
      "===== search term =====\n",
      "( Frontalis muscle weakness[tiab] OR  Weakness of forehead muscle[tiab] OR  Weak frontalis muscle[tiab]) AND ( variat*[tiab] or SNP[tiab] or allele*[tiab] or mutat*[tiab] or polymorphism*[tiab] or haplotype*[tiab] or SNPs[tiab] or genotype[tiab] or gene[tiab] or chromosome[tiab] or deletion[tiab] or indel[tiab] or insertion[tiab] or substitution[tiab] or transition[tiab] or transversion[tiab] or translocation[tiab] or CNV[tiab] or copy number variation[tiab] or SV[tiab] or chromosome structure variation[tiab]) NOT review[pt] AND English[LA] AND (\"1980/01/01\"[DP] : \"2023/4/1\"[DP])\n",
      "Retrieved article numbers：1\n"
     ]
    },
    {
     "name": "stderr",
     "output_type": "stream",
     "text": [
      " 32%|███▏      | 192/595 [20:11<19:00,  2.83s/it]"
     ]
    },
    {
     "name": "stdout",
     "output_type": "stream",
     "text": [
      "===== search term =====\n",
      "(High anterior hairline[tiab] OR   High frontal hairline[tiab]) AND ( variat*[tiab] or SNP[tiab] or allele*[tiab] or mutat*[tiab] or polymorphism*[tiab] or haplotype*[tiab] or SNPs[tiab] or genotype[tiab] or gene[tiab] or chromosome[tiab] or deletion[tiab] or indel[tiab] or insertion[tiab] or substitution[tiab] or transition[tiab] or transversion[tiab] or translocation[tiab] or CNV[tiab] or copy number variation[tiab] or SV[tiab] or chromosome structure variation[tiab]) NOT review[pt] AND English[LA] AND (\"1980/01/01\"[DP] : \"2023/4/1\"[DP])\n",
      "Retrieved article numbers：0\n"
     ]
    },
    {
     "name": "stderr",
     "output_type": "stream",
     "text": [
      " 32%|███▏      | 193/595 [20:13<17:17,  2.58s/it]"
     ]
    },
    {
     "name": "stdout",
     "output_type": "stream",
     "text": [
      "===== search term =====\n",
      "( Low anterior hairline[tiab] OR   Low-set frontal hairline[tiab] OR  Low frontal hairline[tiab]) AND ( variat*[tiab] or SNP[tiab] or allele*[tiab] or mutat*[tiab] or polymorphism*[tiab] or haplotype*[tiab] or SNPs[tiab] or genotype[tiab] or gene[tiab] or chromosome[tiab] or deletion[tiab] or indel[tiab] or insertion[tiab] or substitution[tiab] or transition[tiab] or transversion[tiab] or translocation[tiab] or CNV[tiab] or copy number variation[tiab] or SV[tiab] or chromosome structure variation[tiab]) NOT review[pt] AND English[LA] AND (\"1980/01/01\"[DP] : \"2023/4/1\"[DP])\n",
      "Retrieved article numbers：14\n"
     ]
    },
    {
     "name": "stderr",
     "output_type": "stream",
     "text": [
      " 33%|███▎      | 194/595 [20:16<17:20,  2.59s/it]"
     ]
    },
    {
     "name": "stdout",
     "output_type": "stream",
     "text": [
      "===== search term =====\n",
      "( Extension of hair growth on temples to lateral eyebrow[tiab] OR  Unusual hairline with hair growth on temples extending to lateral eyebrow[tiab]) AND ( variat*[tiab] or SNP[tiab] or allele*[tiab] or mutat*[tiab] or polymorphism*[tiab] or haplotype*[tiab] or SNPs[tiab] or genotype[tiab] or gene[tiab] or chromosome[tiab] or deletion[tiab] or indel[tiab] or insertion[tiab] or substitution[tiab] or transition[tiab] or transversion[tiab] or translocation[tiab] or CNV[tiab] or copy number variation[tiab] or SV[tiab] or chromosome structure variation[tiab]) NOT review[pt] AND English[LA] AND (\"1980/01/01\"[DP] : \"2023/4/1\"[DP])\n",
      "Retrieved article numbers：22\n"
     ]
    },
    {
     "name": "stderr",
     "output_type": "stream",
     "text": [
      " 33%|███▎      | 195/595 [20:18<16:12,  2.43s/it]"
     ]
    },
    {
     "name": "stdout",
     "output_type": "stream",
     "text": [
      "===== search term =====\n",
      "( Sparse anterior scalp hair[tiab] OR Sparse scalp hair at front of head[tiab] OR  Thin scalp hair at front of head[tiab]) AND ( variat*[tiab] or SNP[tiab] or allele*[tiab] or mutat*[tiab] or polymorphism*[tiab] or haplotype*[tiab] or SNPs[tiab] or genotype[tiab] or gene[tiab] or chromosome[tiab] or deletion[tiab] or indel[tiab] or insertion[tiab] or substitution[tiab] or transition[tiab] or transversion[tiab] or translocation[tiab] or CNV[tiab] or copy number variation[tiab] or SV[tiab] or chromosome structure variation[tiab]) NOT review[pt] AND English[LA] AND (\"1980/01/01\"[DP] : \"2023/4/1\"[DP])\n",
      "Retrieved article numbers：0\n"
     ]
    },
    {
     "name": "stderr",
     "output_type": "stream",
     "text": [
      " 33%|███▎      | 196/595 [20:21<16:25,  2.47s/it]"
     ]
    },
    {
     "name": "stdout",
     "output_type": "stream",
     "text": [
      "===== search term =====\n",
      "( Prominent glabella[tiab] OR Hyperplasia of glabella[tiab] OR  Convex glabella[tiab] OR  Protruding area between the eyebrows[tiab] OR  Prominent area between the eyebrows[tiab]) AND ( variat*[tiab] or SNP[tiab] or allele*[tiab] or mutat*[tiab] or polymorphism*[tiab] or haplotype*[tiab] or SNPs[tiab] or genotype[tiab] or gene[tiab] or chromosome[tiab] or deletion[tiab] or indel[tiab] or insertion[tiab] or substitution[tiab] or transition[tiab] or transversion[tiab] or translocation[tiab] or CNV[tiab] or copy number variation[tiab] or SV[tiab] or chromosome structure variation[tiab]) NOT review[pt] AND English[LA] AND (\"1980/01/01\"[DP] : \"2023/4/1\"[DP])\n",
      "Retrieved article numbers：2\n"
     ]
    },
    {
     "name": "stderr",
     "output_type": "stream",
     "text": [
      " 33%|███▎      | 197/595 [20:23<16:37,  2.51s/it]"
     ]
    },
    {
     "name": "stdout",
     "output_type": "stream",
     "text": [
      "===== search term =====\n",
      "( Depressed glabella[tiab] OR Flat area between the eyebrows[tiab] OR  Flat glabella[tiab] OR  Deficient area between the eyebrows[tiab] OR  Concave glabella[tiab] OR  Deficiency of glabella[tiab] OR  Hypoplasia of glabella[tiab]) AND ( variat*[tiab] or SNP[tiab] or allele*[tiab] or mutat*[tiab] or polymorphism*[tiab] or haplotype*[tiab] or SNPs[tiab] or genotype[tiab] or gene[tiab] or chromosome[tiab] or deletion[tiab] or indel[tiab] or insertion[tiab] or substitution[tiab] or transition[tiab] or transversion[tiab] or translocation[tiab] or CNV[tiab] or copy number variation[tiab] or SV[tiab] or chromosome structure variation[tiab]) NOT review[pt] AND English[LA] AND (\"1980/01/01\"[DP] : \"2023/4/1\"[DP])\n",
      "Retrieved article numbers：26\n"
     ]
    },
    {
     "name": "stderr",
     "output_type": "stream",
     "text": [
      " 33%|███▎      | 198/595 [20:25<16:01,  2.42s/it]"
     ]
    },
    {
     "name": "stdout",
     "output_type": "stream",
     "text": [
      "===== search term =====\n",
      "( Metopic depression[tiab] OR Depression of metopic cranial suture[tiab] OR  Depression of frontal cranial suture[tiab] OR  Frontal suture depression[tiab]) AND ( variat*[tiab] or SNP[tiab] or allele*[tiab] or mutat*[tiab] or polymorphism*[tiab] or haplotype*[tiab] or SNPs[tiab] or genotype[tiab] or gene[tiab] or chromosome[tiab] or deletion[tiab] or indel[tiab] or insertion[tiab] or substitution[tiab] or transition[tiab] or transversion[tiab] or translocation[tiab] or CNV[tiab] or copy number variation[tiab] or SV[tiab] or chromosome structure variation[tiab]) NOT review[pt] AND English[LA] AND (\"1980/01/01\"[DP] : \"2023/4/1\"[DP])\n",
      "Retrieved article numbers：29\n"
     ]
    },
    {
     "name": "stderr",
     "output_type": "stream",
     "text": [
      " 33%|███▎      | 199/595 [20:27<14:35,  2.21s/it]"
     ]
    },
    {
     "name": "stdout",
     "output_type": "stream",
     "text": [
      "===== search term =====\n",
      "( Metopic synostosis[tiab] OR  Metopic suture craniosynostosis[tiab] OR  Metopic craniosynostosis[tiab]) AND ( variat*[tiab] or SNP[tiab] or allele*[tiab] or mutat*[tiab] or polymorphism*[tiab] or haplotype*[tiab] or SNPs[tiab] or genotype[tiab] or gene[tiab] or chromosome[tiab] or deletion[tiab] or indel[tiab] or insertion[tiab] or substitution[tiab] or transition[tiab] or transversion[tiab] or translocation[tiab] or CNV[tiab] or copy number variation[tiab] or SV[tiab] or chromosome structure variation[tiab]) NOT review[pt] AND English[LA] AND (\"1980/01/01\"[DP] : \"2023/4/1\"[DP])\n",
      "Retrieved article numbers：3\n"
     ]
    },
    {
     "name": "stderr",
     "output_type": "stream",
     "text": [
      " 34%|███▎      | 200/595 [20:29<13:33,  2.06s/it]"
     ]
    },
    {
     "name": "stdout",
     "output_type": "stream",
     "text": [
      "===== search term =====\n",
      "( Prominent metopic ridge[tiab] OR Prominent frontal suture[tiab] OR  Prominent metopic suture[tiab] OR  Prominent frontal ridge[tiab] OR  Ridging of metopic suture[tiab] OR  Ridging of frontal suture[tiab]) AND ( variat*[tiab] or SNP[tiab] or allele*[tiab] or mutat*[tiab] or polymorphism*[tiab] or haplotype*[tiab] or SNPs[tiab] or genotype[tiab] or gene[tiab] or chromosome[tiab] or deletion[tiab] or indel[tiab] or insertion[tiab] or substitution[tiab] or transition[tiab] or transversion[tiab] or translocation[tiab] or CNV[tiab] or copy number variation[tiab] or SV[tiab] or chromosome structure variation[tiab]) NOT review[pt] AND English[LA] AND (\"1980/01/01\"[DP] : \"2023/4/1\"[DP])\n",
      "Retrieved article numbers：65\n"
     ]
    },
    {
     "name": "stderr",
     "output_type": "stream",
     "text": [
      " 34%|███▍      | 201/595 [20:31<13:21,  2.03s/it]"
     ]
    },
    {
     "name": "stdout",
     "output_type": "stream",
     "text": [
      "===== search term =====\n",
      "( Metopic suture patent to nasal root[tiab]) AND ( variat*[tiab] or SNP[tiab] or allele*[tiab] or mutat*[tiab] or polymorphism*[tiab] or haplotype*[tiab] or SNPs[tiab] or genotype[tiab] or gene[tiab] or chromosome[tiab] or deletion[tiab] or indel[tiab] or insertion[tiab] or substitution[tiab] or transition[tiab] or transversion[tiab] or translocation[tiab] or CNV[tiab] or copy number variation[tiab] or SV[tiab] or chromosome structure variation[tiab]) NOT review[pt] AND English[LA] AND (\"1980/01/01\"[DP] : \"2023/4/1\"[DP])\n",
      "Retrieved article numbers：18\n"
     ]
    },
    {
     "name": "stderr",
     "output_type": "stream",
     "text": [
      " 34%|███▍      | 202/595 [20:33<13:34,  2.07s/it]"
     ]
    },
    {
     "name": "stdout",
     "output_type": "stream",
     "text": [
      "===== search term =====\n",
      "( Hemifacial atrophy[tiab] OR Atrophy of half of face[tiab] OR  Atrophy of one side of the face[tiab] OR  Facial hemiatrophy[tiab]) AND ( variat*[tiab] or SNP[tiab] or allele*[tiab] or mutat*[tiab] or polymorphism*[tiab] or haplotype*[tiab] or SNPs[tiab] or genotype[tiab] or gene[tiab] or chromosome[tiab] or deletion[tiab] or indel[tiab] or insertion[tiab] or substitution[tiab] or transition[tiab] or transversion[tiab] or translocation[tiab] or CNV[tiab] or copy number variation[tiab] or SV[tiab] or chromosome structure variation[tiab]) NOT review[pt] AND English[LA] AND (\"1980/01/01\"[DP] : \"2023/4/1\"[DP])\n",
      "Retrieved article numbers：0\n"
     ]
    },
    {
     "name": "stderr",
     "output_type": "stream",
     "text": [
      " 34%|███▍      | 203/595 [20:36<14:40,  2.25s/it]"
     ]
    },
    {
     "name": "stdout",
     "output_type": "stream",
     "text": [
      "===== search term =====\n",
      "( Hemifacial hypoplasia[tiab] OR Decrease in size of half of face[tiab] OR  Shrinking of one side of the face[tiab] OR  Decrease in size of one side of the face[tiab] OR  Decreased size of one side of the face[tiab] OR  Hemifacial microsomia[tiab] OR  Decreased size of half of the face[tiab] OR  Shrinking of half of face[tiab]) AND ( variat*[tiab] or SNP[tiab] or allele*[tiab] or mutat*[tiab] or polymorphism*[tiab] or haplotype*[tiab] or SNPs[tiab] or genotype[tiab] or gene[tiab] or chromosome[tiab] or deletion[tiab] or indel[tiab] or insertion[tiab] or substitution[tiab] or transition[tiab] or transversion[tiab] or translocation[tiab] or CNV[tiab] or copy number variation[tiab] or SV[tiab] or chromosome structure variation[tiab]) NOT review[pt] AND English[LA] AND (\"1980/01/01\"[DP] : \"2023/4/1\"[DP])\n",
      "Retrieved article numbers：8\n"
     ]
    },
    {
     "name": "stderr",
     "output_type": "stream",
     "text": [
      " 34%|███▍      | 204/595 [20:39<16:25,  2.52s/it]"
     ]
    },
    {
     "name": "stdout",
     "output_type": "stream",
     "text": [
      "===== search term =====\n",
      "( Hemifacial hypertrophy[tiab] OR Facial hemihypertophy[tiab] OR  Overgrowth of half of face[tiab] OR  Increase in size of half of face[tiab] OR  Enlargement of half of face[tiab] OR  Friedreich's disease[tiab] OR  Hemifacial enlargement[tiab] OR  Facial hemihyperplasia[tiab] OR  Hypertrophy of half of face[tiab]) AND ( variat*[tiab] or SNP[tiab] or allele*[tiab] or mutat*[tiab] or polymorphism*[tiab] or haplotype*[tiab] or SNPs[tiab] or genotype[tiab] or gene[tiab] or chromosome[tiab] or deletion[tiab] or indel[tiab] or insertion[tiab] or substitution[tiab] or transition[tiab] or transversion[tiab] or translocation[tiab] or CNV[tiab] or copy number variation[tiab] or SV[tiab] or chromosome structure variation[tiab]) NOT review[pt] AND English[LA] AND (\"1980/01/01\"[DP] : \"2023/4/1\"[DP])\n",
      "Retrieved article numbers：105\n"
     ]
    },
    {
     "name": "stderr",
     "output_type": "stream",
     "text": [
      " 34%|███▍      | 205/595 [20:40<14:53,  2.29s/it]"
     ]
    },
    {
     "name": "stdout",
     "output_type": "stream",
     "text": [
      "===== search term =====\n",
      "( Craniofacial asymmetry[tiab] OR Abnormality of craniofacial shape[tiab] OR  Malformation of craniofacial shape[tiab] OR  Uneven craniofacial structures[tiab]) AND ( variat*[tiab] or SNP[tiab] or allele*[tiab] or mutat*[tiab] or polymorphism*[tiab] or haplotype*[tiab] or SNPs[tiab] or genotype[tiab] or gene[tiab] or chromosome[tiab] or deletion[tiab] or indel[tiab] or insertion[tiab] or substitution[tiab] or transition[tiab] or transversion[tiab] or translocation[tiab] or CNV[tiab] or copy number variation[tiab] or SV[tiab] or chromosome structure variation[tiab]) NOT review[pt] AND English[LA] AND (\"1980/01/01\"[DP] : \"2023/4/1\"[DP])\n",
      "Retrieved article numbers：12\n"
     ]
    },
    {
     "name": "stderr",
     "output_type": "stream",
     "text": [
      " 35%|███▍      | 206/595 [20:42<13:49,  2.13s/it]"
     ]
    },
    {
     "name": "stdout",
     "output_type": "stream",
     "text": [
      "===== search term =====\n",
      "( Asymmetric crying face[tiab] OR Partial unilateral facial paresis[tiab] OR  Hypoplasia of depressor angula oris muscle[tiab] OR  Asymmetric crying face[tiab]) AND ( variat*[tiab] or SNP[tiab] or allele*[tiab] or mutat*[tiab] or polymorphism*[tiab] or haplotype*[tiab] or SNPs[tiab] or genotype[tiab] or gene[tiab] or chromosome[tiab] or deletion[tiab] or indel[tiab] or insertion[tiab] or substitution[tiab] or transition[tiab] or transversion[tiab] or translocation[tiab] or CNV[tiab] or copy number variation[tiab] or SV[tiab] or chromosome structure variation[tiab]) NOT review[pt] AND English[LA] AND (\"1980/01/01\"[DP] : \"2023/4/1\"[DP])\n",
      "Retrieved article numbers：35\n"
     ]
    },
    {
     "name": "stderr",
     "output_type": "stream",
     "text": [
      " 35%|███▍      | 207/595 [20:44<13:06,  2.03s/it]"
     ]
    },
    {
     "name": "stdout",
     "output_type": "stream",
     "text": [
      "===== search term =====\n",
      "( Broad face[tiab] OR Broad facies[tiab] OR  Horizontal excess of face[tiab] OR  Increased breadth of face[tiab] OR  Horizontal hyperplasia of face[tiab] OR  Broad face[tiab] OR  Wide facies[tiab] OR  Increased horizontal dimension of face[tiab] OR  Transverse excess of face[tiab] OR  Increased width of face[tiab] OR  Wide face[tiab] OR  Increased transverse dimension of face[tiab] OR  Transverse hyperplasia of face[tiab]) AND ( variat*[tiab] or SNP[tiab] or allele*[tiab] or mutat*[tiab] or polymorphism*[tiab] or haplotype*[tiab] or SNPs[tiab] or genotype[tiab] or gene[tiab] or chromosome[tiab] or deletion[tiab] or indel[tiab] or insertion[tiab] or substitution[tiab] or transition[tiab] or transversion[tiab] or translocation[tiab] or CNV[tiab] or copy number variation[tiab] or SV[tiab] or chromosome structure variation[tiab]) NOT review[pt] AND English[LA] AND (\"1980/01/01\"[DP] : \"2023/4/1\"[DP])\n",
      "Retrieved article numbers：5\n"
     ]
    },
    {
     "name": "stderr",
     "output_type": "stream",
     "text": [
      " 35%|███▍      | 208/595 [20:47<14:55,  2.31s/it]"
     ]
    },
    {
     "name": "stdout",
     "output_type": "stream",
     "text": [
      "===== search term =====\n",
      "( Long face[tiab] OR Vertical Facial Excess[tiab] OR  Long face[tiab] OR  Vertical overgrowth of face[tiab] OR  Increased vertical dimension of face[tiab] OR  Vertical enlargement of face[tiab] OR  Vertical hyperplasia of face[tiab] OR  Increased height of face[tiab] OR  Long facies[tiab] OR  Increased length of face[tiab] OR  Elongation of face[tiab] OR  Vertical excess of face[tiab] OR  Vertical elongation of face[tiab]) AND ( variat*[tiab] or SNP[tiab] or allele*[tiab] or mutat*[tiab] or polymorphism*[tiab] or haplotype*[tiab] or SNPs[tiab] or genotype[tiab] or gene[tiab] or chromosome[tiab] or deletion[tiab] or indel[tiab] or insertion[tiab] or substitution[tiab] or transition[tiab] or transversion[tiab] or translocation[tiab] or CNV[tiab] or copy number variation[tiab] or SV[tiab] or chromosome structure variation[tiab]) NOT review[pt] AND English[LA] AND (\"1980/01/01\"[DP] : \"2023/4/1\"[DP])\n",
      "Retrieved article numbers：114\n"
     ]
    },
    {
     "name": "stderr",
     "output_type": "stream",
     "text": [
      " 35%|███▌      | 209/595 [20:49<14:23,  2.24s/it]"
     ]
    },
    {
     "name": "stdout",
     "output_type": "stream",
     "text": [
      "===== search term =====\n",
      "( Narrow face[tiab] OR Horizontal hypoplasia of face[tiab] OR  Decreased horizontal dimension of face[tiab] OR  Narrow facies[tiab] OR  Horizontal deficiency of face[tiab] OR  Transverse insufficiency of face[tiab] OR  Transverse hypoplasia of face[tiab] OR  Thin facies[tiab] OR  Narrow face[tiab] OR  Decreased transverse dimension of face[tiab] OR  Decreased breadth of face[tiab] OR  Horizontal insufficiency of face[tiab] OR  Decreased width of face[tiab] OR  Thin face[tiab] OR  Transverse deficiency of face[tiab]) AND ( variat*[tiab] or SNP[tiab] or allele*[tiab] or mutat*[tiab] or polymorphism*[tiab] or haplotype*[tiab] or SNPs[tiab] or genotype[tiab] or gene[tiab] or chromosome[tiab] or deletion[tiab] or indel[tiab] or insertion[tiab] or substitution[tiab] or transition[tiab] or transversion[tiab] or translocation[tiab] or CNV[tiab] or copy number variation[tiab] or SV[tiab] or chromosome structure variation[tiab]) NOT review[pt] AND English[LA] AND (\"1980/01/01\"[DP] : \"2023/4/1\"[DP])\n",
      "Retrieved article numbers：171\n"
     ]
    },
    {
     "name": "stderr",
     "output_type": "stream",
     "text": [
      " 35%|███▌      | 210/595 [20:51<14:17,  2.23s/it]"
     ]
    },
    {
     "name": "stdout",
     "output_type": "stream",
     "text": [
      "===== search term =====\n",
      "( Short face[tiab] OR Vertical facial insufficiency[tiab] OR  Decreased vertical dimension of face[tiab] OR  Vertical shortening of face[tiab] OR  Short face[tiab] OR  Decreased height of face[tiab] OR  Vertical Facial Deficiency[tiab] OR  Short facies[tiab] OR  Decreased length of face[tiab] OR  Vertical insufficiency of face[tiab] OR  Vertical hypoplasia of face[tiab] OR  Vertical deficiency of face[tiab]) AND ( variat*[tiab] or SNP[tiab] or allele*[tiab] or mutat*[tiab] or polymorphism*[tiab] or haplotype*[tiab] or SNPs[tiab] or genotype[tiab] or gene[tiab] or chromosome[tiab] or deletion[tiab] or indel[tiab] or insertion[tiab] or substitution[tiab] or transition[tiab] or transversion[tiab] or translocation[tiab] or CNV[tiab] or copy number variation[tiab] or SV[tiab] or chromosome structure variation[tiab]) NOT review[pt] AND English[LA] AND (\"1980/01/01\"[DP] : \"2023/4/1\"[DP])\n",
      "Retrieved article numbers：83\n"
     ]
    },
    {
     "name": "stderr",
     "output_type": "stream",
     "text": [
      " 35%|███▌      | 211/595 [20:53<13:42,  2.14s/it]"
     ]
    },
    {
     "name": "stdout",
     "output_type": "stream",
     "text": [
      "===== search term =====\n",
      "( Pugilistic facies[tiab] OR Boxer-like facial appearance[tiab] OR  Pugilistic facial appearance[tiab]) AND ( variat*[tiab] or SNP[tiab] or allele*[tiab] or mutat*[tiab] or polymorphism*[tiab] or haplotype*[tiab] or SNPs[tiab] or genotype[tiab] or gene[tiab] or chromosome[tiab] or deletion[tiab] or indel[tiab] or insertion[tiab] or substitution[tiab] or transition[tiab] or transversion[tiab] or translocation[tiab] or CNV[tiab] or copy number variation[tiab] or SV[tiab] or chromosome structure variation[tiab]) NOT review[pt] AND English[LA] AND (\"1980/01/01\"[DP] : \"2023/4/1\"[DP])\n",
      "Retrieved article numbers：184\n"
     ]
    },
    {
     "name": "stderr",
     "output_type": "stream",
     "text": [
      " 36%|███▌      | 212/595 [20:56<15:27,  2.42s/it]"
     ]
    },
    {
     "name": "stdout",
     "output_type": "stream",
     "text": [
      "===== search term =====\n",
      "( Potter facies[tiab]) AND ( variat*[tiab] or SNP[tiab] or allele*[tiab] or mutat*[tiab] or polymorphism*[tiab] or haplotype*[tiab] or SNPs[tiab] or genotype[tiab] or gene[tiab] or chromosome[tiab] or deletion[tiab] or indel[tiab] or insertion[tiab] or substitution[tiab] or transition[tiab] or transversion[tiab] or translocation[tiab] or CNV[tiab] or copy number variation[tiab] or SV[tiab] or chromosome structure variation[tiab]) NOT review[pt] AND English[LA] AND (\"1980/01/01\"[DP] : \"2023/4/1\"[DP])\n",
      "Retrieved article numbers：648\n"
     ]
    },
    {
     "name": "stderr",
     "output_type": "stream",
     "text": [
      " 36%|███▌      | 213/595 [20:59<15:30,  2.44s/it]"
     ]
    },
    {
     "name": "stdout",
     "output_type": "stream",
     "text": [
      "===== search term =====\n",
      "( Abnormality of periauricular region[tiab] OR  Anomaly of the periauricular region[tiab] OR  Deformity of the periauricular region[tiab] OR  Malformation of the periauricular region[tiab] OR  Abnormality of the region around the ear[tiab]) AND ( variat*[tiab] or SNP[tiab] or allele*[tiab] or mutat*[tiab] or polymorphism*[tiab] or haplotype*[tiab] or SNPs[tiab] or genotype[tiab] or gene[tiab] or chromosome[tiab] or deletion[tiab] or indel[tiab] or insertion[tiab] or substitution[tiab] or transition[tiab] or transversion[tiab] or translocation[tiab] or CNV[tiab] or copy number variation[tiab] or SV[tiab] or chromosome structure variation[tiab]) NOT review[pt] AND English[LA] AND (\"1980/01/01\"[DP] : \"2023/4/1\"[DP])\n",
      "Retrieved article numbers：4\n"
     ]
    },
    {
     "name": "stderr",
     "output_type": "stream",
     "text": [
      " 36%|███▌      | 214/595 [21:01<14:37,  2.30s/it]"
     ]
    },
    {
     "name": "stdout",
     "output_type": "stream",
     "text": [
      "===== search term =====\n",
      "( Abnormality of buccal mucosa[tiab] OR  Abnormality of inside lining of cheek[tiab] OR  Abnormality of cheek mucosa[tiab]) AND ( variat*[tiab] or SNP[tiab] or allele*[tiab] or mutat*[tiab] or polymorphism*[tiab] or haplotype*[tiab] or SNPs[tiab] or genotype[tiab] or gene[tiab] or chromosome[tiab] or deletion[tiab] or indel[tiab] or insertion[tiab] or substitution[tiab] or transition[tiab] or transversion[tiab] or translocation[tiab] or CNV[tiab] or copy number variation[tiab] or SV[tiab] or chromosome structure variation[tiab]) NOT review[pt] AND English[LA] AND (\"1980/01/01\"[DP] : \"2023/4/1\"[DP])\n",
      "Retrieved article numbers：1\n"
     ]
    },
    {
     "name": "stderr",
     "output_type": "stream",
     "text": [
      " 36%|███▌      | 215/595 [21:03<13:34,  2.14s/it]"
     ]
    },
    {
     "name": "stdout",
     "output_type": "stream",
     "text": [
      "===== search term =====\n",
      "( Sunken cheeks[tiab] OR Sunken cheeks[tiab] OR  Hollow cheeks[tiab] OR  Depressed cheeks[tiab]) AND ( variat*[tiab] or SNP[tiab] or allele*[tiab] or mutat*[tiab] or polymorphism*[tiab] or haplotype*[tiab] or SNPs[tiab] or genotype[tiab] or gene[tiab] or chromosome[tiab] or deletion[tiab] or indel[tiab] or insertion[tiab] or substitution[tiab] or transition[tiab] or transversion[tiab] or translocation[tiab] or CNV[tiab] or copy number variation[tiab] or SV[tiab] or chromosome structure variation[tiab]) NOT review[pt] AND English[LA] AND (\"1980/01/01\"[DP] : \"2023/4/1\"[DP])\n",
      "Retrieved article numbers：0\n"
     ]
    },
    {
     "name": "stderr",
     "output_type": "stream",
     "text": [
      " 36%|███▋      | 216/595 [21:05<15:00,  2.38s/it]"
     ]
    },
    {
     "name": "stdout",
     "output_type": "stream",
     "text": [
      "===== search term =====\n",
      "( Abnormality of buccal fat pad[tiab]) AND ( variat*[tiab] or SNP[tiab] or allele*[tiab] or mutat*[tiab] or polymorphism*[tiab] or haplotype*[tiab] or SNPs[tiab] or genotype[tiab] or gene[tiab] or chromosome[tiab] or deletion[tiab] or indel[tiab] or insertion[tiab] or substitution[tiab] or transition[tiab] or transversion[tiab] or translocation[tiab] or CNV[tiab] or copy number variation[tiab] or SV[tiab] or chromosome structure variation[tiab]) NOT review[pt] AND English[LA] AND (\"1980/01/01\"[DP] : \"2023/4/1\"[DP])\n",
      "Retrieved article numbers：10\n"
     ]
    },
    {
     "name": "stderr",
     "output_type": "stream",
     "text": [
      " 36%|███▋      | 217/595 [21:07<14:12,  2.26s/it]"
     ]
    },
    {
     "name": "stdout",
     "output_type": "stream",
     "text": [
      "===== search term =====\n",
      "( Abnormality of risorius muscle[tiab]) AND ( variat*[tiab] or SNP[tiab] or allele*[tiab] or mutat*[tiab] or polymorphism*[tiab] or haplotype*[tiab] or SNPs[tiab] or genotype[tiab] or gene[tiab] or chromosome[tiab] or deletion[tiab] or indel[tiab] or insertion[tiab] or substitution[tiab] or transition[tiab] or transversion[tiab] or translocation[tiab] or CNV[tiab] or copy number variation[tiab] or SV[tiab] or chromosome structure variation[tiab]) NOT review[pt] AND English[LA] AND (\"1980/01/01\"[DP] : \"2023/4/1\"[DP])\n",
      "Retrieved article numbers：2\n"
     ]
    },
    {
     "name": "stderr",
     "output_type": "stream",
     "text": [
      " 37%|███▋      | 218/595 [21:09<13:02,  2.08s/it]"
     ]
    },
    {
     "name": "stdout",
     "output_type": "stream",
     "text": [
      "===== search term =====\n",
      "( Full cheeks[tiab] OR Chubby cheeks[tiab] OR  Puffy cheeks[tiab] OR  Big cheeks[tiab] OR  Apple cheeks[tiab] OR  Hypertrophy of cheeks[tiab] OR  Full cheeks[tiab] OR  Hyperplasia of cheeks[tiab] OR  Large cheeks[tiab] OR  Increased size of cheeks[tiab]) AND ( variat*[tiab] or SNP[tiab] or allele*[tiab] or mutat*[tiab] or polymorphism*[tiab] or haplotype*[tiab] or SNPs[tiab] or genotype[tiab] or gene[tiab] or chromosome[tiab] or deletion[tiab] or indel[tiab] or insertion[tiab] or substitution[tiab] or transition[tiab] or transversion[tiab] or translocation[tiab] or CNV[tiab] or copy number variation[tiab] or SV[tiab] or chromosome structure variation[tiab]) NOT review[pt] AND English[LA] AND (\"1980/01/01\"[DP] : \"2023/4/1\"[DP])\n",
      "Retrieved article numbers：0\n"
     ]
    },
    {
     "name": "stderr",
     "output_type": "stream",
     "text": [
      " 37%|███▋      | 219/595 [21:12<13:44,  2.19s/it]"
     ]
    },
    {
     "name": "stdout",
     "output_type": "stream",
     "text": [
      "===== search term =====\n",
      "( Abnormality of buccinator muscle[tiab]) AND ( variat*[tiab] or SNP[tiab] or allele*[tiab] or mutat*[tiab] or polymorphism*[tiab] or haplotype*[tiab] or SNPs[tiab] or genotype[tiab] or gene[tiab] or chromosome[tiab] or deletion[tiab] or indel[tiab] or insertion[tiab] or substitution[tiab] or transition[tiab] or transversion[tiab] or translocation[tiab] or CNV[tiab] or copy number variation[tiab] or SV[tiab] or chromosome structure variation[tiab]) NOT review[pt] AND English[LA] AND (\"1980/01/01\"[DP] : \"2023/4/1\"[DP])\n",
      "Retrieved article numbers：76\n"
     ]
    },
    {
     "name": "stderr",
     "output_type": "stream",
     "text": [
      " 37%|███▋      | 220/595 [21:14<13:36,  2.18s/it]"
     ]
    },
    {
     "name": "stdout",
     "output_type": "stream",
     "text": [
      "===== search term =====\n",
      "( Abnormality of zygomaticus major muscle[tiab]) AND ( variat*[tiab] or SNP[tiab] or allele*[tiab] or mutat*[tiab] or polymorphism*[tiab] or haplotype*[tiab] or SNPs[tiab] or genotype[tiab] or gene[tiab] or chromosome[tiab] or deletion[tiab] or indel[tiab] or insertion[tiab] or substitution[tiab] or transition[tiab] or transversion[tiab] or translocation[tiab] or CNV[tiab] or copy number variation[tiab] or SV[tiab] or chromosome structure variation[tiab]) NOT review[pt] AND English[LA] AND (\"1980/01/01\"[DP] : \"2023/4/1\"[DP])\n",
      "Retrieved article numbers：1\n"
     ]
    },
    {
     "name": "stderr",
     "output_type": "stream",
     "text": [
      " 37%|███▋      | 221/595 [21:16<14:31,  2.33s/it]"
     ]
    },
    {
     "name": "stdout",
     "output_type": "stream",
     "text": [
      "===== search term =====\n",
      "( Abnormality of zygomaticus minor muscle[tiab]) AND ( variat*[tiab] or SNP[tiab] or allele*[tiab] or mutat*[tiab] or polymorphism*[tiab] or haplotype*[tiab] or SNPs[tiab] or genotype[tiab] or gene[tiab] or chromosome[tiab] or deletion[tiab] or indel[tiab] or insertion[tiab] or substitution[tiab] or transition[tiab] or transversion[tiab] or translocation[tiab] or CNV[tiab] or copy number variation[tiab] or SV[tiab] or chromosome structure variation[tiab]) NOT review[pt] AND English[LA] AND (\"1980/01/01\"[DP] : \"2023/4/1\"[DP])\n",
      "Retrieved article numbers：1\n"
     ]
    },
    {
     "name": "stderr",
     "output_type": "stream",
     "text": [
      " 37%|███▋      | 222/595 [21:18<13:54,  2.24s/it]"
     ]
    },
    {
     "name": "stdout",
     "output_type": "stream",
     "text": [
      "===== search term =====\n",
      "( Malar flattening[tiab] OR  Underdevelopment of malar bone[tiab] OR  Hypotrophic malar bone[tiab] OR  Malar hypoplasia[tiab] OR  Zygomatic flattening[tiab] OR  Flat cheekbone[tiab] OR  Decreased size of malar bone[tiab] OR  Depressed malar region[tiab]) AND ( variat*[tiab] or SNP[tiab] or allele*[tiab] or mutat*[tiab] or polymorphism*[tiab] or haplotype*[tiab] or SNPs[tiab] or genotype[tiab] or gene[tiab] or chromosome[tiab] or deletion[tiab] or indel[tiab] or insertion[tiab] or substitution[tiab] or transition[tiab] or transversion[tiab] or translocation[tiab] or CNV[tiab] or copy number variation[tiab] or SV[tiab] or chromosome structure variation[tiab]) NOT review[pt] AND English[LA] AND (\"1980/01/01\"[DP] : \"2023/4/1\"[DP])\n",
      "Retrieved article numbers：0\n"
     ]
    },
    {
     "name": "stderr",
     "output_type": "stream",
     "text": [
      " 37%|███▋      | 223/595 [21:20<12:54,  2.08s/it]"
     ]
    },
    {
     "name": "stdout",
     "output_type": "stream",
     "text": [
      "===== search term =====\n",
      "( Malar prominence[tiab] OR Malar hyperplasia[tiab] OR  Prominent malar region[tiab] OR  Malar excess[tiab] OR  Hyperplasia of malar bones[tiab]) AND ( variat*[tiab] or SNP[tiab] or allele*[tiab] or mutat*[tiab] or polymorphism*[tiab] or haplotype*[tiab] or SNPs[tiab] or genotype[tiab] or gene[tiab] or chromosome[tiab] or deletion[tiab] or indel[tiab] or insertion[tiab] or substitution[tiab] or transition[tiab] or transversion[tiab] or translocation[tiab] or CNV[tiab] or copy number variation[tiab] or SV[tiab] or chromosome structure variation[tiab]) NOT review[pt] AND English[LA] AND (\"1980/01/01\"[DP] : \"2023/4/1\"[DP])\n",
      "Retrieved article numbers：40\n"
     ]
    },
    {
     "name": "stderr",
     "output_type": "stream",
     "text": [
      " 38%|███▊      | 224/595 [21:24<15:45,  2.55s/it]"
     ]
    },
    {
     "name": "stdout",
     "output_type": "stream",
     "text": [
      "===== search term =====\n",
      "( Tessier number 5 facial cleft[tiab]) AND ( variat*[tiab] or SNP[tiab] or allele*[tiab] or mutat*[tiab] or polymorphism*[tiab] or haplotype*[tiab] or SNPs[tiab] or genotype[tiab] or gene[tiab] or chromosome[tiab] or deletion[tiab] or indel[tiab] or insertion[tiab] or substitution[tiab] or transition[tiab] or transversion[tiab] or translocation[tiab] or CNV[tiab] or copy number variation[tiab] or SV[tiab] or chromosome structure variation[tiab]) NOT review[pt] AND English[LA] AND (\"1980/01/01\"[DP] : \"2023/4/1\"[DP])\n",
      "Retrieved article numbers：19\n"
     ]
    },
    {
     "name": "stderr",
     "output_type": "stream",
     "text": [
      " 38%|███▊      | 225/595 [21:30<22:16,  3.61s/it]"
     ]
    },
    {
     "name": "stdout",
     "output_type": "stream",
     "text": [
      "===== search term =====\n",
      "( Tessier number 9 facial cleft[tiab]) AND ( variat*[tiab] or SNP[tiab] or allele*[tiab] or mutat*[tiab] or polymorphism*[tiab] or haplotype*[tiab] or SNPs[tiab] or genotype[tiab] or gene[tiab] or chromosome[tiab] or deletion[tiab] or indel[tiab] or insertion[tiab] or substitution[tiab] or transition[tiab] or transversion[tiab] or translocation[tiab] or CNV[tiab] or copy number variation[tiab] or SV[tiab] or chromosome structure variation[tiab]) NOT review[pt] AND English[LA] AND (\"1980/01/01\"[DP] : \"2023/4/1\"[DP])\n",
      "Retrieved article numbers：0\n"
     ]
    },
    {
     "name": "stderr",
     "output_type": "stream",
     "text": [
      " 38%|███▊      | 226/595 [21:32<19:02,  3.10s/it]"
     ]
    },
    {
     "name": "stdout",
     "output_type": "stream",
     "text": [
      "===== search term =====\n",
      "( Tessier number 3 facial cleft[tiab]) AND ( variat*[tiab] or SNP[tiab] or allele*[tiab] or mutat*[tiab] or polymorphism*[tiab] or haplotype*[tiab] or SNPs[tiab] or genotype[tiab] or gene[tiab] or chromosome[tiab] or deletion[tiab] or indel[tiab] or insertion[tiab] or substitution[tiab] or transition[tiab] or transversion[tiab] or translocation[tiab] or CNV[tiab] or copy number variation[tiab] or SV[tiab] or chromosome structure variation[tiab]) NOT review[pt] AND English[LA] AND (\"1980/01/01\"[DP] : \"2023/4/1\"[DP])\n",
      "Retrieved article numbers：0\n"
     ]
    },
    {
     "name": "stderr",
     "output_type": "stream",
     "text": [
      " 38%|███▊      | 227/595 [21:34<17:14,  2.81s/it]"
     ]
    },
    {
     "name": "stdout",
     "output_type": "stream",
     "text": [
      "===== search term =====\n",
      "( Tessier number 11 facial cleft[tiab]) AND ( variat*[tiab] or SNP[tiab] or allele*[tiab] or mutat*[tiab] or polymorphism*[tiab] or haplotype*[tiab] or SNPs[tiab] or genotype[tiab] or gene[tiab] or chromosome[tiab] or deletion[tiab] or indel[tiab] or insertion[tiab] or substitution[tiab] or transition[tiab] or transversion[tiab] or translocation[tiab] or CNV[tiab] or copy number variation[tiab] or SV[tiab] or chromosome structure variation[tiab]) NOT review[pt] AND English[LA] AND (\"1980/01/01\"[DP] : \"2023/4/1\"[DP])\n",
      "Retrieved article numbers：0\n"
     ]
    },
    {
     "name": "stderr",
     "output_type": "stream",
     "text": [
      " 38%|███▊      | 228/595 [21:38<19:01,  3.11s/it]"
     ]
    },
    {
     "name": "stdout",
     "output_type": "stream",
     "text": [
      "===== search term =====\n",
      "( Tessier number 4 facial cleft[tiab]) AND ( variat*[tiab] or SNP[tiab] or allele*[tiab] or mutat*[tiab] or polymorphism*[tiab] or haplotype*[tiab] or SNPs[tiab] or genotype[tiab] or gene[tiab] or chromosome[tiab] or deletion[tiab] or indel[tiab] or insertion[tiab] or substitution[tiab] or transition[tiab] or transversion[tiab] or translocation[tiab] or CNV[tiab] or copy number variation[tiab] or SV[tiab] or chromosome structure variation[tiab]) NOT review[pt] AND English[LA] AND (\"1980/01/01\"[DP] : \"2023/4/1\"[DP])\n",
      "Retrieved article numbers：0\n"
     ]
    },
    {
     "name": "stderr",
     "output_type": "stream",
     "text": [
      " 38%|███▊      | 229/595 [21:40<17:21,  2.85s/it]"
     ]
    },
    {
     "name": "stdout",
     "output_type": "stream",
     "text": [
      "===== search term =====\n",
      "( Tessier number 10 facial cleft[tiab]) AND ( variat*[tiab] or SNP[tiab] or allele*[tiab] or mutat*[tiab] or polymorphism*[tiab] or haplotype*[tiab] or SNPs[tiab] or genotype[tiab] or gene[tiab] or chromosome[tiab] or deletion[tiab] or indel[tiab] or insertion[tiab] or substitution[tiab] or transition[tiab] or transversion[tiab] or translocation[tiab] or CNV[tiab] or copy number variation[tiab] or SV[tiab] or chromosome structure variation[tiab]) NOT review[pt] AND English[LA] AND (\"1980/01/01\"[DP] : \"2023/4/1\"[DP])\n",
      "Retrieved article numbers：0\n"
     ]
    },
    {
     "name": "stderr",
     "output_type": "stream",
     "text": [
      " 39%|███▊      | 230/595 [21:42<16:06,  2.65s/it]"
     ]
    },
    {
     "name": "stdout",
     "output_type": "stream",
     "text": [
      "===== search term =====\n",
      "( Tessier number 2 facial cleft[tiab]) AND ( variat*[tiab] or SNP[tiab] or allele*[tiab] or mutat*[tiab] or polymorphism*[tiab] or haplotype*[tiab] or SNPs[tiab] or genotype[tiab] or gene[tiab] or chromosome[tiab] or deletion[tiab] or indel[tiab] or insertion[tiab] or substitution[tiab] or transition[tiab] or transversion[tiab] or translocation[tiab] or CNV[tiab] or copy number variation[tiab] or SV[tiab] or chromosome structure variation[tiab]) NOT review[pt] AND English[LA] AND (\"1980/01/01\"[DP] : \"2023/4/1\"[DP])\n",
      "Retrieved article numbers：0\n"
     ]
    },
    {
     "name": "stderr",
     "output_type": "stream",
     "text": [
      " 39%|███▉      | 231/595 [21:45<16:27,  2.71s/it]"
     ]
    },
    {
     "name": "stdout",
     "output_type": "stream",
     "text": [
      "===== search term =====\n",
      "( Tessier number 1 facial cleft[tiab]) AND ( variat*[tiab] or SNP[tiab] or allele*[tiab] or mutat*[tiab] or polymorphism*[tiab] or haplotype*[tiab] or SNPs[tiab] or genotype[tiab] or gene[tiab] or chromosome[tiab] or deletion[tiab] or indel[tiab] or insertion[tiab] or substitution[tiab] or transition[tiab] or transversion[tiab] or translocation[tiab] or CNV[tiab] or copy number variation[tiab] or SV[tiab] or chromosome structure variation[tiab]) NOT review[pt] AND English[LA] AND (\"1980/01/01\"[DP] : \"2023/4/1\"[DP])\n",
      "Retrieved article numbers：0\n"
     ]
    },
    {
     "name": "stderr",
     "output_type": "stream",
     "text": [
      " 39%|███▉      | 232/595 [21:47<15:43,  2.60s/it]"
     ]
    },
    {
     "name": "stdout",
     "output_type": "stream",
     "text": [
      "===== search term =====\n",
      "( Tessier number 12 facial cleft[tiab]) AND ( variat*[tiab] or SNP[tiab] or allele*[tiab] or mutat*[tiab] or polymorphism*[tiab] or haplotype*[tiab] or SNPs[tiab] or genotype[tiab] or gene[tiab] or chromosome[tiab] or deletion[tiab] or indel[tiab] or insertion[tiab] or substitution[tiab] or transition[tiab] or transversion[tiab] or translocation[tiab] or CNV[tiab] or copy number variation[tiab] or SV[tiab] or chromosome structure variation[tiab]) NOT review[pt] AND English[LA] AND (\"1980/01/01\"[DP] : \"2023/4/1\"[DP])\n",
      "Retrieved article numbers：0\n"
     ]
    },
    {
     "name": "stderr",
     "output_type": "stream",
     "text": [
      " 39%|███▉      | 233/595 [21:50<15:00,  2.49s/it]"
     ]
    },
    {
     "name": "stdout",
     "output_type": "stream",
     "text": [
      "===== search term =====\n",
      "( Tessier number 13 facial cleft[tiab]) AND ( variat*[tiab] or SNP[tiab] or allele*[tiab] or mutat*[tiab] or polymorphism*[tiab] or haplotype*[tiab] or SNPs[tiab] or genotype[tiab] or gene[tiab] or chromosome[tiab] or deletion[tiab] or indel[tiab] or insertion[tiab] or substitution[tiab] or transition[tiab] or transversion[tiab] or translocation[tiab] or CNV[tiab] or copy number variation[tiab] or SV[tiab] or chromosome structure variation[tiab]) NOT review[pt] AND English[LA] AND (\"1980/01/01\"[DP] : \"2023/4/1\"[DP])\n",
      "Retrieved article numbers：0\n"
     ]
    },
    {
     "name": "stderr",
     "output_type": "stream",
     "text": [
      " 39%|███▉      | 234/595 [21:52<14:26,  2.40s/it]"
     ]
    },
    {
     "name": "stdout",
     "output_type": "stream",
     "text": [
      "===== search term =====\n",
      "( Tessier number 8 facial cleft[tiab] OR  Tessier facial cleft number 8[tiab]) AND ( variat*[tiab] or SNP[tiab] or allele*[tiab] or mutat*[tiab] or polymorphism*[tiab] or haplotype*[tiab] or SNPs[tiab] or genotype[tiab] or gene[tiab] or chromosome[tiab] or deletion[tiab] or indel[tiab] or insertion[tiab] or substitution[tiab] or transition[tiab] or transversion[tiab] or translocation[tiab] or CNV[tiab] or copy number variation[tiab] or SV[tiab] or chromosome structure variation[tiab]) NOT review[pt] AND English[LA] AND (\"1980/01/01\"[DP] : \"2023/4/1\"[DP])\n",
      "Retrieved article numbers：0\n"
     ]
    },
    {
     "name": "stderr",
     "output_type": "stream",
     "text": [
      " 39%|███▉      | 235/595 [21:54<13:28,  2.25s/it]"
     ]
    },
    {
     "name": "stdout",
     "output_type": "stream",
     "text": [
      "===== search term =====\n",
      "( Tessier number 7 facial cleft[tiab] OR  Tessier cleft number 7[tiab] OR  Tessier facial cleft number 7[tiab]) AND ( variat*[tiab] or SNP[tiab] or allele*[tiab] or mutat*[tiab] or polymorphism*[tiab] or haplotype*[tiab] or SNPs[tiab] or genotype[tiab] or gene[tiab] or chromosome[tiab] or deletion[tiab] or indel[tiab] or insertion[tiab] or substitution[tiab] or transition[tiab] or transversion[tiab] or translocation[tiab] or CNV[tiab] or copy number variation[tiab] or SV[tiab] or chromosome structure variation[tiab]) NOT review[pt] AND English[LA] AND (\"1980/01/01\"[DP] : \"2023/4/1\"[DP])\n",
      "Retrieved article numbers：1\n"
     ]
    },
    {
     "name": "stderr",
     "output_type": "stream",
     "text": [
      " 40%|███▉      | 236/595 [21:56<13:25,  2.24s/it]"
     ]
    },
    {
     "name": "stdout",
     "output_type": "stream",
     "text": [
      "===== search term =====\n",
      "( Tessier number 6 facial cleft[tiab] OR  Tessier facial cleft number 6[tiab]) AND ( variat*[tiab] or SNP[tiab] or allele*[tiab] or mutat*[tiab] or polymorphism*[tiab] or haplotype*[tiab] or SNPs[tiab] or genotype[tiab] or gene[tiab] or chromosome[tiab] or deletion[tiab] or indel[tiab] or insertion[tiab] or substitution[tiab] or transition[tiab] or transversion[tiab] or translocation[tiab] or CNV[tiab] or copy number variation[tiab] or SV[tiab] or chromosome structure variation[tiab]) NOT review[pt] AND English[LA] AND (\"1980/01/01\"[DP] : \"2023/4/1\"[DP])\n",
      "Retrieved article numbers：0\n"
     ]
    },
    {
     "name": "stderr",
     "output_type": "stream",
     "text": [
      " 40%|███▉      | 237/595 [22:02<20:09,  3.38s/it]"
     ]
    },
    {
     "name": "stdout",
     "output_type": "stream",
     "text": [
      "===== search term =====\n",
      "( Tessier number 30 facial cleft[tiab]) AND ( variat*[tiab] or SNP[tiab] or allele*[tiab] or mutat*[tiab] or polymorphism*[tiab] or haplotype*[tiab] or SNPs[tiab] or genotype[tiab] or gene[tiab] or chromosome[tiab] or deletion[tiab] or indel[tiab] or insertion[tiab] or substitution[tiab] or transition[tiab] or transversion[tiab] or translocation[tiab] or CNV[tiab] or copy number variation[tiab] or SV[tiab] or chromosome structure variation[tiab]) NOT review[pt] AND English[LA] AND (\"1980/01/01\"[DP] : \"2023/4/1\"[DP])\n",
      "Retrieved article numbers：1\n"
     ]
    },
    {
     "name": "stderr",
     "output_type": "stream",
     "text": [
      " 40%|████      | 238/595 [22:04<18:21,  3.09s/it]"
     ]
    },
    {
     "name": "stdout",
     "output_type": "stream",
     "text": [
      "===== search term =====\n",
      "( Tessier number 14 facial cleft[tiab] OR  Tessier facial cleft number 14[tiab]) AND ( variat*[tiab] or SNP[tiab] or allele*[tiab] or mutat*[tiab] or polymorphism*[tiab] or haplotype*[tiab] or SNPs[tiab] or genotype[tiab] or gene[tiab] or chromosome[tiab] or deletion[tiab] or indel[tiab] or insertion[tiab] or substitution[tiab] or transition[tiab] or transversion[tiab] or translocation[tiab] or CNV[tiab] or copy number variation[tiab] or SV[tiab] or chromosome structure variation[tiab]) NOT review[pt] AND English[LA] AND (\"1980/01/01\"[DP] : \"2023/4/1\"[DP])\n",
      "Retrieved article numbers：0\n"
     ]
    },
    {
     "name": "stderr",
     "output_type": "stream",
     "text": [
      " 40%|████      | 239/595 [22:07<18:09,  3.06s/it]"
     ]
    },
    {
     "name": "stdout",
     "output_type": "stream",
     "text": [
      "===== search term =====\n",
      "( Tessier number 0 facial cleft[tiab] OR  Tessier facial cleft number 0[tiab]) AND ( variat*[tiab] or SNP[tiab] or allele*[tiab] or mutat*[tiab] or polymorphism*[tiab] or haplotype*[tiab] or SNPs[tiab] or genotype[tiab] or gene[tiab] or chromosome[tiab] or deletion[tiab] or indel[tiab] or insertion[tiab] or substitution[tiab] or transition[tiab] or transversion[tiab] or translocation[tiab] or CNV[tiab] or copy number variation[tiab] or SV[tiab] or chromosome structure variation[tiab]) NOT review[pt] AND English[LA] AND (\"1980/01/01\"[DP] : \"2023/4/1\"[DP])\n",
      "Retrieved article numbers：0\n"
     ]
    },
    {
     "name": "stderr",
     "output_type": "stream",
     "text": [
      " 40%|████      | 240/595 [22:21<36:30,  6.17s/it]"
     ]
    },
    {
     "name": "stdout",
     "output_type": "stream",
     "text": [
      "===== search term =====\n",
      "( Palpebral edema[tiab] OR  Puffy lids[tiab] OR  Fullness of eyelids[tiab] OR  Oedema of the eyelids[tiab] OR  Puffy eyelids[tiab] OR  Swelling of eyelids[tiab] OR  Palpebral oedema[tiab] OR  Eyelid edema[tiab] OR  Edema of the eyelids[tiab] OR  Eyelid oedema[tiab]) AND ( variat*[tiab] or SNP[tiab] or allele*[tiab] or mutat*[tiab] or polymorphism*[tiab] or haplotype*[tiab] or SNPs[tiab] or genotype[tiab] or gene[tiab] or chromosome[tiab] or deletion[tiab] or indel[tiab] or insertion[tiab] or substitution[tiab] or transition[tiab] or transversion[tiab] or translocation[tiab] or CNV[tiab] or copy number variation[tiab] or SV[tiab] or chromosome structure variation[tiab]) NOT review[pt] AND English[LA] AND (\"1980/01/01\"[DP] : \"2023/4/1\"[DP])\n",
      "Retrieved article numbers：0\n"
     ]
    },
    {
     "name": "stderr",
     "output_type": "stream",
     "text": [
      " 41%|████      | 241/595 [22:23<29:47,  5.05s/it]"
     ]
    },
    {
     "name": "stdout",
     "output_type": "stream",
     "text": [
      "===== search term =====\n",
      "( Prominent supraorbital ridges[tiab] OR  Hyperplasia of supraorbital ridge[tiab] OR  Prominent brow[tiab] OR  Supraorbital hyperostosis[tiab] OR  Prominent supraorbital ridge[tiab] OR  Hypertrophy of supraorbital ridge[tiab] OR  Protruding supraorbital ridge[tiab] OR  Hyperplasia of supraorbital margins[tiab] OR  Hypertrophy of supraorbital margins[tiab] OR  Prominent supraorbital margins[tiab]) AND ( variat*[tiab] or SNP[tiab] or allele*[tiab] or mutat*[tiab] or polymorphism*[tiab] or haplotype*[tiab] or SNPs[tiab] or genotype[tiab] or gene[tiab] or chromosome[tiab] or deletion[tiab] or indel[tiab] or insertion[tiab] or substitution[tiab] or transition[tiab] or transversion[tiab] or translocation[tiab] or CNV[tiab] or copy number variation[tiab] or SV[tiab] or chromosome structure variation[tiab]) NOT review[pt] AND English[LA] AND (\"1980/01/01\"[DP] : \"2023/4/1\"[DP])\n",
      "Retrieved article numbers：38\n"
     ]
    },
    {
     "name": "stderr",
     "output_type": "stream",
     "text": [
      " 41%|████      | 242/595 [22:26<24:59,  4.25s/it]"
     ]
    },
    {
     "name": "stdout",
     "output_type": "stream",
     "text": [
      "===== search term =====\n",
      "( Underdeveloped supraorbital ridges[tiab] OR Depressed supraorbital margins[tiab] OR  Flat supraorbital ridge[tiab] OR  Hypoplastic supraorbital ridges[tiab] OR  Shallow supraorbital ridge[tiab] OR  Depressed supraorbital ridge[tiab] OR  Underdeveloped brows[tiab] OR  Flattened bony protrusion above eyes[tiab] OR  Shallow orbital ridges[tiab] OR  Hypoplasia of the supraorbital ridges[tiab] OR  Hypoplasia of supraorbital margins[tiab] OR  Flat supraorbital margins[tiab]) AND ( variat*[tiab] or SNP[tiab] or allele*[tiab] or mutat*[tiab] or polymorphism*[tiab] or haplotype*[tiab] or SNPs[tiab] or genotype[tiab] or gene[tiab] or chromosome[tiab] or deletion[tiab] or indel[tiab] or insertion[tiab] or substitution[tiab] or transition[tiab] or transversion[tiab] or translocation[tiab] or CNV[tiab] or copy number variation[tiab] or SV[tiab] or chromosome structure variation[tiab]) NOT review[pt] AND English[LA] AND (\"1980/01/01\"[DP] : \"2023/4/1\"[DP])\n",
      "Retrieved article numbers：28\n"
     ]
    },
    {
     "name": "stderr",
     "output_type": "stream",
     "text": [
      " 41%|████      | 243/595 [22:28<21:21,  3.64s/it]"
     ]
    },
    {
     "name": "stdout",
     "output_type": "stream",
     "text": [
      "===== search term =====\n",
      "( Loss of facial expression[tiab] OR Loss of facial expression[tiab]) AND ( variat*[tiab] or SNP[tiab] or allele*[tiab] or mutat*[tiab] or polymorphism*[tiab] or haplotype*[tiab] or SNPs[tiab] or genotype[tiab] or gene[tiab] or chromosome[tiab] or deletion[tiab] or indel[tiab] or insertion[tiab] or substitution[tiab] or transition[tiab] or transversion[tiab] or translocation[tiab] or CNV[tiab] or copy number variation[tiab] or SV[tiab] or chromosome structure variation[tiab]) NOT review[pt] AND English[LA] AND (\"1980/01/01\"[DP] : \"2023/4/1\"[DP])\n",
      "Retrieved article numbers：15\n"
     ]
    },
    {
     "name": "stderr",
     "output_type": "stream",
     "text": [
      " 41%|████      | 244/595 [27:45<9:32:16, 97.82s/it]"
     ]
    },
    {
     "name": "stdout",
     "output_type": "stream",
     "text": [
      "===== search term =====\n",
      "( Myopathic facies[tiab] OR Myopathic facial appearance[tiab] OR  Myopathic face[tiab]) AND ( variat*[tiab] or SNP[tiab] or allele*[tiab] or mutat*[tiab] or polymorphism*[tiab] or haplotype*[tiab] or SNPs[tiab] or genotype[tiab] or gene[tiab] or chromosome[tiab] or deletion[tiab] or indel[tiab] or insertion[tiab] or substitution[tiab] or transition[tiab] or transversion[tiab] or translocation[tiab] or CNV[tiab] or copy number variation[tiab] or SV[tiab] or chromosome structure variation[tiab]) NOT review[pt] AND English[LA] AND (\"1980/01/01\"[DP] : \"2023/4/1\"[DP])\n",
      "Retrieved article numbers：0\n"
     ]
    },
    {
     "name": "stderr",
     "output_type": "stream",
     "text": [
      " 41%|████      | 245/595 [27:47<6:42:26, 68.99s/it]"
     ]
    },
    {
     "name": "stdout",
     "output_type": "stream",
     "text": [
      "===== search term =====\n",
      "( Fixed facial expression[tiab] OR  Unchanging facial expression[tiab] OR  Fixed facial expression[tiab]) AND ( variat*[tiab] or SNP[tiab] or allele*[tiab] or mutat*[tiab] or polymorphism*[tiab] or haplotype*[tiab] or SNPs[tiab] or genotype[tiab] or gene[tiab] or chromosome[tiab] or deletion[tiab] or indel[tiab] or insertion[tiab] or substitution[tiab] or transition[tiab] or transversion[tiab] or translocation[tiab] or CNV[tiab] or copy number variation[tiab] or SV[tiab] or chromosome structure variation[tiab]) NOT review[pt] AND English[LA] AND (\"1980/01/01\"[DP] : \"2023/4/1\"[DP])\n",
      "Retrieved article numbers：27\n"
     ]
    },
    {
     "name": "stderr",
     "output_type": "stream",
     "text": [
      " 41%|████▏     | 246/595 [27:49<4:44:30, 48.91s/it]"
     ]
    },
    {
     "name": "stdout",
     "output_type": "stream",
     "text": [
      "===== search term =====\n",
      "( Mask-like facies[tiab] OR  Lack of facial expression[tiab] OR  Mask-like facial appearance[tiab] OR  Expressionless face[tiab] OR  Amimia[tiab] OR  Masklike facies[tiab]) AND ( variat*[tiab] or SNP[tiab] or allele*[tiab] or mutat*[tiab] or polymorphism*[tiab] or haplotype*[tiab] or SNPs[tiab] or genotype[tiab] or gene[tiab] or chromosome[tiab] or deletion[tiab] or indel[tiab] or insertion[tiab] or substitution[tiab] or transition[tiab] or transversion[tiab] or translocation[tiab] or CNV[tiab] or copy number variation[tiab] or SV[tiab] or chromosome structure variation[tiab]) NOT review[pt] AND English[LA] AND (\"1980/01/01\"[DP] : \"2023/4/1\"[DP])\n",
      "Retrieved article numbers：6\n"
     ]
    },
    {
     "name": "stderr",
     "output_type": "stream",
     "text": [
      " 42%|████▏     | 247/595 [27:52<3:22:48, 34.97s/it]"
     ]
    },
    {
     "name": "stdout",
     "output_type": "stream",
     "text": [
      "===== search term =====\n",
      "( Risus sardonicus[tiab] OR  Rictus grin[tiab]) AND ( variat*[tiab] or SNP[tiab] or allele*[tiab] or mutat*[tiab] or polymorphism*[tiab] or haplotype*[tiab] or SNPs[tiab] or genotype[tiab] or gene[tiab] or chromosome[tiab] or deletion[tiab] or indel[tiab] or insertion[tiab] or substitution[tiab] or transition[tiab] or transversion[tiab] or translocation[tiab] or CNV[tiab] or copy number variation[tiab] or SV[tiab] or chromosome structure variation[tiab]) NOT review[pt] AND English[LA] AND (\"1980/01/01\"[DP] : \"2023/4/1\"[DP])\n",
      "Retrieved article numbers：9\n"
     ]
    },
    {
     "name": "stderr",
     "output_type": "stream",
     "text": [
      " 42%|████▏     | 248/595 [27:55<2:27:37, 25.53s/it]"
     ]
    },
    {
     "name": "stdout",
     "output_type": "stream",
     "text": [
      "===== search term =====\n",
      "( Sleepy facial expression[tiab] OR  Sleepy facial expression[tiab] OR  Somnolent facial expression[tiab]) AND ( variat*[tiab] or SNP[tiab] or allele*[tiab] or mutat*[tiab] or polymorphism*[tiab] or haplotype*[tiab] or SNPs[tiab] or genotype[tiab] or gene[tiab] or chromosome[tiab] or deletion[tiab] or indel[tiab] or insertion[tiab] or substitution[tiab] or transition[tiab] or transversion[tiab] or translocation[tiab] or CNV[tiab] or copy number variation[tiab] or SV[tiab] or chromosome structure variation[tiab]) NOT review[pt] AND English[LA] AND (\"1980/01/01\"[DP] : \"2023/4/1\"[DP])\n",
      "Retrieved article numbers：1\n"
     ]
    },
    {
     "name": "stderr",
     "output_type": "stream",
     "text": [
      " 42%|████▏     | 249/595 [27:58<1:47:44, 18.68s/it]"
     ]
    },
    {
     "name": "stdout",
     "output_type": "stream",
     "text": [
      "===== search term =====\n",
      "(  Facial tics[tiab] OR  Mimic spasms[tiab] OR  Facial spasms[tiab] OR  Twitching of facial muscles[tiab] OR  Myoclonus of facial muscles[tiab] OR  Jerking of facial muscles[tiab] OR  Spasms of facial muscles[tiab] OR  Cramping of facial muscles[tiab] OR  Facial tics[tiab] OR  Muscle spasm of face[tiab] OR  Involuntary facial muscle spasms[tiab]) AND ( variat*[tiab] or SNP[tiab] or allele*[tiab] or mutat*[tiab] or polymorphism*[tiab] or haplotype*[tiab] or SNPs[tiab] or genotype[tiab] or gene[tiab] or chromosome[tiab] or deletion[tiab] or indel[tiab] or insertion[tiab] or substitution[tiab] or transition[tiab] or transversion[tiab] or translocation[tiab] or CNV[tiab] or copy number variation[tiab] or SV[tiab] or chromosome structure variation[tiab]) NOT review[pt] AND English[LA] AND (\"1980/01/01\"[DP] : \"2023/4/1\"[DP])\n",
      "Retrieved article numbers：1\n"
     ]
    },
    {
     "name": "stderr",
     "output_type": "stream",
     "text": [
      " 42%|████▏     | 250/595 [28:00<1:18:49, 13.71s/it]"
     ]
    },
    {
     "name": "stdout",
     "output_type": "stream",
     "text": [
      "===== search term =====\n",
      "( Facial grimacing[tiab] OR  Facial grimacing[tiab]) AND ( variat*[tiab] or SNP[tiab] or allele*[tiab] or mutat*[tiab] or polymorphism*[tiab] or haplotype*[tiab] or SNPs[tiab] or genotype[tiab] or gene[tiab] or chromosome[tiab] or deletion[tiab] or indel[tiab] or insertion[tiab] or substitution[tiab] or transition[tiab] or transversion[tiab] or translocation[tiab] or CNV[tiab] or copy number variation[tiab] or SV[tiab] or chromosome structure variation[tiab]) NOT review[pt] AND English[LA] AND (\"1980/01/01\"[DP] : \"2023/4/1\"[DP])\n",
      "Retrieved article numbers：12\n"
     ]
    },
    {
     "name": "stderr",
     "output_type": "stream",
     "text": [
      " 42%|████▏     | 251/595 [28:02<58:12, 10.15s/it]  "
     ]
    },
    {
     "name": "stdout",
     "output_type": "stream",
     "text": [
      "===== search term =====\n",
      "( Facial palsy secondary to cranial hyperostosis[tiab] OR  Facial palsy caused by enlargement of cranial bones[tiab] OR  Facial palsy caused by excessive growth of facial bones[tiab] OR  Facial palsy secondary to hypertrophy of cranial bones[tiab] OR  Facial palsy caused by overgrowth of cranial bones[tiab]) AND ( variat*[tiab] or SNP[tiab] or allele*[tiab] or mutat*[tiab] or polymorphism*[tiab] or haplotype*[tiab] or SNPs[tiab] or genotype[tiab] or gene[tiab] or chromosome[tiab] or deletion[tiab] or indel[tiab] or insertion[tiab] or substitution[tiab] or transition[tiab] or transversion[tiab] or translocation[tiab] or CNV[tiab] or copy number variation[tiab] or SV[tiab] or chromosome structure variation[tiab]) NOT review[pt] AND English[LA] AND (\"1980/01/01\"[DP] : \"2023/4/1\"[DP])\n",
      "Retrieved article numbers：9\n"
     ]
    },
    {
     "name": "stderr",
     "output_type": "stream",
     "text": [
      " 42%|████▏     | 252/595 [28:04<44:52,  7.85s/it]"
     ]
    },
    {
     "name": "stdout",
     "output_type": "stream",
     "text": [
      "===== search term =====\n",
      "( Mandibular hyperostosis[tiab] OR  Increased ossification of mandibular bone[tiab] OR  Excessive growth of mandibular bone[tiab] OR  Thick mandibular bone[tiab] OR  Hyperostosis of lower jaw[tiab] OR  Thick lower jaw bone[tiab] OR  Overgrowth of mandibular bone[tiab] OR  Increased ossification of mandible[tiab] OR  Increased ossification of lower jaw[tiab] OR  Hyperostosis of mandibular bone[tiab]) AND ( variat*[tiab] or SNP[tiab] or allele*[tiab] or mutat*[tiab] or polymorphism*[tiab] or haplotype*[tiab] or SNPs[tiab] or genotype[tiab] or gene[tiab] or chromosome[tiab] or deletion[tiab] or indel[tiab] or insertion[tiab] or substitution[tiab] or transition[tiab] or transversion[tiab] or translocation[tiab] or CNV[tiab] or copy number variation[tiab] or SV[tiab] or chromosome structure variation[tiab]) NOT review[pt] AND English[LA] AND (\"1980/01/01\"[DP] : \"2023/4/1\"[DP])\n",
      "Retrieved article numbers：0\n"
     ]
    },
    {
     "name": "stderr",
     "output_type": "stream",
     "text": [
      " 43%|████▎     | 253/595 [28:08<38:28,  6.75s/it]"
     ]
    },
    {
     "name": "stdout",
     "output_type": "stream",
     "text": [
      "===== search term =====\n",
      "(Abnormal eyelid morphology[tiab]) AND ( variat*[tiab] or SNP[tiab] or allele*[tiab] or mutat*[tiab] or polymorphism*[tiab] or haplotype*[tiab] or SNPs[tiab] or genotype[tiab] or gene[tiab] or chromosome[tiab] or deletion[tiab] or indel[tiab] or insertion[tiab] or substitution[tiab] or transition[tiab] or transversion[tiab] or translocation[tiab] or CNV[tiab] or copy number variation[tiab] or SV[tiab] or chromosome structure variation[tiab]) NOT review[pt] AND English[LA] AND (\"1980/01/01\"[DP] : \"2023/4/1\"[DP])\n",
      "Retrieved article numbers：26\n"
     ]
    },
    {
     "name": "stderr",
     "output_type": "stream",
     "text": [
      " 43%|████▎     | 254/595 [28:10<29:58,  5.27s/it]"
     ]
    },
    {
     "name": "stdout",
     "output_type": "stream",
     "text": [
      "===== search term =====\n",
      "(Abnormal conjunctiva morphology[tiab]) AND ( variat*[tiab] or SNP[tiab] or allele*[tiab] or mutat*[tiab] or polymorphism*[tiab] or haplotype*[tiab] or SNPs[tiab] or genotype[tiab] or gene[tiab] or chromosome[tiab] or deletion[tiab] or indel[tiab] or insertion[tiab] or substitution[tiab] or transition[tiab] or transversion[tiab] or translocation[tiab] or CNV[tiab] or copy number variation[tiab] or SV[tiab] or chromosome structure variation[tiab]) NOT review[pt] AND English[LA] AND (\"1980/01/01\"[DP] : \"2023/4/1\"[DP])\n",
      "Retrieved article numbers：0\n"
     ]
    },
    {
     "name": "stderr",
     "output_type": "stream",
     "text": [
      " 43%|████▎     | 255/595 [28:17<32:19,  5.70s/it]"
     ]
    },
    {
     "name": "stdout",
     "output_type": "stream",
     "text": [
      "===== search term =====\n",
      "(Abnormal nasolacrimal system morphology[tiab] OR  Abnormality of the nasolacrimal system[tiab]) AND ( variat*[tiab] or SNP[tiab] or allele*[tiab] or mutat*[tiab] or polymorphism*[tiab] or haplotype*[tiab] or SNPs[tiab] or genotype[tiab] or gene[tiab] or chromosome[tiab] or deletion[tiab] or indel[tiab] or insertion[tiab] or substitution[tiab] or transition[tiab] or transversion[tiab] or translocation[tiab] or CNV[tiab] or copy number variation[tiab] or SV[tiab] or chromosome structure variation[tiab]) NOT review[pt] AND English[LA] AND (\"1980/01/01\"[DP] : \"2023/4/1\"[DP])\n",
      "Retrieved article numbers：8\n"
     ]
    },
    {
     "name": "stderr",
     "output_type": "stream",
     "text": [
      " 43%|████▎     | 256/595 [28:19<25:31,  4.52s/it]"
     ]
    },
    {
     "name": "stdout",
     "output_type": "stream",
     "text": [
      "===== search term =====\n",
      "(Abnormal eyebrow morphology[tiab] OR   Abnormality of the eyebrow[tiab]) AND ( variat*[tiab] or SNP[tiab] or allele*[tiab] or mutat*[tiab] or polymorphism*[tiab] or haplotype*[tiab] or SNPs[tiab] or genotype[tiab] or gene[tiab] or chromosome[tiab] or deletion[tiab] or indel[tiab] or insertion[tiab] or substitution[tiab] or transition[tiab] or transversion[tiab] or translocation[tiab] or CNV[tiab] or copy number variation[tiab] or SV[tiab] or chromosome structure variation[tiab]) NOT review[pt] AND English[LA] AND (\"1980/01/01\"[DP] : \"2023/4/1\"[DP])\n",
      "Retrieved article numbers：2\n"
     ]
    },
    {
     "name": "stderr",
     "output_type": "stream",
     "text": [
      " 43%|████▎     | 257/595 [28:21<22:32,  4.00s/it]"
     ]
    },
    {
     "name": "stdout",
     "output_type": "stream",
     "text": [
      "===== search term =====\n",
      "(Abnormality of the extraocular muscles[tiab]) AND ( variat*[tiab] or SNP[tiab] or allele*[tiab] or mutat*[tiab] or polymorphism*[tiab] or haplotype*[tiab] or SNPs[tiab] or genotype[tiab] or gene[tiab] or chromosome[tiab] or deletion[tiab] or indel[tiab] or insertion[tiab] or substitution[tiab] or transition[tiab] or transversion[tiab] or translocation[tiab] or CNV[tiab] or copy number variation[tiab] or SV[tiab] or chromosome structure variation[tiab]) NOT review[pt] AND English[LA] AND (\"1980/01/01\"[DP] : \"2023/4/1\"[DP])\n",
      "Retrieved article numbers：2\n"
     ]
    },
    {
     "name": "stderr",
     "output_type": "stream",
     "text": [
      " 43%|████▎     | 258/595 [28:24<19:27,  3.46s/it]"
     ]
    },
    {
     "name": "stdout",
     "output_type": "stream",
     "text": [
      "===== search term =====\n",
      "(Abnormal common tendinous ring morphology[tiab] OR Abnormality of the common tendinous ring[tiab]) AND ( variat*[tiab] or SNP[tiab] or allele*[tiab] or mutat*[tiab] or polymorphism*[tiab] or haplotype*[tiab] or SNPs[tiab] or genotype[tiab] or gene[tiab] or chromosome[tiab] or deletion[tiab] or indel[tiab] or insertion[tiab] or substitution[tiab] or transition[tiab] or transversion[tiab] or translocation[tiab] or CNV[tiab] or copy number variation[tiab] or SV[tiab] or chromosome structure variation[tiab]) NOT review[pt] AND English[LA] AND (\"1980/01/01\"[DP] : \"2023/4/1\"[DP])\n",
      "Retrieved article numbers：2\n"
     ]
    },
    {
     "name": "stderr",
     "output_type": "stream",
     "text": [
      " 44%|████▎     | 259/595 [28:26<16:51,  3.01s/it]"
     ]
    },
    {
     "name": "stdout",
     "output_type": "stream",
     "text": [
      "===== search term =====\n",
      "( Abnormal eyelid physiology[tiab]) AND ( variat*[tiab] or SNP[tiab] or allele*[tiab] or mutat*[tiab] or polymorphism*[tiab] or haplotype*[tiab] or SNPs[tiab] or genotype[tiab] or gene[tiab] or chromosome[tiab] or deletion[tiab] or indel[tiab] or insertion[tiab] or substitution[tiab] or transition[tiab] or transversion[tiab] or translocation[tiab] or CNV[tiab] or copy number variation[tiab] or SV[tiab] or chromosome structure variation[tiab]) NOT review[pt] AND English[LA] AND (\"1980/01/01\"[DP] : \"2023/4/1\"[DP])\n",
      "Retrieved article numbers：4\n"
     ]
    },
    {
     "name": "stderr",
     "output_type": "stream",
     "text": [
      " 44%|████▎     | 260/595 [28:28<15:10,  2.72s/it]"
     ]
    },
    {
     "name": "stdout",
     "output_type": "stream",
     "text": [
      "===== search term =====\n",
      "(Retinal hamartoma[tiab]) AND ( variat*[tiab] or SNP[tiab] or allele*[tiab] or mutat*[tiab] or polymorphism*[tiab] or haplotype*[tiab] or SNPs[tiab] or genotype[tiab] or gene[tiab] or chromosome[tiab] or deletion[tiab] or indel[tiab] or insertion[tiab] or substitution[tiab] or transition[tiab] or transversion[tiab] or translocation[tiab] or CNV[tiab] or copy number variation[tiab] or SV[tiab] or chromosome structure variation[tiab]) NOT review[pt] AND English[LA] AND (\"1980/01/01\"[DP] : \"2023/4/1\"[DP])\n",
      "Retrieved article numbers：0\n"
     ]
    },
    {
     "name": "stderr",
     "output_type": "stream",
     "text": [
      " 44%|████▍     | 261/595 [28:30<14:51,  2.67s/it]"
     ]
    },
    {
     "name": "stdout",
     "output_type": "stream",
     "text": [
      "===== search term =====\n",
      "(Lisch nodulesIris hamartomas[tiab]) AND ( variat*[tiab] or SNP[tiab] or allele*[tiab] or mutat*[tiab] or polymorphism*[tiab] or haplotype*[tiab] or SNPs[tiab] or genotype[tiab] or gene[tiab] or chromosome[tiab] or deletion[tiab] or indel[tiab] or insertion[tiab] or substitution[tiab] or transition[tiab] or transversion[tiab] or translocation[tiab] or CNV[tiab] or copy number variation[tiab] or SV[tiab] or chromosome structure variation[tiab]) NOT review[pt] AND English[LA] AND (\"1980/01/01\"[DP] : \"2023/4/1\"[DP])\n",
      "Retrieved article numbers：5\n"
     ]
    },
    {
     "name": "stderr",
     "output_type": "stream",
     "text": [
      " 44%|████▍     | 262/595 [28:32<13:21,  2.41s/it]"
     ]
    },
    {
     "name": "stdout",
     "output_type": "stream",
     "text": [
      "===== search term =====\n",
      "(Conjunctival hamartoma[tiab]) AND ( variat*[tiab] or SNP[tiab] or allele*[tiab] or mutat*[tiab] or polymorphism*[tiab] or haplotype*[tiab] or SNPs[tiab] or genotype[tiab] or gene[tiab] or chromosome[tiab] or deletion[tiab] or indel[tiab] or insertion[tiab] or substitution[tiab] or transition[tiab] or transversion[tiab] or translocation[tiab] or CNV[tiab] or copy number variation[tiab] or SV[tiab] or chromosome structure variation[tiab]) NOT review[pt] AND English[LA] AND (\"1980/01/01\"[DP] : \"2023/4/1\"[DP])\n",
      "Retrieved article numbers：9\n"
     ]
    },
    {
     "name": "stderr",
     "output_type": "stream",
     "text": [
      " 44%|████▍     | 263/595 [28:34<12:09,  2.20s/it]"
     ]
    },
    {
     "name": "stdout",
     "output_type": "stream",
     "text": [
      "===== search term =====\n",
      "(Triangular nasal tip[tiab] OR Triangular nasal tip[tiab] OR  Triangular shaped tip of nose[tiab]) AND ( variat*[tiab] or SNP[tiab] or allele*[tiab] or mutat*[tiab] or polymorphism*[tiab] or haplotype*[tiab] or SNPs[tiab] or genotype[tiab] or gene[tiab] or chromosome[tiab] or deletion[tiab] or indel[tiab] or insertion[tiab] or substitution[tiab] or transition[tiab] or transversion[tiab] or translocation[tiab] or CNV[tiab] or copy number variation[tiab] or SV[tiab] or chromosome structure variation[tiab]) NOT review[pt] AND English[LA] AND (\"1980/01/01\"[DP] : \"2023/4/1\"[DP])\n",
      "Retrieved article numbers：1\n"
     ]
    },
    {
     "name": "stderr",
     "output_type": "stream",
     "text": [
      " 44%|████▍     | 264/595 [28:36<11:30,  2.09s/it]"
     ]
    },
    {
     "name": "stdout",
     "output_type": "stream",
     "text": [
      "===== search term =====\n",
      "(Deviated nasal tip[tiab] OR Deviated nasal tip[tiab] OR  Distortion of the nasal tip[tiab] OR  Crooked tip of nose[tiab] OR  Crooked nasal tip[tiab] OR  Asymmetry of tip of nose[tiab] OR  Deviated tip of nose[tiab] OR  Asymmetry of nasal tip[tiab]) AND ( variat*[tiab] or SNP[tiab] or allele*[tiab] or mutat*[tiab] or polymorphism*[tiab] or haplotype*[tiab] or SNPs[tiab] or genotype[tiab] or gene[tiab] or chromosome[tiab] or deletion[tiab] or indel[tiab] or insertion[tiab] or substitution[tiab] or transition[tiab] or transversion[tiab] or translocation[tiab] or CNV[tiab] or copy number variation[tiab] or SV[tiab] or chromosome structure variation[tiab]) NOT review[pt] AND English[LA] AND (\"1980/01/01\"[DP] : \"2023/4/1\"[DP])\n",
      "Retrieved article numbers：6\n"
     ]
    },
    {
     "name": "stderr",
     "output_type": "stream",
     "text": [
      " 45%|████▍     | 265/595 [28:38<11:28,  2.09s/it]"
     ]
    },
    {
     "name": "stdout",
     "output_type": "stream",
     "text": [
      "===== search term =====\n",
      "(Hypoplastic nasal tip[tiab] OR Hypoplasia of tip of nose[tiab] OR  Hypotrophic nasal tip[tiab] OR  Aplasia of nasal tip[tiab] OR  Small nasal tip[tiab] OR  Decreased size of tip of nose[tiab] OR  Underdevelopment of tip of nose[tiab] OR  Deficient nasal tip[tiab] OR  Underdevelopment of nasal tip[tiab] OR  Decreased size of nasal tip[tiab] OR  Hypotrophic tip of nose[tiab] OR  Small tip of nose[tiab]) AND ( variat*[tiab] or SNP[tiab] or allele*[tiab] or mutat*[tiab] or polymorphism*[tiab] or haplotype*[tiab] or SNPs[tiab] or genotype[tiab] or gene[tiab] or chromosome[tiab] or deletion[tiab] or indel[tiab] or insertion[tiab] or substitution[tiab] or transition[tiab] or transversion[tiab] or translocation[tiab] or CNV[tiab] or copy number variation[tiab] or SV[tiab] or chromosome structure variation[tiab]) NOT review[pt] AND English[LA] AND (\"1980/01/01\"[DP] : \"2023/4/1\"[DP])\n",
      "Retrieved article numbers：9\n"
     ]
    },
    {
     "name": "stderr",
     "output_type": "stream",
     "text": [
      " 45%|████▍     | 266/595 [28:40<11:21,  2.07s/it]"
     ]
    },
    {
     "name": "stdout",
     "output_type": "stream",
     "text": [
      "===== search term =====\n",
      "(Prominent nasal tip[tiab] OR Prominent nasal tip[tiab] OR  Hyperplasia of nasal tip[tiab] OR  Pronounced tip of nose[tiab] OR  Large tip of nose[tiab] OR  Hypertrophy of tip of nose[tiab] OR  Large nasal tip[tiab] OR  Hypertrophy of nasal tip[tiab] OR  Prominent tip of nose[tiab] OR  Pronounced nasal tip[tiab] OR  Bulbous tip of nose[tiab] OR  Hyperplasia of tip of nose[tiab]) AND ( variat*[tiab] or SNP[tiab] or allele*[tiab] or mutat*[tiab] or polymorphism*[tiab] or haplotype*[tiab] or SNPs[tiab] or genotype[tiab] or gene[tiab] or chromosome[tiab] or deletion[tiab] or indel[tiab] or insertion[tiab] or substitution[tiab] or transition[tiab] or transversion[tiab] or translocation[tiab] or CNV[tiab] or copy number variation[tiab] or SV[tiab] or chromosome structure variation[tiab]) NOT review[pt] AND English[LA] AND (\"1980/01/01\"[DP] : \"2023/4/1\"[DP])\n",
      "Retrieved article numbers：109\n"
     ]
    },
    {
     "name": "stderr",
     "output_type": "stream",
     "text": [
      " 45%|████▍     | 267/595 [28:42<11:00,  2.01s/it]"
     ]
    },
    {
     "name": "stdout",
     "output_type": "stream",
     "text": [
      "===== search term =====\n",
      "(Overhanging nasal tip[tiab] OR Low hanging nasal tip[tiab] OR  Overhanging nasal tip[tiab] OR  Hooked tip of nose[tiab] OR  Drooping nasal tip[tiab]) AND ( variat*[tiab] or SNP[tiab] or allele*[tiab] or mutat*[tiab] or polymorphism*[tiab] or haplotype*[tiab] or SNPs[tiab] or genotype[tiab] or gene[tiab] or chromosome[tiab] or deletion[tiab] or indel[tiab] or insertion[tiab] or substitution[tiab] or transition[tiab] or transversion[tiab] or translocation[tiab] or CNV[tiab] or copy number variation[tiab] or SV[tiab] or chromosome structure variation[tiab]) NOT review[pt] AND English[LA] AND (\"1980/01/01\"[DP] : \"2023/4/1\"[DP])\n",
      "Retrieved article numbers：11\n"
     ]
    },
    {
     "name": "stderr",
     "output_type": "stream",
     "text": [
      " 45%|████▌     | 268/595 [28:43<10:37,  1.95s/it]"
     ]
    },
    {
     "name": "stdout",
     "output_type": "stream",
     "text": [
      "===== search term =====\n",
      "(Depressed nasal tip[tiab] OR   Recessed nasal tip[tiab] OR  Flat nasal tip[tiab] OR  Retruded nasal tip[tiab] OR   Retruded tip of nose[tiab] OR  Flat tip of nose[tiab] OR  Flattened nasal tip[tiab] OR  Caved in nasal tip[tiab] OR  Depressed tip of nose[tiab]) AND ( variat*[tiab] or SNP[tiab] or allele*[tiab] or mutat*[tiab] or polymorphism*[tiab] or haplotype*[tiab] or SNPs[tiab] or genotype[tiab] or gene[tiab] or chromosome[tiab] or deletion[tiab] or indel[tiab] or insertion[tiab] or substitution[tiab] or transition[tiab] or transversion[tiab] or translocation[tiab] or CNV[tiab] or copy number variation[tiab] or SV[tiab] or chromosome structure variation[tiab]) NOT review[pt] AND English[LA] AND (\"1980/01/01\"[DP] : \"2023/4/1\"[DP])\n",
      "Retrieved article numbers：5\n"
     ]
    },
    {
     "name": "stderr",
     "output_type": "stream",
     "text": [
      " 45%|████▌     | 269/595 [28:47<12:39,  2.33s/it]"
     ]
    },
    {
     "name": "stdout",
     "output_type": "stream",
     "text": [
      "===== search term =====\n",
      "(Dimple on nasal tip[tiab] OR Dimple on nasal tip[tiab] OR  Dimpled tip of nose[tiab]) AND ( variat*[tiab] or SNP[tiab] or allele*[tiab] or mutat*[tiab] or polymorphism*[tiab] or haplotype*[tiab] or SNPs[tiab] or genotype[tiab] or gene[tiab] or chromosome[tiab] or deletion[tiab] or indel[tiab] or insertion[tiab] or substitution[tiab] or transition[tiab] or transversion[tiab] or translocation[tiab] or CNV[tiab] or copy number variation[tiab] or SV[tiab] or chromosome structure variation[tiab]) NOT review[pt] AND English[LA] AND (\"1980/01/01\"[DP] : \"2023/4/1\"[DP])\n",
      "Retrieved article numbers：11\n"
     ]
    },
    {
     "name": "stderr",
     "output_type": "stream",
     "text": [
      " 45%|████▌     | 270/595 [28:48<11:45,  2.17s/it]"
     ]
    },
    {
     "name": "stdout",
     "output_type": "stream",
     "text": [
      "===== search term =====\n",
      "(Bulbous nose[tiab] OR Bulbous nasal tip[tiab] OR  Potato nose[tiab] OR  Bulbous nose[tiab]) AND ( variat*[tiab] or SNP[tiab] or allele*[tiab] or mutat*[tiab] or polymorphism*[tiab] or haplotype*[tiab] or SNPs[tiab] or genotype[tiab] or gene[tiab] or chromosome[tiab] or deletion[tiab] or indel[tiab] or insertion[tiab] or substitution[tiab] or transition[tiab] or transversion[tiab] or translocation[tiab] or CNV[tiab] or copy number variation[tiab] or SV[tiab] or chromosome structure variation[tiab]) NOT review[pt] AND English[LA] AND (\"1980/01/01\"[DP] : \"2023/4/1\"[DP])\n",
      "Retrieved article numbers：2\n"
     ]
    },
    {
     "name": "stderr",
     "output_type": "stream",
     "text": [
      " 46%|████▌     | 271/595 [28:50<11:06,  2.06s/it]"
     ]
    },
    {
     "name": "stdout",
     "output_type": "stream",
     "text": [
      "===== search term =====\n",
      "(Broad nasal tip[tiab] OR  Increased breadth of nasal tip[tiab] OR  Broad upturned nose[tiab] OR  Broad tip of nose[tiab] OR  Broad upturned nose[tiab] OR  Wide nasal tip[tiab] OR  Wide tip of nose[tiab] OR  Increased width of tip of nose[tiab] OR  Increased breadth of tip of nose[tiab] OR  Increased width of nasal tip[tiab]) AND ( variat*[tiab] or SNP[tiab] or allele*[tiab] or mutat*[tiab] or polymorphism*[tiab] or haplotype*[tiab] or SNPs[tiab] or genotype[tiab] or gene[tiab] or chromosome[tiab] or deletion[tiab] or indel[tiab] or insertion[tiab] or substitution[tiab] or transition[tiab] or transversion[tiab] or translocation[tiab] or CNV[tiab] or copy number variation[tiab] or SV[tiab] or chromosome structure variation[tiab]) NOT review[pt] AND English[LA] AND (\"1980/01/01\"[DP] : \"2023/4/1\"[DP])\n",
      "Retrieved article numbers：111\n"
     ]
    },
    {
     "name": "stderr",
     "output_type": "stream",
     "text": [
      " 46%|████▌     | 272/595 [28:52<10:42,  1.99s/it]"
     ]
    },
    {
     "name": "stdout",
     "output_type": "stream",
     "text": [
      "===== search term =====\n",
      "(Bifid nasal tip[tiab] OR Notched nasal tip[tiab] OR  Bifid tip of nose[tiab] OR  Notched tip of nose[tiab] OR  Cleft tip of nose[tiab] OR  Cleft nasal tip[tiab]) AND ( variat*[tiab] or SNP[tiab] or allele*[tiab] or mutat*[tiab] or polymorphism*[tiab] or haplotype*[tiab] or SNPs[tiab] or genotype[tiab] or gene[tiab] or chromosome[tiab] or deletion[tiab] or indel[tiab] or insertion[tiab] or substitution[tiab] or transition[tiab] or transversion[tiab] or translocation[tiab] or CNV[tiab] or copy number variation[tiab] or SV[tiab] or chromosome structure variation[tiab]) NOT review[pt] AND English[LA] AND (\"1980/01/01\"[DP] : \"2023/4/1\"[DP])\n",
      "Retrieved article numbers：36\n"
     ]
    },
    {
     "name": "stderr",
     "output_type": "stream",
     "text": [
      " 46%|████▌     | 273/595 [28:54<11:31,  2.15s/it]"
     ]
    },
    {
     "name": "stdout",
     "output_type": "stream",
     "text": [
      "===== search term =====\n",
      "(Narrow nasal tip[tiab] OR  Thin nasal tip[tiab] OR  Narrow tip of nose[tiab] OR  Pinched nasal tip[tiab] OR  Thin tip of nose[tiab] OR  Pinched tip of nose[tiab]) AND ( variat*[tiab] or SNP[tiab] or allele*[tiab] or mutat*[tiab] or polymorphism*[tiab] or haplotype*[tiab] or SNPs[tiab] or genotype[tiab] or gene[tiab] or chromosome[tiab] or deletion[tiab] or indel[tiab] or insertion[tiab] or substitution[tiab] or transition[tiab] or transversion[tiab] or translocation[tiab] or CNV[tiab] or copy number variation[tiab] or SV[tiab] or chromosome structure variation[tiab]) NOT review[pt] AND English[LA] AND (\"1980/01/01\"[DP] : \"2023/4/1\"[DP])\n",
      "Retrieved article numbers：16\n"
     ]
    },
    {
     "name": "stderr",
     "output_type": "stream",
     "text": [
      " 46%|████▌     | 274/595 [28:57<11:37,  2.17s/it]"
     ]
    },
    {
     "name": "stdout",
     "output_type": "stream",
     "text": [
      "===== search term =====\n",
      "(Underdeveloped nasal alae[tiab] OR  Hypoplastic alae nasi[tiab] OR  underdeveloped Ala nasi[tiab] OR  Hypoplastic nasal wings[tiab] OR  Alar cartilage hypoplasia[tiab] OR  Thin hypoplastic alae nasi[tiab] OR  Decreased size of nasal alae[tiab] OR  Underdeveloped tissue around nostril[tiab] OR  Hypoplastic alar cartilage[tiab] OR  Hypoplastic nares[tiab] OR  Hypoplastic alar nasae[tiab] OR  Hypoplastic alae nasae[tiab] OR  Hypoplastic nostrils[tiab] OR  Small nasal alae[tiab] OR  Nasal cartilage hypoplasia[tiab] OR  Hypoplastic nasal alae[tiab]) AND ( variat*[tiab] or SNP[tiab] or allele*[tiab] or mutat*[tiab] or polymorphism*[tiab] or haplotype*[tiab] or SNPs[tiab] or genotype[tiab] or gene[tiab] or chromosome[tiab] or deletion[tiab] or indel[tiab] or insertion[tiab] or substitution[tiab] or transition[tiab] or transversion[tiab] or translocation[tiab] or CNV[tiab] or copy number variation[tiab] or SV[tiab] or chromosome structure variation[tiab]) NOT review[pt] AND English[LA] AND (\"1980/01/01\"[DP] : \"2023/4/1\"[DP])\n",
      "Retrieved article numbers：43\n"
     ]
    },
    {
     "name": "stderr",
     "output_type": "stream",
     "text": [
      " 46%|████▌     | 275/595 [28:59<11:05,  2.08s/it]"
     ]
    },
    {
     "name": "stdout",
     "output_type": "stream",
     "text": [
      "===== search term =====\n",
      "(Flat nasal alae[tiab] OR Depressed nasal alae[tiab] OR  Flat nasal alar cartilage[tiab]) AND ( variat*[tiab] or SNP[tiab] or allele*[tiab] or mutat*[tiab] or polymorphism*[tiab] or haplotype*[tiab] or SNPs[tiab] or genotype[tiab] or gene[tiab] or chromosome[tiab] or deletion[tiab] or indel[tiab] or insertion[tiab] or substitution[tiab] or transition[tiab] or transversion[tiab] or translocation[tiab] or CNV[tiab] or copy number variation[tiab] or SV[tiab] or chromosome structure variation[tiab]) NOT review[pt] AND English[LA] AND (\"1980/01/01\"[DP] : \"2023/4/1\"[DP])\n",
      "Retrieved article numbers：34\n"
     ]
    },
    {
     "name": "stderr",
     "output_type": "stream",
     "text": [
      " 46%|████▋     | 276/595 [29:00<10:35,  1.99s/it]"
     ]
    },
    {
     "name": "stdout",
     "output_type": "stream",
     "text": [
      "===== search term =====\n",
      "(Cartilaginous ossification of nose[tiab] OR Cartilaginous nasal ossification[tiab]) AND ( variat*[tiab] or SNP[tiab] or allele*[tiab] or mutat*[tiab] or polymorphism*[tiab] or haplotype*[tiab] or SNPs[tiab] or genotype[tiab] or gene[tiab] or chromosome[tiab] or deletion[tiab] or indel[tiab] or insertion[tiab] or substitution[tiab] or transition[tiab] or transversion[tiab] or translocation[tiab] or CNV[tiab] or copy number variation[tiab] or SV[tiab] or chromosome structure variation[tiab]) NOT review[pt] AND English[LA] AND (\"1980/01/01\"[DP] : \"2023/4/1\"[DP])\n",
      "Retrieved article numbers：2\n"
     ]
    },
    {
     "name": "stderr",
     "output_type": "stream",
     "text": [
      " 47%|████▋     | 277/595 [29:02<09:55,  1.87s/it]"
     ]
    },
    {
     "name": "stdout",
     "output_type": "stream",
     "text": [
      "===== search term =====\n",
      "(Thick nasal alae[tiab] OR Thickening of the alae nasi[tiab] OR  Thick ala nasi[tiab]) AND ( variat*[tiab] or SNP[tiab] or allele*[tiab] or mutat*[tiab] or polymorphism*[tiab] or haplotype*[tiab] or SNPs[tiab] or genotype[tiab] or gene[tiab] or chromosome[tiab] or deletion[tiab] or indel[tiab] or insertion[tiab] or substitution[tiab] or transition[tiab] or transversion[tiab] or translocation[tiab] or CNV[tiab] or copy number variation[tiab] or SV[tiab] or chromosome structure variation[tiab]) NOT review[pt] AND English[LA] AND (\"1980/01/01\"[DP] : \"2023/4/1\"[DP])\n",
      "Retrieved article numbers：0\n"
     ]
    },
    {
     "name": "stderr",
     "output_type": "stream",
     "text": [
      " 47%|████▋     | 278/595 [29:04<10:10,  1.92s/it]"
     ]
    },
    {
     "name": "stdout",
     "output_type": "stream",
     "text": [
      "===== search term =====\n",
      "(Cleft ala nasi[tiab] OR Cleft nostril[tiab] OR  Notched nasal alae[tiab] OR  Alar clefts[tiab] OR  Cleft nasal alae[tiab] OR  Nostril coloboma[tiab]) AND ( variat*[tiab] or SNP[tiab] or allele*[tiab] or mutat*[tiab] or polymorphism*[tiab] or haplotype*[tiab] or SNPs[tiab] or genotype[tiab] or gene[tiab] or chromosome[tiab] or deletion[tiab] or indel[tiab] or insertion[tiab] or substitution[tiab] or transition[tiab] or transversion[tiab] or translocation[tiab] or CNV[tiab] or copy number variation[tiab] or SV[tiab] or chromosome structure variation[tiab]) NOT review[pt] AND English[LA] AND (\"1980/01/01\"[DP] : \"2023/4/1\"[DP])\n",
      "Retrieved article numbers：2\n"
     ]
    },
    {
     "name": "stderr",
     "output_type": "stream",
     "text": [
      " 47%|████▋     | 279/595 [29:06<10:30,  2.00s/it]"
     ]
    },
    {
     "name": "stdout",
     "output_type": "stream",
     "text": [
      "===== search term =====\n",
      "(Flared nostrils[tiab] OR Flared nasal alae[tiab] OR  Flared nostrils[tiab]) AND ( variat*[tiab] or SNP[tiab] or allele*[tiab] or mutat*[tiab] or polymorphism*[tiab] or haplotype*[tiab] or SNPs[tiab] or genotype[tiab] or gene[tiab] or chromosome[tiab] or deletion[tiab] or indel[tiab] or insertion[tiab] or substitution[tiab] or transition[tiab] or transversion[tiab] or translocation[tiab] or CNV[tiab] or copy number variation[tiab] or SV[tiab] or chromosome structure variation[tiab]) NOT review[pt] AND English[LA] AND (\"1980/01/01\"[DP] : \"2023/4/1\"[DP])\n",
      "Retrieved article numbers：7\n"
     ]
    },
    {
     "name": "stderr",
     "output_type": "stream",
     "text": [
      " 47%|████▋     | 280/595 [29:08<10:44,  2.05s/it]"
     ]
    },
    {
     "name": "stdout",
     "output_type": "stream",
     "text": [
      "===== search term =====\n",
      "(Narrow nasal ridge[tiab] OR Decreased width of nasal ridge[tiab] OR  Narrow dorsum of nose[tiab] OR  Narrow nasal ridge[tiab] OR  Thin nasal ridge[tiab] OR  Decreased width of dorsum of nose[tiab] OR  Pinched nose[tiab] OR  Thin dorsum of nose[tiab] OR  Narrow nasal dorsum[tiab] OR  Thin nasal dorsum[tiab] OR  Decreased width of nasal dorsum[tiab]) AND ( variat*[tiab] or SNP[tiab] or allele*[tiab] or mutat*[tiab] or polymorphism*[tiab] or haplotype*[tiab] or SNPs[tiab] or genotype[tiab] or gene[tiab] or chromosome[tiab] or deletion[tiab] or indel[tiab] or insertion[tiab] or substitution[tiab] or transition[tiab] or transversion[tiab] or translocation[tiab] or CNV[tiab] or copy number variation[tiab] or SV[tiab] or chromosome structure variation[tiab]) NOT review[pt] AND English[LA] AND (\"1980/01/01\"[DP] : \"2023/4/1\"[DP])\n",
      "Retrieved article numbers：1\n"
     ]
    },
    {
     "name": "stderr",
     "output_type": "stream",
     "text": [
      " 47%|████▋     | 281/595 [29:11<10:54,  2.09s/it]"
     ]
    },
    {
     "name": "stdout",
     "output_type": "stream",
     "text": [
      "===== search term =====\n",
      "(Depressed nasal ridge[tiab] OR Depressed nasal dorsum[tiab] OR  Recessed nasal dorsum[tiab] OR  Flat nasal dorsum[tiab] OR  Depressed dorsum of nose[tiab] OR  Retruded dorsum of nose[tiab] OR  Flat dorsum of nose[tiab] OR  Retruded nasal ridge[tiab] OR  Flat nose[tiab] OR  Recessed nasal ridge[tiab] OR  Retruded nasal dorsum[tiab] OR  Recessed dorsum of nose[tiab]) AND ( variat*[tiab] or SNP[tiab] or allele*[tiab] or mutat*[tiab] or polymorphism*[tiab] or haplotype*[tiab] or SNPs[tiab] or genotype[tiab] or gene[tiab] or chromosome[tiab] or deletion[tiab] or indel[tiab] or insertion[tiab] or substitution[tiab] or transition[tiab] or transversion[tiab] or translocation[tiab] or CNV[tiab] or copy number variation[tiab] or SV[tiab] or chromosome structure variation[tiab]) NOT review[pt] AND English[LA] AND (\"1980/01/01\"[DP] : \"2023/4/1\"[DP])\n",
      "Retrieved article numbers：25\n"
     ]
    },
    {
     "name": "stderr",
     "output_type": "stream",
     "text": [
      " 47%|████▋     | 282/595 [29:13<11:03,  2.12s/it]"
     ]
    },
    {
     "name": "stdout",
     "output_type": "stream",
     "text": [
      "===== search term =====\n",
      "(Wide nasal ridge[tiab] OR Broad nasal ridge[tiab] OR  Broad dorsum of nose[tiab] OR  Wide dorsum of nose[tiab] OR  Wide nasal ridge[tiab] OR  Increased width of nasal ridge[tiab] OR  Increased width of nasal dorsum[tiab] OR  Broad nasal dorsum[tiab] OR  Increased width of dorsum of nose[tiab] OR  Wide nasal dorsum[tiab]) AND ( variat*[tiab] or SNP[tiab] or allele*[tiab] or mutat*[tiab] or polymorphism*[tiab] or haplotype*[tiab] or SNPs[tiab] or genotype[tiab] or gene[tiab] or chromosome[tiab] or deletion[tiab] or indel[tiab] or insertion[tiab] or substitution[tiab] or transition[tiab] or transversion[tiab] or translocation[tiab] or CNV[tiab] or copy number variation[tiab] or SV[tiab] or chromosome structure variation[tiab]) NOT review[pt] AND English[LA] AND (\"1980/01/01\"[DP] : \"2023/4/1\"[DP])\n",
      "Retrieved article numbers：29\n"
     ]
    },
    {
     "name": "stderr",
     "output_type": "stream",
     "text": [
      " 48%|████▊     | 283/595 [29:16<12:09,  2.34s/it]"
     ]
    },
    {
     "name": "stdout",
     "output_type": "stream",
     "text": [
      "===== search term =====\n",
      "(Large beaked nose[tiab] OR Large beaked nose[tiab]) AND ( variat*[tiab] or SNP[tiab] or allele*[tiab] or mutat*[tiab] or polymorphism*[tiab] or haplotype*[tiab] or SNPs[tiab] or genotype[tiab] or gene[tiab] or chromosome[tiab] or deletion[tiab] or indel[tiab] or insertion[tiab] or substitution[tiab] or transition[tiab] or transversion[tiab] or translocation[tiab] or CNV[tiab] or copy number variation[tiab] or SV[tiab] or chromosome structure variation[tiab]) NOT review[pt] AND English[LA] AND (\"1980/01/01\"[DP] : \"2023/4/1\"[DP])\n",
      "Retrieved article numbers：7\n"
     ]
    },
    {
     "name": "stderr",
     "output_type": "stream",
     "text": [
      " 48%|████▊     | 284/595 [29:18<11:42,  2.26s/it]"
     ]
    },
    {
     "name": "stdout",
     "output_type": "stream",
     "text": [
      "===== search term =====\n",
      "(Convex nasal ridge[tiab] OR Convex nasal dorsum[tiab] OR  Convex dorsum of nose[tiab] OR  Beaked nose[tiab] OR  Beaklike protrusion[tiab] OR  Hooked nose[tiab] OR  Polly beak nasal deformity[tiab]) AND ( variat*[tiab] or SNP[tiab] or allele*[tiab] or mutat*[tiab] or polymorphism*[tiab] or haplotype*[tiab] or SNPs[tiab] or genotype[tiab] or gene[tiab] or chromosome[tiab] or deletion[tiab] or indel[tiab] or insertion[tiab] or substitution[tiab] or transition[tiab] or transversion[tiab] or translocation[tiab] or CNV[tiab] or copy number variation[tiab] or SV[tiab] or chromosome structure variation[tiab]) NOT review[pt] AND English[LA] AND (\"1980/01/01\"[DP] : \"2023/4/1\"[DP])\n",
      "Retrieved article numbers：7\n"
     ]
    },
    {
     "name": "stderr",
     "output_type": "stream",
     "text": [
      " 48%|████▊     | 285/595 [29:19<10:58,  2.12s/it]"
     ]
    },
    {
     "name": "stdout",
     "output_type": "stream",
     "text": [
      "===== search term =====\n",
      "(Concave nasal ridge[tiab] OR Concave nasal dorsum[tiab] OR  Concave dorsum of nose[tiab] OR  Boxer's nasal deformity[tiab] OR  Saddle nose[tiab] OR  Boxer's nose deformity[tiab] OR  Ski jump nose[tiab] OR  Saddle nose deformity[tiab] OR  Saddle shaped nasal dorsum[tiab]) AND ( variat*[tiab] or SNP[tiab] or allele*[tiab] or mutat*[tiab] or polymorphism*[tiab] or haplotype*[tiab] or SNPs[tiab] or genotype[tiab] or gene[tiab] or chromosome[tiab] or deletion[tiab] or indel[tiab] or insertion[tiab] or substitution[tiab] or transition[tiab] or transversion[tiab] or translocation[tiab] or CNV[tiab] or copy number variation[tiab] or SV[tiab] or chromosome structure variation[tiab]) NOT review[pt] AND English[LA] AND (\"1980/01/01\"[DP] : \"2023/4/1\"[DP])\n",
      "Retrieved article numbers：55\n"
     ]
    },
    {
     "name": "stderr",
     "output_type": "stream",
     "text": [
      " 48%|████▊     | 286/595 [29:21<10:20,  2.01s/it]"
     ]
    },
    {
     "name": "stdout",
     "output_type": "stream",
     "text": [
      "===== search term =====\n",
      "(Low hanging columella[tiab] OR Columella low[tiab] OR Columella low hanging[tiab] OR  Extension of the columella below the ala nasi[tiab] OR  Prominent columella[tiab] OR  Columella extends below the ala nasi[tiab] OR  Low-hanging columella[tiab] OR  Rounded columella[tiab]) AND ( variat*[tiab] or SNP[tiab] or allele*[tiab] or mutat*[tiab] or polymorphism*[tiab] or haplotype*[tiab] or SNPs[tiab] or genotype[tiab] or gene[tiab] or chromosome[tiab] or deletion[tiab] or indel[tiab] or insertion[tiab] or substitution[tiab] or transition[tiab] or transversion[tiab] or translocation[tiab] or CNV[tiab] or copy number variation[tiab] or SV[tiab] or chromosome structure variation[tiab]) NOT review[pt] AND English[LA] AND (\"1980/01/01\"[DP] : \"2023/4/1\"[DP])\n",
      "Retrieved article numbers：35\n"
     ]
    },
    {
     "name": "stderr",
     "output_type": "stream",
     "text": [
      " 48%|████▊     | 287/595 [29:23<10:32,  2.06s/it]"
     ]
    },
    {
     "name": "stdout",
     "output_type": "stream",
     "text": [
      "===== search term =====\n",
      "(Short columella[tiab] OR Columella short[tiab] OR  Hypoplasia of columella[tiab] OR  Decreased length of columella[tiab]) AND ( variat*[tiab] or SNP[tiab] or allele*[tiab] or mutat*[tiab] or polymorphism*[tiab] or haplotype*[tiab] or SNPs[tiab] or genotype[tiab] or gene[tiab] or chromosome[tiab] or deletion[tiab] or indel[tiab] or insertion[tiab] or substitution[tiab] or transition[tiab] or transversion[tiab] or translocation[tiab] or CNV[tiab] or copy number variation[tiab] or SV[tiab] or chromosome structure variation[tiab]) NOT review[pt] AND English[LA] AND (\"1980/01/01\"[DP] : \"2023/4/1\"[DP])\n",
      "Retrieved article numbers：49\n"
     ]
    },
    {
     "name": "stderr",
     "output_type": "stream",
     "text": [
      " 48%|████▊     | 288/595 [29:26<11:06,  2.17s/it]"
     ]
    },
    {
     "name": "stdout",
     "output_type": "stream",
     "text": [
      "===== search term =====\n",
      "(High insertion of columella[tiab] OR Ala lower than columella[tiab] OR  High insertion columella[tiab]) AND ( variat*[tiab] or SNP[tiab] or allele*[tiab] or mutat*[tiab] or polymorphism*[tiab] or haplotype*[tiab] or SNPs[tiab] or genotype[tiab] or gene[tiab] or chromosome[tiab] or deletion[tiab] or indel[tiab] or insertion[tiab] or substitution[tiab] or transition[tiab] or transversion[tiab] or translocation[tiab] or CNV[tiab] or copy number variation[tiab] or SV[tiab] or chromosome structure variation[tiab]) NOT review[pt] AND English[LA] AND (\"1980/01/01\"[DP] : \"2023/4/1\"[DP])\n",
      "Retrieved article numbers：70\n"
     ]
    },
    {
     "name": "stderr",
     "output_type": "stream",
     "text": [
      " 49%|████▊     | 289/595 [29:28<10:40,  2.09s/it]"
     ]
    },
    {
     "name": "stdout",
     "output_type": "stream",
     "text": [
      "===== search term =====\n",
      "(Broad columella[tiab] OR Increased width of columella[tiab] OR  Fullness of columella[tiab] OR   broad columella[tiab] OR  Hyperplasia of columella[tiab] OR  wide columella[tiab]) AND ( variat*[tiab] or SNP[tiab] or allele*[tiab] or mutat*[tiab] or polymorphism*[tiab] or haplotype*[tiab] or SNPs[tiab] or genotype[tiab] or gene[tiab] or chromosome[tiab] or deletion[tiab] or indel[tiab] or insertion[tiab] or substitution[tiab] or transition[tiab] or transversion[tiab] or translocation[tiab] or CNV[tiab] or copy number variation[tiab] or SV[tiab] or chromosome structure variation[tiab]) NOT review[pt] AND English[LA] AND (\"1980/01/01\"[DP] : \"2023/4/1\"[DP])\n",
      "Retrieved article numbers：1\n"
     ]
    },
    {
     "name": "stderr",
     "output_type": "stream",
     "text": [
      " 49%|████▊     | 290/595 [29:38<22:50,  4.49s/it]"
     ]
    },
    {
     "name": "stdout",
     "output_type": "stream",
     "text": [
      "===== search term =====\n",
      "(Low insertion of columella[tiab] OR  low insertion columella[tiab] OR  Ala higher than columella[tiab]) AND ( variat*[tiab] or SNP[tiab] or allele*[tiab] or mutat*[tiab] or polymorphism*[tiab] or haplotype*[tiab] or SNPs[tiab] or genotype[tiab] or gene[tiab] or chromosome[tiab] or deletion[tiab] or indel[tiab] or insertion[tiab] or substitution[tiab] or transition[tiab] or transversion[tiab] or translocation[tiab] or CNV[tiab] or copy number variation[tiab] or SV[tiab] or chromosome structure variation[tiab]) NOT review[pt] AND English[LA] AND (\"1980/01/01\"[DP] : \"2023/4/1\"[DP])\n",
      "Retrieved article numbers：12\n"
     ]
    },
    {
     "name": "stderr",
     "output_type": "stream",
     "text": [
      " 49%|████▉     | 291/595 [29:40<19:37,  3.87s/it]"
     ]
    },
    {
     "name": "stdout",
     "output_type": "stream",
     "text": [
      "===== search term =====\n",
      "( Absent nasal cartilage[tiab] OR Failure of development of cartilage of nose[tiab] OR  Failure of development of nasal cartilage[tiab] OR  Absent nasal cartilage[tiab] OR  Absent cartilage of nose[tiab] OR  Agenesis of cartilage of nose[tiab] OR  Missing cartilage of nose[tiab] OR  Agenesis of nasal cartilage[tiab] OR  Missing nasal cartilage[tiab]) AND ( variat*[tiab] or SNP[tiab] or allele*[tiab] or mutat*[tiab] or polymorphism*[tiab] or haplotype*[tiab] or SNPs[tiab] or genotype[tiab] or gene[tiab] or chromosome[tiab] or deletion[tiab] or indel[tiab] or insertion[tiab] or substitution[tiab] or transition[tiab] or transversion[tiab] or translocation[tiab] or CNV[tiab] or copy number variation[tiab] or SV[tiab] or chromosome structure variation[tiab]) NOT review[pt] AND English[LA] AND (\"1980/01/01\"[DP] : \"2023/4/1\"[DP])\n",
      "Retrieved article numbers：2\n"
     ]
    },
    {
     "name": "stderr",
     "output_type": "stream",
     "text": [
      " 49%|████▉     | 292/595 [29:42<16:30,  3.27s/it]"
     ]
    },
    {
     "name": "stdout",
     "output_type": "stream",
     "text": [
      "===== search term =====\n",
      "(Wide nasal bridge[tiab] OR Increased breadth of nasal bridge[tiab] OR  Broad nasal root[tiab] OR  Increased breadth of bridge of nose[tiab] OR  Broadened nasal bridge[tiab] OR  Wide nasal bridge[tiab] OR  Nasal bridge broad[tiab] OR  Widened nasal bridge[tiab] OR  Increased width of bridge of nose[tiab] OR  Increased width of nasal bridge[tiab] OR  Broad flat nasal bridge[tiab] OR  Broad nasal bridge[tiab] OR  Wide bridge of nose[tiab]) AND ( variat*[tiab] or SNP[tiab] or allele*[tiab] or mutat*[tiab] or polymorphism*[tiab] or haplotype*[tiab] or SNPs[tiab] or genotype[tiab] or gene[tiab] or chromosome[tiab] or deletion[tiab] or indel[tiab] or insertion[tiab] or substitution[tiab] or transition[tiab] or transversion[tiab] or translocation[tiab] or CNV[tiab] or copy number variation[tiab] or SV[tiab] or chromosome structure variation[tiab]) NOT review[pt] AND English[LA] AND (\"1980/01/01\"[DP] : \"2023/4/1\"[DP])\n",
      "Retrieved article numbers：3\n"
     ]
    },
    {
     "name": "stderr",
     "output_type": "stream",
     "text": [
      " 49%|████▉     | 293/595 [29:45<15:47,  3.14s/it]"
     ]
    },
    {
     "name": "stdout",
     "output_type": "stream",
     "text": [
      "===== search term =====\n",
      "(Depressed nasal bridge[tiab] OR Low nasal bridge[tiab] OR  Concave nasal bridge[tiab] OR  Low nasal root[tiab] OR  Depressed bridge of nose[tiab] OR  Flat bridge of nose[tiab] OR  Concave bridge of nose[tiab] OR  Depressed nasal bridge[tiab] OR  Flat nasal bridge[tiab] OR  Flattened nasal bridge[tiab] OR  Depressed nasal root/bridge[tiab] OR  Retruded bridge of nose[tiab] OR  Flat nasal root[tiab] OR  Flat nasal bridge[tiab] OR  Retruded nasal bridge[tiab] OR  Depressed nasal root[tiab]) AND ( variat*[tiab] or SNP[tiab] or allele*[tiab] or mutat*[tiab] or polymorphism*[tiab] or haplotype*[tiab] or SNPs[tiab] or genotype[tiab] or gene[tiab] or chromosome[tiab] or deletion[tiab] or indel[tiab] or insertion[tiab] or substitution[tiab] or transition[tiab] or transversion[tiab] or translocation[tiab] or CNV[tiab] or copy number variation[tiab] or SV[tiab] or chromosome structure variation[tiab]) NOT review[pt] AND English[LA] AND (\"1980/01/01\"[DP] : \"2023/4/1\"[DP])\n",
      "Retrieved article numbers：274\n"
     ]
    },
    {
     "name": "stderr",
     "output_type": "stream",
     "text": [
      " 49%|████▉     | 294/595 [29:47<14:32,  2.90s/it]"
     ]
    },
    {
     "name": "stdout",
     "output_type": "stream",
     "text": [
      "===== search term =====\n",
      "(Short nasal bridge[tiab] OR Short nasal bridge[tiab] OR  Short bridge of nose[tiab] OR  Decreased length of bridge of nose[tiab] OR  Decreased length of nasal bridge[tiab]) AND ( variat*[tiab] or SNP[tiab] or allele*[tiab] or mutat*[tiab] or polymorphism*[tiab] or haplotype*[tiab] or SNPs[tiab] or genotype[tiab] or gene[tiab] or chromosome[tiab] or deletion[tiab] or indel[tiab] or insertion[tiab] or substitution[tiab] or transition[tiab] or transversion[tiab] or translocation[tiab] or CNV[tiab] or copy number variation[tiab] or SV[tiab] or chromosome structure variation[tiab]) NOT review[pt] AND English[LA] AND (\"1980/01/01\"[DP] : \"2023/4/1\"[DP])\n",
      "Retrieved article numbers：301\n"
     ]
    },
    {
     "name": "stderr",
     "output_type": "stream",
     "text": [
      " 50%|████▉     | 295/595 [29:49<13:01,  2.60s/it]"
     ]
    },
    {
     "name": "stdout",
     "output_type": "stream",
     "text": [
      "===== search term =====\n",
      "(Prominent nasal bridge[tiab] OR Prominent nasal bridge[tiab] OR  Elevated nasal bridge[tiab] OR  High nasal bridge[tiab] OR  Convex bridge of nose[tiab] OR  Protruding nasal bridge[tiab] OR  Prominent nasal root[tiab] OR  Protruding bridge of nose[tiab] OR  Prominent bridge of nose[tiab] OR  Convex nasal bridge[tiab]) AND ( variat*[tiab] or SNP[tiab] or allele*[tiab] or mutat*[tiab] or polymorphism*[tiab] or haplotype*[tiab] or SNPs[tiab] or genotype[tiab] or gene[tiab] or chromosome[tiab] or deletion[tiab] or indel[tiab] or insertion[tiab] or substitution[tiab] or transition[tiab] or transversion[tiab] or translocation[tiab] or CNV[tiab] or copy number variation[tiab] or SV[tiab] or chromosome structure variation[tiab]) NOT review[pt] AND English[LA] AND (\"1980/01/01\"[DP] : \"2023/4/1\"[DP])\n",
      "Retrieved article numbers：5\n"
     ]
    },
    {
     "name": "stderr",
     "output_type": "stream",
     "text": [
      " 50%|████▉     | 296/595 [29:52<12:45,  2.56s/it]"
     ]
    },
    {
     "name": "stdout",
     "output_type": "stream",
     "text": [
      "===== search term =====\n",
      "(Hypoplastic nasal bridge[tiab] OR Small nasal bridge[tiab] OR  Decreased size of bridge of nose[tiab] OR  Hypotrophic bridge of nose[tiab] OR  Small bridge of nose[tiab] OR  Hypotrophic nasal bridge[tiab] OR  Hypoplastic bridge of nose[tiab] OR  Decreased size of nasal bridge[tiab]) AND ( variat*[tiab] or SNP[tiab] or allele*[tiab] or mutat*[tiab] or polymorphism*[tiab] or haplotype*[tiab] or SNPs[tiab] or genotype[tiab] or gene[tiab] or chromosome[tiab] or deletion[tiab] or indel[tiab] or insertion[tiab] or substitution[tiab] or transition[tiab] or transversion[tiab] or translocation[tiab] or CNV[tiab] or copy number variation[tiab] or SV[tiab] or chromosome structure variation[tiab]) NOT review[pt] AND English[LA] AND (\"1980/01/01\"[DP] : \"2023/4/1\"[DP])\n",
      "Retrieved article numbers：102\n"
     ]
    },
    {
     "name": "stderr",
     "output_type": "stream",
     "text": [
      " 50%|████▉     | 297/595 [29:54<12:06,  2.44s/it]"
     ]
    },
    {
     "name": "stdout",
     "output_type": "stream",
     "text": [
      "===== search term =====\n",
      "(Absent nasal bridge[tiab] OR Agenesis of bridge of nose[tiab] OR  Absent bridge of nose[tiab] OR  Missing nasal bridge[tiab] OR  Absent nasal bridge[tiab] OR  Missing bridge of nose[tiab] OR  Agenesis of nasal bridge[tiab]) AND ( variat*[tiab] or SNP[tiab] or allele*[tiab] or mutat*[tiab] or polymorphism*[tiab] or haplotype*[tiab] or SNPs[tiab] or genotype[tiab] or gene[tiab] or chromosome[tiab] or deletion[tiab] or indel[tiab] or insertion[tiab] or substitution[tiab] or transition[tiab] or transversion[tiab] or translocation[tiab] or CNV[tiab] or copy number variation[tiab] or SV[tiab] or chromosome structure variation[tiab]) NOT review[pt] AND English[LA] AND (\"1980/01/01\"[DP] : \"2023/4/1\"[DP])\n",
      "Retrieved article numbers：129\n"
     ]
    },
    {
     "name": "stderr",
     "output_type": "stream",
     "text": [
      " 50%|█████     | 298/595 [29:56<11:09,  2.25s/it]"
     ]
    },
    {
     "name": "stdout",
     "output_type": "stream",
     "text": [
      "===== search term =====\n",
      "(Narrow nasal bridge[tiab] OR Pinched nasal bridge[tiab] OR  Narrow nasal root[tiab] OR  Narrow nasal bridge[tiab] OR  Narrow bridge of nose[tiab] OR  Thin nasal bridge[tiab] OR  Pinched bridge of nose[tiab]) AND ( variat*[tiab] or SNP[tiab] or allele*[tiab] or mutat*[tiab] or polymorphism*[tiab] or haplotype*[tiab] or SNPs[tiab] or genotype[tiab] or gene[tiab] or chromosome[tiab] or deletion[tiab] or indel[tiab] or insertion[tiab] or substitution[tiab] or transition[tiab] or transversion[tiab] or translocation[tiab] or CNV[tiab] or copy number variation[tiab] or SV[tiab] or chromosome structure variation[tiab]) NOT review[pt] AND English[LA] AND (\"1980/01/01\"[DP] : \"2023/4/1\"[DP])\n",
      "Retrieved article numbers：350\n"
     ]
    },
    {
     "name": "stderr",
     "output_type": "stream",
     "text": [
      " 50%|█████     | 299/595 [29:58<10:50,  2.20s/it]"
     ]
    },
    {
     "name": "stdout",
     "output_type": "stream",
     "text": [
      "===== search term =====\n",
      "(Long nasal bridge[tiab]) AND ( variat*[tiab] or SNP[tiab] or allele*[tiab] or mutat*[tiab] or polymorphism*[tiab] or haplotype*[tiab] or SNPs[tiab] or genotype[tiab] or gene[tiab] or chromosome[tiab] or deletion[tiab] or indel[tiab] or insertion[tiab] or substitution[tiab] or transition[tiab] or transversion[tiab] or translocation[tiab] or CNV[tiab] or copy number variation[tiab] or SV[tiab] or chromosome structure variation[tiab]) NOT review[pt] AND English[LA] AND (\"1980/01/01\"[DP] : \"2023/4/1\"[DP])\n",
      "Retrieved article numbers：84\n"
     ]
    },
    {
     "name": "stderr",
     "output_type": "stream",
     "text": [
      " 50%|█████     | 300/595 [29:59<10:08,  2.06s/it]"
     ]
    },
    {
     "name": "stdout",
     "output_type": "stream",
     "text": [
      "===== search term =====\n",
      "(Aplasia of the nose[tiab] OR Absent nose[tiab] OR  Underdevelopment of nose[tiab] OR  Arrhinia[tiab] OR  Nasal underdevelopment[tiab] OR  Missing nose[tiab] OR  Failure of development of nose[tiab]) AND ( variat*[tiab] or SNP[tiab] or allele*[tiab] or mutat*[tiab] or polymorphism*[tiab] or haplotype*[tiab] or SNPs[tiab] or genotype[tiab] or gene[tiab] or chromosome[tiab] or deletion[tiab] or indel[tiab] or insertion[tiab] or substitution[tiab] or transition[tiab] or transversion[tiab] or translocation[tiab] or CNV[tiab] or copy number variation[tiab] or SV[tiab] or chromosome structure variation[tiab]) NOT review[pt] AND English[LA] AND (\"1980/01/01\"[DP] : \"2023/4/1\"[DP])\n",
      "Retrieved article numbers：2\n"
     ]
    },
    {
     "name": "stderr",
     "output_type": "stream",
     "text": [
      " 51%|█████     | 301/595 [30:02<10:36,  2.17s/it]"
     ]
    },
    {
     "name": "stdout",
     "output_type": "stream",
     "text": [
      "===== search term =====\n",
      "(Hypoplasia of the nasal bone[tiab] OR Underdevelopment of nasal bone[tiab] OR  Nasal bone hypoplasia[tiab] OR  Decreased size of nasal bone[tiab] OR  Small nasal bone[tiab] OR  Deficiency of nasal bone[tiab] OR  Hypotrophic nasal bone[tiab]) AND ( variat*[tiab] or SNP[tiab] or allele*[tiab] or mutat*[tiab] or polymorphism*[tiab] or haplotype*[tiab] or SNPs[tiab] or genotype[tiab] or gene[tiab] or chromosome[tiab] or deletion[tiab] or indel[tiab] or insertion[tiab] or substitution[tiab] or transition[tiab] or transversion[tiab] or translocation[tiab] or CNV[tiab] or copy number variation[tiab] or SV[tiab] or chromosome structure variation[tiab]) NOT review[pt] AND English[LA] AND (\"1980/01/01\"[DP] : \"2023/4/1\"[DP])\n",
      "Retrieved article numbers：15\n"
     ]
    },
    {
     "name": "stderr",
     "output_type": "stream",
     "text": [
      " 51%|█████     | 302/595 [30:04<10:44,  2.20s/it]"
     ]
    },
    {
     "name": "stdout",
     "output_type": "stream",
     "text": [
      "===== search term =====\n",
      "(Bifid nose[tiab] OR Cleft nasal bridge[tiab] OR  Indented bridge of nose[tiab] OR  Cleft nose[tiab] OR  Bifid nasal bridge[tiab] OR  \"Indentation or clefting of the nose\"[tiab]) AND ( variat*[tiab] or SNP[tiab] or allele*[tiab] or mutat*[tiab] or polymorphism*[tiab] or haplotype*[tiab] or SNPs[tiab] or genotype[tiab] or gene[tiab] or chromosome[tiab] or deletion[tiab] or indel[tiab] or insertion[tiab] or substitution[tiab] or transition[tiab] or transversion[tiab] or translocation[tiab] or CNV[tiab] or copy number variation[tiab] or SV[tiab] or chromosome structure variation[tiab]) NOT review[pt] AND English[LA] AND (\"1980/01/01\"[DP] : \"2023/4/1\"[DP])\n",
      "Retrieved article numbers：67\n"
     ]
    },
    {
     "name": "stderr",
     "output_type": "stream",
     "text": [
      " 51%|█████     | 303/595 [30:06<10:07,  2.08s/it]"
     ]
    },
    {
     "name": "stdout",
     "output_type": "stream",
     "text": [
      "===== search term =====\n",
      "(Midline nasal groove[tiab] OR Central nasal groove[tiab] OR  Midline nasal groove[tiab]) AND ( variat*[tiab] or SNP[tiab] or allele*[tiab] or mutat*[tiab] or polymorphism*[tiab] or haplotype*[tiab] or SNPs[tiab] or genotype[tiab] or gene[tiab] or chromosome[tiab] or deletion[tiab] or indel[tiab] or insertion[tiab] or substitution[tiab] or transition[tiab] or transversion[tiab] or translocation[tiab] or CNV[tiab] or copy number variation[tiab] or SV[tiab] or chromosome structure variation[tiab]) NOT review[pt] AND English[LA] AND (\"1980/01/01\"[DP] : \"2023/4/1\"[DP])\n",
      "Retrieved article numbers：99\n"
     ]
    },
    {
     "name": "stderr",
     "output_type": "stream",
     "text": [
      " 51%|█████     | 304/595 [30:08<10:12,  2.11s/it]"
     ]
    },
    {
     "name": "stdout",
     "output_type": "stream",
     "text": [
      "===== search term =====\n",
      "(Thin anteverted nares[tiab]) AND ( variat*[tiab] or SNP[tiab] or allele*[tiab] or mutat*[tiab] or polymorphism*[tiab] or haplotype*[tiab] or SNPs[tiab] or genotype[tiab] or gene[tiab] or chromosome[tiab] or deletion[tiab] or indel[tiab] or insertion[tiab] or substitution[tiab] or transition[tiab] or transversion[tiab] or translocation[tiab] or CNV[tiab] or copy number variation[tiab] or SV[tiab] or chromosome structure variation[tiab]) NOT review[pt] AND English[LA] AND (\"1980/01/01\"[DP] : \"2023/4/1\"[DP])\n",
      "Retrieved article numbers：1\n"
     ]
    },
    {
     "name": "stderr",
     "output_type": "stream",
     "text": [
      " 51%|█████▏    | 305/595 [30:11<11:08,  2.31s/it]"
     ]
    },
    {
     "name": "stdout",
     "output_type": "stream",
     "text": [
      "===== search term =====\n",
      "( Bony paranasal bossing[tiab]) AND ( variat*[tiab] or SNP[tiab] or allele*[tiab] or mutat*[tiab] or polymorphism*[tiab] or haplotype*[tiab] or SNPs[tiab] or genotype[tiab] or gene[tiab] or chromosome[tiab] or deletion[tiab] or indel[tiab] or insertion[tiab] or substitution[tiab] or transition[tiab] or transversion[tiab] or translocation[tiab] or CNV[tiab] or copy number variation[tiab] or SV[tiab] or chromosome structure variation[tiab]) NOT review[pt] AND English[LA] AND (\"1980/01/01\"[DP] : \"2023/4/1\"[DP])\n",
      "Retrieved article numbers：19\n"
     ]
    },
    {
     "name": "stderr",
     "output_type": "stream",
     "text": [
      " 51%|█████▏    | 306/595 [30:13<10:17,  2.14s/it]"
     ]
    },
    {
     "name": "stdout",
     "output_type": "stream",
     "text": [
      "===== search term =====\n",
      "(Abnormal size of nasopharyngeal adenoids[tiab]) AND ( variat*[tiab] or SNP[tiab] or allele*[tiab] or mutat*[tiab] or polymorphism*[tiab] or haplotype*[tiab] or SNPs[tiab] or genotype[tiab] or gene[tiab] or chromosome[tiab] or deletion[tiab] or indel[tiab] or insertion[tiab] or substitution[tiab] or transition[tiab] or transversion[tiab] or translocation[tiab] or CNV[tiab] or copy number variation[tiab] or SV[tiab] or chromosome structure variation[tiab]) NOT review[pt] AND English[LA] AND (\"1980/01/01\"[DP] : \"2023/4/1\"[DP])\n",
      "Retrieved article numbers：0\n"
     ]
    },
    {
     "name": "stderr",
     "output_type": "stream",
     "text": [
      " 52%|█████▏    | 307/595 [30:14<09:41,  2.02s/it]"
     ]
    },
    {
     "name": "stdout",
     "output_type": "stream",
     "text": [
      "===== search term =====\n",
      "(Aplastic/Hypoplastic nasopharyngeal adenoids[tiab] OR  \"Adenoids small or absent\"[tiab]) AND ( variat*[tiab] or SNP[tiab] or allele*[tiab] or mutat*[tiab] or polymorphism*[tiab] or haplotype*[tiab] or SNPs[tiab] or genotype[tiab] or gene[tiab] or chromosome[tiab] or deletion[tiab] or indel[tiab] or insertion[tiab] or substitution[tiab] or transition[tiab] or transversion[tiab] or translocation[tiab] or CNV[tiab] or copy number variation[tiab] or SV[tiab] or chromosome structure variation[tiab]) NOT review[pt] AND English[LA] AND (\"1980/01/01\"[DP] : \"2023/4/1\"[DP])\n",
      "Retrieved article numbers：0\n"
     ]
    },
    {
     "name": "stderr",
     "output_type": "stream",
     "text": [
      " 52%|█████▏    | 308/595 [30:16<09:53,  2.07s/it]"
     ]
    },
    {
     "name": "stdout",
     "output_type": "stream",
     "text": [
      "===== search term =====\n",
      "(Adenoiditis[tiab]) AND ( variat*[tiab] or SNP[tiab] or allele*[tiab] or mutat*[tiab] or polymorphism*[tiab] or haplotype*[tiab] or SNPs[tiab] or genotype[tiab] or gene[tiab] or chromosome[tiab] or deletion[tiab] or indel[tiab] or insertion[tiab] or substitution[tiab] or transition[tiab] or transversion[tiab] or translocation[tiab] or CNV[tiab] or copy number variation[tiab] or SV[tiab] or chromosome structure variation[tiab]) NOT review[pt] AND English[LA] AND (\"1980/01/01\"[DP] : \"2023/4/1\"[DP])\n",
      "Retrieved article numbers：0\n"
     ]
    },
    {
     "name": "stderr",
     "output_type": "stream",
     "text": [
      " 52%|█████▏    | 309/595 [30:19<09:59,  2.10s/it]"
     ]
    },
    {
     "name": "stdout",
     "output_type": "stream",
     "text": [
      "===== search term =====\n",
      "(Recurrent bronchitis[tiab]) AND ( variat*[tiab] or SNP[tiab] or allele*[tiab] or mutat*[tiab] or polymorphism*[tiab] or haplotype*[tiab] or SNPs[tiab] or genotype[tiab] or gene[tiab] or chromosome[tiab] or deletion[tiab] or indel[tiab] or insertion[tiab] or substitution[tiab] or transition[tiab] or transversion[tiab] or translocation[tiab] or CNV[tiab] or copy number variation[tiab] or SV[tiab] or chromosome structure variation[tiab]) NOT review[pt] AND English[LA] AND (\"1980/01/01\"[DP] : \"2023/4/1\"[DP])\n",
      "Retrieved article numbers：8\n"
     ]
    },
    {
     "name": "stderr",
     "output_type": "stream",
     "text": [
      " 52%|█████▏    | 310/595 [30:21<10:16,  2.16s/it]"
     ]
    },
    {
     "name": "stdout",
     "output_type": "stream",
     "text": [
      "===== search term =====\n",
      "(Recurrent upper and lower respiratory tract infections[tiab]) AND ( variat*[tiab] or SNP[tiab] or allele*[tiab] or mutat*[tiab] or polymorphism*[tiab] or haplotype*[tiab] or SNPs[tiab] or genotype[tiab] or gene[tiab] or chromosome[tiab] or deletion[tiab] or indel[tiab] or insertion[tiab] or substitution[tiab] or transition[tiab] or transversion[tiab] or translocation[tiab] or CNV[tiab] or copy number variation[tiab] or SV[tiab] or chromosome structure variation[tiab]) NOT review[pt] AND English[LA] AND (\"1980/01/01\"[DP] : \"2023/4/1\"[DP])\n",
      "Retrieved article numbers：15\n"
     ]
    },
    {
     "name": "stderr",
     "output_type": "stream",
     "text": [
      " 52%|█████▏    | 311/595 [30:25<12:36,  2.66s/it]"
     ]
    },
    {
     "name": "stdout",
     "output_type": "stream",
     "text": [
      "===== search term =====\n",
      "(Recurrent viral upper respiratory tract infections[tiab]) AND ( variat*[tiab] or SNP[tiab] or allele*[tiab] or mutat*[tiab] or polymorphism*[tiab] or haplotype*[tiab] or SNPs[tiab] or genotype[tiab] or gene[tiab] or chromosome[tiab] or deletion[tiab] or indel[tiab] or insertion[tiab] or substitution[tiab] or transition[tiab] or transversion[tiab] or translocation[tiab] or CNV[tiab] or copy number variation[tiab] or SV[tiab] or chromosome structure variation[tiab]) NOT review[pt] AND English[LA] AND (\"1980/01/01\"[DP] : \"2023/4/1\"[DP])\n",
      "Retrieved article numbers：4\n"
     ]
    },
    {
     "name": "stderr",
     "output_type": "stream",
     "text": [
      " 52%|█████▏    | 312/595 [30:28<12:44,  2.70s/it]"
     ]
    },
    {
     "name": "stdout",
     "output_type": "stream",
     "text": [
      "===== search term =====\n",
      "(Recurrent bacterial upper respiratory tract infections[tiab] OR Recurrent bacterial URI[tiab]) AND ( variat*[tiab] or SNP[tiab] or allele*[tiab] or mutat*[tiab] or polymorphism*[tiab] or haplotype*[tiab] or SNPs[tiab] or genotype[tiab] or gene[tiab] or chromosome[tiab] or deletion[tiab] or indel[tiab] or insertion[tiab] or substitution[tiab] or transition[tiab] or transversion[tiab] or translocation[tiab] or CNV[tiab] or copy number variation[tiab] or SV[tiab] or chromosome structure variation[tiab]) NOT review[pt] AND English[LA] AND (\"1980/01/01\"[DP] : \"2023/4/1\"[DP])\n",
      "Retrieved article numbers：2\n"
     ]
    },
    {
     "name": "stderr",
     "output_type": "stream",
     "text": [
      " 53%|█████▎    | 313/595 [30:29<11:24,  2.43s/it]"
     ]
    },
    {
     "name": "stdout",
     "output_type": "stream",
     "text": [
      "===== search term =====\n",
      "(Recurrent sinusitis[tiab] OR Recurrent sinus disease[tiab]) AND ( variat*[tiab] or SNP[tiab] or allele*[tiab] or mutat*[tiab] or polymorphism*[tiab] or haplotype*[tiab] or SNPs[tiab] or genotype[tiab] or gene[tiab] or chromosome[tiab] or deletion[tiab] or indel[tiab] or insertion[tiab] or substitution[tiab] or transition[tiab] or transversion[tiab] or translocation[tiab] or CNV[tiab] or copy number variation[tiab] or SV[tiab] or chromosome structure variation[tiab]) NOT review[pt] AND English[LA] AND (\"1980/01/01\"[DP] : \"2023/4/1\"[DP])\n",
      "Retrieved article numbers：0\n"
     ]
    },
    {
     "name": "stderr",
     "output_type": "stream",
     "text": [
      " 53%|█████▎    | 314/595 [30:31<10:46,  2.30s/it]"
     ]
    },
    {
     "name": "stdout",
     "output_type": "stream",
     "text": [
      "===== search term =====\n",
      "(Recurrent pharyngitis[tiab] OR Recurrent sore throat[tiab]) AND ( variat*[tiab] or SNP[tiab] or allele*[tiab] or mutat*[tiab] or polymorphism*[tiab] or haplotype*[tiab] or SNPs[tiab] or genotype[tiab] or gene[tiab] or chromosome[tiab] or deletion[tiab] or indel[tiab] or insertion[tiab] or substitution[tiab] or transition[tiab] or transversion[tiab] or translocation[tiab] or CNV[tiab] or copy number variation[tiab] or SV[tiab] or chromosome structure variation[tiab]) NOT review[pt] AND English[LA] AND (\"1980/01/01\"[DP] : \"2023/4/1\"[DP])\n",
      "Retrieved article numbers：28\n"
     ]
    },
    {
     "name": "stderr",
     "output_type": "stream",
     "text": [
      " 53%|█████▎    | 315/595 [30:34<10:58,  2.35s/it]"
     ]
    },
    {
     "name": "stdout",
     "output_type": "stream",
     "text": [
      "===== search term =====\n",
      "(Neoplasm of the nose[tiab] OR  Nasal tumour[tiab] OR  Tumor of the nose[tiab] OR  Neoplasia of the nose[tiab] OR  Tumour of the nose[tiab] OR  Nasal neoplasm[tiab] OR  Nasal tumor[tiab] OR  Nose cancer[tiab]) AND ( variat*[tiab] or SNP[tiab] or allele*[tiab] or mutat*[tiab] or polymorphism*[tiab] or haplotype*[tiab] or SNPs[tiab] or genotype[tiab] or gene[tiab] or chromosome[tiab] or deletion[tiab] or indel[tiab] or insertion[tiab] or substitution[tiab] or transition[tiab] or transversion[tiab] or translocation[tiab] or CNV[tiab] or copy number variation[tiab] or SV[tiab] or chromosome structure variation[tiab]) NOT review[pt] AND English[LA] AND (\"1980/01/01\"[DP] : \"2023/4/1\"[DP])\n",
      "Retrieved article numbers：6\n"
     ]
    },
    {
     "name": "stderr",
     "output_type": "stream",
     "text": [
      " 53%|█████▎    | 316/595 [30:36<10:27,  2.25s/it]"
     ]
    },
    {
     "name": "stdout",
     "output_type": "stream",
     "text": [
      "===== search term =====\n",
      "(Neoplasm of the pharynx[tiab] OR Pharyngeal neoplasm[tiab] OR  Tumour of the pharynx[tiab] OR  Neoplasia of the pharynx[tiab] OR  Tumor of the pharynx[tiab]) AND ( variat*[tiab] or SNP[tiab] or allele*[tiab] or mutat*[tiab] or polymorphism*[tiab] or haplotype*[tiab] or SNPs[tiab] or genotype[tiab] or gene[tiab] or chromosome[tiab] or deletion[tiab] or indel[tiab] or insertion[tiab] or substitution[tiab] or transition[tiab] or transversion[tiab] or translocation[tiab] or CNV[tiab] or copy number variation[tiab] or SV[tiab] or chromosome structure variation[tiab]) NOT review[pt] AND English[LA] AND (\"1980/01/01\"[DP] : \"2023/4/1\"[DP])\n",
      "Retrieved article numbers：34\n"
     ]
    },
    {
     "name": "stderr",
     "output_type": "stream",
     "text": [
      " 53%|█████▎    | 317/595 [30:41<13:56,  3.01s/it]"
     ]
    },
    {
     "name": "stdout",
     "output_type": "stream",
     "text": [
      "===== search term =====\n",
      "(Nasal chondritisNose chondritis[tiab]) AND ( variat*[tiab] or SNP[tiab] or allele*[tiab] or mutat*[tiab] or polymorphism*[tiab] or haplotype*[tiab] or SNPs[tiab] or genotype[tiab] or gene[tiab] or chromosome[tiab] or deletion[tiab] or indel[tiab] or insertion[tiab] or substitution[tiab] or transition[tiab] or transversion[tiab] or translocation[tiab] or CNV[tiab] or copy number variation[tiab] or SV[tiab] or chromosome structure variation[tiab]) NOT review[pt] AND English[LA] AND (\"1980/01/01\"[DP] : \"2023/4/1\"[DP])\n",
      "Retrieved article numbers：3\n"
     ]
    },
    {
     "name": "stderr",
     "output_type": "stream",
     "text": [
      " 53%|█████▎    | 318/595 [30:42<12:13,  2.65s/it]"
     ]
    },
    {
     "name": "stdout",
     "output_type": "stream",
     "text": [
      "===== search term =====\n",
      "(Absent nasal septal cartilage[tiab] OR Absent nasal septum[tiab] OR  Ageneis of nasal septal cartilage[tiab] OR  Absent nasal septal cartilage[tiab] OR  Failure of development of nasal septal cartilage[tiab]) AND ( variat*[tiab] or SNP[tiab] or allele*[tiab] or mutat*[tiab] or polymorphism*[tiab] or haplotype*[tiab] or SNPs[tiab] or genotype[tiab] or gene[tiab] or chromosome[tiab] or deletion[tiab] or indel[tiab] or insertion[tiab] or substitution[tiab] or transition[tiab] or transversion[tiab] or translocation[tiab] or CNV[tiab] or copy number variation[tiab] or SV[tiab] or chromosome structure variation[tiab]) NOT review[pt] AND English[LA] AND (\"1980/01/01\"[DP] : \"2023/4/1\"[DP])\n",
      "Retrieved article numbers：7\n"
     ]
    },
    {
     "name": "stderr",
     "output_type": "stream",
     "text": [
      " 54%|█████▎    | 319/595 [30:45<11:31,  2.50s/it]"
     ]
    },
    {
     "name": "stdout",
     "output_type": "stream",
     "text": [
      "===== search term =====\n",
      "(Hypoplastic nasal septum[tiab] OR Small nasal septum[tiab] OR  Small septum of nose[tiab] OR  Decreased size of nasal septum[tiab] OR  Decreased size of septum of nose[tiab] OR  Hypoplasia of septum of nose[tiab]) AND ( variat*[tiab] or SNP[tiab] or allele*[tiab] or mutat*[tiab] or polymorphism*[tiab] or haplotype*[tiab] or SNPs[tiab] or genotype[tiab] or gene[tiab] or chromosome[tiab] or deletion[tiab] or indel[tiab] or insertion[tiab] or substitution[tiab] or transition[tiab] or transversion[tiab] or translocation[tiab] or CNV[tiab] or copy number variation[tiab] or SV[tiab] or chromosome structure variation[tiab]) NOT review[pt] AND English[LA] AND (\"1980/01/01\"[DP] : \"2023/4/1\"[DP])\n",
      "Retrieved article numbers：25\n"
     ]
    },
    {
     "name": "stderr",
     "output_type": "stream",
     "text": [
      " 54%|█████▍    | 320/595 [30:47<10:39,  2.33s/it]"
     ]
    },
    {
     "name": "stdout",
     "output_type": "stream",
     "text": [
      "===== search term =====\n",
      "( Aplasia/Hypoplasia of the nasal bone[tiab] OR  [tiab]) AND ( variat*[tiab] or SNP[tiab] or allele*[tiab] or mutat*[tiab] or polymorphism*[tiab] or haplotype*[tiab] or SNPs[tiab] or genotype[tiab] or gene[tiab] or chromosome[tiab] or deletion[tiab] or indel[tiab] or insertion[tiab] or substitution[tiab] or transition[tiab] or transversion[tiab] or translocation[tiab] or CNV[tiab] or copy number variation[tiab] or SV[tiab] or chromosome structure variation[tiab]) NOT review[pt] AND English[LA] AND (\"1980/01/01\"[DP] : \"2023/4/1\"[DP])\n",
      "Retrieved article numbers：25\n"
     ]
    },
    {
     "name": "stderr",
     "output_type": "stream",
     "text": [
      " 54%|█████▍    | 321/595 [30:48<10:00,  2.19s/it]"
     ]
    },
    {
     "name": "stdout",
     "output_type": "stream",
     "text": [
      "===== search term =====\n",
      "(Bilateral choanal atresia[tiab] OR   Bilateral obstruction of the rear opening of the nasal cavity[tiab] OR  Bilateral blockage of the rear opening of the nasal cavity[tiab]) AND ( variat*[tiab] or SNP[tiab] or allele*[tiab] or mutat*[tiab] or polymorphism*[tiab] or haplotype*[tiab] or SNPs[tiab] or genotype[tiab] or gene[tiab] or chromosome[tiab] or deletion[tiab] or indel[tiab] or insertion[tiab] or substitution[tiab] or transition[tiab] or transversion[tiab] or translocation[tiab] or CNV[tiab] or copy number variation[tiab] or SV[tiab] or chromosome structure variation[tiab]) NOT review[pt] AND English[LA] AND (\"1980/01/01\"[DP] : \"2023/4/1\"[DP])\n",
      "Retrieved article numbers：0\n"
     ]
    },
    {
     "name": "stderr",
     "output_type": "stream",
     "text": [
      " 54%|█████▍    | 322/595 [30:50<09:30,  2.09s/it]"
     ]
    },
    {
     "name": "stdout",
     "output_type": "stream",
     "text": [
      "===== search term =====\n",
      "(Posterior choanal atresia[tiab]) AND ( variat*[tiab] or SNP[tiab] or allele*[tiab] or mutat*[tiab] or polymorphism*[tiab] or haplotype*[tiab] or SNPs[tiab] or genotype[tiab] or gene[tiab] or chromosome[tiab] or deletion[tiab] or indel[tiab] or insertion[tiab] or substitution[tiab] or transition[tiab] or transversion[tiab] or translocation[tiab] or CNV[tiab] or copy number variation[tiab] or SV[tiab] or chromosome structure variation[tiab]) NOT review[pt] AND English[LA] AND (\"1980/01/01\"[DP] : \"2023/4/1\"[DP])\n",
      "Retrieved article numbers：17\n"
     ]
    },
    {
     "name": "stderr",
     "output_type": "stream",
     "text": [
      " 54%|█████▍    | 323/595 [30:52<09:19,  2.06s/it]"
     ]
    },
    {
     "name": "stdout",
     "output_type": "stream",
     "text": [
      "===== search term =====\n",
      "(Membranous choanal atresia[tiab]) AND ( variat*[tiab] or SNP[tiab] or allele*[tiab] or mutat*[tiab] or polymorphism*[tiab] or haplotype*[tiab] or SNPs[tiab] or genotype[tiab] or gene[tiab] or chromosome[tiab] or deletion[tiab] or indel[tiab] or insertion[tiab] or substitution[tiab] or transition[tiab] or transversion[tiab] or translocation[tiab] or CNV[tiab] or copy number variation[tiab] or SV[tiab] or chromosome structure variation[tiab]) NOT review[pt] AND English[LA] AND (\"1980/01/01\"[DP] : \"2023/4/1\"[DP])\n",
      "Retrieved article numbers：0\n"
     ]
    },
    {
     "name": "stderr",
     "output_type": "stream",
     "text": [
      " 54%|█████▍    | 324/595 [30:54<08:52,  1.97s/it]"
     ]
    },
    {
     "name": "stdout",
     "output_type": "stream",
     "text": [
      "===== search term =====\n",
      "( Bilateral choanal atresia/stenosis[tiab]) AND ( variat*[tiab] or SNP[tiab] or allele*[tiab] or mutat*[tiab] or polymorphism*[tiab] or haplotype*[tiab] or SNPs[tiab] or genotype[tiab] or gene[tiab] or chromosome[tiab] or deletion[tiab] or indel[tiab] or insertion[tiab] or substitution[tiab] or transition[tiab] or transversion[tiab] or translocation[tiab] or CNV[tiab] or copy number variation[tiab] or SV[tiab] or chromosome structure variation[tiab]) NOT review[pt] AND English[LA] AND (\"1980/01/01\"[DP] : \"2023/4/1\"[DP])\n",
      "Retrieved article numbers：3\n"
     ]
    },
    {
     "name": "stderr",
     "output_type": "stream",
     "text": [
      " 55%|█████▍    | 325/595 [30:57<10:44,  2.39s/it]"
     ]
    },
    {
     "name": "stdout",
     "output_type": "stream",
     "text": [
      "===== search term =====\n",
      "(Chronic rhinitis due to narrow nasal airway[tiab] OR Chronic nasal inflammation due to narrow nasal airway[tiab]) AND ( variat*[tiab] or SNP[tiab] or allele*[tiab] or mutat*[tiab] or polymorphism*[tiab] or haplotype*[tiab] or SNPs[tiab] or genotype[tiab] or gene[tiab] or chromosome[tiab] or deletion[tiab] or indel[tiab] or insertion[tiab] or substitution[tiab] or transition[tiab] or transversion[tiab] or translocation[tiab] or CNV[tiab] or copy number variation[tiab] or SV[tiab] or chromosome structure variation[tiab]) NOT review[pt] AND English[LA] AND (\"1980/01/01\"[DP] : \"2023/4/1\"[DP])\n",
      "Retrieved article numbers：0\n"
     ]
    },
    {
     "name": "stderr",
     "output_type": "stream",
     "text": [
      " 55%|█████▍    | 326/595 [30:59<09:42,  2.17s/it]"
     ]
    },
    {
     "name": "stdout",
     "output_type": "stream",
     "text": [
      "===== search term =====\n",
      "(Purulent rhinitis[tiab]) AND ( variat*[tiab] or SNP[tiab] or allele*[tiab] or mutat*[tiab] or polymorphism*[tiab] or haplotype*[tiab] or SNPs[tiab] or genotype[tiab] or gene[tiab] or chromosome[tiab] or deletion[tiab] or indel[tiab] or insertion[tiab] or substitution[tiab] or transition[tiab] or transversion[tiab] or translocation[tiab] or CNV[tiab] or copy number variation[tiab] or SV[tiab] or chromosome structure variation[tiab]) NOT review[pt] AND English[LA] AND (\"1980/01/01\"[DP] : \"2023/4/1\"[DP])\n",
      "Retrieved article numbers：0\n"
     ]
    },
    {
     "name": "stderr",
     "output_type": "stream",
     "text": [
      " 55%|█████▍    | 327/595 [31:01<09:22,  2.10s/it]"
     ]
    },
    {
     "name": "stdout",
     "output_type": "stream",
     "text": [
      "===== search term =====\n",
      "( Midnasal stenosis[tiab] OR  \"Midnasal atresia or stenosis\"[tiab]) AND ( variat*[tiab] or SNP[tiab] or allele*[tiab] or mutat*[tiab] or polymorphism*[tiab] or haplotype*[tiab] or SNPs[tiab] or genotype[tiab] or gene[tiab] or chromosome[tiab] or deletion[tiab] or indel[tiab] or insertion[tiab] or substitution[tiab] or transition[tiab] or transversion[tiab] or translocation[tiab] or CNV[tiab] or copy number variation[tiab] or SV[tiab] or chromosome structure variation[tiab]) NOT review[pt] AND English[LA] AND (\"1980/01/01\"[DP] : \"2023/4/1\"[DP])\n",
      "Retrieved article numbers：4\n"
     ]
    },
    {
     "name": "stderr",
     "output_type": "stream",
     "text": [
      " 55%|█████▌    | 328/595 [31:03<09:30,  2.14s/it]"
     ]
    },
    {
     "name": "stdout",
     "output_type": "stream",
     "text": [
      "===== search term =====\n",
      "( Abnormality of levator labii superioris alaeque nasi muscle[tiab]) AND ( variat*[tiab] or SNP[tiab] or allele*[tiab] or mutat*[tiab] or polymorphism*[tiab] or haplotype*[tiab] or SNPs[tiab] or genotype[tiab] or gene[tiab] or chromosome[tiab] or deletion[tiab] or indel[tiab] or insertion[tiab] or substitution[tiab] or transition[tiab] or transversion[tiab] or translocation[tiab] or CNV[tiab] or copy number variation[tiab] or SV[tiab] or chromosome structure variation[tiab]) NOT review[pt] AND English[LA] AND (\"1980/01/01\"[DP] : \"2023/4/1\"[DP])\n",
      "Retrieved article numbers：0\n"
     ]
    },
    {
     "name": "stderr",
     "output_type": "stream",
     "text": [
      " 55%|█████▌    | 329/595 [31:05<09:41,  2.18s/it]"
     ]
    },
    {
     "name": "stdout",
     "output_type": "stream",
     "text": [
      "===== search term =====\n",
      "( Abnormality of levator labii superioris[tiab]) AND ( variat*[tiab] or SNP[tiab] or allele*[tiab] or mutat*[tiab] or polymorphism*[tiab] or haplotype*[tiab] or SNPs[tiab] or genotype[tiab] or gene[tiab] or chromosome[tiab] or deletion[tiab] or indel[tiab] or insertion[tiab] or substitution[tiab] or transition[tiab] or transversion[tiab] or translocation[tiab] or CNV[tiab] or copy number variation[tiab] or SV[tiab] or chromosome structure variation[tiab]) NOT review[pt] AND English[LA] AND (\"1980/01/01\"[DP] : \"2023/4/1\"[DP])\n",
      "Retrieved article numbers：0\n"
     ]
    },
    {
     "name": "stderr",
     "output_type": "stream",
     "text": [
      " 55%|█████▌    | 330/595 [31:07<09:06,  2.06s/it]"
     ]
    },
    {
     "name": "stdout",
     "output_type": "stream",
     "text": [
      "===== search term =====\n",
      "( Abnormality of levator anguli oris[tiab]) AND ( variat*[tiab] or SNP[tiab] or allele*[tiab] or mutat*[tiab] or polymorphism*[tiab] or haplotype*[tiab] or SNPs[tiab] or genotype[tiab] or gene[tiab] or chromosome[tiab] or deletion[tiab] or indel[tiab] or insertion[tiab] or substitution[tiab] or transition[tiab] or transversion[tiab] or translocation[tiab] or CNV[tiab] or copy number variation[tiab] or SV[tiab] or chromosome structure variation[tiab]) NOT review[pt] AND English[LA] AND (\"1980/01/01\"[DP] : \"2023/4/1\"[DP])\n",
      "Retrieved article numbers：0\n"
     ]
    },
    {
     "name": "stderr",
     "output_type": "stream",
     "text": [
      " 56%|█████▌    | 331/595 [31:09<08:51,  2.01s/it]"
     ]
    },
    {
     "name": "stdout",
     "output_type": "stream",
     "text": [
      "===== search term =====\n",
      "( Abnormality of orbicularis oris muscle[tiab]) AND ( variat*[tiab] or SNP[tiab] or allele*[tiab] or mutat*[tiab] or polymorphism*[tiab] or haplotype*[tiab] or SNPs[tiab] or genotype[tiab] or gene[tiab] or chromosome[tiab] or deletion[tiab] or indel[tiab] or insertion[tiab] or substitution[tiab] or transition[tiab] or transversion[tiab] or translocation[tiab] or CNV[tiab] or copy number variation[tiab] or SV[tiab] or chromosome structure variation[tiab]) NOT review[pt] AND English[LA] AND (\"1980/01/01\"[DP] : \"2023/4/1\"[DP])\n",
      "Retrieved article numbers：0\n"
     ]
    },
    {
     "name": "stderr",
     "output_type": "stream",
     "text": [
      " 56%|█████▌    | 332/595 [31:11<08:30,  1.94s/it]"
     ]
    },
    {
     "name": "stdout",
     "output_type": "stream",
     "text": [
      "===== search term =====\n",
      "( Abnormality of depressor anguli oris muscle[tiab]) AND ( variat*[tiab] or SNP[tiab] or allele*[tiab] or mutat*[tiab] or polymorphism*[tiab] or haplotype*[tiab] or SNPs[tiab] or genotype[tiab] or gene[tiab] or chromosome[tiab] or deletion[tiab] or indel[tiab] or insertion[tiab] or substitution[tiab] or transition[tiab] or transversion[tiab] or translocation[tiab] or CNV[tiab] or copy number variation[tiab] or SV[tiab] or chromosome structure variation[tiab]) NOT review[pt] AND English[LA] AND (\"1980/01/01\"[DP] : \"2023/4/1\"[DP])\n",
      "Retrieved article numbers：14\n"
     ]
    },
    {
     "name": "stderr",
     "output_type": "stream",
     "text": [
      " 56%|█████▌    | 333/595 [31:16<12:19,  2.82s/it]"
     ]
    },
    {
     "name": "stdout",
     "output_type": "stream",
     "text": [
      "===== search term =====\n",
      "( Abnormality of depressor labii inferioris[tiab]) AND ( variat*[tiab] or SNP[tiab] or allele*[tiab] or mutat*[tiab] or polymorphism*[tiab] or haplotype*[tiab] or SNPs[tiab] or genotype[tiab] or gene[tiab] or chromosome[tiab] or deletion[tiab] or indel[tiab] or insertion[tiab] or substitution[tiab] or transition[tiab] or transversion[tiab] or translocation[tiab] or CNV[tiab] or copy number variation[tiab] or SV[tiab] or chromosome structure variation[tiab]) NOT review[pt] AND English[LA] AND (\"1980/01/01\"[DP] : \"2023/4/1\"[DP])\n",
      "Retrieved article numbers：7\n"
     ]
    },
    {
     "name": "stderr",
     "output_type": "stream",
     "text": [
      " 56%|█████▌    | 334/595 [31:18<11:01,  2.53s/it]"
     ]
    },
    {
     "name": "stdout",
     "output_type": "stream",
     "text": [
      "===== search term =====\n",
      "( Facial palsy[tiab] OR  Cranial nerve VII palsy[tiab] OR  VII th cranial nerve palsy[tiab] OR  Facial nerve paralysis[tiab] OR  Facial nerve palsy[tiab] OR  Facial muscle weakness of muscles innervated by CN VII[tiab] OR  Bell's palsy[tiab] OR  Seventh cranial nerve palsy[tiab] OR  \"unilateral or bilateral Facial palsy\"[tiab]) AND ( variat*[tiab] or SNP[tiab] or allele*[tiab] or mutat*[tiab] or polymorphism*[tiab] or haplotype*[tiab] or SNPs[tiab] or genotype[tiab] or gene[tiab] or chromosome[tiab] or deletion[tiab] or indel[tiab] or insertion[tiab] or substitution[tiab] or transition[tiab] or transversion[tiab] or translocation[tiab] or CNV[tiab] or copy number variation[tiab] or SV[tiab] or chromosome structure variation[tiab]) NOT review[pt] AND English[LA] AND (\"1980/01/01\"[DP] : \"2023/4/1\"[DP])\n",
      "Retrieved article numbers：0\n"
     ]
    },
    {
     "name": "stderr",
     "output_type": "stream",
     "text": [
      " 56%|█████▋    | 335/595 [31:20<10:26,  2.41s/it]"
     ]
    },
    {
     "name": "stdout",
     "output_type": "stream",
     "text": [
      "===== search term =====\n",
      "( Facial paralysis[tiab] OR Facial paresis[tiab] OR  Facial paralysis[tiab]) AND ( variat*[tiab] or SNP[tiab] or allele*[tiab] or mutat*[tiab] or polymorphism*[tiab] or haplotype*[tiab] or SNPs[tiab] or genotype[tiab] or gene[tiab] or chromosome[tiab] or deletion[tiab] or indel[tiab] or insertion[tiab] or substitution[tiab] or transition[tiab] or transversion[tiab] or translocation[tiab] or CNV[tiab] or copy number variation[tiab] or SV[tiab] or chromosome structure variation[tiab]) NOT review[pt] AND English[LA] AND (\"1980/01/01\"[DP] : \"2023/4/1\"[DP])\n",
      "Retrieved article numbers：324\n"
     ]
    },
    {
     "name": "stderr",
     "output_type": "stream",
     "text": [
      " 56%|█████▋    | 336/595 [31:21<09:28,  2.20s/it]"
     ]
    },
    {
     "name": "stdout",
     "output_type": "stream",
     "text": [
      "===== search term =====\n",
      "( Weakness of orbicularis oculi muscle[tiab] OR Weakness of orbicularis oculi muscles[tiab]) AND ( variat*[tiab] or SNP[tiab] or allele*[tiab] or mutat*[tiab] or polymorphism*[tiab] or haplotype*[tiab] or SNPs[tiab] or genotype[tiab] or gene[tiab] or chromosome[tiab] or deletion[tiab] or indel[tiab] or insertion[tiab] or substitution[tiab] or transition[tiab] or transversion[tiab] or translocation[tiab] or CNV[tiab] or copy number variation[tiab] or SV[tiab] or chromosome structure variation[tiab]) NOT review[pt] AND English[LA] AND (\"1980/01/01\"[DP] : \"2023/4/1\"[DP])\n",
      "Retrieved article numbers：163\n"
     ]
    },
    {
     "name": "stderr",
     "output_type": "stream",
     "text": [
      " 57%|█████▋    | 337/595 [31:24<09:43,  2.26s/it]"
     ]
    },
    {
     "name": "stdout",
     "output_type": "stream",
     "text": [
      "===== search term =====\n",
      "( Abnormality of masticatory muscle[tiab] OR  Abnormality of muscles of mastication[tiab]) AND ( variat*[tiab] or SNP[tiab] or allele*[tiab] or mutat*[tiab] or polymorphism*[tiab] or haplotype*[tiab] or SNPs[tiab] or genotype[tiab] or gene[tiab] or chromosome[tiab] or deletion[tiab] or indel[tiab] or insertion[tiab] or substitution[tiab] or transition[tiab] or transversion[tiab] or translocation[tiab] or CNV[tiab] or copy number variation[tiab] or SV[tiab] or chromosome structure variation[tiab]) NOT review[pt] AND English[LA] AND (\"1980/01/01\"[DP] : \"2023/4/1\"[DP])\n",
      "Retrieved article numbers：1\n"
     ]
    },
    {
     "name": "stderr",
     "output_type": "stream",
     "text": [
      " 57%|█████▋    | 338/595 [31:27<10:30,  2.45s/it]"
     ]
    },
    {
     "name": "stdout",
     "output_type": "stream",
     "text": [
      "===== search term =====\n",
      "( Jaw hyporeflexiaMandibular hyporeflexia[tiab]) AND ( variat*[tiab] or SNP[tiab] or allele*[tiab] or mutat*[tiab] or polymorphism*[tiab] or haplotype*[tiab] or SNPs[tiab] or genotype[tiab] or gene[tiab] or chromosome[tiab] or deletion[tiab] or indel[tiab] or insertion[tiab] or substitution[tiab] or transition[tiab] or transversion[tiab] or translocation[tiab] or CNV[tiab] or copy number variation[tiab] or SV[tiab] or chromosome structure variation[tiab]) NOT review[pt] AND English[LA] AND (\"1980/01/01\"[DP] : \"2023/4/1\"[DP])\n",
      "Retrieved article numbers：0\n"
     ]
    },
    {
     "name": "stderr",
     "output_type": "stream",
     "text": [
      " 57%|█████▋    | 339/595 [31:28<09:26,  2.21s/it]"
     ]
    },
    {
     "name": "stdout",
     "output_type": "stream",
     "text": [
      "===== search term =====\n",
      "( Abnormality of nasalis muscle[tiab]) AND ( variat*[tiab] or SNP[tiab] or allele*[tiab] or mutat*[tiab] or polymorphism*[tiab] or haplotype*[tiab] or SNPs[tiab] or genotype[tiab] or gene[tiab] or chromosome[tiab] or deletion[tiab] or indel[tiab] or insertion[tiab] or substitution[tiab] or transition[tiab] or transversion[tiab] or translocation[tiab] or CNV[tiab] or copy number variation[tiab] or SV[tiab] or chromosome structure variation[tiab]) NOT review[pt] AND English[LA] AND (\"1980/01/01\"[DP] : \"2023/4/1\"[DP])\n",
      "Retrieved article numbers：0\n"
     ]
    },
    {
     "name": "stderr",
     "output_type": "stream",
     "text": [
      " 57%|█████▋    | 340/595 [31:30<09:08,  2.15s/it]"
     ]
    },
    {
     "name": "stdout",
     "output_type": "stream",
     "text": [
      "===== search term =====\n",
      "( Midfrontal capillary hemangioma[tiab]) AND ( variat*[tiab] or SNP[tiab] or allele*[tiab] or mutat*[tiab] or polymorphism*[tiab] or haplotype*[tiab] or SNPs[tiab] or genotype[tiab] or gene[tiab] or chromosome[tiab] or deletion[tiab] or indel[tiab] or insertion[tiab] or substitution[tiab] or transition[tiab] or transversion[tiab] or translocation[tiab] or CNV[tiab] or copy number variation[tiab] or SV[tiab] or chromosome structure variation[tiab]) NOT review[pt] AND English[LA] AND (\"1980/01/01\"[DP] : \"2023/4/1\"[DP])\n",
      "Retrieved article numbers：1\n"
     ]
    },
    {
     "name": "stderr",
     "output_type": "stream",
     "text": [
      " 57%|█████▋    | 341/595 [31:32<08:48,  2.08s/it]"
     ]
    },
    {
     "name": "stdout",
     "output_type": "stream",
     "text": [
      "===== search term =====\n",
      "( Midline facial capillary hemangioma[tiab]) AND ( variat*[tiab] or SNP[tiab] or allele*[tiab] or mutat*[tiab] or polymorphism*[tiab] or haplotype*[tiab] or SNPs[tiab] or genotype[tiab] or gene[tiab] or chromosome[tiab] or deletion[tiab] or indel[tiab] or insertion[tiab] or substitution[tiab] or transition[tiab] or transversion[tiab] or translocation[tiab] or CNV[tiab] or copy number variation[tiab] or SV[tiab] or chromosome structure variation[tiab]) NOT review[pt] AND English[LA] AND (\"1980/01/01\"[DP] : \"2023/4/1\"[DP])\n",
      "Retrieved article numbers：0\n"
     ]
    },
    {
     "name": "stderr",
     "output_type": "stream",
     "text": [
      " 57%|█████▋    | 342/595 [31:34<08:13,  1.95s/it]"
     ]
    },
    {
     "name": "stdout",
     "output_type": "stream",
     "text": [
      "===== search term =====\n",
      "( Midface capillary hemangioma[tiab] OR Midfacial capillary hemangioma[tiab]) AND ( variat*[tiab] or SNP[tiab] or allele*[tiab] or mutat*[tiab] or polymorphism*[tiab] or haplotype*[tiab] or SNPs[tiab] or genotype[tiab] or gene[tiab] or chromosome[tiab] or deletion[tiab] or indel[tiab] or insertion[tiab] or substitution[tiab] or transition[tiab] or transversion[tiab] or translocation[tiab] or CNV[tiab] or copy number variation[tiab] or SV[tiab] or chromosome structure variation[tiab]) NOT review[pt] AND English[LA] AND (\"1980/01/01\"[DP] : \"2023/4/1\"[DP])\n",
      "Retrieved article numbers：0\n"
     ]
    },
    {
     "name": "stderr",
     "output_type": "stream",
     "text": [
      " 58%|█████▊    | 343/595 [31:38<11:21,  2.70s/it]"
     ]
    },
    {
     "name": "stdout",
     "output_type": "stream",
     "text": [
      "===== search term =====\n",
      "( Palpebral edema[tiab] OR   Puffy lids[tiab] OR  Fullness of eyelids[tiab] OR  Oedema of the eyelids[tiab] OR  Puffy eyelids[tiab] OR  Swelling of eyelids[tiab] OR  Palpebral oedema[tiab] OR  Eyelid edema[tiab] OR  Edema of the eyelids[tiab] OR  Eyelid oedema[tiab]) AND ( variat*[tiab] or SNP[tiab] or allele*[tiab] or mutat*[tiab] or polymorphism*[tiab] or haplotype*[tiab] or SNPs[tiab] or genotype[tiab] or gene[tiab] or chromosome[tiab] or deletion[tiab] or indel[tiab] or insertion[tiab] or substitution[tiab] or transition[tiab] or transversion[tiab] or translocation[tiab] or CNV[tiab] or copy number variation[tiab] or SV[tiab] or chromosome structure variation[tiab]) NOT review[pt] AND English[LA] AND (\"1980/01/01\"[DP] : \"2023/4/1\"[DP])\n",
      "Retrieved article numbers：0\n"
     ]
    },
    {
     "name": "stderr",
     "output_type": "stream",
     "text": [
      " 58%|█████▊    | 344/595 [31:40<10:07,  2.42s/it]"
     ]
    },
    {
     "name": "stdout",
     "output_type": "stream",
     "text": [
      "===== search term =====\n",
      "( Progressive loss of facial adipose tissue[tiab] OR Progressive loss of facial subcutaneous adipose tissue[tiab] OR  Atrophy of facial adipose tissue[tiab] OR  Facial fat atrophy[tiab] OR  Progressive loss of subcutaneous adipose tissue from face[tiab] OR  Progressive loss of subcutaneous adipose tissue from face[tiab] OR  Progressive loss of facial fat[tiab] OR  Facial fat wasting[tiab]) AND ( variat*[tiab] or SNP[tiab] or allele*[tiab] or mutat*[tiab] or polymorphism*[tiab] or haplotype*[tiab] or SNPs[tiab] or genotype[tiab] or gene[tiab] or chromosome[tiab] or deletion[tiab] or indel[tiab] or insertion[tiab] or substitution[tiab] or transition[tiab] or transversion[tiab] or translocation[tiab] or CNV[tiab] or copy number variation[tiab] or SV[tiab] or chromosome structure variation[tiab]) NOT review[pt] AND English[LA] AND (\"1980/01/01\"[DP] : \"2023/4/1\"[DP])\n",
      "Retrieved article numbers：38\n"
     ]
    },
    {
     "name": "stderr",
     "output_type": "stream",
     "text": [
      " 58%|█████▊    | 345/595 [31:42<09:48,  2.36s/it]"
     ]
    },
    {
     "name": "stdout",
     "output_type": "stream",
     "text": [
      "===== search term =====\n",
      "( Widow's peak[tiab] OR Hairline peak[tiab] OR  V-shaped frontal hairline[tiab] OR  Pointed hairline at front of head[tiab] OR  Widow's peak[tiab] OR  Hairline point[tiab] OR  Pointed frontal hairline[tiab]) AND ( variat*[tiab] or SNP[tiab] or allele*[tiab] or mutat*[tiab] or polymorphism*[tiab] or haplotype*[tiab] or SNPs[tiab] or genotype[tiab] or gene[tiab] or chromosome[tiab] or deletion[tiab] or indel[tiab] or insertion[tiab] or substitution[tiab] or transition[tiab] or transversion[tiab] or translocation[tiab] or CNV[tiab] or copy number variation[tiab] or SV[tiab] or chromosome structure variation[tiab]) NOT review[pt] AND English[LA] AND (\"1980/01/01\"[DP] : \"2023/4/1\"[DP])\n",
      "Retrieved article numbers：2\n"
     ]
    },
    {
     "name": "stderr",
     "output_type": "stream",
     "text": [
      " 58%|█████▊    | 346/595 [31:45<09:34,  2.31s/it]"
     ]
    },
    {
     "name": "stdout",
     "output_type": "stream",
     "text": [
      "===== search term =====\n",
      "( Periauricular skin pits[tiab] OR   Periauricular pits[tiab] OR  Periauricular earpits[tiab] OR  Periauricular sinus[tiab] OR  Periauricular fistulas[tiab] OR  Pits around the ear[tiab]) AND ( variat*[tiab] or SNP[tiab] or allele*[tiab] or mutat*[tiab] or polymorphism*[tiab] or haplotype*[tiab] or SNPs[tiab] or genotype[tiab] or gene[tiab] or chromosome[tiab] or deletion[tiab] or indel[tiab] or insertion[tiab] or substitution[tiab] or transition[tiab] or transversion[tiab] or translocation[tiab] or CNV[tiab] or copy number variation[tiab] or SV[tiab] or chromosome structure variation[tiab]) NOT review[pt] AND English[LA] AND (\"1980/01/01\"[DP] : \"2023/4/1\"[DP])\n",
      "Retrieved article numbers：21\n"
     ]
    },
    {
     "name": "stderr",
     "output_type": "stream",
     "text": [
      " 58%|█████▊    | 347/595 [31:47<09:10,  2.22s/it]"
     ]
    },
    {
     "name": "stdout",
     "output_type": "stream",
     "text": [
      "===== search term =====\n",
      "( Preauricular cyst[tiab]) AND ( variat*[tiab] or SNP[tiab] or allele*[tiab] or mutat*[tiab] or polymorphism*[tiab] or haplotype*[tiab] or SNPs[tiab] or genotype[tiab] or gene[tiab] or chromosome[tiab] or deletion[tiab] or indel[tiab] or insertion[tiab] or substitution[tiab] or transition[tiab] or transversion[tiab] or translocation[tiab] or CNV[tiab] or copy number variation[tiab] or SV[tiab] or chromosome structure variation[tiab]) NOT review[pt] AND English[LA] AND (\"1980/01/01\"[DP] : \"2023/4/1\"[DP])\n",
      "Retrieved article numbers：1\n"
     ]
    },
    {
     "name": "stderr",
     "output_type": "stream",
     "text": [
      " 58%|█████▊    | 348/595 [31:48<08:28,  2.06s/it]"
     ]
    },
    {
     "name": "stdout",
     "output_type": "stream",
     "text": [
      "===== search term =====\n",
      "( Preauricular skin furrow[tiab] OR Preauricular skin furrows[tiab] OR  Skin sulcus in front of the ear[tiab] OR  Preauricular skin groove[tiab] OR  Preauricular skin sulcus[tiab] OR  Skin groove in front of the ear[tiab]) AND ( variat*[tiab] or SNP[tiab] or allele*[tiab] or mutat*[tiab] or polymorphism*[tiab] or haplotype*[tiab] or SNPs[tiab] or genotype[tiab] or gene[tiab] or chromosome[tiab] or deletion[tiab] or indel[tiab] or insertion[tiab] or substitution[tiab] or transition[tiab] or transversion[tiab] or translocation[tiab] or CNV[tiab] or copy number variation[tiab] or SV[tiab] or chromosome structure variation[tiab]) NOT review[pt] AND English[LA] AND (\"1980/01/01\"[DP] : \"2023/4/1\"[DP])\n",
      "Retrieved article numbers：0\n"
     ]
    },
    {
     "name": "stderr",
     "output_type": "stream",
     "text": [
      " 59%|█████▊    | 349/595 [31:50<08:09,  1.99s/it]"
     ]
    },
    {
     "name": "stdout",
     "output_type": "stream",
     "text": [
      "===== search term =====\n",
      "( Pretragal ectopia[tiab] OR Extra cartilage in front of the ear[tiab] OR  Accessory Tragus[tiab] OR  Pretragal Duplication[tiab]) AND ( variat*[tiab] or SNP[tiab] or allele*[tiab] or mutat*[tiab] or polymorphism*[tiab] or haplotype*[tiab] or SNPs[tiab] or genotype[tiab] or gene[tiab] or chromosome[tiab] or deletion[tiab] or indel[tiab] or insertion[tiab] or substitution[tiab] or transition[tiab] or transversion[tiab] or translocation[tiab] or CNV[tiab] or copy number variation[tiab] or SV[tiab] or chromosome structure variation[tiab]) NOT review[pt] AND English[LA] AND (\"1980/01/01\"[DP] : \"2023/4/1\"[DP])\n",
      "Retrieved article numbers：1\n"
     ]
    },
    {
     "name": "stderr",
     "output_type": "stream",
     "text": [
      " 59%|█████▉    | 350/595 [31:52<07:47,  1.91s/it]"
     ]
    },
    {
     "name": "stdout",
     "output_type": "stream",
     "text": [
      "===== search term =====\n",
      "( Preauricular skin tag[tiab] OR Preauricular acrochordon[tiab] OR  Skin tag in front of the ear[tiab] OR  Preauricular fibroepithelial polyp[tiab] OR  Skin tag on the posterior cheek[tiab] OR  Preauricular tags[tiab] OR  Preauricular tag[tiab] OR  Ear tag[tiab] OR  Preauricular skin tags[tiab] OR  Periauricular skin tag[tiab]) AND ( variat*[tiab] or SNP[tiab] or allele*[tiab] or mutat*[tiab] or polymorphism*[tiab] or haplotype*[tiab] or SNPs[tiab] or genotype[tiab] or gene[tiab] or chromosome[tiab] or deletion[tiab] or indel[tiab] or insertion[tiab] or substitution[tiab] or transition[tiab] or transversion[tiab] or translocation[tiab] or CNV[tiab] or copy number variation[tiab] or SV[tiab] or chromosome structure variation[tiab]) NOT review[pt] AND English[LA] AND (\"1980/01/01\"[DP] : \"2023/4/1\"[DP])\n",
      "Retrieved article numbers：0\n"
     ]
    },
    {
     "name": "stderr",
     "output_type": "stream",
     "text": [
      " 59%|█████▉    | 351/595 [31:54<08:02,  1.98s/it]"
     ]
    },
    {
     "name": "stdout",
     "output_type": "stream",
     "text": [
      "===== search term =====\n",
      "( Postauricular skin tag[tiab] OR Skin tag behind the ear[tiab] OR  Postauricular fibroepithelial polyp[tiab] OR  Postauricular acrochordon[tiab]) AND ( variat*[tiab] or SNP[tiab] or allele*[tiab] or mutat*[tiab] or polymorphism*[tiab] or haplotype*[tiab] or SNPs[tiab] or genotype[tiab] or gene[tiab] or chromosome[tiab] or deletion[tiab] or indel[tiab] or insertion[tiab] or substitution[tiab] or transition[tiab] or transversion[tiab] or translocation[tiab] or CNV[tiab] or copy number variation[tiab] or SV[tiab] or chromosome structure variation[tiab]) NOT review[pt] AND English[LA] AND (\"1980/01/01\"[DP] : \"2023/4/1\"[DP])\n",
      "Retrieved article numbers：73\n"
     ]
    },
    {
     "name": "stderr",
     "output_type": "stream",
     "text": [
      " 59%|█████▉    | 352/595 [31:57<09:02,  2.23s/it]"
     ]
    },
    {
     "name": "stdout",
     "output_type": "stream",
     "text": [
      "===== search term =====\n",
      "( Abnormal distribution of cell junction proteins in buccal mucosal cells[tiab]) AND ( variat*[tiab] or SNP[tiab] or allele*[tiab] or mutat*[tiab] or polymorphism*[tiab] or haplotype*[tiab] or SNPs[tiab] or genotype[tiab] or gene[tiab] or chromosome[tiab] or deletion[tiab] or indel[tiab] or insertion[tiab] or substitution[tiab] or transition[tiab] or transversion[tiab] or translocation[tiab] or CNV[tiab] or copy number variation[tiab] or SV[tiab] or chromosome structure variation[tiab]) NOT review[pt] AND English[LA] AND (\"1980/01/01\"[DP] : \"2023/4/1\"[DP])\n",
      "Retrieved article numbers：0\n"
     ]
    },
    {
     "name": "stderr",
     "output_type": "stream",
     "text": [
      " 59%|█████▉    | 353/595 [31:59<09:18,  2.31s/it]"
     ]
    },
    {
     "name": "stdout",
     "output_type": "stream",
     "text": [
      "===== search term =====\n",
      "( Lower eyelid edema[tiab] OR Lower eyelid oedema[tiab] OR  Fullness of lower eyelid[tiab] OR  Puffiness of lower eyelid[tiab] OR  Cellulitis of lower eyelid[tiab] OR  Swelling of lower eyelid[tiab]) AND ( variat*[tiab] or SNP[tiab] or allele*[tiab] or mutat*[tiab] or polymorphism*[tiab] or haplotype*[tiab] or SNPs[tiab] or genotype[tiab] or gene[tiab] or chromosome[tiab] or deletion[tiab] or indel[tiab] or insertion[tiab] or substitution[tiab] or transition[tiab] or transversion[tiab] or translocation[tiab] or CNV[tiab] or copy number variation[tiab] or SV[tiab] or chromosome structure variation[tiab]) NOT review[pt] AND English[LA] AND (\"1980/01/01\"[DP] : \"2023/4/1\"[DP])\n",
      "Retrieved article numbers：0\n"
     ]
    },
    {
     "name": "stderr",
     "output_type": "stream",
     "text": [
      " 59%|█████▉    | 354/595 [32:01<08:51,  2.21s/it]"
     ]
    },
    {
     "name": "stdout",
     "output_type": "stream",
     "text": [
      "===== search term =====\n",
      "( Upper eyelid edema[tiab] OR   Fullness of upper eyelid[tiab] OR  Upper eyelid oedema[tiab] OR  Puffiness of upper eyelid[tiab] OR  Cellulitis of upper eyelid[tiab] OR  Swelling of upper eyelid[tiab]) AND ( variat*[tiab] or SNP[tiab] or allele*[tiab] or mutat*[tiab] or polymorphism*[tiab] or haplotype*[tiab] or SNPs[tiab] or genotype[tiab] or gene[tiab] or chromosome[tiab] or deletion[tiab] or indel[tiab] or insertion[tiab] or substitution[tiab] or transition[tiab] or transversion[tiab] or translocation[tiab] or CNV[tiab] or copy number variation[tiab] or SV[tiab] or chromosome structure variation[tiab]) NOT review[pt] AND English[LA] AND (\"1980/01/01\"[DP] : \"2023/4/1\"[DP])\n",
      "Retrieved article numbers：1\n"
     ]
    },
    {
     "name": "stderr",
     "output_type": "stream",
     "text": [
      " 60%|█████▉    | 355/595 [32:04<08:53,  2.22s/it]"
     ]
    },
    {
     "name": "stdout",
     "output_type": "stream",
     "text": [
      "===== search term =====\n",
      "( Blepharochalasis[tiab] OR Saggy upper eyelid skin[tiab]) AND ( variat*[tiab] or SNP[tiab] or allele*[tiab] or mutat*[tiab] or polymorphism*[tiab] or haplotype*[tiab] or SNPs[tiab] or genotype[tiab] or gene[tiab] or chromosome[tiab] or deletion[tiab] or indel[tiab] or insertion[tiab] or substitution[tiab] or transition[tiab] or transversion[tiab] or translocation[tiab] or CNV[tiab] or copy number variation[tiab] or SV[tiab] or chromosome structure variation[tiab]) NOT review[pt] AND English[LA] AND (\"1980/01/01\"[DP] : \"2023/4/1\"[DP])\n",
      "Retrieved article numbers：0\n"
     ]
    },
    {
     "name": "stderr",
     "output_type": "stream",
     "text": [
      " 60%|█████▉    | 356/595 [32:05<08:18,  2.09s/it]"
     ]
    },
    {
     "name": "stdout",
     "output_type": "stream",
     "text": [
      "===== search term =====\n",
      "( Prominent supraorbital arches in adult[tiab]) AND ( variat*[tiab] or SNP[tiab] or allele*[tiab] or mutat*[tiab] or polymorphism*[tiab] or haplotype*[tiab] or SNPs[tiab] or genotype[tiab] or gene[tiab] or chromosome[tiab] or deletion[tiab] or indel[tiab] or insertion[tiab] or substitution[tiab] or transition[tiab] or transversion[tiab] or translocation[tiab] or CNV[tiab] or copy number variation[tiab] or SV[tiab] or chromosome structure variation[tiab]) NOT review[pt] AND English[LA] AND (\"1980/01/01\"[DP] : \"2023/4/1\"[DP])\n",
      "Retrieved article numbers：4\n"
     ]
    },
    {
     "name": "stderr",
     "output_type": "stream",
     "text": [
      " 60%|██████    | 357/595 [32:07<08:01,  2.02s/it]"
     ]
    },
    {
     "name": "stdout",
     "output_type": "stream",
     "text": [
      "===== search term =====\n",
      "( Heavy supraorbital ridges[tiab] OR Heavy brow of the face[tiab] OR  Heavy supraorbital ridge[tiab]) AND ( variat*[tiab] or SNP[tiab] or allele*[tiab] or mutat*[tiab] or polymorphism*[tiab] or haplotype*[tiab] or SNPs[tiab] or genotype[tiab] or gene[tiab] or chromosome[tiab] or deletion[tiab] or indel[tiab] or insertion[tiab] or substitution[tiab] or transition[tiab] or transversion[tiab] or translocation[tiab] or CNV[tiab] or copy number variation[tiab] or SV[tiab] or chromosome structure variation[tiab]) NOT review[pt] AND English[LA] AND (\"1980/01/01\"[DP] : \"2023/4/1\"[DP])\n",
      "Retrieved article numbers：0\n"
     ]
    },
    {
     "name": "stderr",
     "output_type": "stream",
     "text": [
      " 60%|██████    | 358/595 [32:10<08:44,  2.21s/it]"
     ]
    },
    {
     "name": "stdout",
     "output_type": "stream",
     "text": [
      "===== search term =====\n",
      "(Abnormal eyelash morphology[tiab] OR  Eyelash abnormality[tiab] OR  Abnormality of the eyelashes[tiab] OR  Abnormal eyelashes[tiab]) AND ( variat*[tiab] or SNP[tiab] or allele*[tiab] or mutat*[tiab] or polymorphism*[tiab] or haplotype*[tiab] or SNPs[tiab] or genotype[tiab] or gene[tiab] or chromosome[tiab] or deletion[tiab] or indel[tiab] or insertion[tiab] or substitution[tiab] or transition[tiab] or transversion[tiab] or translocation[tiab] or CNV[tiab] or copy number variation[tiab] or SV[tiab] or chromosome structure variation[tiab]) NOT review[pt] AND English[LA] AND (\"1980/01/01\"[DP] : \"2023/4/1\"[DP])\n",
      "Retrieved article numbers：0\n"
     ]
    },
    {
     "name": "stderr",
     "output_type": "stream",
     "text": [
      " 60%|██████    | 359/595 [32:13<09:12,  2.34s/it]"
     ]
    },
    {
     "name": "stdout",
     "output_type": "stream",
     "text": [
      "===== search term =====\n",
      "(Abnormality of the palpebral fissures[tiab] OR   Malformation of the palpebral fissures[tiab] OR  Abnormality of the palpebral fissures[tiab] OR  Abnormality of the opening between the eyelids[tiab] OR  Deformity of the palpebral fissures[tiab]) AND ( variat*[tiab] or SNP[tiab] or allele*[tiab] or mutat*[tiab] or polymorphism*[tiab] or haplotype*[tiab] or SNPs[tiab] or genotype[tiab] or gene[tiab] or chromosome[tiab] or deletion[tiab] or indel[tiab] or insertion[tiab] or substitution[tiab] or transition[tiab] or transversion[tiab] or translocation[tiab] or CNV[tiab] or copy number variation[tiab] or SV[tiab] or chromosome structure variation[tiab]) NOT review[pt] AND English[LA] AND (\"1980/01/01\"[DP] : \"2023/4/1\"[DP])\n",
      "Retrieved article numbers：13\n"
     ]
    },
    {
     "name": "stderr",
     "output_type": "stream",
     "text": [
      " 61%|██████    | 360/595 [32:15<08:59,  2.30s/it]"
     ]
    },
    {
     "name": "stdout",
     "output_type": "stream",
     "text": [
      "===== search term =====\n",
      "(Aplasia/Hypoplasia of the eyelid[tiab] OR  Hypotrophic eyelid[tiab] OR  Failure of development of eyelid[tiab]) AND ( variat*[tiab] or SNP[tiab] or allele*[tiab] or mutat*[tiab] or polymorphism*[tiab] or haplotype*[tiab] or SNPs[tiab] or genotype[tiab] or gene[tiab] or chromosome[tiab] or deletion[tiab] or indel[tiab] or insertion[tiab] or substitution[tiab] or transition[tiab] or transversion[tiab] or translocation[tiab] or CNV[tiab] or copy number variation[tiab] or SV[tiab] or chromosome structure variation[tiab]) NOT review[pt] AND English[LA] AND (\"1980/01/01\"[DP] : \"2023/4/1\"[DP])\n",
      "Retrieved article numbers：444\n"
     ]
    },
    {
     "name": "stderr",
     "output_type": "stream",
     "text": [
      " 61%|██████    | 361/595 [32:17<08:23,  2.15s/it]"
     ]
    },
    {
     "name": "stdout",
     "output_type": "stream",
     "text": [
      "===== search term =====\n",
      "(Nodular changes affecting the eyelids[tiab] OR  Eyelid nodules[tiab]) AND ( variat*[tiab] or SNP[tiab] or allele*[tiab] or mutat*[tiab] or polymorphism*[tiab] or haplotype*[tiab] or SNPs[tiab] or genotype[tiab] or gene[tiab] or chromosome[tiab] or deletion[tiab] or indel[tiab] or insertion[tiab] or substitution[tiab] or transition[tiab] or transversion[tiab] or translocation[tiab] or CNV[tiab] or copy number variation[tiab] or SV[tiab] or chromosome structure variation[tiab]) NOT review[pt] AND English[LA] AND (\"1980/01/01\"[DP] : \"2023/4/1\"[DP])\n",
      "Retrieved article numbers：0\n"
     ]
    },
    {
     "name": "stderr",
     "output_type": "stream",
     "text": [
      " 61%|██████    | 362/595 [32:18<07:51,  2.02s/it]"
     ]
    },
    {
     "name": "stdout",
     "output_type": "stream",
     "text": [
      "===== search term =====\n",
      "(Epicanthus[tiab] OR  Epicanthic folds[tiab] OR  Palpebronasal fold[tiab] OR  Epicanthal fold[tiab] OR  Plica palpebronasalis[tiab] OR  Eye folds[tiab] OR  Prominent eye folds[tiab] OR  Epicanthal folds[tiab]) AND ( variat*[tiab] or SNP[tiab] or allele*[tiab] or mutat*[tiab] or polymorphism*[tiab] or haplotype*[tiab] or SNPs[tiab] or genotype[tiab] or gene[tiab] or chromosome[tiab] or deletion[tiab] or indel[tiab] or insertion[tiab] or substitution[tiab] or transition[tiab] or transversion[tiab] or translocation[tiab] or CNV[tiab] or copy number variation[tiab] or SV[tiab] or chromosome structure variation[tiab]) NOT review[pt] AND English[LA] AND (\"1980/01/01\"[DP] : \"2023/4/1\"[DP])\n",
      "Retrieved article numbers：2\n"
     ]
    },
    {
     "name": "stderr",
     "output_type": "stream",
     "text": [
      " 61%|██████    | 363/595 [32:21<08:28,  2.19s/it]"
     ]
    },
    {
     "name": "stdout",
     "output_type": "stream",
     "text": [
      "===== search term =====\n",
      "(Ectropion[tiab] OR  Eyelid folded out[tiab] OR  Everted eyelid[tiab] OR  Eyelid turned out[tiab]) AND ( variat*[tiab] or SNP[tiab] or allele*[tiab] or mutat*[tiab] or polymorphism*[tiab] or haplotype*[tiab] or SNPs[tiab] or genotype[tiab] or gene[tiab] or chromosome[tiab] or deletion[tiab] or indel[tiab] or insertion[tiab] or substitution[tiab] or transition[tiab] or transversion[tiab] or translocation[tiab] or CNV[tiab] or copy number variation[tiab] or SV[tiab] or chromosome structure variation[tiab]) NOT review[pt] AND English[LA] AND (\"1980/01/01\"[DP] : \"2023/4/1\"[DP])\n",
      "Retrieved article numbers：606\n"
     ]
    },
    {
     "name": "stderr",
     "output_type": "stream",
     "text": [
      " 61%|██████    | 364/595 [32:23<08:16,  2.15s/it]"
     ]
    },
    {
     "name": "stdout",
     "output_type": "stream",
     "text": [
      "===== search term =====\n",
      "(Entropion[tiab] OR  Eyelid folded in[tiab] OR  Eyelid turned in[tiab] OR  Inverted eyelid[tiab]) AND ( variat*[tiab] or SNP[tiab] or allele*[tiab] or mutat*[tiab] or polymorphism*[tiab] or haplotype*[tiab] or SNPs[tiab] or genotype[tiab] or gene[tiab] or chromosome[tiab] or deletion[tiab] or indel[tiab] or insertion[tiab] or substitution[tiab] or transition[tiab] or transversion[tiab] or translocation[tiab] or CNV[tiab] or copy number variation[tiab] or SV[tiab] or chromosome structure variation[tiab]) NOT review[pt] AND English[LA] AND (\"1980/01/01\"[DP] : \"2023/4/1\"[DP])\n",
      "Retrieved article numbers：112\n"
     ]
    },
    {
     "name": "stderr",
     "output_type": "stream",
     "text": [
      " 61%|██████▏   | 365/595 [32:25<07:53,  2.06s/it]"
     ]
    },
    {
     "name": "stdout",
     "output_type": "stream",
     "text": [
      "===== search term =====\n",
      "(Blepharitis[tiab] OR   Cellulitis of eyelids[tiab] OR  Inflammation of eyelids[tiab]) AND ( variat*[tiab] or SNP[tiab] or allele*[tiab] or mutat*[tiab] or polymorphism*[tiab] or haplotype*[tiab] or SNPs[tiab] or genotype[tiab] or gene[tiab] or chromosome[tiab] or deletion[tiab] or indel[tiab] or insertion[tiab] or substitution[tiab] or transition[tiab] or transversion[tiab] or translocation[tiab] or CNV[tiab] or copy number variation[tiab] or SV[tiab] or chromosome structure variation[tiab]) NOT review[pt] AND English[LA] AND (\"1980/01/01\"[DP] : \"2023/4/1\"[DP])\n",
      "Retrieved article numbers：39\n"
     ]
    },
    {
     "name": "stderr",
     "output_type": "stream",
     "text": [
      " 62%|██████▏   | 366/595 [32:28<08:40,  2.27s/it]"
     ]
    },
    {
     "name": "stdout",
     "output_type": "stream",
     "text": [
      "===== search term =====\n",
      "(Lagopthalmos[tiab] OR  Inability to close the eyelids[tiab] OR  Eyelids stay open[tiab]) AND ( variat*[tiab] or SNP[tiab] or allele*[tiab] or mutat*[tiab] or polymorphism*[tiab] or haplotype*[tiab] or SNPs[tiab] or genotype[tiab] or gene[tiab] or chromosome[tiab] or deletion[tiab] or indel[tiab] or insertion[tiab] or substitution[tiab] or transition[tiab] or transversion[tiab] or translocation[tiab] or CNV[tiab] or copy number variation[tiab] or SV[tiab] or chromosome structure variation[tiab]) NOT review[pt] AND English[LA] AND (\"1980/01/01\"[DP] : \"2023/4/1\"[DP])\n",
      "Retrieved article numbers：78\n"
     ]
    },
    {
     "name": "stderr",
     "output_type": "stream",
     "text": [
      " 62%|██████▏   | 367/595 [32:29<08:06,  2.13s/it]"
     ]
    },
    {
     "name": "stdout",
     "output_type": "stream",
     "text": [
      "===== search term =====\n",
      "(Palpebral edema[tiab] OR  Oedema of the eyelids[tiab] OR  Edema of the eyelids[tiab] OR  Swelling of eyelids[tiab] OR  Puffy lids[tiab] OR  Eyelid oedema[tiab] OR  Fullness of eyelids[tiab] OR  Palpebral oedema[tiab] OR  Puffy eyelids[tiab] OR  Eyelid edema[tiab]) AND ( variat*[tiab] or SNP[tiab] or allele*[tiab] or mutat*[tiab] or polymorphism*[tiab] or haplotype*[tiab] or SNPs[tiab] or genotype[tiab] or gene[tiab] or chromosome[tiab] or deletion[tiab] or indel[tiab] or insertion[tiab] or substitution[tiab] or transition[tiab] or transversion[tiab] or translocation[tiab] or CNV[tiab] or copy number variation[tiab] or SV[tiab] or chromosome structure variation[tiab]) NOT review[pt] AND English[LA] AND (\"1980/01/01\"[DP] : \"2023/4/1\"[DP])\n",
      "Retrieved article numbers：1\n"
     ]
    },
    {
     "name": "stderr",
     "output_type": "stream",
     "text": [
      " 62%|██████▏   | 368/595 [32:31<07:34,  2.00s/it]"
     ]
    },
    {
     "name": "stdout",
     "output_type": "stream",
     "text": [
      "===== search term =====\n",
      "(Eyelid retraction[tiab]) AND ( variat*[tiab] or SNP[tiab] or allele*[tiab] or mutat*[tiab] or polymorphism*[tiab] or haplotype*[tiab] or SNPs[tiab] or genotype[tiab] or gene[tiab] or chromosome[tiab] or deletion[tiab] or indel[tiab] or insertion[tiab] or substitution[tiab] or transition[tiab] or transversion[tiab] or translocation[tiab] or CNV[tiab] or copy number variation[tiab] or SV[tiab] or chromosome structure variation[tiab]) NOT review[pt] AND English[LA] AND (\"1980/01/01\"[DP] : \"2023/4/1\"[DP])\n",
      "Retrieved article numbers：38\n"
     ]
    },
    {
     "name": "stderr",
     "output_type": "stream",
     "text": [
      " 62%|██████▏   | 369/595 [32:33<07:35,  2.02s/it]"
     ]
    },
    {
     "name": "stdout",
     "output_type": "stream",
     "text": [
      "===== search term =====\n",
      "(Epiblepharon[tiab]) AND ( variat*[tiab] or SNP[tiab] or allele*[tiab] or mutat*[tiab] or polymorphism*[tiab] or haplotype*[tiab] or SNPs[tiab] or genotype[tiab] or gene[tiab] or chromosome[tiab] or deletion[tiab] or indel[tiab] or insertion[tiab] or substitution[tiab] or transition[tiab] or transversion[tiab] or translocation[tiab] or CNV[tiab] or copy number variation[tiab] or SV[tiab] or chromosome structure variation[tiab]) NOT review[pt] AND English[LA] AND (\"1980/01/01\"[DP] : \"2023/4/1\"[DP])\n",
      "Retrieved article numbers：25\n"
     ]
    },
    {
     "name": "stderr",
     "output_type": "stream",
     "text": [
      " 62%|██████▏   | 370/595 [32:35<07:34,  2.02s/it]"
     ]
    },
    {
     "name": "stdout",
     "output_type": "stream",
     "text": [
      "===== search term =====\n",
      "(Hooded eyelid[tiab]) AND ( variat*[tiab] or SNP[tiab] or allele*[tiab] or mutat*[tiab] or polymorphism*[tiab] or haplotype*[tiab] or SNPs[tiab] or genotype[tiab] or gene[tiab] or chromosome[tiab] or deletion[tiab] or indel[tiab] or insertion[tiab] or substitution[tiab] or transition[tiab] or transversion[tiab] or translocation[tiab] or CNV[tiab] or copy number variation[tiab] or SV[tiab] or chromosome structure variation[tiab]) NOT review[pt] AND English[LA] AND (\"1980/01/01\"[DP] : \"2023/4/1\"[DP])\n",
      "Retrieved article numbers：7\n"
     ]
    },
    {
     "name": "stderr",
     "output_type": "stream",
     "text": [
      " 62%|██████▏   | 371/595 [32:38<08:48,  2.36s/it]"
     ]
    },
    {
     "name": "stdout",
     "output_type": "stream",
     "text": [
      "===== search term =====\n",
      "(Abnormal levator palpebrae superioris morphology[tiab]) AND ( variat*[tiab] or SNP[tiab] or allele*[tiab] or mutat*[tiab] or polymorphism*[tiab] or haplotype*[tiab] or SNPs[tiab] or genotype[tiab] or gene[tiab] or chromosome[tiab] or deletion[tiab] or indel[tiab] or insertion[tiab] or substitution[tiab] or transition[tiab] or transversion[tiab] or translocation[tiab] or CNV[tiab] or copy number variation[tiab] or SV[tiab] or chromosome structure variation[tiab]) NOT review[pt] AND English[LA] AND (\"1980/01/01\"[DP] : \"2023/4/1\"[DP])\n",
      "Retrieved article numbers：0\n"
     ]
    },
    {
     "name": "stderr",
     "output_type": "stream",
     "text": [
      " 63%|██████▎   | 372/595 [32:40<08:17,  2.23s/it]"
     ]
    },
    {
     "name": "stdout",
     "output_type": "stream",
     "text": [
      "===== search term =====\n",
      "(Euryblepharon[tiab] OR Kabuki syndrome eyelids[tiab]) AND ( variat*[tiab] or SNP[tiab] or allele*[tiab] or mutat*[tiab] or polymorphism*[tiab] or haplotype*[tiab] or SNPs[tiab] or genotype[tiab] or gene[tiab] or chromosome[tiab] or deletion[tiab] or indel[tiab] or insertion[tiab] or substitution[tiab] or transition[tiab] or transversion[tiab] or translocation[tiab] or CNV[tiab] or copy number variation[tiab] or SV[tiab] or chromosome structure variation[tiab]) NOT review[pt] AND English[LA] AND (\"1980/01/01\"[DP] : \"2023/4/1\"[DP])\n",
      "Retrieved article numbers：2\n"
     ]
    },
    {
     "name": "stderr",
     "output_type": "stream",
     "text": [
      " 63%|██████▎   | 373/595 [32:44<09:42,  2.62s/it]"
     ]
    },
    {
     "name": "stdout",
     "output_type": "stream",
     "text": [
      "===== search term =====\n",
      "(Microblepharia[tiab] OR Abnormally small eyelid[tiab]) AND ( variat*[tiab] or SNP[tiab] or allele*[tiab] or mutat*[tiab] or polymorphism*[tiab] or haplotype*[tiab] or SNPs[tiab] or genotype[tiab] or gene[tiab] or chromosome[tiab] or deletion[tiab] or indel[tiab] or insertion[tiab] or substitution[tiab] or transition[tiab] or transversion[tiab] or translocation[tiab] or CNV[tiab] or copy number variation[tiab] or SV[tiab] or chromosome structure variation[tiab]) NOT review[pt] AND English[LA] AND (\"1980/01/01\"[DP] : \"2023/4/1\"[DP])\n",
      "Retrieved article numbers：9\n"
     ]
    },
    {
     "name": "stderr",
     "output_type": "stream",
     "text": [
      " 63%|██████▎   | 374/595 [32:46<08:49,  2.40s/it]"
     ]
    },
    {
     "name": "stdout",
     "output_type": "stream",
     "text": [
      "===== search term =====\n",
      "(Ankyloblepharon[tiab] OR Eyelid synechiae[tiab] OR  Eyelids stuck together[tiab] OR  Ankyloblepharon filiforme adnatum[tiab] OR  Adhesion of eyelids[tiab]) AND ( variat*[tiab] or SNP[tiab] or allele*[tiab] or mutat*[tiab] or polymorphism*[tiab] or haplotype*[tiab] or SNPs[tiab] or genotype[tiab] or gene[tiab] or chromosome[tiab] or deletion[tiab] or indel[tiab] or insertion[tiab] or substitution[tiab] or transition[tiab] or transversion[tiab] or translocation[tiab] or CNV[tiab] or copy number variation[tiab] or SV[tiab] or chromosome structure variation[tiab]) NOT review[pt] AND English[LA] AND (\"1980/01/01\"[DP] : \"2023/4/1\"[DP])\n",
      "Retrieved article numbers：0\n"
     ]
    },
    {
     "name": "stderr",
     "output_type": "stream",
     "text": [
      " 63%|██████▎   | 375/595 [32:48<08:29,  2.31s/it]"
     ]
    },
    {
     "name": "stdout",
     "output_type": "stream",
     "text": [
      "===== search term =====\n",
      "(Heliotrope rash of eyelid[tiab]) AND ( variat*[tiab] or SNP[tiab] or allele*[tiab] or mutat*[tiab] or polymorphism*[tiab] or haplotype*[tiab] or SNPs[tiab] or genotype[tiab] or gene[tiab] or chromosome[tiab] or deletion[tiab] or indel[tiab] or insertion[tiab] or substitution[tiab] or transition[tiab] or transversion[tiab] or translocation[tiab] or CNV[tiab] or copy number variation[tiab] or SV[tiab] or chromosome structure variation[tiab]) NOT review[pt] AND English[LA] AND (\"1980/01/01\"[DP] : \"2023/4/1\"[DP])\n",
      "Retrieved article numbers：82\n"
     ]
    },
    {
     "name": "stderr",
     "output_type": "stream",
     "text": [
      " 63%|██████▎   | 376/595 [32:50<08:09,  2.24s/it]"
     ]
    },
    {
     "name": "stdout",
     "output_type": "stream",
     "text": [
      "===== search term =====\n",
      "(Erythema of the eyelids[tiab] OR Eyelid erythema[tiab] OR  Erythema of eyelid[tiab]) AND ( variat*[tiab] or SNP[tiab] or allele*[tiab] or mutat*[tiab] or polymorphism*[tiab] or haplotype*[tiab] or SNPs[tiab] or genotype[tiab] or gene[tiab] or chromosome[tiab] or deletion[tiab] or indel[tiab] or insertion[tiab] or substitution[tiab] or transition[tiab] or transversion[tiab] or translocation[tiab] or CNV[tiab] or copy number variation[tiab] or SV[tiab] or chromosome structure variation[tiab]) NOT review[pt] AND English[LA] AND (\"1980/01/01\"[DP] : \"2023/4/1\"[DP])\n",
      "Retrieved article numbers：0\n"
     ]
    },
    {
     "name": "stderr",
     "output_type": "stream",
     "text": [
      " 63%|██████▎   | 377/595 [32:52<07:36,  2.09s/it]"
     ]
    },
    {
     "name": "stdout",
     "output_type": "stream",
     "text": [
      "===== search term =====\n",
      "(Dermatochalasis[tiab] OR Eyelid dermatochalasia[tiab] OR  Redundant eyelid skin[tiab] OR  Baggy eyes[tiab] OR  Extra eyelid skin[tiab] OR  Hooding of eyelids[tiab] OR  Droopy eyelid skin[tiab]) AND ( variat*[tiab] or SNP[tiab] or allele*[tiab] or mutat*[tiab] or polymorphism*[tiab] or haplotype*[tiab] or SNPs[tiab] or genotype[tiab] or gene[tiab] or chromosome[tiab] or deletion[tiab] or indel[tiab] or insertion[tiab] or substitution[tiab] or transition[tiab] or transversion[tiab] or translocation[tiab] or CNV[tiab] or copy number variation[tiab] or SV[tiab] or chromosome structure variation[tiab]) NOT review[pt] AND English[LA] AND (\"1980/01/01\"[DP] : \"2023/4/1\"[DP])\n",
      "Retrieved article numbers：0\n"
     ]
    },
    {
     "name": "stderr",
     "output_type": "stream",
     "text": [
      " 64%|██████▎   | 378/595 [32:53<07:14,  2.00s/it]"
     ]
    },
    {
     "name": "stdout",
     "output_type": "stream",
     "text": [
      "===== search term =====\n",
      "(Hyperpigmentation of eyelids[tiab] OR Dark eyelids[tiab] OR  Pigmentation of eyelids[tiab] OR  Brown eyelids[tiab]) AND ( variat*[tiab] or SNP[tiab] or allele*[tiab] or mutat*[tiab] or polymorphism*[tiab] or haplotype*[tiab] or SNPs[tiab] or genotype[tiab] or gene[tiab] or chromosome[tiab] or deletion[tiab] or indel[tiab] or insertion[tiab] or substitution[tiab] or transition[tiab] or transversion[tiab] or translocation[tiab] or CNV[tiab] or copy number variation[tiab] or SV[tiab] or chromosome structure variation[tiab]) NOT review[pt] AND English[LA] AND (\"1980/01/01\"[DP] : \"2023/4/1\"[DP])\n",
      "Retrieved article numbers：5\n"
     ]
    },
    {
     "name": "stderr",
     "output_type": "stream",
     "text": [
      " 64%|██████▎   | 379/595 [32:55<06:53,  1.91s/it]"
     ]
    },
    {
     "name": "stdout",
     "output_type": "stream",
     "text": [
      "===== search term =====\n",
      "(Telecanthus[tiab] OR Increased distance between medial canthi[tiab] OR  Increased intercanthal distance[tiab] OR  Corners of eye widely separated[tiab] OR  Dystopia canthorum[tiab]) AND ( variat*[tiab] or SNP[tiab] or allele*[tiab] or mutat*[tiab] or polymorphism*[tiab] or haplotype*[tiab] or SNPs[tiab] or genotype[tiab] or gene[tiab] or chromosome[tiab] or deletion[tiab] or indel[tiab] or insertion[tiab] or substitution[tiab] or transition[tiab] or transversion[tiab] or translocation[tiab] or CNV[tiab] or copy number variation[tiab] or SV[tiab] or chromosome structure variation[tiab]) NOT review[pt] AND English[LA] AND (\"1980/01/01\"[DP] : \"2023/4/1\"[DP])\n",
      "Retrieved article numbers：16\n"
     ]
    },
    {
     "name": "stderr",
     "output_type": "stream",
     "text": [
      " 64%|██████▍   | 380/595 [32:57<06:39,  1.86s/it]"
     ]
    },
    {
     "name": "stdout",
     "output_type": "stream",
     "text": [
      "===== search term =====\n",
      "(Palpebral thickening[tiab] OR Eyelid thickening[tiab] OR  Thickened but nonswollen eyelids[tiab] OR  Thick eyelids[tiab] OR  Thickened eyelid[tiab]) AND ( variat*[tiab] or SNP[tiab] or allele*[tiab] or mutat*[tiab] or polymorphism*[tiab] or haplotype*[tiab] or SNPs[tiab] or genotype[tiab] or gene[tiab] or chromosome[tiab] or deletion[tiab] or indel[tiab] or insertion[tiab] or substitution[tiab] or transition[tiab] or transversion[tiab] or translocation[tiab] or CNV[tiab] or copy number variation[tiab] or SV[tiab] or chromosome structure variation[tiab]) NOT review[pt] AND English[LA] AND (\"1980/01/01\"[DP] : \"2023/4/1\"[DP])\n",
      "Retrieved article numbers：189\n"
     ]
    },
    {
     "name": "stderr",
     "output_type": "stream",
     "text": [
      " 64%|██████▍   | 381/595 [32:59<06:45,  1.90s/it]"
     ]
    },
    {
     "name": "stdout",
     "output_type": "stream",
     "text": [
      "===== search term =====\n",
      "(Symblepharon[tiab] OR Eyelid stuck to eyeball[tiab] OR  Eyelid adhesion to globe of eye[tiab]) AND ( variat*[tiab] or SNP[tiab] or allele*[tiab] or mutat*[tiab] or polymorphism*[tiab] or haplotype*[tiab] or SNPs[tiab] or genotype[tiab] or gene[tiab] or chromosome[tiab] or deletion[tiab] or indel[tiab] or insertion[tiab] or substitution[tiab] or transition[tiab] or transversion[tiab] or translocation[tiab] or CNV[tiab] or copy number variation[tiab] or SV[tiab] or chromosome structure variation[tiab]) NOT review[pt] AND English[LA] AND (\"1980/01/01\"[DP] : \"2023/4/1\"[DP])\n",
      "Retrieved article numbers：68\n"
     ]
    },
    {
     "name": "stderr",
     "output_type": "stream",
     "text": [
      " 64%|██████▍   | 382/595 [33:01<06:38,  1.87s/it]"
     ]
    },
    {
     "name": "stdout",
     "output_type": "stream",
     "text": [
      "===== search term =====\n",
      "(Accessory eyelid[tiab] OR Double eyelid[tiab] OR  Extra eyelid[tiab]) AND ( variat*[tiab] or SNP[tiab] or allele*[tiab] or mutat*[tiab] or polymorphism*[tiab] or haplotype*[tiab] or SNPs[tiab] or genotype[tiab] or gene[tiab] or chromosome[tiab] or deletion[tiab] or indel[tiab] or insertion[tiab] or substitution[tiab] or transition[tiab] or transversion[tiab] or translocation[tiab] or CNV[tiab] or copy number variation[tiab] or SV[tiab] or chromosome structure variation[tiab]) NOT review[pt] AND English[LA] AND (\"1980/01/01\"[DP] : \"2023/4/1\"[DP])\n",
      "Retrieved article numbers：14\n"
     ]
    },
    {
     "name": "stderr",
     "output_type": "stream",
     "text": [
      " 64%|██████▍   | 383/595 [33:03<06:43,  1.91s/it]"
     ]
    },
    {
     "name": "stdout",
     "output_type": "stream",
     "text": [
      "===== search term =====\n",
      "(Lipomas of eyelids[tiab] OR Fatty tumours on the eyelids[tiab] OR  Fatty tumors on the eyelids[tiab]) AND ( variat*[tiab] or SNP[tiab] or allele*[tiab] or mutat*[tiab] or polymorphism*[tiab] or haplotype*[tiab] or SNPs[tiab] or genotype[tiab] or gene[tiab] or chromosome[tiab] or deletion[tiab] or indel[tiab] or insertion[tiab] or substitution[tiab] or transition[tiab] or transversion[tiab] or translocation[tiab] or CNV[tiab] or copy number variation[tiab] or SV[tiab] or chromosome structure variation[tiab]) NOT review[pt] AND English[LA] AND (\"1980/01/01\"[DP] : \"2023/4/1\"[DP])\n",
      "Retrieved article numbers：19\n"
     ]
    },
    {
     "name": "stderr",
     "output_type": "stream",
     "text": [
      " 65%|██████▍   | 384/595 [33:05<06:52,  1.95s/it]"
     ]
    },
    {
     "name": "stdout",
     "output_type": "stream",
     "text": [
      "===== search term =====\n",
      "(Conjunctivitis[tiab] OR  Pink eye[tiab] OR  Recurrent conjunctivitis[tiab]) AND ( variat*[tiab] or SNP[tiab] or allele*[tiab] or mutat*[tiab] or polymorphism*[tiab] or haplotype*[tiab] or SNPs[tiab] or genotype[tiab] or gene[tiab] or chromosome[tiab] or deletion[tiab] or indel[tiab] or insertion[tiab] or substitution[tiab] or transition[tiab] or transversion[tiab] or translocation[tiab] or CNV[tiab] or copy number variation[tiab] or SV[tiab] or chromosome structure variation[tiab]) NOT review[pt] AND English[LA] AND (\"1980/01/01\"[DP] : \"2023/4/1\"[DP])\n",
      "Retrieved article numbers：0\n"
     ]
    },
    {
     "name": "stderr",
     "output_type": "stream",
     "text": [
      " 65%|██████▍   | 385/595 [33:10<10:05,  2.88s/it]"
     ]
    },
    {
     "name": "stdout",
     "output_type": "stream",
     "text": [
      "===== search term =====\n",
      "(Abnormal morphology of the conjunctival vasculature[tiab] OR  Abnormal vasculature of the conjunctiva morphology[tiab] OR  Abnormal morphology of the conjunctiva vasculature[tiab] OR  Abnormality of the vasculature of the conjunctiva[tiab]) AND ( variat*[tiab] or SNP[tiab] or allele*[tiab] or mutat*[tiab] or polymorphism*[tiab] or haplotype*[tiab] or SNPs[tiab] or genotype[tiab] or gene[tiab] or chromosome[tiab] or deletion[tiab] or indel[tiab] or insertion[tiab] or substitution[tiab] or transition[tiab] or transversion[tiab] or translocation[tiab] or CNV[tiab] or copy number variation[tiab] or SV[tiab] or chromosome structure variation[tiab]) NOT review[pt] AND English[LA] AND (\"1980/01/01\"[DP] : \"2023/4/1\"[DP])\n",
      "Retrieved article numbers：698\n"
     ]
    },
    {
     "name": "stderr",
     "output_type": "stream",
     "text": [
      " 65%|██████▍   | 386/595 [33:12<09:12,  2.64s/it]"
     ]
    },
    {
     "name": "stdout",
     "output_type": "stream",
     "text": [
      "===== search term =====\n",
      "(Conjunctival follicles[tiab]) AND ( variat*[tiab] or SNP[tiab] or allele*[tiab] or mutat*[tiab] or polymorphism*[tiab] or haplotype*[tiab] or SNPs[tiab] or genotype[tiab] or gene[tiab] or chromosome[tiab] or deletion[tiab] or indel[tiab] or insertion[tiab] or substitution[tiab] or transition[tiab] or transversion[tiab] or translocation[tiab] or CNV[tiab] or copy number variation[tiab] or SV[tiab] or chromosome structure variation[tiab]) NOT review[pt] AND English[LA] AND (\"1980/01/01\"[DP] : \"2023/4/1\"[DP])\n",
      "Retrieved article numbers：1\n"
     ]
    },
    {
     "name": "stderr",
     "output_type": "stream",
     "text": [
      " 65%|██████▌   | 387/595 [33:14<09:14,  2.66s/it]"
     ]
    },
    {
     "name": "stdout",
     "output_type": "stream",
     "text": [
      "===== search term =====\n",
      "(Conjunctival hyperemia[tiab] OR  Conjunctival injection[tiab] OR  Conjunctival hyperaemia[tiab] OR  Conjunctival vascular congestion[tiab]) AND ( variat*[tiab] or SNP[tiab] or allele*[tiab] or mutat*[tiab] or polymorphism*[tiab] or haplotype*[tiab] or SNPs[tiab] or genotype[tiab] or gene[tiab] or chromosome[tiab] or deletion[tiab] or indel[tiab] or insertion[tiab] or substitution[tiab] or transition[tiab] or transversion[tiab] or translocation[tiab] or CNV[tiab] or copy number variation[tiab] or SV[tiab] or chromosome structure variation[tiab]) NOT review[pt] AND English[LA] AND (\"1980/01/01\"[DP] : \"2023/4/1\"[DP])\n",
      "Retrieved article numbers：1\n"
     ]
    },
    {
     "name": "stderr",
     "output_type": "stream",
     "text": [
      " 65%|██████▌   | 388/595 [33:17<09:29,  2.75s/it]"
     ]
    },
    {
     "name": "stdout",
     "output_type": "stream",
     "text": [
      "===== search term =====\n",
      "(Conjunctival papillae[tiab]) AND ( variat*[tiab] or SNP[tiab] or allele*[tiab] or mutat*[tiab] or polymorphism*[tiab] or haplotype*[tiab] or SNPs[tiab] or genotype[tiab] or gene[tiab] or chromosome[tiab] or deletion[tiab] or indel[tiab] or insertion[tiab] or substitution[tiab] or transition[tiab] or transversion[tiab] or translocation[tiab] or CNV[tiab] or copy number variation[tiab] or SV[tiab] or chromosome structure variation[tiab]) NOT review[pt] AND English[LA] AND (\"1980/01/01\"[DP] : \"2023/4/1\"[DP])\n",
      "Retrieved article numbers：81\n"
     ]
    },
    {
     "name": "stderr",
     "output_type": "stream",
     "text": [
      " 65%|██████▌   | 389/595 [33:19<08:41,  2.53s/it]"
     ]
    },
    {
     "name": "stdout",
     "output_type": "stream",
     "text": [
      "===== search term =====\n",
      "(Conjunctival whitish salt-like deposits[tiab]) AND ( variat*[tiab] or SNP[tiab] or allele*[tiab] or mutat*[tiab] or polymorphism*[tiab] or haplotype*[tiab] or SNPs[tiab] or genotype[tiab] or gene[tiab] or chromosome[tiab] or deletion[tiab] or indel[tiab] or insertion[tiab] or substitution[tiab] or transition[tiab] or transversion[tiab] or translocation[tiab] or CNV[tiab] or copy number variation[tiab] or SV[tiab] or chromosome structure variation[tiab]) NOT review[pt] AND English[LA] AND (\"1980/01/01\"[DP] : \"2023/4/1\"[DP])\n",
      "Retrieved article numbers：5\n"
     ]
    },
    {
     "name": "stderr",
     "output_type": "stream",
     "text": [
      " 66%|██████▌   | 390/595 [33:21<08:07,  2.38s/it]"
     ]
    },
    {
     "name": "stdout",
     "output_type": "stream",
     "text": [
      "===== search term =====\n",
      "(Conjunctival amyloidosis[tiab]) AND ( variat*[tiab] or SNP[tiab] or allele*[tiab] or mutat*[tiab] or polymorphism*[tiab] or haplotype*[tiab] or SNPs[tiab] or genotype[tiab] or gene[tiab] or chromosome[tiab] or deletion[tiab] or indel[tiab] or insertion[tiab] or substitution[tiab] or transition[tiab] or transversion[tiab] or translocation[tiab] or CNV[tiab] or copy number variation[tiab] or SV[tiab] or chromosome structure variation[tiab]) NOT review[pt] AND English[LA] AND (\"1980/01/01\"[DP] : \"2023/4/1\"[DP])\n",
      "Retrieved article numbers：0\n"
     ]
    },
    {
     "name": "stderr",
     "output_type": "stream",
     "text": [
      " 66%|██████▌   | 391/595 [33:23<07:35,  2.24s/it]"
     ]
    },
    {
     "name": "stdout",
     "output_type": "stream",
     "text": [
      "===== search term =====\n",
      "(Conjunctival icterus[tiab] OR Yellow conjunctiva[tiab] OR  Yellowing of the whites of the eyes[tiab] OR  Scleral icterus[tiab] OR  Yellow sclera[tiab]) AND ( variat*[tiab] or SNP[tiab] or allele*[tiab] or mutat*[tiab] or polymorphism*[tiab] or haplotype*[tiab] or SNPs[tiab] or genotype[tiab] or gene[tiab] or chromosome[tiab] or deletion[tiab] or indel[tiab] or insertion[tiab] or substitution[tiab] or transition[tiab] or transversion[tiab] or translocation[tiab] or CNV[tiab] or copy number variation[tiab] or SV[tiab] or chromosome structure variation[tiab]) NOT review[pt] AND English[LA] AND (\"1980/01/01\"[DP] : \"2023/4/1\"[DP])\n",
      "Retrieved article numbers：1\n"
     ]
    },
    {
     "name": "stderr",
     "output_type": "stream",
     "text": [
      " 66%|██████▌   | 392/595 [33:25<07:15,  2.15s/it]"
     ]
    },
    {
     "name": "stdout",
     "output_type": "stream",
     "text": [
      "===== search term =====\n",
      "(Spontaneous conjunctival filtering bleb[tiab] OR Spontaneous filtering bleb[tiab] OR  Conjunctival avascular cysts [tiab] OR  [tiab]) AND ( variat*[tiab] or SNP[tiab] or allele*[tiab] or mutat*[tiab] or polymorphism*[tiab] or haplotype*[tiab] or SNPs[tiab] or genotype[tiab] or gene[tiab] or chromosome[tiab] or deletion[tiab] or indel[tiab] or insertion[tiab] or substitution[tiab] or transition[tiab] or transversion[tiab] or translocation[tiab] or CNV[tiab] or copy number variation[tiab] or SV[tiab] or chromosome structure variation[tiab]) NOT review[pt] AND English[LA] AND (\"1980/01/01\"[DP] : \"2023/4/1\"[DP])\n",
      "Retrieved article numbers：8\n"
     ]
    },
    {
     "name": "stderr",
     "output_type": "stream",
     "text": [
      " 66%|██████▌   | 393/595 [33:27<06:51,  2.04s/it]"
     ]
    },
    {
     "name": "stdout",
     "output_type": "stream",
     "text": [
      "===== search term =====\n",
      "(Conjunctival nodule[tiab]) AND ( variat*[tiab] or SNP[tiab] or allele*[tiab] or mutat*[tiab] or polymorphism*[tiab] or haplotype*[tiab] or SNPs[tiab] or genotype[tiab] or gene[tiab] or chromosome[tiab] or deletion[tiab] or indel[tiab] or insertion[tiab] or substitution[tiab] or transition[tiab] or transversion[tiab] or translocation[tiab] or CNV[tiab] or copy number variation[tiab] or SV[tiab] or chromosome structure variation[tiab]) NOT review[pt] AND English[LA] AND (\"1980/01/01\"[DP] : \"2023/4/1\"[DP])\n",
      "Retrieved article numbers：0\n"
     ]
    },
    {
     "name": "stderr",
     "output_type": "stream",
     "text": [
      " 66%|██████▌   | 394/595 [33:29<06:58,  2.08s/it]"
     ]
    },
    {
     "name": "stdout",
     "output_type": "stream",
     "text": [
      "===== search term =====\n",
      "(Chemosis[tiab]) AND ( variat*[tiab] or SNP[tiab] or allele*[tiab] or mutat*[tiab] or polymorphism*[tiab] or haplotype*[tiab] or SNPs[tiab] or genotype[tiab] or gene[tiab] or chromosome[tiab] or deletion[tiab] or indel[tiab] or insertion[tiab] or substitution[tiab] or transition[tiab] or transversion[tiab] or translocation[tiab] or CNV[tiab] or copy number variation[tiab] or SV[tiab] or chromosome structure variation[tiab]) NOT review[pt] AND English[LA] AND (\"1980/01/01\"[DP] : \"2023/4/1\"[DP])\n",
      "Retrieved article numbers：0\n"
     ]
    },
    {
     "name": "stderr",
     "output_type": "stream",
     "text": [
      " 66%|██████▋   | 395/595 [33:32<07:13,  2.17s/it]"
     ]
    },
    {
     "name": "stdout",
     "output_type": "stream",
     "text": [
      "===== search term =====\n",
      "(Bitot spots of the conjunctiva[tiab] OR Bitot's spots[tiab]) AND ( variat*[tiab] or SNP[tiab] or allele*[tiab] or mutat*[tiab] or polymorphism*[tiab] or haplotype*[tiab] or SNPs[tiab] or genotype[tiab] or gene[tiab] or chromosome[tiab] or deletion[tiab] or indel[tiab] or insertion[tiab] or substitution[tiab] or transition[tiab] or transversion[tiab] or translocation[tiab] or CNV[tiab] or copy number variation[tiab] or SV[tiab] or chromosome structure variation[tiab]) NOT review[pt] AND English[LA] AND (\"1980/01/01\"[DP] : \"2023/4/1\"[DP])\n",
      "Retrieved article numbers：31\n"
     ]
    },
    {
     "name": "stderr",
     "output_type": "stream",
     "text": [
      " 67%|██████▋   | 396/595 [33:34<07:16,  2.19s/it]"
     ]
    },
    {
     "name": "stdout",
     "output_type": "stream",
     "text": [
      "===== search term =====\n",
      "(Pinguecula[tiab]) AND ( variat*[tiab] or SNP[tiab] or allele*[tiab] or mutat*[tiab] or polymorphism*[tiab] or haplotype*[tiab] or SNPs[tiab] or genotype[tiab] or gene[tiab] or chromosome[tiab] or deletion[tiab] or indel[tiab] or insertion[tiab] or substitution[tiab] or transition[tiab] or transversion[tiab] or translocation[tiab] or CNV[tiab] or copy number variation[tiab] or SV[tiab] or chromosome structure variation[tiab]) NOT review[pt] AND English[LA] AND (\"1980/01/01\"[DP] : \"2023/4/1\"[DP])\n",
      "Retrieved article numbers：4\n"
     ]
    },
    {
     "name": "stderr",
     "output_type": "stream",
     "text": [
      " 67%|██████▋   | 397/595 [33:36<06:50,  2.07s/it]"
     ]
    },
    {
     "name": "stdout",
     "output_type": "stream",
     "text": [
      "===== search term =====\n",
      "(Defect of palpebral conjunctiva[tiab]) AND ( variat*[tiab] or SNP[tiab] or allele*[tiab] or mutat*[tiab] or polymorphism*[tiab] or haplotype*[tiab] or SNPs[tiab] or genotype[tiab] or gene[tiab] or chromosome[tiab] or deletion[tiab] or indel[tiab] or insertion[tiab] or substitution[tiab] or transition[tiab] or transversion[tiab] or translocation[tiab] or CNV[tiab] or copy number variation[tiab] or SV[tiab] or chromosome structure variation[tiab]) NOT review[pt] AND English[LA] AND (\"1980/01/01\"[DP] : \"2023/4/1\"[DP])\n",
      "Retrieved article numbers：6\n"
     ]
    },
    {
     "name": "stderr",
     "output_type": "stream",
     "text": [
      " 67%|██████▋   | 398/595 [33:37<06:28,  1.97s/it]"
     ]
    },
    {
     "name": "stdout",
     "output_type": "stream",
     "text": [
      "===== search term =====\n",
      "(Conjunctival dermolipoma[tiab]) AND ( variat*[tiab] or SNP[tiab] or allele*[tiab] or mutat*[tiab] or polymorphism*[tiab] or haplotype*[tiab] or SNPs[tiab] or genotype[tiab] or gene[tiab] or chromosome[tiab] or deletion[tiab] or indel[tiab] or insertion[tiab] or substitution[tiab] or transition[tiab] or transversion[tiab] or translocation[tiab] or CNV[tiab] or copy number variation[tiab] or SV[tiab] or chromosome structure variation[tiab]) NOT review[pt] AND English[LA] AND (\"1980/01/01\"[DP] : \"2023/4/1\"[DP])\n",
      "Retrieved article numbers：0\n"
     ]
    },
    {
     "name": "stderr",
     "output_type": "stream",
     "text": [
      " 67%|██████▋   | 399/595 [33:40<06:35,  2.02s/it]"
     ]
    },
    {
     "name": "stdout",
     "output_type": "stream",
     "text": [
      "===== search term =====\n",
      "(Conjunctival lipoma[tiab]) AND ( variat*[tiab] or SNP[tiab] or allele*[tiab] or mutat*[tiab] or polymorphism*[tiab] or haplotype*[tiab] or SNPs[tiab] or genotype[tiab] or gene[tiab] or chromosome[tiab] or deletion[tiab] or indel[tiab] or insertion[tiab] or substitution[tiab] or transition[tiab] or transversion[tiab] or translocation[tiab] or CNV[tiab] or copy number variation[tiab] or SV[tiab] or chromosome structure variation[tiab]) NOT review[pt] AND English[LA] AND (\"1980/01/01\"[DP] : \"2023/4/1\"[DP])\n",
      "Retrieved article numbers：0\n"
     ]
    },
    {
     "name": "stderr",
     "output_type": "stream",
     "text": [
      " 67%|██████▋   | 400/595 [33:41<06:10,  1.90s/it]"
     ]
    },
    {
     "name": "stdout",
     "output_type": "stream",
     "text": [
      "===== search term =====\n",
      "( Limbal dermoid[tiab] OR Epibulbar dermoid[tiab] OR  Epibulbar dermoids[tiab] OR  Benign eye tumour[tiab] OR  Benign eye tumor[tiab]) AND ( variat*[tiab] or SNP[tiab] or allele*[tiab] or mutat*[tiab] or polymorphism*[tiab] or haplotype*[tiab] or SNPs[tiab] or genotype[tiab] or gene[tiab] or chromosome[tiab] or deletion[tiab] or indel[tiab] or insertion[tiab] or substitution[tiab] or transition[tiab] or transversion[tiab] or translocation[tiab] or CNV[tiab] or copy number variation[tiab] or SV[tiab] or chromosome structure variation[tiab]) NOT review[pt] AND English[LA] AND (\"1980/01/01\"[DP] : \"2023/4/1\"[DP])\n",
      "Retrieved article numbers：0\n"
     ]
    },
    {
     "name": "stderr",
     "output_type": "stream",
     "text": [
      " 67%|██████▋   | 401/595 [33:43<06:02,  1.87s/it]"
     ]
    },
    {
     "name": "stdout",
     "output_type": "stream",
     "text": [
      "===== search term =====\n",
      "(Abnormal lacrimal duct morphology[tiab] OR  Abnormality of the lacrimal canaliculus[tiab] OR  Abnormality of the lacrimal duct[tiab]) AND ( variat*[tiab] or SNP[tiab] or allele*[tiab] or mutat*[tiab] or polymorphism*[tiab] or haplotype*[tiab] or SNPs[tiab] or genotype[tiab] or gene[tiab] or chromosome[tiab] or deletion[tiab] or indel[tiab] or insertion[tiab] or substitution[tiab] or transition[tiab] or transversion[tiab] or translocation[tiab] or CNV[tiab] or copy number variation[tiab] or SV[tiab] or chromosome structure variation[tiab]) NOT review[pt] AND English[LA] AND (\"1980/01/01\"[DP] : \"2023/4/1\"[DP])\n",
      "Retrieved article numbers：31\n"
     ]
    },
    {
     "name": "stderr",
     "output_type": "stream",
     "text": [
      " 68%|██████▊   | 402/595 [33:45<05:55,  1.84s/it]"
     ]
    },
    {
     "name": "stdout",
     "output_type": "stream",
     "text": [
      "===== search term =====\n",
      "(Abnormal lacrimal punctum morphology[tiab] OR  Abnormality of the lacrimal punctum[tiab]) AND ( variat*[tiab] or SNP[tiab] or allele*[tiab] or mutat*[tiab] or polymorphism*[tiab] or haplotype*[tiab] or SNPs[tiab] or genotype[tiab] or gene[tiab] or chromosome[tiab] or deletion[tiab] or indel[tiab] or insertion[tiab] or substitution[tiab] or transition[tiab] or transversion[tiab] or translocation[tiab] or CNV[tiab] or copy number variation[tiab] or SV[tiab] or chromosome structure variation[tiab]) NOT review[pt] AND English[LA] AND (\"1980/01/01\"[DP] : \"2023/4/1\"[DP])\n",
      "Retrieved article numbers：0\n"
     ]
    },
    {
     "name": "stderr",
     "output_type": "stream",
     "text": [
      " 68%|██████▊   | 403/595 [33:47<06:12,  1.94s/it]"
     ]
    },
    {
     "name": "stdout",
     "output_type": "stream",
     "text": [
      "===== search term =====\n",
      "(Abnormal lacrimal sac morphology[tiab] OR  Abnormality of lacrimal sac[tiab]) AND ( variat*[tiab] or SNP[tiab] or allele*[tiab] or mutat*[tiab] or polymorphism*[tiab] or haplotype*[tiab] or SNPs[tiab] or genotype[tiab] or gene[tiab] or chromosome[tiab] or deletion[tiab] or indel[tiab] or insertion[tiab] or substitution[tiab] or transition[tiab] or transversion[tiab] or translocation[tiab] or CNV[tiab] or copy number variation[tiab] or SV[tiab] or chromosome structure variation[tiab]) NOT review[pt] AND English[LA] AND (\"1980/01/01\"[DP] : \"2023/4/1\"[DP])\n",
      "Retrieved article numbers：2\n"
     ]
    },
    {
     "name": "stderr",
     "output_type": "stream",
     "text": [
      " 68%|██████▊   | 404/595 [33:49<06:18,  1.98s/it]"
     ]
    },
    {
     "name": "stdout",
     "output_type": "stream",
     "text": [
      "===== search term =====\n",
      "(Abnormal lacrimal gland morphology[tiab] OR  Abnormality of the lacrimal gland[tiab]) AND ( variat*[tiab] or SNP[tiab] or allele*[tiab] or mutat*[tiab] or polymorphism*[tiab] or haplotype*[tiab] or SNPs[tiab] or genotype[tiab] or gene[tiab] or chromosome[tiab] or deletion[tiab] or indel[tiab] or insertion[tiab] or substitution[tiab] or transition[tiab] or transversion[tiab] or translocation[tiab] or CNV[tiab] or copy number variation[tiab] or SV[tiab] or chromosome structure variation[tiab]) NOT review[pt] AND English[LA] AND (\"1980/01/01\"[DP] : \"2023/4/1\"[DP])\n",
      "Retrieved article numbers：0\n"
     ]
    },
    {
     "name": "stderr",
     "output_type": "stream",
     "text": [
      " 68%|██████▊   | 405/595 [33:51<06:14,  1.97s/it]"
     ]
    },
    {
     "name": "stdout",
     "output_type": "stream",
     "text": [
      "===== search term =====\n",
      "(Dacryocystitis Infection of the lacrimal sac[tiab] OR  Dacrocystitis[tiab]) AND ( variat*[tiab] or SNP[tiab] or allele*[tiab] or mutat*[tiab] or polymorphism*[tiab] or haplotype*[tiab] or SNPs[tiab] or genotype[tiab] or gene[tiab] or chromosome[tiab] or deletion[tiab] or indel[tiab] or insertion[tiab] or substitution[tiab] or transition[tiab] or transversion[tiab] or translocation[tiab] or CNV[tiab] or copy number variation[tiab] or SV[tiab] or chromosome structure variation[tiab]) NOT review[pt] AND English[LA] AND (\"1980/01/01\"[DP] : \"2023/4/1\"[DP])\n",
      "Retrieved article numbers：0\n"
     ]
    },
    {
     "name": "stderr",
     "output_type": "stream",
     "text": [
      " 68%|██████▊   | 406/595 [33:53<06:27,  2.05s/it]"
     ]
    },
    {
     "name": "stdout",
     "output_type": "stream",
     "text": [
      "===== search term =====\n",
      "(Aplasia/Hypoplasia of the eyebrow[tiab] OR  Lack of eyebrow[tiab] OR  Hypotrophic eyebrow[tiab] OR  \"Sparse or absent eyebrows\"[tiab] OR  Agenesis of eyebrow[tiab] OR  Absence of eyebrow[tiab] OR  Missing eyebrow[tiab] OR  Sparse/absent eyebrows[tiab] OR  Sparse to absent eyebrows[tiab]) AND ( variat*[tiab] or SNP[tiab] or allele*[tiab] or mutat*[tiab] or polymorphism*[tiab] or haplotype*[tiab] or SNPs[tiab] or genotype[tiab] or gene[tiab] or chromosome[tiab] or deletion[tiab] or indel[tiab] or insertion[tiab] or substitution[tiab] or transition[tiab] or transversion[tiab] or translocation[tiab] or CNV[tiab] or copy number variation[tiab] or SV[tiab] or chromosome structure variation[tiab]) NOT review[pt] AND English[LA] AND (\"1980/01/01\"[DP] : \"2023/4/1\"[DP])\n",
      "Retrieved article numbers：3\n"
     ]
    },
    {
     "name": "stderr",
     "output_type": "stream",
     "text": [
      " 68%|██████▊   | 407/595 [33:55<06:09,  1.97s/it]"
     ]
    },
    {
     "name": "stdout",
     "output_type": "stream",
     "text": [
      "===== search term =====\n",
      "(Broad eyebrow[tiab] OR  Increased vertical thickness of eyebrow[tiab] OR  Broad eyebrow[tiab] OR  Increased vertical width of eyebrow[tiab] OR  Broad eyebrows[tiab] OR  Flared eyebrows[tiab] OR  Increased vertical height of eyebrow[tiab] OR  Flared eyebrow[tiab]) AND ( variat*[tiab] or SNP[tiab] or allele*[tiab] or mutat*[tiab] or polymorphism*[tiab] or haplotype*[tiab] or SNPs[tiab] or genotype[tiab] or gene[tiab] or chromosome[tiab] or deletion[tiab] or indel[tiab] or insertion[tiab] or substitution[tiab] or transition[tiab] or transversion[tiab] or translocation[tiab] or CNV[tiab] or copy number variation[tiab] or SV[tiab] or chromosome structure variation[tiab]) NOT review[pt] AND English[LA] AND (\"1980/01/01\"[DP] : \"2023/4/1\"[DP])\n",
      "Retrieved article numbers：13\n"
     ]
    },
    {
     "name": "stderr",
     "output_type": "stream",
     "text": [
      " 69%|██████▊   | 408/595 [33:57<06:21,  2.04s/it]"
     ]
    },
    {
     "name": "stdout",
     "output_type": "stream",
     "text": [
      "===== search term =====\n",
      "(Double eyebrow[tiab] OR  Double eyebrow[tiab] OR  Duplication of eyebrow[tiab]) AND ( variat*[tiab] or SNP[tiab] or allele*[tiab] or mutat*[tiab] or polymorphism*[tiab] or haplotype*[tiab] or SNPs[tiab] or genotype[tiab] or gene[tiab] or chromosome[tiab] or deletion[tiab] or indel[tiab] or insertion[tiab] or substitution[tiab] or transition[tiab] or transversion[tiab] or translocation[tiab] or CNV[tiab] or copy number variation[tiab] or SV[tiab] or chromosome structure variation[tiab]) NOT review[pt] AND English[LA] AND (\"1980/01/01\"[DP] : \"2023/4/1\"[DP])\n",
      "Retrieved article numbers：21\n"
     ]
    },
    {
     "name": "stderr",
     "output_type": "stream",
     "text": [
      " 69%|██████▊   | 409/595 [33:59<06:03,  1.96s/it]"
     ]
    },
    {
     "name": "stdout",
     "output_type": "stream",
     "text": [
      "===== search term =====\n",
      "(Abnormal location of the eyebrow[tiab] OR Abnormally placed eyebrows[tiab] OR  Abnormal location of eyebrows[tiab]) AND ( variat*[tiab] or SNP[tiab] or allele*[tiab] or mutat*[tiab] or polymorphism*[tiab] or haplotype*[tiab] or SNPs[tiab] or genotype[tiab] or gene[tiab] or chromosome[tiab] or deletion[tiab] or indel[tiab] or insertion[tiab] or substitution[tiab] or transition[tiab] or transversion[tiab] or translocation[tiab] or CNV[tiab] or copy number variation[tiab] or SV[tiab] or chromosome structure variation[tiab]) NOT review[pt] AND English[LA] AND (\"1980/01/01\"[DP] : \"2023/4/1\"[DP])\n",
      "Retrieved article numbers：1\n"
     ]
    },
    {
     "name": "stderr",
     "output_type": "stream",
     "text": [
      " 69%|██████▉   | 410/595 [34:01<06:02,  1.96s/it]"
     ]
    },
    {
     "name": "stdout",
     "output_type": "stream",
     "text": [
      "===== search term =====\n",
      "(Thick eyebrowDense eyebrow[tiab] OR  Bushy eyebrows[tiab] OR  Prominent eyebrows[tiab] OR  Heavy eyebrows[tiab] OR  Hypertrichosis of the eyebrows[tiab] OR  Thick eyebrows[tiab] OR  Thick eyebrow[tiab] OR  Hypertrichosis of the eyebrow[tiab]) AND ( variat*[tiab] or SNP[tiab] or allele*[tiab] or mutat*[tiab] or polymorphism*[tiab] or haplotype*[tiab] or SNPs[tiab] or genotype[tiab] or gene[tiab] or chromosome[tiab] or deletion[tiab] or indel[tiab] or insertion[tiab] or substitution[tiab] or transition[tiab] or transversion[tiab] or translocation[tiab] or CNV[tiab] or copy number variation[tiab] or SV[tiab] or chromosome structure variation[tiab]) NOT review[pt] AND English[LA] AND (\"1980/01/01\"[DP] : \"2023/4/1\"[DP])\n",
      "Retrieved article numbers：3\n"
     ]
    },
    {
     "name": "stderr",
     "output_type": "stream",
     "text": [
      " 69%|██████▉   | 411/595 [34:03<06:20,  2.07s/it]"
     ]
    },
    {
     "name": "stdout",
     "output_type": "stream",
     "text": [
      "===== search term =====\n",
      "(SynophrysMonobrow[tiab] OR  Synophris[tiab] OR  Unibrow[tiab]) AND ( variat*[tiab] or SNP[tiab] or allele*[tiab] or mutat*[tiab] or polymorphism*[tiab] or haplotype*[tiab] or SNPs[tiab] or genotype[tiab] or gene[tiab] or chromosome[tiab] or deletion[tiab] or indel[tiab] or insertion[tiab] or substitution[tiab] or transition[tiab] or transversion[tiab] or translocation[tiab] or CNV[tiab] or copy number variation[tiab] or SV[tiab] or chromosome structure variation[tiab]) NOT review[pt] AND English[LA] AND (\"1980/01/01\"[DP] : \"2023/4/1\"[DP])\n",
      "Retrieved article numbers：84\n"
     ]
    },
    {
     "name": "stderr",
     "output_type": "stream",
     "text": [
      " 69%|██████▉   | 412/595 [34:05<05:57,  1.95s/it]"
     ]
    },
    {
     "name": "stdout",
     "output_type": "stream",
     "text": [
      "===== search term =====\n",
      "(Laterally curved eyebrow[tiab]) AND ( variat*[tiab] or SNP[tiab] or allele*[tiab] or mutat*[tiab] or polymorphism*[tiab] or haplotype*[tiab] or SNPs[tiab] or genotype[tiab] or gene[tiab] or chromosome[tiab] or deletion[tiab] or indel[tiab] or insertion[tiab] or substitution[tiab] or transition[tiab] or transversion[tiab] or translocation[tiab] or CNV[tiab] or copy number variation[tiab] or SV[tiab] or chromosome structure variation[tiab]) NOT review[pt] AND English[LA] AND (\"1980/01/01\"[DP] : \"2023/4/1\"[DP])\n",
      "Retrieved article numbers：9\n"
     ]
    },
    {
     "name": "stderr",
     "output_type": "stream",
     "text": [
      " 69%|██████▉   | 413/595 [34:07<06:05,  2.01s/it]"
     ]
    },
    {
     "name": "stdout",
     "output_type": "stream",
     "text": [
      "===== search term =====\n",
      "(Laterally extended eyebrow[tiab] OR Laterally elongated eyebrow[tiab] OR  Laterally extended eyebrows[tiab] OR  Increased lateral length of eyebrow[tiab]) AND ( variat*[tiab] or SNP[tiab] or allele*[tiab] or mutat*[tiab] or polymorphism*[tiab] or haplotype*[tiab] or SNPs[tiab] or genotype[tiab] or gene[tiab] or chromosome[tiab] or deletion[tiab] or indel[tiab] or insertion[tiab] or substitution[tiab] or transition[tiab] or transversion[tiab] or translocation[tiab] or CNV[tiab] or copy number variation[tiab] or SV[tiab] or chromosome structure variation[tiab]) NOT review[pt] AND English[LA] AND (\"1980/01/01\"[DP] : \"2023/4/1\"[DP])\n",
      "Retrieved article numbers：1\n"
     ]
    },
    {
     "name": "stderr",
     "output_type": "stream",
     "text": [
      " 70%|██████▉   | 414/595 [34:09<06:03,  2.01s/it]"
     ]
    },
    {
     "name": "stdout",
     "output_type": "stream",
     "text": [
      "===== search term =====\n",
      "(Brow ptosis[tiab] OR Drooping brow[tiab]) AND ( variat*[tiab] or SNP[tiab] or allele*[tiab] or mutat*[tiab] or polymorphism*[tiab] or haplotype*[tiab] or SNPs[tiab] or genotype[tiab] or gene[tiab] or chromosome[tiab] or deletion[tiab] or indel[tiab] or insertion[tiab] or substitution[tiab] or transition[tiab] or transversion[tiab] or translocation[tiab] or CNV[tiab] or copy number variation[tiab] or SV[tiab] or chromosome structure variation[tiab]) NOT review[pt] AND English[LA] AND (\"1980/01/01\"[DP] : \"2023/4/1\"[DP])\n",
      "Retrieved article numbers：4\n"
     ]
    },
    {
     "name": "stderr",
     "output_type": "stream",
     "text": [
      " 70%|██████▉   | 415/595 [34:11<06:07,  2.04s/it]"
     ]
    },
    {
     "name": "stdout",
     "output_type": "stream",
     "text": [
      "===== search term =====\n",
      "(Highly arched eyebrow[tiab] OR Broad arched eyebrows[tiab] OR  Arched eyebrows[tiab] OR  \"High[tiab] OR  rounded eyebrows\"[tiab] OR  \"Bowed and upward slanting eyebrows\"[tiab] OR  Highly arched eyebrow[tiab] OR  \"Thick[tiab] OR  flared eyebrows\"[tiab] OR  High-arched eyebrows[tiab] OR  High arched eyebrows[tiab]) AND ( variat*[tiab] or SNP[tiab] or allele*[tiab] or mutat*[tiab] or polymorphism*[tiab] or haplotype*[tiab] or SNPs[tiab] or genotype[tiab] or gene[tiab] or chromosome[tiab] or deletion[tiab] or indel[tiab] or insertion[tiab] or substitution[tiab] or transition[tiab] or transversion[tiab] or translocation[tiab] or CNV[tiab] or copy number variation[tiab] or SV[tiab] or chromosome structure variation[tiab]) NOT review[pt] AND English[LA] AND (\"1980/01/01\"[DP] : \"2023/4/1\"[DP])\n",
      "Retrieved article numbers：9\n"
     ]
    },
    {
     "name": "stderr",
     "output_type": "stream",
     "text": [
      " 70%|██████▉   | 416/595 [39:30<4:49:57, 97.19s/it]"
     ]
    },
    {
     "name": "stdout",
     "output_type": "stream",
     "text": [
      "===== search term =====\n",
      "(Long eyebrows[tiab] OR Increased horizontal length of eyebrow[tiab] OR  Long eyebrows[tiab] OR  Elongated eyebrow[tiab] OR  Increased transverse length of eyebrow[tiab]) AND ( variat*[tiab] or SNP[tiab] or allele*[tiab] or mutat*[tiab] or polymorphism*[tiab] or haplotype*[tiab] or SNPs[tiab] or genotype[tiab] or gene[tiab] or chromosome[tiab] or deletion[tiab] or indel[tiab] or insertion[tiab] or substitution[tiab] or transition[tiab] or transversion[tiab] or translocation[tiab] or CNV[tiab] or copy number variation[tiab] or SV[tiab] or chromosome structure variation[tiab]) NOT review[pt] AND English[LA] AND (\"1980/01/01\"[DP] : \"2023/4/1\"[DP])\n",
      "Retrieved article numbers：73\n"
     ]
    },
    {
     "name": "stderr",
     "output_type": "stream",
     "text": [
      " 70%|███████   | 417/595 [39:32<3:23:25, 68.57s/it]"
     ]
    },
    {
     "name": "stdout",
     "output_type": "stream",
     "text": [
      "===== search term =====\n",
      "(White eyebrow[tiab] OR White eyebrow[tiab] OR  Pale eyebrow[tiab] OR  Depigmented eyebrow[tiab] OR  Grey eyebrow[tiab] OR  Blonde eyebrow[tiab] OR  Hypopigmented eyebrow[tiab]) AND ( variat*[tiab] or SNP[tiab] or allele*[tiab] or mutat*[tiab] or polymorphism*[tiab] or haplotype*[tiab] or SNPs[tiab] or genotype[tiab] or gene[tiab] or chromosome[tiab] or deletion[tiab] or indel[tiab] or insertion[tiab] or substitution[tiab] or transition[tiab] or transversion[tiab] or translocation[tiab] or CNV[tiab] or copy number variation[tiab] or SV[tiab] or chromosome structure variation[tiab]) NOT review[pt] AND English[LA] AND (\"1980/01/01\"[DP] : \"2023/4/1\"[DP])\n",
      "Retrieved article numbers：102\n"
     ]
    },
    {
     "name": "stderr",
     "output_type": "stream",
     "text": [
      " 70%|███████   | 418/595 [39:34<2:23:10, 48.53s/it]"
     ]
    },
    {
     "name": "stdout",
     "output_type": "stream",
     "text": [
      "===== search term =====\n",
      "(Medial flaring of the eyebrow[tiab]) AND ( variat*[tiab] or SNP[tiab] or allele*[tiab] or mutat*[tiab] or polymorphism*[tiab] or haplotype*[tiab] or SNPs[tiab] or genotype[tiab] or gene[tiab] or chromosome[tiab] or deletion[tiab] or indel[tiab] or insertion[tiab] or substitution[tiab] or transition[tiab] or transversion[tiab] or translocation[tiab] or CNV[tiab] or copy number variation[tiab] or SV[tiab] or chromosome structure variation[tiab]) NOT review[pt] AND English[LA] AND (\"1980/01/01\"[DP] : \"2023/4/1\"[DP])\n",
      "Retrieved article numbers：0\n"
     ]
    },
    {
     "name": "stderr",
     "output_type": "stream",
     "text": [
      " 70%|███████   | 419/595 [39:36<1:41:08, 34.48s/it]"
     ]
    },
    {
     "name": "stdout",
     "output_type": "stream",
     "text": [
      "===== search term =====\n",
      "(Horizontal eyebrow[tiab] OR Lack of eyebrow arch[tiab] OR  Horizontal eyebrow[tiab] OR  Flat eyebrow[tiab] OR  Lack of eyebrow curvature[tiab] OR  Straight eyebrows[tiab] OR  Straight eyebrow[tiab]) AND ( variat*[tiab] or SNP[tiab] or allele*[tiab] or mutat*[tiab] or polymorphism*[tiab] or haplotype*[tiab] or SNPs[tiab] or genotype[tiab] or gene[tiab] or chromosome[tiab] or deletion[tiab] or indel[tiab] or insertion[tiab] or substitution[tiab] or transition[tiab] or transversion[tiab] or translocation[tiab] or CNV[tiab] or copy number variation[tiab] or SV[tiab] or chromosome structure variation[tiab]) NOT review[pt] AND English[LA] AND (\"1980/01/01\"[DP] : \"2023/4/1\"[DP])\n",
      "Retrieved article numbers：0\n"
     ]
    },
    {
     "name": "stderr",
     "output_type": "stream",
     "text": [
      " 71%|███████   | 420/595 [39:38<1:12:52, 24.99s/it]"
     ]
    },
    {
     "name": "stdout",
     "output_type": "stream",
     "text": [
      "===== search term =====\n",
      "(Absent extraocular muscles[tiab] OR Absent ocular muscles[tiab] OR  Missing eye muscles[tiab]) AND ( variat*[tiab] or SNP[tiab] or allele*[tiab] or mutat*[tiab] or polymorphism*[tiab] or haplotype*[tiab] or SNPs[tiab] or genotype[tiab] or gene[tiab] or chromosome[tiab] or deletion[tiab] or indel[tiab] or insertion[tiab] or substitution[tiab] or transition[tiab] or transversion[tiab] or translocation[tiab] or CNV[tiab] or copy number variation[tiab] or SV[tiab] or chromosome structure variation[tiab]) NOT review[pt] AND English[LA] AND (\"1980/01/01\"[DP] : \"2023/4/1\"[DP])\n",
      "Retrieved article numbers：18\n"
     ]
    },
    {
     "name": "stderr",
     "output_type": "stream",
     "text": [
      " 71%|███████   | 421/595 [39:41<53:00, 18.28s/it]  "
     ]
    },
    {
     "name": "stdout",
     "output_type": "stream",
     "text": [
      "===== search term =====\n",
      "(Congenital fibrosis of extraocular muscles[tiab] OR Congenital fibrosis of the extraocular muscles[tiab] OR  Congenital ophthalmoplegia[tiab] OR  CFEOM[tiab]) AND ( variat*[tiab] or SNP[tiab] or allele*[tiab] or mutat*[tiab] or polymorphism*[tiab] or haplotype*[tiab] or SNPs[tiab] or genotype[tiab] or gene[tiab] or chromosome[tiab] or deletion[tiab] or indel[tiab] or insertion[tiab] or substitution[tiab] or transition[tiab] or transversion[tiab] or translocation[tiab] or CNV[tiab] or copy number variation[tiab] or SV[tiab] or chromosome structure variation[tiab]) NOT review[pt] AND English[LA] AND (\"1980/01/01\"[DP] : \"2023/4/1\"[DP])\n",
      "Retrieved article numbers：2\n"
     ]
    },
    {
     "name": "stderr",
     "output_type": "stream",
     "text": [
      " 71%|███████   | 422/595 [39:43<38:59, 13.52s/it]"
     ]
    },
    {
     "name": "stdout",
     "output_type": "stream",
     "text": [
      "===== search term =====\n",
      "(Congenital extraocular muscle anomaly[tiab]) AND ( variat*[tiab] or SNP[tiab] or allele*[tiab] or mutat*[tiab] or polymorphism*[tiab] or haplotype*[tiab] or SNPs[tiab] or genotype[tiab] or gene[tiab] or chromosome[tiab] or deletion[tiab] or indel[tiab] or insertion[tiab] or substitution[tiab] or transition[tiab] or transversion[tiab] or translocation[tiab] or CNV[tiab] or copy number variation[tiab] or SV[tiab] or chromosome structure variation[tiab]) NOT review[pt] AND English[LA] AND (\"1980/01/01\"[DP] : \"2023/4/1\"[DP])\n",
      "Retrieved article numbers：98\n"
     ]
    },
    {
     "name": "stderr",
     "output_type": "stream",
     "text": [
      " 71%|███████   | 423/595 [39:45<28:29,  9.94s/it]"
     ]
    },
    {
     "name": "stdout",
     "output_type": "stream",
     "text": [
      "===== search term =====\n",
      "(Abnormality of inferior oblique extraocular muscle[tiab] OR Abnormality of the inferior oblique muscle[tiab]) AND ( variat*[tiab] or SNP[tiab] or allele*[tiab] or mutat*[tiab] or polymorphism*[tiab] or haplotype*[tiab] or SNPs[tiab] or genotype[tiab] or gene[tiab] or chromosome[tiab] or deletion[tiab] or indel[tiab] or insertion[tiab] or substitution[tiab] or transition[tiab] or transversion[tiab] or translocation[tiab] or CNV[tiab] or copy number variation[tiab] or SV[tiab] or chromosome structure variation[tiab]) NOT review[pt] AND English[LA] AND (\"1980/01/01\"[DP] : \"2023/4/1\"[DP])\n",
      "Retrieved article numbers：1\n"
     ]
    },
    {
     "name": "stderr",
     "output_type": "stream",
     "text": [
      " 71%|███████▏  | 424/595 [39:47<21:52,  7.68s/it]"
     ]
    },
    {
     "name": "stdout",
     "output_type": "stream",
     "text": [
      "===== search term =====\n",
      "(Superior rectus atrophy[tiab] OR Rectus superior atrophy[tiab]) AND ( variat*[tiab] or SNP[tiab] or allele*[tiab] or mutat*[tiab] or polymorphism*[tiab] or haplotype*[tiab] or SNPs[tiab] or genotype[tiab] or gene[tiab] or chromosome[tiab] or deletion[tiab] or indel[tiab] or insertion[tiab] or substitution[tiab] or transition[tiab] or transversion[tiab] or translocation[tiab] or CNV[tiab] or copy number variation[tiab] or SV[tiab] or chromosome structure variation[tiab]) NOT review[pt] AND English[LA] AND (\"1980/01/01\"[DP] : \"2023/4/1\"[DP])\n",
      "Retrieved article numbers：0\n"
     ]
    },
    {
     "name": "stderr",
     "output_type": "stream",
     "text": [
      " 71%|███████▏  | 425/595 [39:49<16:52,  5.96s/it]"
     ]
    },
    {
     "name": "stdout",
     "output_type": "stream",
     "text": [
      "===== search term =====\n",
      "(Abnormality of inferior rectus extraocular muscle[tiab]) AND ( variat*[tiab] or SNP[tiab] or allele*[tiab] or mutat*[tiab] or polymorphism*[tiab] or haplotype*[tiab] or SNPs[tiab] or genotype[tiab] or gene[tiab] or chromosome[tiab] or deletion[tiab] or indel[tiab] or insertion[tiab] or substitution[tiab] or transition[tiab] or transversion[tiab] or translocation[tiab] or CNV[tiab] or copy number variation[tiab] or SV[tiab] or chromosome structure variation[tiab]) NOT review[pt] AND English[LA] AND (\"1980/01/01\"[DP] : \"2023/4/1\"[DP])\n",
      "Retrieved article numbers：10\n"
     ]
    },
    {
     "name": "stderr",
     "output_type": "stream",
     "text": [
      " 72%|███████▏  | 426/595 [39:52<13:34,  4.82s/it]"
     ]
    },
    {
     "name": "stdout",
     "output_type": "stream",
     "text": [
      "===== search term =====\n",
      "(Abnormality of lateral rectus extra-ocular muscle[tiab]) AND ( variat*[tiab] or SNP[tiab] or allele*[tiab] or mutat*[tiab] or polymorphism*[tiab] or haplotype*[tiab] or SNPs[tiab] or genotype[tiab] or gene[tiab] or chromosome[tiab] or deletion[tiab] or indel[tiab] or insertion[tiab] or substitution[tiab] or transition[tiab] or transversion[tiab] or translocation[tiab] or CNV[tiab] or copy number variation[tiab] or SV[tiab] or chromosome structure variation[tiab]) NOT review[pt] AND English[LA] AND (\"1980/01/01\"[DP] : \"2023/4/1\"[DP])\n",
      "Retrieved article numbers：0\n"
     ]
    },
    {
     "name": "stderr",
     "output_type": "stream",
     "text": [
      " 72%|███████▏  | 427/595 [39:54<11:08,  3.98s/it]"
     ]
    },
    {
     "name": "stdout",
     "output_type": "stream",
     "text": [
      "===== search term =====\n",
      "(Eyelid laxity[tiab] OR  Lid laxity[tiab]) AND ( variat*[tiab] or SNP[tiab] or allele*[tiab] or mutat*[tiab] or polymorphism*[tiab] or haplotype*[tiab] or SNPs[tiab] or genotype[tiab] or gene[tiab] or chromosome[tiab] or deletion[tiab] or indel[tiab] or insertion[tiab] or substitution[tiab] or transition[tiab] or transversion[tiab] or translocation[tiab] or CNV[tiab] or copy number variation[tiab] or SV[tiab] or chromosome structure variation[tiab]) NOT review[pt] AND English[LA] AND (\"1980/01/01\"[DP] : \"2023/4/1\"[DP])\n",
      "Retrieved article numbers：0\n"
     ]
    },
    {
     "name": "stderr",
     "output_type": "stream",
     "text": [
      " 72%|███████▏  | 428/595 [39:58<11:03,  3.98s/it]"
     ]
    },
    {
     "name": "stdout",
     "output_type": "stream",
     "text": [
      "===== search term =====\n",
      "(Abnormal eyelid movement[tiab]) AND ( variat*[tiab] or SNP[tiab] or allele*[tiab] or mutat*[tiab] or polymorphism*[tiab] or haplotype*[tiab] or SNPs[tiab] or genotype[tiab] or gene[tiab] or chromosome[tiab] or deletion[tiab] or indel[tiab] or insertion[tiab] or substitution[tiab] or transition[tiab] or transversion[tiab] or translocation[tiab] or CNV[tiab] or copy number variation[tiab] or SV[tiab] or chromosome structure variation[tiab]) NOT review[pt] AND English[LA] AND (\"1980/01/01\"[DP] : \"2023/4/1\"[DP])\n",
      "Retrieved article numbers：9\n"
     ]
    },
    {
     "name": "stderr",
     "output_type": "stream",
     "text": [
      " 72%|███████▏  | 429/595 [39:59<09:09,  3.31s/it]"
     ]
    },
    {
     "name": "stdout",
     "output_type": "stream",
     "text": [
      "===== search term =====\n",
      "(Eyelid apraxia[tiab] OR Difficulty opening the eyelids[tiab]) AND ( variat*[tiab] or SNP[tiab] or allele*[tiab] or mutat*[tiab] or polymorphism*[tiab] or haplotype*[tiab] or SNPs[tiab] or genotype[tiab] or gene[tiab] or chromosome[tiab] or deletion[tiab] or indel[tiab] or insertion[tiab] or substitution[tiab] or transition[tiab] or transversion[tiab] or translocation[tiab] or CNV[tiab] or copy number variation[tiab] or SV[tiab] or chromosome structure variation[tiab]) NOT review[pt] AND English[LA] AND (\"1980/01/01\"[DP] : \"2023/4/1\"[DP])\n",
      "Retrieved article numbers：0\n"
     ]
    },
    {
     "name": "stderr",
     "output_type": "stream",
     "text": [
      " 72%|███████▏  | 430/595 [40:03<09:27,  3.44s/it]"
     ]
    },
    {
     "name": "stdout",
     "output_type": "stream",
     "text": [
      "===== search term =====\n",
      "(Blepharospasm[tiab] OR Eyelid twitching[tiab] OR  Spontaneous closure of eyelid[tiab] OR  Eyelid spasm[tiab] OR  Involuntary closure of eyelid[tiab]) AND ( variat*[tiab] or SNP[tiab] or allele*[tiab] or mutat*[tiab] or polymorphism*[tiab] or haplotype*[tiab] or SNPs[tiab] or genotype[tiab] or gene[tiab] or chromosome[tiab] or deletion[tiab] or indel[tiab] or insertion[tiab] or substitution[tiab] or transition[tiab] or transversion[tiab] or translocation[tiab] or CNV[tiab] or copy number variation[tiab] or SV[tiab] or chromosome structure variation[tiab]) NOT review[pt] AND English[LA] AND (\"1980/01/01\"[DP] : \"2023/4/1\"[DP])\n",
      "Retrieved article numbers：1\n"
     ]
    },
    {
     "name": "stderr",
     "output_type": "stream",
     "text": [
      " 72%|███████▏  | 431/595 [40:05<08:30,  3.11s/it]"
     ]
    },
    {
     "name": "stdout",
     "output_type": "stream",
     "text": [
      "===== search term =====\n",
      "(Retinal racemose hemangioma[tiab] OR Retinal racemose haemangioma[tiab]) AND ( variat*[tiab] or SNP[tiab] or allele*[tiab] or mutat*[tiab] or polymorphism*[tiab] or haplotype*[tiab] or SNPs[tiab] or genotype[tiab] or gene[tiab] or chromosome[tiab] or deletion[tiab] or indel[tiab] or insertion[tiab] or substitution[tiab] or transition[tiab] or transversion[tiab] or translocation[tiab] or CNV[tiab] or copy number variation[tiab] or SV[tiab] or chromosome structure variation[tiab]) NOT review[pt] AND English[LA] AND (\"1980/01/01\"[DP] : \"2023/4/1\"[DP])\n",
      "Retrieved article numbers：75\n"
     ]
    },
    {
     "name": "stderr",
     "output_type": "stream",
     "text": [
      " 73%|███████▎  | 432/595 [40:07<07:21,  2.71s/it]"
     ]
    },
    {
     "name": "stdout",
     "output_type": "stream",
     "text": [
      "===== search term =====\n",
      "(Retinal astrocytic hamartoma[tiab]) AND ( variat*[tiab] or SNP[tiab] or allele*[tiab] or mutat*[tiab] or polymorphism*[tiab] or haplotype*[tiab] or SNPs[tiab] or genotype[tiab] or gene[tiab] or chromosome[tiab] or deletion[tiab] or indel[tiab] or insertion[tiab] or substitution[tiab] or transition[tiab] or transversion[tiab] or translocation[tiab] or CNV[tiab] or copy number variation[tiab] or SV[tiab] or chromosome structure variation[tiab]) NOT review[pt] AND English[LA] AND (\"1980/01/01\"[DP] : \"2023/4/1\"[DP])\n",
      "Retrieved article numbers：0\n"
     ]
    },
    {
     "name": "stderr",
     "output_type": "stream",
     "text": [
      " 73%|███████▎  | 433/595 [40:12<09:20,  3.46s/it]"
     ]
    },
    {
     "name": "stdout",
     "output_type": "stream",
     "text": [
      "===== search term =====\n",
      "(Combined hamartoma of the retinal pigment epithelium and retina[tiab]) AND ( variat*[tiab] or SNP[tiab] or allele*[tiab] or mutat*[tiab] or polymorphism*[tiab] or haplotype*[tiab] or SNPs[tiab] or genotype[tiab] or gene[tiab] or chromosome[tiab] or deletion[tiab] or indel[tiab] or insertion[tiab] or substitution[tiab] or transition[tiab] or transversion[tiab] or translocation[tiab] or CNV[tiab] or copy number variation[tiab] or SV[tiab] or chromosome structure variation[tiab]) NOT review[pt] AND English[LA] AND (\"1980/01/01\"[DP] : \"2023/4/1\"[DP])\n",
      "Retrieved article numbers：6\n"
     ]
    },
    {
     "name": "stderr",
     "output_type": "stream",
     "text": [
      " 73%|███████▎  | 434/595 [40:14<07:52,  2.94s/it]"
     ]
    },
    {
     "name": "stdout",
     "output_type": "stream",
     "text": [
      "===== search term =====\n",
      "(Retinal capillary hemangioma[tiab] OR Retinal hemangioblastoma[tiab]) AND ( variat*[tiab] or SNP[tiab] or allele*[tiab] or mutat*[tiab] or polymorphism*[tiab] or haplotype*[tiab] or SNPs[tiab] or genotype[tiab] or gene[tiab] or chromosome[tiab] or deletion[tiab] or indel[tiab] or insertion[tiab] or substitution[tiab] or transition[tiab] or transversion[tiab] or translocation[tiab] or CNV[tiab] or copy number variation[tiab] or SV[tiab] or chromosome structure variation[tiab]) NOT review[pt] AND English[LA] AND (\"1980/01/01\"[DP] : \"2023/4/1\"[DP])\n",
      "Retrieved article numbers：0\n"
     ]
    },
    {
     "name": "stderr",
     "output_type": "stream",
     "text": [
      " 73%|███████▎  | 435/595 [40:16<06:50,  2.56s/it]"
     ]
    },
    {
     "name": "stdout",
     "output_type": "stream",
     "text": [
      "===== search term =====\n",
      "(Retinal cavernous hemangioma[tiab] OR Retinal cavernous haemangioma[tiab]) AND ( variat*[tiab] or SNP[tiab] or allele*[tiab] or mutat*[tiab] or polymorphism*[tiab] or haplotype*[tiab] or SNPs[tiab] or genotype[tiab] or gene[tiab] or chromosome[tiab] or deletion[tiab] or indel[tiab] or insertion[tiab] or substitution[tiab] or transition[tiab] or transversion[tiab] or translocation[tiab] or CNV[tiab] or copy number variation[tiab] or SV[tiab] or chromosome structure variation[tiab]) NOT review[pt] AND English[LA] AND (\"1980/01/01\"[DP] : \"2023/4/1\"[DP])\n",
      "Retrieved article numbers：32\n"
     ]
    },
    {
     "name": "stderr",
     "output_type": "stream",
     "text": [
      " 73%|███████▎  | 436/595 [40:20<07:45,  2.93s/it]"
     ]
    },
    {
     "name": "stdout",
     "output_type": "stream",
     "text": [
      "===== search term =====\n",
      "(Decreased size of nasopharyngeal adenoids[tiab]) AND ( variat*[tiab] or SNP[tiab] or allele*[tiab] or mutat*[tiab] or polymorphism*[tiab] or haplotype*[tiab] or SNPs[tiab] or genotype[tiab] or gene[tiab] or chromosome[tiab] or deletion[tiab] or indel[tiab] or insertion[tiab] or substitution[tiab] or transition[tiab] or transversion[tiab] or translocation[tiab] or CNV[tiab] or copy number variation[tiab] or SV[tiab] or chromosome structure variation[tiab]) NOT review[pt] AND English[LA] AND (\"1980/01/01\"[DP] : \"2023/4/1\"[DP])\n",
      "Retrieved article numbers：3\n"
     ]
    },
    {
     "name": "stderr",
     "output_type": "stream",
     "text": [
      " 73%|███████▎  | 437/595 [40:21<06:45,  2.57s/it]"
     ]
    },
    {
     "name": "stdout",
     "output_type": "stream",
     "text": [
      "===== search term =====\n",
      "(Increased size of nasopharyngeal adenoids[tiab] OR Adenoid hypertrophy[tiab] OR  Adenoids large[tiab]) AND ( variat*[tiab] or SNP[tiab] or allele*[tiab] or mutat*[tiab] or polymorphism*[tiab] or haplotype*[tiab] or SNPs[tiab] or genotype[tiab] or gene[tiab] or chromosome[tiab] or deletion[tiab] or indel[tiab] or insertion[tiab] or substitution[tiab] or transition[tiab] or transversion[tiab] or translocation[tiab] or CNV[tiab] or copy number variation[tiab] or SV[tiab] or chromosome structure variation[tiab]) NOT review[pt] AND English[LA] AND (\"1980/01/01\"[DP] : \"2023/4/1\"[DP])\n",
      "Retrieved article numbers：0\n"
     ]
    },
    {
     "name": "stderr",
     "output_type": "stream",
     "text": [
      " 74%|███████▎  | 438/595 [40:23<06:06,  2.33s/it]"
     ]
    },
    {
     "name": "stdout",
     "output_type": "stream",
     "text": [
      "===== search term =====\n",
      "(Aplastic nasopharyngeal adenoids[tiab]) AND ( variat*[tiab] or SNP[tiab] or allele*[tiab] or mutat*[tiab] or polymorphism*[tiab] or haplotype*[tiab] or SNPs[tiab] or genotype[tiab] or gene[tiab] or chromosome[tiab] or deletion[tiab] or indel[tiab] or insertion[tiab] or substitution[tiab] or transition[tiab] or transversion[tiab] or translocation[tiab] or CNV[tiab] or copy number variation[tiab] or SV[tiab] or chromosome structure variation[tiab]) NOT review[pt] AND English[LA] AND (\"1980/01/01\"[DP] : \"2023/4/1\"[DP])\n",
      "Retrieved article numbers：115\n"
     ]
    },
    {
     "name": "stderr",
     "output_type": "stream",
     "text": [
      " 74%|███████▍  | 439/595 [40:26<06:16,  2.41s/it]"
     ]
    },
    {
     "name": "stdout",
     "output_type": "stream",
     "text": [
      "===== search term =====\n",
      "(Hypoplastic nasopharyngeal adenoids[tiab] OR Underdeveloped nasopharyngeal adenoids[tiab]) AND ( variat*[tiab] or SNP[tiab] or allele*[tiab] or mutat*[tiab] or polymorphism*[tiab] or haplotype*[tiab] or SNPs[tiab] or genotype[tiab] or gene[tiab] or chromosome[tiab] or deletion[tiab] or indel[tiab] or insertion[tiab] or substitution[tiab] or transition[tiab] or transversion[tiab] or translocation[tiab] or CNV[tiab] or copy number variation[tiab] or SV[tiab] or chromosome structure variation[tiab]) NOT review[pt] AND English[LA] AND (\"1980/01/01\"[DP] : \"2023/4/1\"[DP])\n",
      "Retrieved article numbers：0\n"
     ]
    },
    {
     "name": "stderr",
     "output_type": "stream",
     "text": [
      " 74%|███████▍  | 440/595 [40:27<05:37,  2.18s/it]"
     ]
    },
    {
     "name": "stdout",
     "output_type": "stream",
     "text": [
      "===== search term =====\n",
      "( Recurrent bronchiolitis[tiab]) AND ( variat*[tiab] or SNP[tiab] or allele*[tiab] or mutat*[tiab] or polymorphism*[tiab] or haplotype*[tiab] or SNPs[tiab] or genotype[tiab] or gene[tiab] or chromosome[tiab] or deletion[tiab] or indel[tiab] or insertion[tiab] or substitution[tiab] or transition[tiab] or transversion[tiab] or translocation[tiab] or CNV[tiab] or copy number variation[tiab] or SV[tiab] or chromosome structure variation[tiab]) NOT review[pt] AND English[LA] AND (\"1980/01/01\"[DP] : \"2023/4/1\"[DP])\n",
      "Retrieved article numbers：0\n"
     ]
    },
    {
     "name": "stderr",
     "output_type": "stream",
     "text": [
      " 74%|███████▍  | 441/595 [40:29<05:15,  2.05s/it]"
     ]
    },
    {
     "name": "stdout",
     "output_type": "stream",
     "text": [
      "===== search term =====\n",
      "( Paranasal sinus neoplasm[tiab] OR Neoplasm of the paranasal sinuses[tiab] OR  Tumor of the paranasal sinuses[tiab] OR  Tumour of the paranasal sinuses[tiab]) AND ( variat*[tiab] or SNP[tiab] or allele*[tiab] or mutat*[tiab] or polymorphism*[tiab] or haplotype*[tiab] or SNPs[tiab] or genotype[tiab] or gene[tiab] or chromosome[tiab] or deletion[tiab] or indel[tiab] or insertion[tiab] or substitution[tiab] or transition[tiab] or transversion[tiab] or translocation[tiab] or CNV[tiab] or copy number variation[tiab] or SV[tiab] or chromosome structure variation[tiab]) NOT review[pt] AND English[LA] AND (\"1980/01/01\"[DP] : \"2023/4/1\"[DP])\n",
      "Retrieved article numbers：1\n"
     ]
    },
    {
     "name": "stderr",
     "output_type": "stream",
     "text": [
      " 74%|███████▍  | 442/595 [40:31<05:06,  2.00s/it]"
     ]
    },
    {
     "name": "stdout",
     "output_type": "stream",
     "text": [
      "===== search term =====\n",
      "(Aplasia of the nasal bone[tiab] OR Absence of the nasal bone[tiab] OR  Lack of development of the nasal bone[tiab] OR  Failure of development of the nasal bone[tiab] OR  Agenesis of the nasal bone[tiab] OR  Missing nasal bone[tiab]) AND ( variat*[tiab] or SNP[tiab] or allele*[tiab] or mutat*[tiab] or polymorphism*[tiab] or haplotype*[tiab] or SNPs[tiab] or genotype[tiab] or gene[tiab] or chromosome[tiab] or deletion[tiab] or indel[tiab] or insertion[tiab] or substitution[tiab] or transition[tiab] or transversion[tiab] or translocation[tiab] or CNV[tiab] or copy number variation[tiab] or SV[tiab] or chromosome structure variation[tiab]) NOT review[pt] AND English[LA] AND (\"1980/01/01\"[DP] : \"2023/4/1\"[DP])\n",
      "Retrieved article numbers：0\n"
     ]
    },
    {
     "name": "stderr",
     "output_type": "stream",
     "text": [
      " 74%|███████▍  | 443/595 [40:33<05:02,  1.99s/it]"
     ]
    },
    {
     "name": "stdout",
     "output_type": "stream",
     "text": [
      "===== search term =====\n",
      "( Midnasal atresia[tiab]) AND ( variat*[tiab] or SNP[tiab] or allele*[tiab] or mutat*[tiab] or polymorphism*[tiab] or haplotype*[tiab] or SNPs[tiab] or genotype[tiab] or gene[tiab] or chromosome[tiab] or deletion[tiab] or indel[tiab] or insertion[tiab] or substitution[tiab] or transition[tiab] or transversion[tiab] or translocation[tiab] or CNV[tiab] or copy number variation[tiab] or SV[tiab] or chromosome structure variation[tiab]) NOT review[pt] AND English[LA] AND (\"1980/01/01\"[DP] : \"2023/4/1\"[DP])\n",
      "Retrieved article numbers：55\n"
     ]
    },
    {
     "name": "stderr",
     "output_type": "stream",
     "text": [
      " 75%|███████▍  | 444/595 [40:35<04:51,  1.93s/it]"
     ]
    },
    {
     "name": "stdout",
     "output_type": "stream",
     "text": [
      "===== search term =====\n",
      "( Facial diplegia[tiab] OR  Bilateral facial paresis[tiab] OR  Bilateral facial weakness[tiab]) AND ( variat*[tiab] or SNP[tiab] or allele*[tiab] or mutat*[tiab] or polymorphism*[tiab] or haplotype*[tiab] or SNPs[tiab] or genotype[tiab] or gene[tiab] or chromosome[tiab] or deletion[tiab] or indel[tiab] or insertion[tiab] or substitution[tiab] or transition[tiab] or transversion[tiab] or translocation[tiab] or CNV[tiab] or copy number variation[tiab] or SV[tiab] or chromosome structure variation[tiab]) NOT review[pt] AND English[LA] AND (\"1980/01/01\"[DP] : \"2023/4/1\"[DP])\n",
      "Retrieved article numbers：0\n"
     ]
    },
    {
     "name": "stderr",
     "output_type": "stream",
     "text": [
      " 75%|███████▍  | 445/595 [40:37<05:00,  2.00s/it]"
     ]
    },
    {
     "name": "stdout",
     "output_type": "stream",
     "text": [
      "===== search term =====\n",
      "( Frontalis muscle weakness[tiab] OR Weak frontalis muscle[tiab] OR  Weakness of forehead muscle[tiab]) AND ( variat*[tiab] or SNP[tiab] or allele*[tiab] or mutat*[tiab] or polymorphism*[tiab] or haplotype*[tiab] or SNPs[tiab] or genotype[tiab] or gene[tiab] or chromosome[tiab] or deletion[tiab] or indel[tiab] or insertion[tiab] or substitution[tiab] or transition[tiab] or transversion[tiab] or translocation[tiab] or CNV[tiab] or copy number variation[tiab] or SV[tiab] or chromosome structure variation[tiab]) NOT review[pt] AND English[LA] AND (\"1980/01/01\"[DP] : \"2023/4/1\"[DP])\n",
      "Retrieved article numbers：34\n"
     ]
    },
    {
     "name": "stderr",
     "output_type": "stream",
     "text": [
      " 75%|███████▍  | 446/595 [40:40<05:33,  2.24s/it]"
     ]
    },
    {
     "name": "stdout",
     "output_type": "stream",
     "text": [
      "===== search term =====\n",
      "( Unilateral facial palsy[tiab] OR Unilateral facial muscle weakness[tiab] OR  Unilateral facial weakness[tiab] OR  Facial droop[tiab] OR  Unilateral facial muscle paralysis[tiab] OR  Weakness of one side of the face[tiab] OR  Unilateral facial paralysis[tiab] OR  Paralysis of one side of the face[tiab]) AND ( variat*[tiab] or SNP[tiab] or allele*[tiab] or mutat*[tiab] or polymorphism*[tiab] or haplotype*[tiab] or SNPs[tiab] or genotype[tiab] or gene[tiab] or chromosome[tiab] or deletion[tiab] or indel[tiab] or insertion[tiab] or substitution[tiab] or transition[tiab] or transversion[tiab] or translocation[tiab] or CNV[tiab] or copy number variation[tiab] or SV[tiab] or chromosome structure variation[tiab]) NOT review[pt] AND English[LA] AND (\"1980/01/01\"[DP] : \"2023/4/1\"[DP])\n",
      "Retrieved article numbers：0\n"
     ]
    },
    {
     "name": "stderr",
     "output_type": "stream",
     "text": [
      " 75%|███████▌  | 447/595 [40:42<05:32,  2.25s/it]"
     ]
    },
    {
     "name": "stdout",
     "output_type": "stream",
     "text": [
      "===== search term =====\n",
      "( Bilateral facial palsy[tiab] OR Weakness of both sides of the face[tiab] OR  Bilateral facial muscle paralysis[tiab] OR  Bilateral facial muscle weakness[tiab] OR  Paralysis of both sides of the face[tiab] OR  Bilateral facial paralysis[tiab]) AND ( variat*[tiab] or SNP[tiab] or allele*[tiab] or mutat*[tiab] or polymorphism*[tiab] or haplotype*[tiab] or SNPs[tiab] or genotype[tiab] or gene[tiab] or chromosome[tiab] or deletion[tiab] or indel[tiab] or insertion[tiab] or substitution[tiab] or transition[tiab] or transversion[tiab] or translocation[tiab] or CNV[tiab] or copy number variation[tiab] or SV[tiab] or chromosome structure variation[tiab]) NOT review[pt] AND English[LA] AND (\"1980/01/01\"[DP] : \"2023/4/1\"[DP])\n",
      "Retrieved article numbers：23\n"
     ]
    },
    {
     "name": "stderr",
     "output_type": "stream",
     "text": [
      " 75%|███████▌  | 448/595 [40:44<05:14,  2.14s/it]"
     ]
    },
    {
     "name": "stdout",
     "output_type": "stream",
     "text": [
      "===== search term =====\n",
      "( Abnormality of masseter muscle[tiab]) AND ( variat*[tiab] or SNP[tiab] or allele*[tiab] or mutat*[tiab] or polymorphism*[tiab] or haplotype*[tiab] or SNPs[tiab] or genotype[tiab] or gene[tiab] or chromosome[tiab] or deletion[tiab] or indel[tiab] or insertion[tiab] or substitution[tiab] or transition[tiab] or transversion[tiab] or translocation[tiab] or CNV[tiab] or copy number variation[tiab] or SV[tiab] or chromosome structure variation[tiab]) NOT review[pt] AND English[LA] AND (\"1980/01/01\"[DP] : \"2023/4/1\"[DP])\n",
      "Retrieved article numbers：19\n"
     ]
    },
    {
     "name": "stderr",
     "output_type": "stream",
     "text": [
      " 75%|███████▌  | 449/595 [40:46<04:59,  2.05s/it]"
     ]
    },
    {
     "name": "stdout",
     "output_type": "stream",
     "text": [
      "===== search term =====\n",
      "( Abnormality of medial pterygoid muscle[tiab]) AND ( variat*[tiab] or SNP[tiab] or allele*[tiab] or mutat*[tiab] or polymorphism*[tiab] or haplotype*[tiab] or SNPs[tiab] or genotype[tiab] or gene[tiab] or chromosome[tiab] or deletion[tiab] or indel[tiab] or insertion[tiab] or substitution[tiab] or transition[tiab] or transversion[tiab] or translocation[tiab] or CNV[tiab] or copy number variation[tiab] or SV[tiab] or chromosome structure variation[tiab]) NOT review[pt] AND English[LA] AND (\"1980/01/01\"[DP] : \"2023/4/1\"[DP])\n",
      "Retrieved article numbers：0\n"
     ]
    },
    {
     "name": "stderr",
     "output_type": "stream",
     "text": [
      " 76%|███████▌  | 450/595 [40:49<05:38,  2.34s/it]"
     ]
    },
    {
     "name": "stdout",
     "output_type": "stream",
     "text": [
      "===== search term =====\n",
      "( Abnormality of lateral pterygoid muscle[tiab]) AND ( variat*[tiab] or SNP[tiab] or allele*[tiab] or mutat*[tiab] or polymorphism*[tiab] or haplotype*[tiab] or SNPs[tiab] or genotype[tiab] or gene[tiab] or chromosome[tiab] or deletion[tiab] or indel[tiab] or insertion[tiab] or substitution[tiab] or transition[tiab] or transversion[tiab] or translocation[tiab] or CNV[tiab] or copy number variation[tiab] or SV[tiab] or chromosome structure variation[tiab]) NOT review[pt] AND English[LA] AND (\"1980/01/01\"[DP] : \"2023/4/1\"[DP])\n",
      "Retrieved article numbers：0\n"
     ]
    },
    {
     "name": "stderr",
     "output_type": "stream",
     "text": [
      " 76%|███████▌  | 451/595 [40:50<05:14,  2.19s/it]"
     ]
    },
    {
     "name": "stdout",
     "output_type": "stream",
     "text": [
      "===== search term =====\n",
      "( Abnormality of temporalis muscle[tiab]) AND ( variat*[tiab] or SNP[tiab] or allele*[tiab] or mutat*[tiab] or polymorphism*[tiab] or haplotype*[tiab] or SNPs[tiab] or genotype[tiab] or gene[tiab] or chromosome[tiab] or deletion[tiab] or indel[tiab] or insertion[tiab] or substitution[tiab] or transition[tiab] or transversion[tiab] or translocation[tiab] or CNV[tiab] or copy number variation[tiab] or SV[tiab] or chromosome structure variation[tiab]) NOT review[pt] AND English[LA] AND (\"1980/01/01\"[DP] : \"2023/4/1\"[DP])\n",
      "Retrieved article numbers：7\n"
     ]
    },
    {
     "name": "stderr",
     "output_type": "stream",
     "text": [
      " 76%|███████▌  | 452/595 [40:56<07:33,  3.17s/it]"
     ]
    },
    {
     "name": "stdout",
     "output_type": "stream",
     "text": [
      "===== search term =====\n",
      "( Upper eyelid edema[tiab] OR  Fullness of upper eyelid[tiab] OR  Upper eyelid oedema[tiab] OR  Puffiness of upper eyelid[tiab] OR  Cellulitis of upper eyelid[tiab] OR  Swelling of upper eyelid[tiab]) AND ( variat*[tiab] or SNP[tiab] or allele*[tiab] or mutat*[tiab] or polymorphism*[tiab] or haplotype*[tiab] or SNPs[tiab] or genotype[tiab] or gene[tiab] or chromosome[tiab] or deletion[tiab] or indel[tiab] or insertion[tiab] or substitution[tiab] or transition[tiab] or transversion[tiab] or translocation[tiab] or CNV[tiab] or copy number variation[tiab] or SV[tiab] or chromosome structure variation[tiab]) NOT review[pt] AND English[LA] AND (\"1980/01/01\"[DP] : \"2023/4/1\"[DP])\n",
      "Retrieved article numbers：13\n"
     ]
    },
    {
     "name": "stderr",
     "output_type": "stream",
     "text": [
      " 76%|███████▌  | 453/595 [40:58<06:47,  2.87s/it]"
     ]
    },
    {
     "name": "stdout",
     "output_type": "stream",
     "text": [
      "===== search term =====\n",
      "( Postauricular pit[tiab] OR Pit behind the ear[tiab] OR  Postauricular fistula[tiab] OR  Posterior auricular pit[tiab] OR  Postauricular earpits[tiab] OR  Posterior auricular sinus[tiab]) AND ( variat*[tiab] or SNP[tiab] or allele*[tiab] or mutat*[tiab] or polymorphism*[tiab] or haplotype*[tiab] or SNPs[tiab] or genotype[tiab] or gene[tiab] or chromosome[tiab] or deletion[tiab] or indel[tiab] or insertion[tiab] or substitution[tiab] or transition[tiab] or transversion[tiab] or translocation[tiab] or CNV[tiab] or copy number variation[tiab] or SV[tiab] or chromosome structure variation[tiab]) NOT review[pt] AND English[LA] AND (\"1980/01/01\"[DP] : \"2023/4/1\"[DP])\n",
      "Retrieved article numbers：0\n"
     ]
    },
    {
     "name": "stderr",
     "output_type": "stream",
     "text": [
      " 76%|███████▋  | 454/595 [41:03<08:11,  3.49s/it]"
     ]
    },
    {
     "name": "stdout",
     "output_type": "stream",
     "text": [
      "===== search term =====\n",
      "( Supraauricular pit[tiab] OR Pit above the ear[tiab] OR  Supraauricular fistula[tiab] OR  Supraauricular sinus[tiab] OR  Supraauricular sinuses[tiab]) AND ( variat*[tiab] or SNP[tiab] or allele*[tiab] or mutat*[tiab] or polymorphism*[tiab] or haplotype*[tiab] or SNPs[tiab] or genotype[tiab] or gene[tiab] or chromosome[tiab] or deletion[tiab] or indel[tiab] or insertion[tiab] or substitution[tiab] or transition[tiab] or transversion[tiab] or translocation[tiab] or CNV[tiab] or copy number variation[tiab] or SV[tiab] or chromosome structure variation[tiab]) NOT review[pt] AND English[LA] AND (\"1980/01/01\"[DP] : \"2023/4/1\"[DP])\n",
      "Retrieved article numbers：1\n"
     ]
    },
    {
     "name": "stderr",
     "output_type": "stream",
     "text": [
      " 76%|███████▋  | 455/595 [41:05<06:51,  2.94s/it]"
     ]
    },
    {
     "name": "stdout",
     "output_type": "stream",
     "text": [
      "===== search term =====\n",
      "( Preauricular pit[tiab] OR Preauricular pits[tiab] OR  Preauricular fistulas[tiab] OR  Preauricular sinus[tiab] OR  Preauricular earpits[tiab] OR  Ear pit[tiab] OR  Pit in front of the ear[tiab]) AND ( variat*[tiab] or SNP[tiab] or allele*[tiab] or mutat*[tiab] or polymorphism*[tiab] or haplotype*[tiab] or SNPs[tiab] or genotype[tiab] or gene[tiab] or chromosome[tiab] or deletion[tiab] or indel[tiab] or insertion[tiab] or substitution[tiab] or transition[tiab] or transversion[tiab] or translocation[tiab] or CNV[tiab] or copy number variation[tiab] or SV[tiab] or chromosome structure variation[tiab]) NOT review[pt] AND English[LA] AND (\"1980/01/01\"[DP] : \"2023/4/1\"[DP])\n",
      "Retrieved article numbers：2\n"
     ]
    },
    {
     "name": "stderr",
     "output_type": "stream",
     "text": [
      " 77%|███████▋  | 456/595 [41:07<06:01,  2.60s/it]"
     ]
    },
    {
     "name": "stdout",
     "output_type": "stream",
     "text": [
      "===== search term =====\n",
      "(\"Sparse or absent eyelashes\"[tiab] OR  Sparse to absent eyelashes[tiab] OR  Partial to total absence of eyelashes[tiab] OR  \"Sparse or absent eyelashes\"[tiab]) AND ( variat*[tiab] or SNP[tiab] or allele*[tiab] or mutat*[tiab] or polymorphism*[tiab] or haplotype*[tiab] or SNPs[tiab] or genotype[tiab] or gene[tiab] or chromosome[tiab] or deletion[tiab] or indel[tiab] or insertion[tiab] or substitution[tiab] or transition[tiab] or transversion[tiab] or translocation[tiab] or CNV[tiab] or copy number variation[tiab] or SV[tiab] or chromosome structure variation[tiab]) NOT review[pt] AND English[LA] AND (\"1980/01/01\"[DP] : \"2023/4/1\"[DP])\n",
      "Retrieved article numbers：58\n"
     ]
    },
    {
     "name": "stderr",
     "output_type": "stream",
     "text": [
      " 77%|███████▋  | 457/595 [41:09<06:08,  2.67s/it]"
     ]
    },
    {
     "name": "stdout",
     "output_type": "stream",
     "text": [
      "===== search term =====\n",
      "(Abnormality of lower eyelashes[tiab] OR  Abnormality of lower eyelashes[tiab]) AND ( variat*[tiab] or SNP[tiab] or allele*[tiab] or mutat*[tiab] or polymorphism*[tiab] or haplotype*[tiab] or SNPs[tiab] or genotype[tiab] or gene[tiab] or chromosome[tiab] or deletion[tiab] or indel[tiab] or insertion[tiab] or substitution[tiab] or transition[tiab] or transversion[tiab] or translocation[tiab] or CNV[tiab] or copy number variation[tiab] or SV[tiab] or chromosome structure variation[tiab]) NOT review[pt] AND English[LA] AND (\"1980/01/01\"[DP] : \"2023/4/1\"[DP])\n",
      "Retrieved article numbers：2\n"
     ]
    },
    {
     "name": "stderr",
     "output_type": "stream",
     "text": [
      " 77%|███████▋  | 458/595 [41:13<07:04,  3.10s/it]"
     ]
    },
    {
     "name": "stdout",
     "output_type": "stream",
     "text": [
      "===== search term =====\n",
      "(Long eyelashes[tiab] OR  ncreased length of eyelashes[tiab] OR  Long eyelashes[tiab] OR  Eyelash trichomegaly[tiab] OR  Ciliary trichomegaly[tiab] OR  Unusually long eyelashes[tiab]) AND ( variat*[tiab] or SNP[tiab] or allele*[tiab] or mutat*[tiab] or polymorphism*[tiab] or haplotype*[tiab] or SNPs[tiab] or genotype[tiab] or gene[tiab] or chromosome[tiab] or deletion[tiab] or indel[tiab] or insertion[tiab] or substitution[tiab] or transition[tiab] or transversion[tiab] or translocation[tiab] or CNV[tiab] or copy number variation[tiab] or SV[tiab] or chromosome structure variation[tiab]) NOT review[pt] AND English[LA] AND (\"1980/01/01\"[DP] : \"2023/4/1\"[DP])\n",
      "Retrieved article numbers：1\n"
     ]
    },
    {
     "name": "stderr",
     "output_type": "stream",
     "text": [
      " 77%|███████▋  | 459/595 [41:16<06:56,  3.07s/it]"
     ]
    },
    {
     "name": "stdout",
     "output_type": "stream",
     "text": [
      "===== search term =====\n",
      "(Abnormality of upper eyelashes[tiab] OR  Abnormality of upper eyelashes[tiab]) AND ( variat*[tiab] or SNP[tiab] or allele*[tiab] or mutat*[tiab] or polymorphism*[tiab] or haplotype*[tiab] or SNPs[tiab] or genotype[tiab] or gene[tiab] or chromosome[tiab] or deletion[tiab] or indel[tiab] or insertion[tiab] or substitution[tiab] or transition[tiab] or transversion[tiab] or translocation[tiab] or CNV[tiab] or copy number variation[tiab] or SV[tiab] or chromosome structure variation[tiab]) NOT review[pt] AND English[LA] AND (\"1980/01/01\"[DP] : \"2023/4/1\"[DP])\n",
      "Retrieved article numbers：34\n"
     ]
    },
    {
     "name": "stderr",
     "output_type": "stream",
     "text": [
      " 77%|███████▋  | 460/595 [41:18<06:05,  2.71s/it]"
     ]
    },
    {
     "name": "stdout",
     "output_type": "stream",
     "text": [
      "===== search term =====\n",
      "(Short eyelashes[tiab] OR  Decreased length of eyelashes[tiab] OR  Short eyelashes[tiab]) AND ( variat*[tiab] or SNP[tiab] or allele*[tiab] or mutat*[tiab] or polymorphism*[tiab] or haplotype*[tiab] or SNPs[tiab] or genotype[tiab] or gene[tiab] or chromosome[tiab] or deletion[tiab] or indel[tiab] or insertion[tiab] or substitution[tiab] or transition[tiab] or transversion[tiab] or translocation[tiab] or CNV[tiab] or copy number variation[tiab] or SV[tiab] or chromosome structure variation[tiab]) NOT review[pt] AND English[LA] AND (\"1980/01/01\"[DP] : \"2023/4/1\"[DP])\n",
      "Retrieved article numbers：1\n"
     ]
    },
    {
     "name": "stderr",
     "output_type": "stream",
     "text": [
      " 77%|███████▋  | 461/595 [41:20<05:22,  2.40s/it]"
     ]
    },
    {
     "name": "stdout",
     "output_type": "stream",
     "text": [
      "===== search term =====\n",
      "(Multiple rows of eyelashes[tiab] OR  Multiple rows of eyelashes[tiab] OR  Two rows of eyelashes[tiab] OR  Double row of eyelashes[tiab] OR  Extra rows of eyelashes[tiab]) AND ( variat*[tiab] or SNP[tiab] or allele*[tiab] or mutat*[tiab] or polymorphism*[tiab] or haplotype*[tiab] or SNPs[tiab] or genotype[tiab] or gene[tiab] or chromosome[tiab] or deletion[tiab] or indel[tiab] or insertion[tiab] or substitution[tiab] or transition[tiab] or transversion[tiab] or translocation[tiab] or CNV[tiab] or copy number variation[tiab] or SV[tiab] or chromosome structure variation[tiab]) NOT review[pt] AND English[LA] AND (\"1980/01/01\"[DP] : \"2023/4/1\"[DP])\n",
      "Retrieved article numbers：1\n"
     ]
    },
    {
     "name": "stderr",
     "output_type": "stream",
     "text": [
      " 78%|███████▊  | 462/595 [41:22<05:12,  2.35s/it]"
     ]
    },
    {
     "name": "stdout",
     "output_type": "stream",
     "text": [
      "===== search term =====\n",
      "(Curly eyelashes[tiab] OR Curly eyelashes[tiab]) AND ( variat*[tiab] or SNP[tiab] or allele*[tiab] or mutat*[tiab] or polymorphism*[tiab] or haplotype*[tiab] or SNPs[tiab] or genotype[tiab] or gene[tiab] or chromosome[tiab] or deletion[tiab] or indel[tiab] or insertion[tiab] or substitution[tiab] or transition[tiab] or transversion[tiab] or translocation[tiab] or CNV[tiab] or copy number variation[tiab] or SV[tiab] or chromosome structure variation[tiab]) NOT review[pt] AND English[LA] AND (\"1980/01/01\"[DP] : \"2023/4/1\"[DP])\n",
      "Retrieved article numbers：7\n"
     ]
    },
    {
     "name": "stderr",
     "output_type": "stream",
     "text": [
      " 78%|███████▊  | 463/595 [41:24<04:53,  2.22s/it]"
     ]
    },
    {
     "name": "stdout",
     "output_type": "stream",
     "text": [
      "===== search term =====\n",
      "(Loss of eyelashes[tiab] OR Eyelashes fell out[tiab] OR  Loss of eyelashes[tiab] OR  Missing eyelashes[tiab] OR  Milphosis[tiab] OR  Ciliary Madarosis[tiab]) AND ( variat*[tiab] or SNP[tiab] or allele*[tiab] or mutat*[tiab] or polymorphism*[tiab] or haplotype*[tiab] or SNPs[tiab] or genotype[tiab] or gene[tiab] or chromosome[tiab] or deletion[tiab] or indel[tiab] or insertion[tiab] or substitution[tiab] or transition[tiab] or transversion[tiab] or translocation[tiab] or CNV[tiab] or copy number variation[tiab] or SV[tiab] or chromosome structure variation[tiab]) NOT review[pt] AND English[LA] AND (\"1980/01/01\"[DP] : \"2023/4/1\"[DP])\n",
      "Retrieved article numbers：3\n"
     ]
    },
    {
     "name": "stderr",
     "output_type": "stream",
     "text": [
      " 78%|███████▊  | 464/595 [41:26<04:30,  2.06s/it]"
     ]
    },
    {
     "name": "stdout",
     "output_type": "stream",
     "text": [
      "===== search term =====\n",
      "(Ectopic cilia of eyelid[tiab]) AND ( variat*[tiab] or SNP[tiab] or allele*[tiab] or mutat*[tiab] or polymorphism*[tiab] or haplotype*[tiab] or SNPs[tiab] or genotype[tiab] or gene[tiab] or chromosome[tiab] or deletion[tiab] or indel[tiab] or insertion[tiab] or substitution[tiab] or transition[tiab] or transversion[tiab] or translocation[tiab] or CNV[tiab] or copy number variation[tiab] or SV[tiab] or chromosome structure variation[tiab]) NOT review[pt] AND English[LA] AND (\"1980/01/01\"[DP] : \"2023/4/1\"[DP])\n",
      "Retrieved article numbers：2\n"
     ]
    },
    {
     "name": "stderr",
     "output_type": "stream",
     "text": [
      " 78%|███████▊  | 465/595 [41:27<04:10,  1.93s/it]"
     ]
    },
    {
     "name": "stdout",
     "output_type": "stream",
     "text": [
      "===== search term =====\n",
      "(White eyelashes[tiab] OR Pale eyelashes[tiab] OR  Depigmented eyelashes[tiab] OR  Blonde eyelashes[tiab] OR  Grey eyelashes[tiab] OR  White eyelashes[tiab]) AND ( variat*[tiab] or SNP[tiab] or allele*[tiab] or mutat*[tiab] or polymorphism*[tiab] or haplotype*[tiab] or SNPs[tiab] or genotype[tiab] or gene[tiab] or chromosome[tiab] or deletion[tiab] or indel[tiab] or insertion[tiab] or substitution[tiab] or transition[tiab] or transversion[tiab] or translocation[tiab] or CNV[tiab] or copy number variation[tiab] or SV[tiab] or chromosome structure variation[tiab]) NOT review[pt] AND English[LA] AND (\"1980/01/01\"[DP] : \"2023/4/1\"[DP])\n",
      "Retrieved article numbers：0\n"
     ]
    },
    {
     "name": "stderr",
     "output_type": "stream",
     "text": [
      " 78%|███████▊  | 466/595 [41:30<04:14,  1.98s/it]"
     ]
    },
    {
     "name": "stdout",
     "output_type": "stream",
     "text": [
      "===== search term =====\n",
      "(Prominent eyelashes[tiab] OR Thick eyelashes[tiab] OR  Prominent eyelashes[tiab]) AND ( variat*[tiab] or SNP[tiab] or allele*[tiab] or mutat*[tiab] or polymorphism*[tiab] or haplotype*[tiab] or SNPs[tiab] or genotype[tiab] or gene[tiab] or chromosome[tiab] or deletion[tiab] or indel[tiab] or insertion[tiab] or substitution[tiab] or transition[tiab] or transversion[tiab] or translocation[tiab] or CNV[tiab] or copy number variation[tiab] or SV[tiab] or chromosome structure variation[tiab]) NOT review[pt] AND English[LA] AND (\"1980/01/01\"[DP] : \"2023/4/1\"[DP])\n",
      "Retrieved article numbers：9\n"
     ]
    },
    {
     "name": "stderr",
     "output_type": "stream",
     "text": [
      " 78%|███████▊  | 467/595 [41:32<04:17,  2.01s/it]"
     ]
    },
    {
     "name": "stdout",
     "output_type": "stream",
     "text": [
      "===== search term =====\n",
      "(Trichiasisngrown eyelashes[tiab] OR  Trichiasis of eyelid eyelashes[tiab] OR  Introversion of eyelashes[tiab]) AND ( variat*[tiab] or SNP[tiab] or allele*[tiab] or mutat*[tiab] or polymorphism*[tiab] or haplotype*[tiab] or SNPs[tiab] or genotype[tiab] or gene[tiab] or chromosome[tiab] or deletion[tiab] or indel[tiab] or insertion[tiab] or substitution[tiab] or transition[tiab] or transversion[tiab] or translocation[tiab] or CNV[tiab] or copy number variation[tiab] or SV[tiab] or chromosome structure variation[tiab]) NOT review[pt] AND English[LA] AND (\"1980/01/01\"[DP] : \"2023/4/1\"[DP])\n",
      "Retrieved article numbers：5\n"
     ]
    },
    {
     "name": "stderr",
     "output_type": "stream",
     "text": [
      " 79%|███████▊  | 468/595 [41:34<04:34,  2.16s/it]"
     ]
    },
    {
     "name": "stdout",
     "output_type": "stream",
     "text": [
      "===== search term =====\n",
      "(Abnormal size of the palpebral fissures[tiab] OR  Abnormal size of the opening between the eyelids[tiab] OR  Abnormal size of the eyes[tiab]) AND ( variat*[tiab] or SNP[tiab] or allele*[tiab] or mutat*[tiab] or polymorphism*[tiab] or haplotype*[tiab] or SNPs[tiab] or genotype[tiab] or gene[tiab] or chromosome[tiab] or deletion[tiab] or indel[tiab] or insertion[tiab] or substitution[tiab] or transition[tiab] or transversion[tiab] or translocation[tiab] or CNV[tiab] or copy number variation[tiab] or SV[tiab] or chromosome structure variation[tiab]) NOT review[pt] AND English[LA] AND (\"1980/01/01\"[DP] : \"2023/4/1\"[DP])\n",
      "Retrieved article numbers：190\n"
     ]
    },
    {
     "name": "stderr",
     "output_type": "stream",
     "text": [
      " 79%|███████▉  | 469/595 [41:36<04:27,  2.13s/it]"
     ]
    },
    {
     "name": "stdout",
     "output_type": "stream",
     "text": [
      "===== search term =====\n",
      "(Abnormal shape of the palpebral fissure[tiab] OR  Abnormal morphology of the palpebral fissure[tiab] OR  Abnormal shape of the opening between the eyelids[tiab]) AND ( variat*[tiab] or SNP[tiab] or allele*[tiab] or mutat*[tiab] or polymorphism*[tiab] or haplotype*[tiab] or SNPs[tiab] or genotype[tiab] or gene[tiab] or chromosome[tiab] or deletion[tiab] or indel[tiab] or insertion[tiab] or substitution[tiab] or transition[tiab] or transversion[tiab] or translocation[tiab] or CNV[tiab] or copy number variation[tiab] or SV[tiab] or chromosome structure variation[tiab]) NOT review[pt] AND English[LA] AND (\"1980/01/01\"[DP] : \"2023/4/1\"[DP])\n",
      "Retrieved article numbers：22\n"
     ]
    },
    {
     "name": "stderr",
     "output_type": "stream",
     "text": [
      " 79%|███████▉  | 470/595 [41:38<04:26,  2.13s/it]"
     ]
    },
    {
     "name": "stdout",
     "output_type": "stream",
     "text": [
      "===== search term =====\n",
      "(Slanting of the palpebral fissure[tiab] OR  lanting of the opening between the eyelids[tiab]) AND ( variat*[tiab] or SNP[tiab] or allele*[tiab] or mutat*[tiab] or polymorphism*[tiab] or haplotype*[tiab] or SNPs[tiab] or genotype[tiab] or gene[tiab] or chromosome[tiab] or deletion[tiab] or indel[tiab] or insertion[tiab] or substitution[tiab] or transition[tiab] or transversion[tiab] or translocation[tiab] or CNV[tiab] or copy number variation[tiab] or SV[tiab] or chromosome structure variation[tiab]) NOT review[pt] AND English[LA] AND (\"1980/01/01\"[DP] : \"2023/4/1\"[DP])\n",
      "Retrieved article numbers：0\n"
     ]
    },
    {
     "name": "stderr",
     "output_type": "stream",
     "text": [
      " 79%|███████▉  | 471/595 [41:41<04:32,  2.20s/it]"
     ]
    },
    {
     "name": "stdout",
     "output_type": "stream",
     "text": [
      "===== search term =====\n",
      "(Hypoplasia of eyelid[tiab] OR  Underdevelopment of eyelid[tiab] OR  Short eyelid[tiab] OR  Decreased size of eyelid[tiab] OR  Small eyelid[tiab]) AND ( variat*[tiab] or SNP[tiab] or allele*[tiab] or mutat*[tiab] or polymorphism*[tiab] or haplotype*[tiab] or SNPs[tiab] or genotype[tiab] or gene[tiab] or chromosome[tiab] or deletion[tiab] or indel[tiab] or insertion[tiab] or substitution[tiab] or transition[tiab] or transversion[tiab] or translocation[tiab] or CNV[tiab] or copy number variation[tiab] or SV[tiab] or chromosome structure variation[tiab]) NOT review[pt] AND English[LA] AND (\"1980/01/01\"[DP] : \"2023/4/1\"[DP])\n",
      "Retrieved article numbers：0\n"
     ]
    },
    {
     "name": "stderr",
     "output_type": "stream",
     "text": [
      " 79%|███████▉  | 472/595 [41:43<04:32,  2.21s/it]"
     ]
    },
    {
     "name": "stdout",
     "output_type": "stream",
     "text": [
      "===== search term =====\n",
      "(Eyelid coloboma[tiab] OR  Eyelid coloboma[tiab] OR  Notched eyelid[tiab] OR  Full thickness defect of the eyelid[tiab] OR  Cleft eyelid[tiab]) AND ( variat*[tiab] or SNP[tiab] or allele*[tiab] or mutat*[tiab] or polymorphism*[tiab] or haplotype*[tiab] or SNPs[tiab] or genotype[tiab] or gene[tiab] or chromosome[tiab] or deletion[tiab] or indel[tiab] or insertion[tiab] or substitution[tiab] or transition[tiab] or transversion[tiab] or translocation[tiab] or CNV[tiab] or copy number variation[tiab] or SV[tiab] or chromosome structure variation[tiab]) NOT review[pt] AND English[LA] AND (\"1980/01/01\"[DP] : \"2023/4/1\"[DP])\n",
      "Retrieved article numbers：55\n"
     ]
    },
    {
     "name": "stderr",
     "output_type": "stream",
     "text": [
      " 79%|███████▉  | 473/595 [41:46<05:15,  2.59s/it]"
     ]
    },
    {
     "name": "stdout",
     "output_type": "stream",
     "text": [
      "===== search term =====\n",
      "(Cryptophthalmos[tiab]) AND ( variat*[tiab] or SNP[tiab] or allele*[tiab] or mutat*[tiab] or polymorphism*[tiab] or haplotype*[tiab] or SNPs[tiab] or genotype[tiab] or gene[tiab] or chromosome[tiab] or deletion[tiab] or indel[tiab] or insertion[tiab] or substitution[tiab] or transition[tiab] or transversion[tiab] or translocation[tiab] or CNV[tiab] or copy number variation[tiab] or SV[tiab] or chromosome structure variation[tiab]) NOT review[pt] AND English[LA] AND (\"1980/01/01\"[DP] : \"2023/4/1\"[DP])\n",
      "Retrieved article numbers：21\n"
     ]
    },
    {
     "name": "stderr",
     "output_type": "stream",
     "text": [
      " 80%|███████▉  | 474/595 [41:49<05:05,  2.53s/it]"
     ]
    },
    {
     "name": "stdout",
     "output_type": "stream",
     "text": [
      "===== search term =====\n",
      "(Ablepharon[tiab] OR  Aplasia of the eyelids[tiab] OR  Ablepharon of eyelid[tiab] OR  Absent eyelids[tiab] OR  Agenesis of eyelids[tiab] OR  Missing eyelids[tiab]) AND ( variat*[tiab] or SNP[tiab] or allele*[tiab] or mutat*[tiab] or polymorphism*[tiab] or haplotype*[tiab] or SNPs[tiab] or genotype[tiab] or gene[tiab] or chromosome[tiab] or deletion[tiab] or indel[tiab] or insertion[tiab] or substitution[tiab] or transition[tiab] or transversion[tiab] or translocation[tiab] or CNV[tiab] or copy number variation[tiab] or SV[tiab] or chromosome structure variation[tiab]) NOT review[pt] AND English[LA] AND (\"1980/01/01\"[DP] : \"2023/4/1\"[DP])\n",
      "Retrieved article numbers：39\n"
     ]
    },
    {
     "name": "stderr",
     "output_type": "stream",
     "text": [
      " 80%|███████▉  | 475/595 [41:51<04:52,  2.44s/it]"
     ]
    },
    {
     "name": "stdout",
     "output_type": "stream",
     "text": [
      "===== search term =====\n",
      "(Hordeolum[tiab] OR  Red bump on eyelid[tiab] OR  Stye of eyelid[tiab]) AND ( variat*[tiab] or SNP[tiab] or allele*[tiab] or mutat*[tiab] or polymorphism*[tiab] or haplotype*[tiab] or SNPs[tiab] or genotype[tiab] or gene[tiab] or chromosome[tiab] or deletion[tiab] or indel[tiab] or insertion[tiab] or substitution[tiab] or transition[tiab] or transversion[tiab] or translocation[tiab] or CNV[tiab] or copy number variation[tiab] or SV[tiab] or chromosome structure variation[tiab]) NOT review[pt] AND English[LA] AND (\"1980/01/01\"[DP] : \"2023/4/1\"[DP])\n",
      "Retrieved article numbers：18\n"
     ]
    },
    {
     "name": "stderr",
     "output_type": "stream",
     "text": [
      " 80%|████████  | 476/595 [41:53<04:32,  2.29s/it]"
     ]
    },
    {
     "name": "stdout",
     "output_type": "stream",
     "text": [
      "===== search term =====\n",
      "(Cyst of the eyelid[tiab] OR  Cyst of the eyelid[tiab] OR  Lesion of the eyelid[tiab] OR  Eyelid mass[tiab] OR  Eyelid bump[tiab]) AND ( variat*[tiab] or SNP[tiab] or allele*[tiab] or mutat*[tiab] or polymorphism*[tiab] or haplotype*[tiab] or SNPs[tiab] or genotype[tiab] or gene[tiab] or chromosome[tiab] or deletion[tiab] or indel[tiab] or insertion[tiab] or substitution[tiab] or transition[tiab] or transversion[tiab] or translocation[tiab] or CNV[tiab] or copy number variation[tiab] or SV[tiab] or chromosome structure variation[tiab]) NOT review[pt] AND English[LA] AND (\"1980/01/01\"[DP] : \"2023/4/1\"[DP])\n",
      "Retrieved article numbers：2\n"
     ]
    },
    {
     "name": "stderr",
     "output_type": "stream",
     "text": [
      " 80%|████████  | 477/595 [41:55<04:24,  2.24s/it]"
     ]
    },
    {
     "name": "stdout",
     "output_type": "stream",
     "text": [
      "===== search term =====\n",
      "(Xanthelasma[tiab] OR Xanthelasma of eyelid[tiab] OR  Xanthelasma palpebrarum[tiab] OR  Fatty deposits on eyelids[tiab] OR  Fatty deposits in skin around the eyes[tiab] OR  Xanthelasma of periocular region[tiab] OR  Xanthoma[tiab] OR  Xanthoma of eyelid[tiab] OR  Xanthoma of periocular region[tiab]) AND ( variat*[tiab] or SNP[tiab] or allele*[tiab] or mutat*[tiab] or polymorphism*[tiab] or haplotype*[tiab] or SNPs[tiab] or genotype[tiab] or gene[tiab] or chromosome[tiab] or deletion[tiab] or indel[tiab] or insertion[tiab] or substitution[tiab] or transition[tiab] or transversion[tiab] or translocation[tiab] or CNV[tiab] or copy number variation[tiab] or SV[tiab] or chromosome structure variation[tiab]) NOT review[pt] AND English[LA] AND (\"1980/01/01\"[DP] : \"2023/4/1\"[DP])\n",
      "Retrieved article numbers：0\n"
     ]
    },
    {
     "name": "stderr",
     "output_type": "stream",
     "text": [
      " 80%|████████  | 478/595 [41:57<04:23,  2.25s/it]"
     ]
    },
    {
     "name": "stdout",
     "output_type": "stream",
     "text": [
      "===== search term =====\n",
      "(Epicanthus tarsalis[tiab]) AND ( variat*[tiab] or SNP[tiab] or allele*[tiab] or mutat*[tiab] or polymorphism*[tiab] or haplotype*[tiab] or SNPs[tiab] or genotype[tiab] or gene[tiab] or chromosome[tiab] or deletion[tiab] or indel[tiab] or insertion[tiab] or substitution[tiab] or transition[tiab] or transversion[tiab] or translocation[tiab] or CNV[tiab] or copy number variation[tiab] or SV[tiab] or chromosome structure variation[tiab]) NOT review[pt] AND English[LA] AND (\"1980/01/01\"[DP] : \"2023/4/1\"[DP])\n",
      "Retrieved article numbers：157\n"
     ]
    },
    {
     "name": "stderr",
     "output_type": "stream",
     "text": [
      " 81%|████████  | 479/595 [41:59<04:07,  2.13s/it]"
     ]
    },
    {
     "name": "stdout",
     "output_type": "stream",
     "text": [
      "===== search term =====\n",
      "(Epicanthus palpebralis[tiab]) AND ( variat*[tiab] or SNP[tiab] or allele*[tiab] or mutat*[tiab] or polymorphism*[tiab] or haplotype*[tiab] or SNPs[tiab] or genotype[tiab] or gene[tiab] or chromosome[tiab] or deletion[tiab] or indel[tiab] or insertion[tiab] or substitution[tiab] or transition[tiab] or transversion[tiab] or translocation[tiab] or CNV[tiab] or copy number variation[tiab] or SV[tiab] or chromosome structure variation[tiab]) NOT review[pt] AND English[LA] AND (\"1980/01/01\"[DP] : \"2023/4/1\"[DP])\n",
      "Retrieved article numbers：0\n"
     ]
    },
    {
     "name": "stderr",
     "output_type": "stream",
     "text": [
      " 81%|████████  | 480/595 [42:03<04:47,  2.50s/it]"
     ]
    },
    {
     "name": "stdout",
     "output_type": "stream",
     "text": [
      "===== search term =====\n",
      "(Epicanthus superciliaris[tiab]) AND ( variat*[tiab] or SNP[tiab] or allele*[tiab] or mutat*[tiab] or polymorphism*[tiab] or haplotype*[tiab] or SNPs[tiab] or genotype[tiab] or gene[tiab] or chromosome[tiab] or deletion[tiab] or indel[tiab] or insertion[tiab] or substitution[tiab] or transition[tiab] or transversion[tiab] or translocation[tiab] or CNV[tiab] or copy number variation[tiab] or SV[tiab] or chromosome structure variation[tiab]) NOT review[pt] AND English[LA] AND (\"1980/01/01\"[DP] : \"2023/4/1\"[DP])\n",
      "Retrieved article numbers：0\n"
     ]
    },
    {
     "name": "stderr",
     "output_type": "stream",
     "text": [
      " 81%|████████  | 481/595 [42:05<04:31,  2.38s/it]"
     ]
    },
    {
     "name": "stdout",
     "output_type": "stream",
     "text": [
      "===== search term =====\n",
      "(Epicanthus inversus[tiab]) AND ( variat*[tiab] or SNP[tiab] or allele*[tiab] or mutat*[tiab] or polymorphism*[tiab] or haplotype*[tiab] or SNPs[tiab] or genotype[tiab] or gene[tiab] or chromosome[tiab] or deletion[tiab] or indel[tiab] or insertion[tiab] or substitution[tiab] or transition[tiab] or transversion[tiab] or translocation[tiab] or CNV[tiab] or copy number variation[tiab] or SV[tiab] or chromosome structure variation[tiab]) NOT review[pt] AND English[LA] AND (\"1980/01/01\"[DP] : \"2023/4/1\"[DP])\n",
      "Retrieved article numbers：0\n"
     ]
    },
    {
     "name": "stderr",
     "output_type": "stream",
     "text": [
      " 81%|████████  | 482/595 [42:22<12:52,  6.84s/it]"
     ]
    },
    {
     "name": "stdout",
     "output_type": "stream",
     "text": [
      "===== search term =====\n",
      "(Eversion of lateral third of lower eyelids[tiab]) AND ( variat*[tiab] or SNP[tiab] or allele*[tiab] or mutat*[tiab] or polymorphism*[tiab] or haplotype*[tiab] or SNPs[tiab] or genotype[tiab] or gene[tiab] or chromosome[tiab] or deletion[tiab] or indel[tiab] or insertion[tiab] or substitution[tiab] or transition[tiab] or transversion[tiab] or translocation[tiab] or CNV[tiab] or copy number variation[tiab] or SV[tiab] or chromosome structure variation[tiab]) NOT review[pt] AND English[LA] AND (\"1980/01/01\"[DP] : \"2023/4/1\"[DP])\n",
      "Retrieved article numbers：162\n"
     ]
    },
    {
     "name": "stderr",
     "output_type": "stream",
     "text": [
      " 81%|████████  | 483/595 [42:25<10:36,  5.68s/it]"
     ]
    },
    {
     "name": "stdout",
     "output_type": "stream",
     "text": [
      "===== search term =====\n",
      "(Ectropion of lower eyelidsLower eyelid turned out[tiab] OR  Everted lower eyelids[tiab] OR  Lower eyelid folded out[tiab]) AND ( variat*[tiab] or SNP[tiab] or allele*[tiab] or mutat*[tiab] or polymorphism*[tiab] or haplotype*[tiab] or SNPs[tiab] or genotype[tiab] or gene[tiab] or chromosome[tiab] or deletion[tiab] or indel[tiab] or insertion[tiab] or substitution[tiab] or transition[tiab] or transversion[tiab] or translocation[tiab] or CNV[tiab] or copy number variation[tiab] or SV[tiab] or chromosome structure variation[tiab]) NOT review[pt] AND English[LA] AND (\"1980/01/01\"[DP] : \"2023/4/1\"[DP])\n",
      "Retrieved article numbers：1\n"
     ]
    },
    {
     "name": "stderr",
     "output_type": "stream",
     "text": [
      " 81%|████████▏ | 484/595 [42:27<08:43,  4.71s/it]"
     ]
    },
    {
     "name": "stdout",
     "output_type": "stream",
     "text": [
      "===== search term =====\n",
      "(Cicatricial ectropion[tiab]) AND ( variat*[tiab] or SNP[tiab] or allele*[tiab] or mutat*[tiab] or polymorphism*[tiab] or haplotype*[tiab] or SNPs[tiab] or genotype[tiab] or gene[tiab] or chromosome[tiab] or deletion[tiab] or indel[tiab] or insertion[tiab] or substitution[tiab] or transition[tiab] or transversion[tiab] or translocation[tiab] or CNV[tiab] or copy number variation[tiab] or SV[tiab] or chromosome structure variation[tiab]) NOT review[pt] AND English[LA] AND (\"1980/01/01\"[DP] : \"2023/4/1\"[DP])\n",
      "Retrieved article numbers：4\n"
     ]
    },
    {
     "name": "stderr",
     "output_type": "stream",
     "text": [
      " 82%|████████▏ | 485/595 [42:30<07:20,  4.00s/it]"
     ]
    },
    {
     "name": "stdout",
     "output_type": "stream",
     "text": [
      "===== search term =====\n",
      "(Paralytic ectropion[tiab]) AND ( variat*[tiab] or SNP[tiab] or allele*[tiab] or mutat*[tiab] or polymorphism*[tiab] or haplotype*[tiab] or SNPs[tiab] or genotype[tiab] or gene[tiab] or chromosome[tiab] or deletion[tiab] or indel[tiab] or insertion[tiab] or substitution[tiab] or transition[tiab] or transversion[tiab] or translocation[tiab] or CNV[tiab] or copy number variation[tiab] or SV[tiab] or chromosome structure variation[tiab]) NOT review[pt] AND English[LA] AND (\"1980/01/01\"[DP] : \"2023/4/1\"[DP])\n",
      "Retrieved article numbers：5\n"
     ]
    },
    {
     "name": "stderr",
     "output_type": "stream",
     "text": [
      " 82%|████████▏ | 486/595 [42:32<06:08,  3.38s/it]"
     ]
    },
    {
     "name": "stdout",
     "output_type": "stream",
     "text": [
      "===== search term =====\n",
      "(Involutional entropion[tiab]) AND ( variat*[tiab] or SNP[tiab] or allele*[tiab] or mutat*[tiab] or polymorphism*[tiab] or haplotype*[tiab] or SNPs[tiab] or genotype[tiab] or gene[tiab] or chromosome[tiab] or deletion[tiab] or indel[tiab] or insertion[tiab] or substitution[tiab] or transition[tiab] or transversion[tiab] or translocation[tiab] or CNV[tiab] or copy number variation[tiab] or SV[tiab] or chromosome structure variation[tiab]) NOT review[pt] AND English[LA] AND (\"1980/01/01\"[DP] : \"2023/4/1\"[DP])\n",
      "Retrieved article numbers：0\n"
     ]
    },
    {
     "name": "stderr",
     "output_type": "stream",
     "text": [
      " 82%|████████▏ | 487/595 [42:34<05:24,  3.01s/it]"
     ]
    },
    {
     "name": "stdout",
     "output_type": "stream",
     "text": [
      "===== search term =====\n",
      "(Upper eyelid entropion[tiab]) AND ( variat*[tiab] or SNP[tiab] or allele*[tiab] or mutat*[tiab] or polymorphism*[tiab] or haplotype*[tiab] or SNPs[tiab] or genotype[tiab] or gene[tiab] or chromosome[tiab] or deletion[tiab] or indel[tiab] or insertion[tiab] or substitution[tiab] or transition[tiab] or transversion[tiab] or translocation[tiab] or CNV[tiab] or copy number variation[tiab] or SV[tiab] or chromosome structure variation[tiab]) NOT review[pt] AND English[LA] AND (\"1980/01/01\"[DP] : \"2023/4/1\"[DP])\n",
      "Retrieved article numbers：5\n"
     ]
    },
    {
     "name": "stderr",
     "output_type": "stream",
     "text": [
      " 82%|████████▏ | 488/595 [42:36<04:47,  2.69s/it]"
     ]
    },
    {
     "name": "stdout",
     "output_type": "stream",
     "text": [
      "===== search term =====\n",
      "(Cicatricial entropion[tiab]) AND ( variat*[tiab] or SNP[tiab] or allele*[tiab] or mutat*[tiab] or polymorphism*[tiab] or haplotype*[tiab] or SNPs[tiab] or genotype[tiab] or gene[tiab] or chromosome[tiab] or deletion[tiab] or indel[tiab] or insertion[tiab] or substitution[tiab] or transition[tiab] or transversion[tiab] or translocation[tiab] or CNV[tiab] or copy number variation[tiab] or SV[tiab] or chromosome structure variation[tiab]) NOT review[pt] AND English[LA] AND (\"1980/01/01\"[DP] : \"2023/4/1\"[DP])\n",
      "Retrieved article numbers：7\n"
     ]
    },
    {
     "name": "stderr",
     "output_type": "stream",
     "text": [
      " 82%|████████▏ | 489/595 [42:39<04:52,  2.76s/it]"
     ]
    },
    {
     "name": "stdout",
     "output_type": "stream",
     "text": [
      "===== search term =====\n",
      "(Mechanical entropion[tiab]) AND ( variat*[tiab] or SNP[tiab] or allele*[tiab] or mutat*[tiab] or polymorphism*[tiab] or haplotype*[tiab] or SNPs[tiab] or genotype[tiab] or gene[tiab] or chromosome[tiab] or deletion[tiab] or indel[tiab] or insertion[tiab] or substitution[tiab] or transition[tiab] or transversion[tiab] or translocation[tiab] or CNV[tiab] or copy number variation[tiab] or SV[tiab] or chromosome structure variation[tiab]) NOT review[pt] AND English[LA] AND (\"1980/01/01\"[DP] : \"2023/4/1\"[DP])\n",
      "Retrieved article numbers：5\n"
     ]
    },
    {
     "name": "stderr",
     "output_type": "stream",
     "text": [
      " 82%|████████▏ | 490/595 [42:44<06:10,  3.53s/it]"
     ]
    },
    {
     "name": "stdout",
     "output_type": "stream",
     "text": [
      "===== search term =====\n",
      "(Posterior blepharitis[tiab] OR  Meibomian gland dysfunction[tiab] OR  Meibomian gland disease[tiab]) AND ( variat*[tiab] or SNP[tiab] or allele*[tiab] or mutat*[tiab] or polymorphism*[tiab] or haplotype*[tiab] or SNPs[tiab] or genotype[tiab] or gene[tiab] or chromosome[tiab] or deletion[tiab] or indel[tiab] or insertion[tiab] or substitution[tiab] or transition[tiab] or transversion[tiab] or translocation[tiab] or CNV[tiab] or copy number variation[tiab] or SV[tiab] or chromosome structure variation[tiab]) NOT review[pt] AND English[LA] AND (\"1980/01/01\"[DP] : \"2023/4/1\"[DP])\n",
      "Retrieved article numbers：0\n"
     ]
    },
    {
     "name": "stderr",
     "output_type": "stream",
     "text": [
      " 83%|████████▎ | 491/595 [42:46<05:15,  3.03s/it]"
     ]
    },
    {
     "name": "stdout",
     "output_type": "stream",
     "text": [
      "===== search term =====\n",
      "(Anterior blepharitis[tiab]) AND ( variat*[tiab] or SNP[tiab] or allele*[tiab] or mutat*[tiab] or polymorphism*[tiab] or haplotype*[tiab] or SNPs[tiab] or genotype[tiab] or gene[tiab] or chromosome[tiab] or deletion[tiab] or indel[tiab] or insertion[tiab] or substitution[tiab] or transition[tiab] or transversion[tiab] or translocation[tiab] or CNV[tiab] or copy number variation[tiab] or SV[tiab] or chromosome structure variation[tiab]) NOT review[pt] AND English[LA] AND (\"1980/01/01\"[DP] : \"2023/4/1\"[DP])\n",
      "Retrieved article numbers：58\n"
     ]
    },
    {
     "name": "stderr",
     "output_type": "stream",
     "text": [
      " 83%|████████▎ | 492/595 [42:48<04:35,  2.67s/it]"
     ]
    },
    {
     "name": "stdout",
     "output_type": "stream",
     "text": [
      "===== search term =====\n",
      "(Cicatricial lagophthalmosInability to close the eyelids due to scarring[tiab] OR  Eyelids stay open due to scarring[tiab]) AND ( variat*[tiab] or SNP[tiab] or allele*[tiab] or mutat*[tiab] or polymorphism*[tiab] or haplotype*[tiab] or SNPs[tiab] or genotype[tiab] or gene[tiab] or chromosome[tiab] or deletion[tiab] or indel[tiab] or insertion[tiab] or substitution[tiab] or transition[tiab] or transversion[tiab] or translocation[tiab] or CNV[tiab] or copy number variation[tiab] or SV[tiab] or chromosome structure variation[tiab]) NOT review[pt] AND English[LA] AND (\"1980/01/01\"[DP] : \"2023/4/1\"[DP])\n",
      "Retrieved article numbers：1\n"
     ]
    },
    {
     "name": "stderr",
     "output_type": "stream",
     "text": [
      " 83%|████████▎ | 493/595 [42:50<04:07,  2.43s/it]"
     ]
    },
    {
     "name": "stdout",
     "output_type": "stream",
     "text": [
      "===== search term =====\n",
      "(Paralytic lagophthalmos[tiab]) AND ( variat*[tiab] or SNP[tiab] or allele*[tiab] or mutat*[tiab] or polymorphism*[tiab] or haplotype*[tiab] or SNPs[tiab] or genotype[tiab] or gene[tiab] or chromosome[tiab] or deletion[tiab] or indel[tiab] or insertion[tiab] or substitution[tiab] or transition[tiab] or transversion[tiab] or translocation[tiab] or CNV[tiab] or copy number variation[tiab] or SV[tiab] or chromosome structure variation[tiab]) NOT review[pt] AND English[LA] AND (\"1980/01/01\"[DP] : \"2023/4/1\"[DP])\n",
      "Retrieved article numbers：3\n"
     ]
    },
    {
     "name": "stderr",
     "output_type": "stream",
     "text": [
      " 83%|████████▎ | 494/595 [42:52<03:51,  2.30s/it]"
     ]
    },
    {
     "name": "stdout",
     "output_type": "stream",
     "text": [
      "===== search term =====\n",
      "(Nocturnal lagophthalmosEyelids stay open at night[tiab] OR  Inability to close the eyelids at night[tiab]) AND ( variat*[tiab] or SNP[tiab] or allele*[tiab] or mutat*[tiab] or polymorphism*[tiab] or haplotype*[tiab] or SNPs[tiab] or genotype[tiab] or gene[tiab] or chromosome[tiab] or deletion[tiab] or indel[tiab] or insertion[tiab] or substitution[tiab] or transition[tiab] or transversion[tiab] or translocation[tiab] or CNV[tiab] or copy number variation[tiab] or SV[tiab] or chromosome structure variation[tiab]) NOT review[pt] AND English[LA] AND (\"1980/01/01\"[DP] : \"2023/4/1\"[DP])\n",
      "Retrieved article numbers：10\n"
     ]
    },
    {
     "name": "stderr",
     "output_type": "stream",
     "text": [
      " 83%|████████▎ | 495/595 [42:55<04:19,  2.59s/it]"
     ]
    },
    {
     "name": "stdout",
     "output_type": "stream",
     "text": [
      "===== search term =====\n",
      "(Upper eyelid edemaFullness of upper eyelid[tiab] OR  Upper eyelid oedema[tiab] OR  Puffiness of upper eyelid[tiab] OR  Cellulitis of upper eyelid[tiab] OR  Swelling of upper eyelid[tiab]) AND ( variat*[tiab] or SNP[tiab] or allele*[tiab] or mutat*[tiab] or polymorphism*[tiab] or haplotype*[tiab] or SNPs[tiab] or genotype[tiab] or gene[tiab] or chromosome[tiab] or deletion[tiab] or indel[tiab] or insertion[tiab] or substitution[tiab] or transition[tiab] or transversion[tiab] or translocation[tiab] or CNV[tiab] or copy number variation[tiab] or SV[tiab] or chromosome structure variation[tiab]) NOT review[pt] AND English[LA] AND (\"1980/01/01\"[DP] : \"2023/4/1\"[DP])\n",
      "Retrieved article numbers：0\n"
     ]
    },
    {
     "name": "stderr",
     "output_type": "stream",
     "text": [
      " 83%|████████▎ | 496/595 [42:57<03:55,  2.38s/it]"
     ]
    },
    {
     "name": "stdout",
     "output_type": "stream",
     "text": [
      "===== search term =====\n",
      "(BlepharochalasisSaggy upper eyelid skin[tiab]) AND ( variat*[tiab] or SNP[tiab] or allele*[tiab] or mutat*[tiab] or polymorphism*[tiab] or haplotype*[tiab] or SNPs[tiab] or genotype[tiab] or gene[tiab] or chromosome[tiab] or deletion[tiab] or indel[tiab] or insertion[tiab] or substitution[tiab] or transition[tiab] or transversion[tiab] or translocation[tiab] or CNV[tiab] or copy number variation[tiab] or SV[tiab] or chromosome structure variation[tiab]) NOT review[pt] AND English[LA] AND (\"1980/01/01\"[DP] : \"2023/4/1\"[DP])\n",
      "Retrieved article numbers：0\n"
     ]
    },
    {
     "name": "stderr",
     "output_type": "stream",
     "text": [
      " 84%|████████▎ | 497/595 [42:59<03:42,  2.27s/it]"
     ]
    },
    {
     "name": "stdout",
     "output_type": "stream",
     "text": [
      "===== search term =====\n",
      "(Lower eyelid edema[tiab] OR Lower eyelid oedema[tiab] OR  Fullness of lower eyelid[tiab] OR  Puffiness of lower eyelid[tiab] OR  Cellulitis of lower eyelid[tiab] OR  Swelling of lower eyelid[tiab]) AND ( variat*[tiab] or SNP[tiab] or allele*[tiab] or mutat*[tiab] or polymorphism*[tiab] or haplotype*[tiab] or SNPs[tiab] or genotype[tiab] or gene[tiab] or chromosome[tiab] or deletion[tiab] or indel[tiab] or insertion[tiab] or substitution[tiab] or transition[tiab] or transversion[tiab] or translocation[tiab] or CNV[tiab] or copy number variation[tiab] or SV[tiab] or chromosome structure variation[tiab]) NOT review[pt] AND English[LA] AND (\"1980/01/01\"[DP] : \"2023/4/1\"[DP])\n",
      "Retrieved article numbers：6\n"
     ]
    },
    {
     "name": "stderr",
     "output_type": "stream",
     "text": [
      " 84%|████████▎ | 498/595 [43:01<03:32,  2.19s/it]"
     ]
    },
    {
     "name": "stdout",
     "output_type": "stream",
     "text": [
      "===== search term =====\n",
      "(Upper eyelid retraction[tiab]) AND ( variat*[tiab] or SNP[tiab] or allele*[tiab] or mutat*[tiab] or polymorphism*[tiab] or haplotype*[tiab] or SNPs[tiab] or genotype[tiab] or gene[tiab] or chromosome[tiab] or deletion[tiab] or indel[tiab] or insertion[tiab] or substitution[tiab] or transition[tiab] or transversion[tiab] or translocation[tiab] or CNV[tiab] or copy number variation[tiab] or SV[tiab] or chromosome structure variation[tiab]) NOT review[pt] AND English[LA] AND (\"1980/01/01\"[DP] : \"2023/4/1\"[DP])\n",
      "Retrieved article numbers：1\n"
     ]
    },
    {
     "name": "stderr",
     "output_type": "stream",
     "text": [
      " 84%|████████▍ | 499/595 [43:03<03:25,  2.14s/it]"
     ]
    },
    {
     "name": "stdout",
     "output_type": "stream",
     "text": [
      "===== search term =====\n",
      "(Lower eyelid retraction[tiab]) AND ( variat*[tiab] or SNP[tiab] or allele*[tiab] or mutat*[tiab] or polymorphism*[tiab] or haplotype*[tiab] or SNPs[tiab] or genotype[tiab] or gene[tiab] or chromosome[tiab] or deletion[tiab] or indel[tiab] or insertion[tiab] or substitution[tiab] or transition[tiab] or transversion[tiab] or translocation[tiab] or CNV[tiab] or copy number variation[tiab] or SV[tiab] or chromosome structure variation[tiab]) NOT review[pt] AND English[LA] AND (\"1980/01/01\"[DP] : \"2023/4/1\"[DP])\n",
      "Retrieved article numbers：8\n"
     ]
    },
    {
     "name": "stderr",
     "output_type": "stream",
     "text": [
      " 84%|████████▍ | 500/595 [43:05<03:23,  2.14s/it]"
     ]
    },
    {
     "name": "stdout",
     "output_type": "stream",
     "text": [
      "===== search term =====\n",
      "(Epiblepharon of lower lid[tiab]) AND ( variat*[tiab] or SNP[tiab] or allele*[tiab] or mutat*[tiab] or polymorphism*[tiab] or haplotype*[tiab] or SNPs[tiab] or genotype[tiab] or gene[tiab] or chromosome[tiab] or deletion[tiab] or indel[tiab] or insertion[tiab] or substitution[tiab] or transition[tiab] or transversion[tiab] or translocation[tiab] or CNV[tiab] or copy number variation[tiab] or SV[tiab] or chromosome structure variation[tiab]) NOT review[pt] AND English[LA] AND (\"1980/01/01\"[DP] : \"2023/4/1\"[DP])\n",
      "Retrieved article numbers：4\n"
     ]
    },
    {
     "name": "stderr",
     "output_type": "stream",
     "text": [
      " 84%|████████▍ | 501/595 [43:07<03:12,  2.05s/it]"
     ]
    },
    {
     "name": "stdout",
     "output_type": "stream",
     "text": [
      "===== search term =====\n",
      "(Epiblepharon of upper lid[tiab]) AND ( variat*[tiab] or SNP[tiab] or allele*[tiab] or mutat*[tiab] or polymorphism*[tiab] or haplotype*[tiab] or SNPs[tiab] or genotype[tiab] or gene[tiab] or chromosome[tiab] or deletion[tiab] or indel[tiab] or insertion[tiab] or substitution[tiab] or transition[tiab] or transversion[tiab] or translocation[tiab] or CNV[tiab] or copy number variation[tiab] or SV[tiab] or chromosome structure variation[tiab]) NOT review[pt] AND English[LA] AND (\"1980/01/01\"[DP] : \"2023/4/1\"[DP])\n",
      "Retrieved article numbers：0\n"
     ]
    },
    {
     "name": "stderr",
     "output_type": "stream",
     "text": [
      " 84%|████████▍ | 502/595 [43:09<03:30,  2.27s/it]"
     ]
    },
    {
     "name": "stdout",
     "output_type": "stream",
     "text": [
      "===== search term =====\n",
      "(Hooded lower eyelid[tiab]) AND ( variat*[tiab] or SNP[tiab] or allele*[tiab] or mutat*[tiab] or polymorphism*[tiab] or haplotype*[tiab] or SNPs[tiab] or genotype[tiab] or gene[tiab] or chromosome[tiab] or deletion[tiab] or indel[tiab] or insertion[tiab] or substitution[tiab] or transition[tiab] or transversion[tiab] or translocation[tiab] or CNV[tiab] or copy number variation[tiab] or SV[tiab] or chromosome structure variation[tiab]) NOT review[pt] AND English[LA] AND (\"1980/01/01\"[DP] : \"2023/4/1\"[DP])\n",
      "Retrieved article numbers：0\n"
     ]
    },
    {
     "name": "stderr",
     "output_type": "stream",
     "text": [
      " 85%|████████▍ | 503/595 [43:11<03:19,  2.16s/it]"
     ]
    },
    {
     "name": "stdout",
     "output_type": "stream",
     "text": [
      "===== search term =====\n",
      "(Hooded upper eyelid[tiab]) AND ( variat*[tiab] or SNP[tiab] or allele*[tiab] or mutat*[tiab] or polymorphism*[tiab] or haplotype*[tiab] or SNPs[tiab] or genotype[tiab] or gene[tiab] or chromosome[tiab] or deletion[tiab] or indel[tiab] or insertion[tiab] or substitution[tiab] or transition[tiab] or transversion[tiab] or translocation[tiab] or CNV[tiab] or copy number variation[tiab] or SV[tiab] or chromosome structure variation[tiab]) NOT review[pt] AND English[LA] AND (\"1980/01/01\"[DP] : \"2023/4/1\"[DP])\n",
      "Retrieved article numbers：0\n"
     ]
    },
    {
     "name": "stderr",
     "output_type": "stream",
     "text": [
      " 85%|████████▍ | 504/595 [43:13<03:10,  2.10s/it]"
     ]
    },
    {
     "name": "stdout",
     "output_type": "stream",
     "text": [
      "===== search term =====\n",
      "( Levator palpebrae superioris atrophy[tiab]) AND ( variat*[tiab] or SNP[tiab] or allele*[tiab] or mutat*[tiab] or polymorphism*[tiab] or haplotype*[tiab] or SNPs[tiab] or genotype[tiab] or gene[tiab] or chromosome[tiab] or deletion[tiab] or indel[tiab] or insertion[tiab] or substitution[tiab] or transition[tiab] or transversion[tiab] or translocation[tiab] or CNV[tiab] or copy number variation[tiab] or SV[tiab] or chromosome structure variation[tiab]) NOT review[pt] AND English[LA] AND (\"1980/01/01\"[DP] : \"2023/4/1\"[DP])\n",
      "Retrieved article numbers：0\n"
     ]
    },
    {
     "name": "stderr",
     "output_type": "stream",
     "text": [
      " 85%|████████▍ | 505/595 [43:15<03:04,  2.05s/it]"
     ]
    },
    {
     "name": "stdout",
     "output_type": "stream",
     "text": [
      "===== search term =====\n",
      "(Keratoconjunctivitis[tiab]) AND ( variat*[tiab] or SNP[tiab] or allele*[tiab] or mutat*[tiab] or polymorphism*[tiab] or haplotype*[tiab] or SNPs[tiab] or genotype[tiab] or gene[tiab] or chromosome[tiab] or deletion[tiab] or indel[tiab] or insertion[tiab] or substitution[tiab] or transition[tiab] or transversion[tiab] or translocation[tiab] or CNV[tiab] or copy number variation[tiab] or SV[tiab] or chromosome structure variation[tiab]) NOT review[pt] AND English[LA] AND (\"1980/01/01\"[DP] : \"2023/4/1\"[DP])\n",
      "Retrieved article numbers：26\n"
     ]
    },
    {
     "name": "stderr",
     "output_type": "stream",
     "text": [
      " 85%|████████▌ | 506/595 [43:17<02:59,  2.01s/it]"
     ]
    },
    {
     "name": "stdout",
     "output_type": "stream",
     "text": [
      "===== search term =====\n",
      "(Chronic irritative conjunctivitis[tiab]) AND ( variat*[tiab] or SNP[tiab] or allele*[tiab] or mutat*[tiab] or polymorphism*[tiab] or haplotype*[tiab] or SNPs[tiab] or genotype[tiab] or gene[tiab] or chromosome[tiab] or deletion[tiab] or indel[tiab] or insertion[tiab] or substitution[tiab] or transition[tiab] or transversion[tiab] or translocation[tiab] or CNV[tiab] or copy number variation[tiab] or SV[tiab] or chromosome structure variation[tiab]) NOT review[pt] AND English[LA] AND (\"1980/01/01\"[DP] : \"2023/4/1\"[DP])\n",
      "Retrieved article numbers：303\n"
     ]
    },
    {
     "name": "stderr",
     "output_type": "stream",
     "text": [
      " 85%|████████▌ | 507/595 [43:19<02:55,  1.99s/it]"
     ]
    },
    {
     "name": "stdout",
     "output_type": "stream",
     "text": [
      "===== search term =====\n",
      "(Allergic conjunctivitis[tiab]) AND ( variat*[tiab] or SNP[tiab] or allele*[tiab] or mutat*[tiab] or polymorphism*[tiab] or haplotype*[tiab] or SNPs[tiab] or genotype[tiab] or gene[tiab] or chromosome[tiab] or deletion[tiab] or indel[tiab] or insertion[tiab] or substitution[tiab] or transition[tiab] or transversion[tiab] or translocation[tiab] or CNV[tiab] or copy number variation[tiab] or SV[tiab] or chromosome structure variation[tiab]) NOT review[pt] AND English[LA] AND (\"1980/01/01\"[DP] : \"2023/4/1\"[DP])\n",
      "Retrieved article numbers：0\n"
     ]
    },
    {
     "name": "stderr",
     "output_type": "stream",
     "text": [
      " 85%|████████▌ | 508/595 [43:21<03:00,  2.07s/it]"
     ]
    },
    {
     "name": "stdout",
     "output_type": "stream",
     "text": [
      "===== search term =====\n",
      "(Conjunctival telangiectasia[tiab] OR  \"Small dilated blood vessels near membrane covering front of eye and eyelids\"[tiab] OR  Conjunctival telangiectases[tiab]) AND ( variat*[tiab] or SNP[tiab] or allele*[tiab] or mutat*[tiab] or polymorphism*[tiab] or haplotype*[tiab] or SNPs[tiab] or genotype[tiab] or gene[tiab] or chromosome[tiab] or deletion[tiab] or indel[tiab] or insertion[tiab] or substitution[tiab] or transition[tiab] or transversion[tiab] or translocation[tiab] or CNV[tiab] or copy number variation[tiab] or SV[tiab] or chromosome structure variation[tiab]) NOT review[pt] AND English[LA] AND (\"1980/01/01\"[DP] : \"2023/4/1\"[DP])\n",
      "Retrieved article numbers：82\n"
     ]
    },
    {
     "name": "stderr",
     "output_type": "stream",
     "text": [
      " 86%|████████▌ | 509/595 [43:24<03:11,  2.23s/it]"
     ]
    },
    {
     "name": "stdout",
     "output_type": "stream",
     "text": [
      "===== search term =====\n",
      "(Tortuosity of conjunctival vessels[tiab]) AND ( variat*[tiab] or SNP[tiab] or allele*[tiab] or mutat*[tiab] or polymorphism*[tiab] or haplotype*[tiab] or SNPs[tiab] or genotype[tiab] or gene[tiab] or chromosome[tiab] or deletion[tiab] or indel[tiab] or insertion[tiab] or substitution[tiab] or transition[tiab] or transversion[tiab] or translocation[tiab] or CNV[tiab] or copy number variation[tiab] or SV[tiab] or chromosome structure variation[tiab]) NOT review[pt] AND English[LA] AND (\"1980/01/01\"[DP] : \"2023/4/1\"[DP])\n",
      "Retrieved article numbers：5\n"
     ]
    },
    {
     "name": "stderr",
     "output_type": "stream",
     "text": [
      " 86%|████████▌ | 510/595 [43:26<03:01,  2.13s/it]"
     ]
    },
    {
     "name": "stdout",
     "output_type": "stream",
     "text": [
      "===== search term =====\n",
      "(Saccular conjunctival dilatations[tiab] OR Saccular conjunctival aneurysms[tiab]) AND ( variat*[tiab] or SNP[tiab] or allele*[tiab] or mutat*[tiab] or polymorphism*[tiab] or haplotype*[tiab] or SNPs[tiab] or genotype[tiab] or gene[tiab] or chromosome[tiab] or deletion[tiab] or indel[tiab] or insertion[tiab] or substitution[tiab] or transition[tiab] or transversion[tiab] or translocation[tiab] or CNV[tiab] or copy number variation[tiab] or SV[tiab] or chromosome structure variation[tiab]) NOT review[pt] AND English[LA] AND (\"1980/01/01\"[DP] : \"2023/4/1\"[DP])\n",
      "Retrieved article numbers：0\n"
     ]
    },
    {
     "name": "stderr",
     "output_type": "stream",
     "text": [
      " 86%|████████▌ | 511/595 [43:29<03:15,  2.33s/it]"
     ]
    },
    {
     "name": "stdout",
     "output_type": "stream",
     "text": [
      "===== search term =====\n",
      "( Conjunctival cicatrization[tiab] OR  Conjunctival cicatricial conjunctivitis[tiab] OR  Cicatricial conjunctivitis[tiab] OR  Cicatrizating conjunctivitis[tiab]) AND ( variat*[tiab] or SNP[tiab] or allele*[tiab] or mutat*[tiab] or polymorphism*[tiab] or haplotype*[tiab] or SNPs[tiab] or genotype[tiab] or gene[tiab] or chromosome[tiab] or deletion[tiab] or indel[tiab] or insertion[tiab] or substitution[tiab] or transition[tiab] or transversion[tiab] or translocation[tiab] or CNV[tiab] or copy number variation[tiab] or SV[tiab] or chromosome structure variation[tiab]) NOT review[pt] AND English[LA] AND (\"1980/01/01\"[DP] : \"2023/4/1\"[DP])\n",
      "Retrieved article numbers：0\n"
     ]
    },
    {
     "name": "stderr",
     "output_type": "stream",
     "text": [
      " 86%|████████▌ | 512/595 [43:31<03:15,  2.36s/it]"
     ]
    },
    {
     "name": "stdout",
     "output_type": "stream",
     "text": [
      "===== search term =====\n",
      "( Circumlimbal hyperemia[tiab] OR Ciliary limbus[tiab] OR  Circumlimbal hyperaemia[tiab]) AND ( variat*[tiab] or SNP[tiab] or allele*[tiab] or mutat*[tiab] or polymorphism*[tiab] or haplotype*[tiab] or SNPs[tiab] or genotype[tiab] or gene[tiab] or chromosome[tiab] or deletion[tiab] or indel[tiab] or insertion[tiab] or substitution[tiab] or transition[tiab] or transversion[tiab] or translocation[tiab] or CNV[tiab] or copy number variation[tiab] or SV[tiab] or chromosome structure variation[tiab]) NOT review[pt] AND English[LA] AND (\"1980/01/01\"[DP] : \"2023/4/1\"[DP])\n",
      "Retrieved article numbers：681\n"
     ]
    },
    {
     "name": "stderr",
     "output_type": "stream",
     "text": [
      " 86%|████████▌ | 513/595 [43:34<03:27,  2.54s/it]"
     ]
    },
    {
     "name": "stdout",
     "output_type": "stream",
     "text": [
      "===== search term =====\n",
      "( Giant conjunctival papillae[tiab]) AND ( variat*[tiab] or SNP[tiab] or allele*[tiab] or mutat*[tiab] or polymorphism*[tiab] or haplotype*[tiab] or SNPs[tiab] or genotype[tiab] or gene[tiab] or chromosome[tiab] or deletion[tiab] or indel[tiab] or insertion[tiab] or substitution[tiab] or transition[tiab] or transversion[tiab] or translocation[tiab] or CNV[tiab] or copy number variation[tiab] or SV[tiab] or chromosome structure variation[tiab]) NOT review[pt] AND English[LA] AND (\"1980/01/01\"[DP] : \"2023/4/1\"[DP])\n",
      "Retrieved article numbers：20\n"
     ]
    },
    {
     "name": "stderr",
     "output_type": "stream",
     "text": [
      " 86%|████████▋ | 514/595 [43:36<03:06,  2.31s/it]"
     ]
    },
    {
     "name": "stdout",
     "output_type": "stream",
     "text": [
      "===== search term =====\n",
      "(Nasolacrimal duct obstruction[tiab] OR  Lacrimal duct obstruction[tiab] OR  Blocked tear duct[tiab]) AND ( variat*[tiab] or SNP[tiab] or allele*[tiab] or mutat*[tiab] or polymorphism*[tiab] or haplotype*[tiab] or SNPs[tiab] or genotype[tiab] or gene[tiab] or chromosome[tiab] or deletion[tiab] or indel[tiab] or insertion[tiab] or substitution[tiab] or transition[tiab] or transversion[tiab] or translocation[tiab] or CNV[tiab] or copy number variation[tiab] or SV[tiab] or chromosome structure variation[tiab]) NOT review[pt] AND English[LA] AND (\"1980/01/01\"[DP] : \"2023/4/1\"[DP])\n",
      "Retrieved article numbers：0\n"
     ]
    },
    {
     "name": "stderr",
     "output_type": "stream",
     "text": [
      " 87%|████████▋ | 515/595 [43:38<02:58,  2.24s/it]"
     ]
    },
    {
     "name": "stdout",
     "output_type": "stream",
     "text": [
      "===== search term =====\n",
      "(Malformed lacrimal duct[tiab] OR Malformed tear ducts[tiab]) AND ( variat*[tiab] or SNP[tiab] or allele*[tiab] or mutat*[tiab] or polymorphism*[tiab] or haplotype*[tiab] or SNPs[tiab] or genotype[tiab] or gene[tiab] or chromosome[tiab] or deletion[tiab] or indel[tiab] or insertion[tiab] or substitution[tiab] or transition[tiab] or transversion[tiab] or translocation[tiab] or CNV[tiab] or copy number variation[tiab] or SV[tiab] or chromosome structure variation[tiab]) NOT review[pt] AND English[LA] AND (\"1980/01/01\"[DP] : \"2023/4/1\"[DP])\n",
      "Retrieved article numbers：99\n"
     ]
    },
    {
     "name": "stderr",
     "output_type": "stream",
     "text": [
      " 87%|████████▋ | 516/595 [43:41<03:14,  2.46s/it]"
     ]
    },
    {
     "name": "stdout",
     "output_type": "stream",
     "text": [
      "===== search term =====\n",
      "(Hypoplastic lacrimal duct[tiab] OR Underdeveloped tear duct[tiab]) AND ( variat*[tiab] or SNP[tiab] or allele*[tiab] or mutat*[tiab] or polymorphism*[tiab] or haplotype*[tiab] or SNPs[tiab] or genotype[tiab] or gene[tiab] or chromosome[tiab] or deletion[tiab] or indel[tiab] or insertion[tiab] or substitution[tiab] or transition[tiab] or transversion[tiab] or translocation[tiab] or CNV[tiab] or copy number variation[tiab] or SV[tiab] or chromosome structure variation[tiab]) NOT review[pt] AND English[LA] AND (\"1980/01/01\"[DP] : \"2023/4/1\"[DP])\n",
      "Retrieved article numbers：36\n"
     ]
    },
    {
     "name": "stderr",
     "output_type": "stream",
     "text": [
      " 87%|████████▋ | 517/595 [43:46<04:14,  3.26s/it]"
     ]
    },
    {
     "name": "stdout",
     "output_type": "stream",
     "text": [
      "===== search term =====\n",
      "(Lacrimal duct atresia[tiab] OR Imperforate nasolacrimal ducts[tiab] OR  Unopened tear duct[tiab] OR  Nasolacrimal duct atresia[tiab]) AND ( variat*[tiab] or SNP[tiab] or allele*[tiab] or mutat*[tiab] or polymorphism*[tiab] or haplotype*[tiab] or SNPs[tiab] or genotype[tiab] or gene[tiab] or chromosome[tiab] or deletion[tiab] or indel[tiab] or insertion[tiab] or substitution[tiab] or transition[tiab] or transversion[tiab] or translocation[tiab] or CNV[tiab] or copy number variation[tiab] or SV[tiab] or chromosome structure variation[tiab]) NOT review[pt] AND English[LA] AND (\"1980/01/01\"[DP] : \"2023/4/1\"[DP])\n",
      "Retrieved article numbers：1\n"
     ]
    },
    {
     "name": "stderr",
     "output_type": "stream",
     "text": [
      " 87%|████████▋ | 518/595 [43:48<03:39,  2.85s/it]"
     ]
    },
    {
     "name": "stdout",
     "output_type": "stream",
     "text": [
      "===== search term =====\n",
      "(Lacrimal duct aplasia[tiab] OR Absent tear duct[tiab]) AND ( variat*[tiab] or SNP[tiab] or allele*[tiab] or mutat*[tiab] or polymorphism*[tiab] or haplotype*[tiab] or SNPs[tiab] or genotype[tiab] or gene[tiab] or chromosome[tiab] or deletion[tiab] or indel[tiab] or insertion[tiab] or substitution[tiab] or transition[tiab] or transversion[tiab] or translocation[tiab] or CNV[tiab] or copy number variation[tiab] or SV[tiab] or chromosome structure variation[tiab]) NOT review[pt] AND English[LA] AND (\"1980/01/01\"[DP] : \"2023/4/1\"[DP])\n",
      "Retrieved article numbers：6\n"
     ]
    },
    {
     "name": "stderr",
     "output_type": "stream",
     "text": [
      " 87%|████████▋ | 519/595 [43:51<03:36,  2.85s/it]"
     ]
    },
    {
     "name": "stdout",
     "output_type": "stream",
     "text": [
      "===== search term =====\n",
      "(Absent lacrimal punctum[tiab] OR Aplasia of lacrimal puncta[tiab] OR  Absent lacrimal openings[tiab] OR  Agenesis of the lacrimal punctum[tiab] OR  Lacrimal puncta aplasia[tiab] OR  Absent lacrimal puncta[tiab] OR  Absent lacrimal gland puncta[tiab]) AND ( variat*[tiab] or SNP[tiab] or allele*[tiab] or mutat*[tiab] or polymorphism*[tiab] or haplotype*[tiab] or SNPs[tiab] or genotype[tiab] or gene[tiab] or chromosome[tiab] or deletion[tiab] or indel[tiab] or insertion[tiab] or substitution[tiab] or transition[tiab] or transversion[tiab] or translocation[tiab] or CNV[tiab] or copy number variation[tiab] or SV[tiab] or chromosome structure variation[tiab]) NOT review[pt] AND English[LA] AND (\"1980/01/01\"[DP] : \"2023/4/1\"[DP])\n",
      "Retrieved article numbers：2\n"
     ]
    },
    {
     "name": "stderr",
     "output_type": "stream",
     "text": [
      " 87%|████████▋ | 520/595 [43:54<03:41,  2.96s/it]"
     ]
    },
    {
     "name": "stdout",
     "output_type": "stream",
     "text": [
      "===== search term =====\n",
      "(Ectopic lacrimal punctum[tiab] OR Abnormal position of the lacrimal punctum[tiab]) AND ( variat*[tiab] or SNP[tiab] or allele*[tiab] or mutat*[tiab] or polymorphism*[tiab] or haplotype*[tiab] or SNPs[tiab] or genotype[tiab] or gene[tiab] or chromosome[tiab] or deletion[tiab] or indel[tiab] or insertion[tiab] or substitution[tiab] or transition[tiab] or transversion[tiab] or translocation[tiab] or CNV[tiab] or copy number variation[tiab] or SV[tiab] or chromosome structure variation[tiab]) NOT review[pt] AND English[LA] AND (\"1980/01/01\"[DP] : \"2023/4/1\"[DP])\n",
      "Retrieved article numbers：5\n"
     ]
    },
    {
     "name": "stderr",
     "output_type": "stream",
     "text": [
      " 88%|████████▊ | 521/595 [43:57<03:39,  2.97s/it]"
     ]
    },
    {
     "name": "stdout",
     "output_type": "stream",
     "text": [
      "===== search term =====\n",
      "(Lacrimal punctal atresia[tiab] OR Atretic lacrimal puncta[tiab] OR  Atretic lacrimal punctum[tiab]) AND ( variat*[tiab] or SNP[tiab] or allele*[tiab] or mutat*[tiab] or polymorphism*[tiab] or haplotype*[tiab] or SNPs[tiab] or genotype[tiab] or gene[tiab] or chromosome[tiab] or deletion[tiab] or indel[tiab] or insertion[tiab] or substitution[tiab] or transition[tiab] or transversion[tiab] or translocation[tiab] or CNV[tiab] or copy number variation[tiab] or SV[tiab] or chromosome structure variation[tiab]) NOT review[pt] AND English[LA] AND (\"1980/01/01\"[DP] : \"2023/4/1\"[DP])\n",
      "Retrieved article numbers：0\n"
     ]
    },
    {
     "name": "stderr",
     "output_type": "stream",
     "text": [
      " 88%|████████▊ | 522/595 [44:00<03:27,  2.85s/it]"
     ]
    },
    {
     "name": "stdout",
     "output_type": "stream",
     "text": [
      "===== search term =====\n",
      "(Punctal stenosis[tiab] OR Lacrimal punctum stenosis[tiab] OR  Stenosis of the lacrimal punctum[tiab]) AND ( variat*[tiab] or SNP[tiab] or allele*[tiab] or mutat*[tiab] or polymorphism*[tiab] or haplotype*[tiab] or SNPs[tiab] or genotype[tiab] or gene[tiab] or chromosome[tiab] or deletion[tiab] or indel[tiab] or insertion[tiab] or substitution[tiab] or transition[tiab] or transversion[tiab] or translocation[tiab] or CNV[tiab] or copy number variation[tiab] or SV[tiab] or chromosome structure variation[tiab]) NOT review[pt] AND English[LA] AND (\"1980/01/01\"[DP] : \"2023/4/1\"[DP])\n",
      "Retrieved article numbers：1\n"
     ]
    },
    {
     "name": "stderr",
     "output_type": "stream",
     "text": [
      " 88%|████████▊ | 523/595 [44:01<03:05,  2.58s/it]"
     ]
    },
    {
     "name": "stdout",
     "output_type": "stream",
     "text": [
      "===== search term =====\n",
      "(Duplicated lacrimal punctum[tiab] OR Double lacrimal puncta[tiab]) AND ( variat*[tiab] or SNP[tiab] or allele*[tiab] or mutat*[tiab] or polymorphism*[tiab] or haplotype*[tiab] or SNPs[tiab] or genotype[tiab] or gene[tiab] or chromosome[tiab] or deletion[tiab] or indel[tiab] or insertion[tiab] or substitution[tiab] or transition[tiab] or transversion[tiab] or translocation[tiab] or CNV[tiab] or copy number variation[tiab] or SV[tiab] or chromosome structure variation[tiab]) NOT review[pt] AND English[LA] AND (\"1980/01/01\"[DP] : \"2023/4/1\"[DP])\n",
      "Retrieved article numbers：23\n"
     ]
    },
    {
     "name": "stderr",
     "output_type": "stream",
     "text": [
      " 88%|████████▊ | 524/595 [44:03<02:47,  2.35s/it]"
     ]
    },
    {
     "name": "stdout",
     "output_type": "stream",
     "text": [
      "===== search term =====\n",
      "(Hypoplasia of the lacrimal punctum[tiab] OR Hypoplastic lacrimal puncta[tiab] OR  Hypoplasia of the lacrimal puncta[tiab]) AND ( variat*[tiab] or SNP[tiab] or allele*[tiab] or mutat*[tiab] or polymorphism*[tiab] or haplotype*[tiab] or SNPs[tiab] or genotype[tiab] or gene[tiab] or chromosome[tiab] or deletion[tiab] or indel[tiab] or insertion[tiab] or substitution[tiab] or transition[tiab] or transversion[tiab] or translocation[tiab] or CNV[tiab] or copy number variation[tiab] or SV[tiab] or chromosome structure variation[tiab]) NOT review[pt] AND English[LA] AND (\"1980/01/01\"[DP] : \"2023/4/1\"[DP])\n",
      "Retrieved article numbers：0\n"
     ]
    },
    {
     "name": "stderr",
     "output_type": "stream",
     "text": [
      " 88%|████████▊ | 525/595 [44:06<02:49,  2.42s/it]"
     ]
    },
    {
     "name": "stdout",
     "output_type": "stream",
     "text": [
      "===== search term =====\n",
      "(Nasolacrimal sac obstruction[tiab]) AND ( variat*[tiab] or SNP[tiab] or allele*[tiab] or mutat*[tiab] or polymorphism*[tiab] or haplotype*[tiab] or SNPs[tiab] or genotype[tiab] or gene[tiab] or chromosome[tiab] or deletion[tiab] or indel[tiab] or insertion[tiab] or substitution[tiab] or transition[tiab] or transversion[tiab] or translocation[tiab] or CNV[tiab] or copy number variation[tiab] or SV[tiab] or chromosome structure variation[tiab]) NOT review[pt] AND English[LA] AND (\"1980/01/01\"[DP] : \"2023/4/1\"[DP])\n",
      "Retrieved article numbers：5\n"
     ]
    },
    {
     "name": "stderr",
     "output_type": "stream",
     "text": [
      " 88%|████████▊ | 526/595 [49:24<1:51:43, 97.16s/it]"
     ]
    },
    {
     "name": "stdout",
     "output_type": "stream",
     "text": [
      "===== search term =====\n",
      "(Nasolacrimal sac epithelial papillary carcinoma[tiab]) AND ( variat*[tiab] or SNP[tiab] or allele*[tiab] or mutat*[tiab] or polymorphism*[tiab] or haplotype*[tiab] or SNPs[tiab] or genotype[tiab] or gene[tiab] or chromosome[tiab] or deletion[tiab] or indel[tiab] or insertion[tiab] or substitution[tiab] or transition[tiab] or transversion[tiab] or translocation[tiab] or CNV[tiab] or copy number variation[tiab] or SV[tiab] or chromosome structure variation[tiab]) NOT review[pt] AND English[LA] AND (\"1980/01/01\"[DP] : \"2023/4/1\"[DP])\n",
      "Retrieved article numbers：0\n"
     ]
    },
    {
     "name": "stderr",
     "output_type": "stream",
     "text": [
      " 89%|████████▊ | 527/595 [49:27<1:18:08, 68.94s/it]"
     ]
    },
    {
     "name": "stdout",
     "output_type": "stream",
     "text": [
      "===== search term =====\n",
      "(Nasolacrimal sac lymphoma[tiab]) AND ( variat*[tiab] or SNP[tiab] or allele*[tiab] or mutat*[tiab] or polymorphism*[tiab] or haplotype*[tiab] or SNPs[tiab] or genotype[tiab] or gene[tiab] or chromosome[tiab] or deletion[tiab] or indel[tiab] or insertion[tiab] or substitution[tiab] or transition[tiab] or transversion[tiab] or translocation[tiab] or CNV[tiab] or copy number variation[tiab] or SV[tiab] or chromosome structure variation[tiab]) NOT review[pt] AND English[LA] AND (\"1980/01/01\"[DP] : \"2023/4/1\"[DP])\n",
      "Retrieved article numbers：0\n"
     ]
    },
    {
     "name": "stderr",
     "output_type": "stream",
     "text": [
      " 89%|████████▊ | 528/595 [49:29<54:34, 48.87s/it]  "
     ]
    },
    {
     "name": "stdout",
     "output_type": "stream",
     "text": [
      "===== search term =====\n",
      "(Aplastic/hypoplastic lacrimal glands[tiab] OR  Absent/underdeveloped lacrimal glands[tiab] OR  Absent/underdeveloped tear glands[tiab]) AND ( variat*[tiab] or SNP[tiab] or allele*[tiab] or mutat*[tiab] or polymorphism*[tiab] or haplotype*[tiab] or SNPs[tiab] or genotype[tiab] or gene[tiab] or chromosome[tiab] or deletion[tiab] or indel[tiab] or insertion[tiab] or substitution[tiab] or transition[tiab] or transversion[tiab] or translocation[tiab] or CNV[tiab] or copy number variation[tiab] or SV[tiab] or chromosome structure variation[tiab]) NOT review[pt] AND English[LA] AND (\"1980/01/01\"[DP] : \"2023/4/1\"[DP])\n",
      "Retrieved article numbers：0\n"
     ]
    },
    {
     "name": "stderr",
     "output_type": "stream",
     "text": [
      " 89%|████████▉ | 529/595 [49:31<38:15, 34.78s/it]"
     ]
    },
    {
     "name": "stdout",
     "output_type": "stream",
     "text": [
      "===== search term =====\n",
      "(Enlarged lacrimal glands[tiab] OR Enlarged tear gland[tiab]) AND ( variat*[tiab] or SNP[tiab] or allele*[tiab] or mutat*[tiab] or polymorphism*[tiab] or haplotype*[tiab] or SNPs[tiab] or genotype[tiab] or gene[tiab] or chromosome[tiab] or deletion[tiab] or indel[tiab] or insertion[tiab] or substitution[tiab] or transition[tiab] or transversion[tiab] or translocation[tiab] or CNV[tiab] or copy number variation[tiab] or SV[tiab] or chromosome structure variation[tiab]) NOT review[pt] AND English[LA] AND (\"1980/01/01\"[DP] : \"2023/4/1\"[DP])\n",
      "Retrieved article numbers：0\n"
     ]
    },
    {
     "name": "stderr",
     "output_type": "stream",
     "text": [
      " 89%|████████▉ | 530/595 [49:33<26:59, 24.92s/it]"
     ]
    },
    {
     "name": "stdout",
     "output_type": "stream",
     "text": [
      "===== search term =====\n",
      "(Sparse eyebrow[tiab] OR  Sparse eyebrow[tiab] OR  Sparse eyebrows[tiab] OR  Hypotrichosis of eyebrow[tiab]) AND ( variat*[tiab] or SNP[tiab] or allele*[tiab] or mutat*[tiab] or polymorphism*[tiab] or haplotype*[tiab] or SNPs[tiab] or genotype[tiab] or gene[tiab] or chromosome[tiab] or deletion[tiab] or indel[tiab] or insertion[tiab] or substitution[tiab] or transition[tiab] or transversion[tiab] or translocation[tiab] or CNV[tiab] or copy number variation[tiab] or SV[tiab] or chromosome structure variation[tiab]) NOT review[pt] AND English[LA] AND (\"1980/01/01\"[DP] : \"2023/4/1\"[DP])\n",
      "Retrieved article numbers：1\n"
     ]
    },
    {
     "name": "stderr",
     "output_type": "stream",
     "text": [
      " 89%|████████▉ | 531/595 [49:37<19:57, 18.72s/it]"
     ]
    },
    {
     "name": "stdout",
     "output_type": "stream",
     "text": [
      "===== search term =====\n",
      "(Thin eyebrow[tiab] OR   Thin eyebrows[tiab] OR  Thin eyebrow[tiab]) AND ( variat*[tiab] or SNP[tiab] or allele*[tiab] or mutat*[tiab] or polymorphism*[tiab] or haplotype*[tiab] or SNPs[tiab] or genotype[tiab] or gene[tiab] or chromosome[tiab] or deletion[tiab] or indel[tiab] or insertion[tiab] or substitution[tiab] or transition[tiab] or transversion[tiab] or translocation[tiab] or CNV[tiab] or copy number variation[tiab] or SV[tiab] or chromosome structure variation[tiab]) NOT review[pt] AND English[LA] AND (\"1980/01/01\"[DP] : \"2023/4/1\"[DP])\n",
      "Retrieved article numbers：38\n"
     ]
    },
    {
     "name": "stderr",
     "output_type": "stream",
     "text": [
      " 89%|████████▉ | 532/595 [49:39<14:21, 13.67s/it]"
     ]
    },
    {
     "name": "stdout",
     "output_type": "stream",
     "text": [
      "===== search term =====\n",
      "(Absent eyebrow[tiab] OR Agenesis of eyebrows[tiab] OR  Absent eyebrow[tiab] OR  Failure of development of eyebrows[tiab] OR  Missing eyebrows[tiab] OR  Aplasia of eyebrows[tiab] OR  Absent eyebrows[tiab] OR  Loss of eyebrows[tiab]) AND ( variat*[tiab] or SNP[tiab] or allele*[tiab] or mutat*[tiab] or polymorphism*[tiab] or haplotype*[tiab] or SNPs[tiab] or genotype[tiab] or gene[tiab] or chromosome[tiab] or deletion[tiab] or indel[tiab] or insertion[tiab] or substitution[tiab] or transition[tiab] or transversion[tiab] or translocation[tiab] or CNV[tiab] or copy number variation[tiab] or SV[tiab] or chromosome structure variation[tiab]) NOT review[pt] AND English[LA] AND (\"1980/01/01\"[DP] : \"2023/4/1\"[DP])\n",
      "Retrieved article numbers：10\n"
     ]
    },
    {
     "name": "stderr",
     "output_type": "stream",
     "text": [
      " 90%|████████▉ | 533/595 [49:41<10:32, 10.20s/it]"
     ]
    },
    {
     "name": "stdout",
     "output_type": "stream",
     "text": [
      "===== search term =====\n",
      "(Extension of eyebrows towards upper eyelid[tiab] OR Extension of eyebrows towards upper eyelid[tiab]) AND ( variat*[tiab] or SNP[tiab] or allele*[tiab] or mutat*[tiab] or polymorphism*[tiab] or haplotype*[tiab] or SNPs[tiab] or genotype[tiab] or gene[tiab] or chromosome[tiab] or deletion[tiab] or indel[tiab] or insertion[tiab] or substitution[tiab] or transition[tiab] or transversion[tiab] or translocation[tiab] or CNV[tiab] or copy number variation[tiab] or SV[tiab] or chromosome structure variation[tiab]) NOT review[pt] AND English[LA] AND (\"1980/01/01\"[DP] : \"2023/4/1\"[DP])\n",
      "Retrieved article numbers：21\n"
     ]
    },
    {
     "name": "stderr",
     "output_type": "stream",
     "text": [
      " 90%|████████▉ | 534/595 [49:43<07:51,  7.73s/it]"
     ]
    },
    {
     "name": "stdout",
     "output_type": "stream",
     "text": [
      "===== search term =====\n",
      "(Broad lateral eyebrow[tiab] OR Wide lateral eyebrow[tiab]) AND ( variat*[tiab] or SNP[tiab] or allele*[tiab] or mutat*[tiab] or polymorphism*[tiab] or haplotype*[tiab] or SNPs[tiab] or genotype[tiab] or gene[tiab] or chromosome[tiab] or deletion[tiab] or indel[tiab] or insertion[tiab] or substitution[tiab] or transition[tiab] or transversion[tiab] or translocation[tiab] or CNV[tiab] or copy number variation[tiab] or SV[tiab] or chromosome structure variation[tiab]) NOT review[pt] AND English[LA] AND (\"1980/01/01\"[DP] : \"2023/4/1\"[DP])\n",
      "Retrieved article numbers：0\n"
     ]
    },
    {
     "name": "stderr",
     "output_type": "stream",
     "text": [
      " 90%|████████▉ | 535/595 [49:45<06:02,  6.04s/it]"
     ]
    },
    {
     "name": "stdout",
     "output_type": "stream",
     "text": [
      "===== search term =====\n",
      "( Partial duplication of eyebrows[tiab] OR Partial double eyebrow[tiab] OR  Partial duplication of eyebrows[tiab]) AND ( variat*[tiab] or SNP[tiab] or allele*[tiab] or mutat*[tiab] or polymorphism*[tiab] or haplotype*[tiab] or SNPs[tiab] or genotype[tiab] or gene[tiab] or chromosome[tiab] or deletion[tiab] or indel[tiab] or insertion[tiab] or substitution[tiab] or transition[tiab] or transversion[tiab] or translocation[tiab] or CNV[tiab] or copy number variation[tiab] or SV[tiab] or chromosome structure variation[tiab]) NOT review[pt] AND English[LA] AND (\"1980/01/01\"[DP] : \"2023/4/1\"[DP])\n",
      "Retrieved article numbers：1\n"
     ]
    },
    {
     "name": "stderr",
     "output_type": "stream",
     "text": [
      " 90%|█████████ | 536/595 [49:49<05:17,  5.38s/it]"
     ]
    },
    {
     "name": "stdout",
     "output_type": "stream",
     "text": [
      "===== search term =====\n",
      "(Lateral canthal tendon laxity[tiab]) AND ( variat*[tiab] or SNP[tiab] or allele*[tiab] or mutat*[tiab] or polymorphism*[tiab] or haplotype*[tiab] or SNPs[tiab] or genotype[tiab] or gene[tiab] or chromosome[tiab] or deletion[tiab] or indel[tiab] or insertion[tiab] or substitution[tiab] or transition[tiab] or transversion[tiab] or translocation[tiab] or CNV[tiab] or copy number variation[tiab] or SV[tiab] or chromosome structure variation[tiab]) NOT review[pt] AND English[LA] AND (\"1980/01/01\"[DP] : \"2023/4/1\"[DP])\n",
      "Retrieved article numbers：0\n"
     ]
    },
    {
     "name": "stderr",
     "output_type": "stream",
     "text": [
      " 90%|█████████ | 537/595 [49:51<04:10,  4.32s/it]"
     ]
    },
    {
     "name": "stdout",
     "output_type": "stream",
     "text": [
      "===== search term =====\n",
      "(Medial canthal tendon laxity[tiab]) AND ( variat*[tiab] or SNP[tiab] or allele*[tiab] or mutat*[tiab] or polymorphism*[tiab] or haplotype*[tiab] or SNPs[tiab] or genotype[tiab] or gene[tiab] or chromosome[tiab] or deletion[tiab] or indel[tiab] or insertion[tiab] or substitution[tiab] or transition[tiab] or transversion[tiab] or translocation[tiab] or CNV[tiab] or copy number variation[tiab] or SV[tiab] or chromosome structure variation[tiab]) NOT review[pt] AND English[LA] AND (\"1980/01/01\"[DP] : \"2023/4/1\"[DP])\n",
      "Retrieved article numbers：0\n"
     ]
    },
    {
     "name": "stderr",
     "output_type": "stream",
     "text": [
      " 90%|█████████ | 538/595 [49:56<04:10,  4.39s/it]"
     ]
    },
    {
     "name": "stdout",
     "output_type": "stream",
     "text": [
      "===== search term =====\n",
      "(Horizontal eyelid laxity[tiab]) AND ( variat*[tiab] or SNP[tiab] or allele*[tiab] or mutat*[tiab] or polymorphism*[tiab] or haplotype*[tiab] or SNPs[tiab] or genotype[tiab] or gene[tiab] or chromosome[tiab] or deletion[tiab] or indel[tiab] or insertion[tiab] or substitution[tiab] or transition[tiab] or transversion[tiab] or translocation[tiab] or CNV[tiab] or copy number variation[tiab] or SV[tiab] or chromosome structure variation[tiab]) NOT review[pt] AND English[LA] AND (\"1980/01/01\"[DP] : \"2023/4/1\"[DP])\n",
      "Retrieved article numbers：0\n"
     ]
    },
    {
     "name": "stderr",
     "output_type": "stream",
     "text": [
      " 91%|█████████ | 539/595 [49:58<03:25,  3.67s/it]"
     ]
    },
    {
     "name": "stdout",
     "output_type": "stream",
     "text": [
      "===== search term =====\n",
      "(Floppy eyelid[tiab]) AND ( variat*[tiab] or SNP[tiab] or allele*[tiab] or mutat*[tiab] or polymorphism*[tiab] or haplotype*[tiab] or SNPs[tiab] or genotype[tiab] or gene[tiab] or chromosome[tiab] or deletion[tiab] or indel[tiab] or insertion[tiab] or substitution[tiab] or transition[tiab] or transversion[tiab] or translocation[tiab] or CNV[tiab] or copy number variation[tiab] or SV[tiab] or chromosome structure variation[tiab]) NOT review[pt] AND English[LA] AND (\"1980/01/01\"[DP] : \"2023/4/1\"[DP])\n",
      "Retrieved article numbers：1\n"
     ]
    },
    {
     "name": "stderr",
     "output_type": "stream",
     "text": [
      " 91%|█████████ | 540/595 [50:00<02:58,  3.25s/it]"
     ]
    },
    {
     "name": "stdout",
     "output_type": "stream",
     "text": [
      "===== search term =====\n",
      "(Vertical eyelid laxity[tiab]) AND ( variat*[tiab] or SNP[tiab] or allele*[tiab] or mutat*[tiab] or polymorphism*[tiab] or haplotype*[tiab] or SNPs[tiab] or genotype[tiab] or gene[tiab] or chromosome[tiab] or deletion[tiab] or indel[tiab] or insertion[tiab] or substitution[tiab] or transition[tiab] or transversion[tiab] or translocation[tiab] or CNV[tiab] or copy number variation[tiab] or SV[tiab] or chromosome structure variation[tiab]) NOT review[pt] AND English[LA] AND (\"1980/01/01\"[DP] : \"2023/4/1\"[DP])\n",
      "Retrieved article numbers：4\n"
     ]
    },
    {
     "name": "stderr",
     "output_type": "stream",
     "text": [
      " 91%|█████████ | 541/595 [50:02<02:31,  2.81s/it]"
     ]
    },
    {
     "name": "stdout",
     "output_type": "stream",
     "text": [
      "===== search term =====\n",
      "(Lower eyelid laxity[tiab]) AND ( variat*[tiab] or SNP[tiab] or allele*[tiab] or mutat*[tiab] or polymorphism*[tiab] or haplotype*[tiab] or SNPs[tiab] or genotype[tiab] or gene[tiab] or chromosome[tiab] or deletion[tiab] or indel[tiab] or insertion[tiab] or substitution[tiab] or transition[tiab] or transversion[tiab] or translocation[tiab] or CNV[tiab] or copy number variation[tiab] or SV[tiab] or chromosome structure variation[tiab]) NOT review[pt] AND English[LA] AND (\"1980/01/01\"[DP] : \"2023/4/1\"[DP])\n",
      "Retrieved article numbers：0\n"
     ]
    },
    {
     "name": "stderr",
     "output_type": "stream",
     "text": [
      " 91%|█████████ | 542/595 [50:04<02:13,  2.53s/it]"
     ]
    },
    {
     "name": "stdout",
     "output_type": "stream",
     "text": [
      "===== search term =====\n",
      "(Upper eyelid laxity[tiab]) AND ( variat*[tiab] or SNP[tiab] or allele*[tiab] or mutat*[tiab] or polymorphism*[tiab] or haplotype*[tiab] or SNPs[tiab] or genotype[tiab] or gene[tiab] or chromosome[tiab] or deletion[tiab] or indel[tiab] or insertion[tiab] or substitution[tiab] or transition[tiab] or transversion[tiab] or translocation[tiab] or CNV[tiab] or copy number variation[tiab] or SV[tiab] or chromosome structure variation[tiab]) NOT review[pt] AND English[LA] AND (\"1980/01/01\"[DP] : \"2023/4/1\"[DP])\n",
      "Retrieved article numbers：0\n"
     ]
    },
    {
     "name": "stderr",
     "output_type": "stream",
     "text": [
      " 91%|█████████▏| 543/595 [50:06<02:03,  2.38s/it]"
     ]
    },
    {
     "name": "stdout",
     "output_type": "stream",
     "text": [
      "===== search term =====\n",
      "(Cogan lid twitchLid twitch[tiab] OR  Cogan eyelid twitch[tiab] OR  Eyelid twitch[tiab]) AND ( variat*[tiab] or SNP[tiab] or allele*[tiab] or mutat*[tiab] or polymorphism*[tiab] or haplotype*[tiab] or SNPs[tiab] or genotype[tiab] or gene[tiab] or chromosome[tiab] or deletion[tiab] or indel[tiab] or insertion[tiab] or substitution[tiab] or transition[tiab] or transversion[tiab] or translocation[tiab] or CNV[tiab] or copy number variation[tiab] or SV[tiab] or chromosome structure variation[tiab]) NOT review[pt] AND English[LA] AND (\"1980/01/01\"[DP] : \"2023/4/1\"[DP])\n",
      "Retrieved article numbers：0\n"
     ]
    },
    {
     "name": "stderr",
     "output_type": "stream",
     "text": [
      " 91%|█████████▏| 544/595 [50:11<02:41,  3.17s/it]"
     ]
    },
    {
     "name": "stdout",
     "output_type": "stream",
     "text": [
      "===== search term =====\n",
      "(Lid lag on downgaze[tiab] OR Lid lag[tiab] OR  Eyelid lag[tiab] OR  von Graefe sign[tiab]) AND ( variat*[tiab] or SNP[tiab] or allele*[tiab] or mutat*[tiab] or polymorphism*[tiab] or haplotype*[tiab] or SNPs[tiab] or genotype[tiab] or gene[tiab] or chromosome[tiab] or deletion[tiab] or indel[tiab] or insertion[tiab] or substitution[tiab] or transition[tiab] or transversion[tiab] or translocation[tiab] or CNV[tiab] or copy number variation[tiab] or SV[tiab] or chromosome structure variation[tiab]) NOT review[pt] AND English[LA] AND (\"1980/01/01\"[DP] : \"2023/4/1\"[DP])\n",
      "Retrieved article numbers：1\n"
     ]
    },
    {
     "name": "stderr",
     "output_type": "stream",
     "text": [
      " 92%|█████████▏| 545/595 [50:14<02:34,  3.10s/it]"
     ]
    },
    {
     "name": "stdout",
     "output_type": "stream",
     "text": [
      "===== search term =====\n",
      "(Eyelid fasciculation[tiab] OR Fasciculation of the eyelid[tiab] OR  Eyelid fluttering[tiab] OR  Muscle twitches in eyelid[tiab] OR  Muscle twitches in eye lid[tiab] OR  Twitching around eyes[tiab]) AND ( variat*[tiab] or SNP[tiab] or allele*[tiab] or mutat*[tiab] or polymorphism*[tiab] or haplotype*[tiab] or SNPs[tiab] or genotype[tiab] or gene[tiab] or chromosome[tiab] or deletion[tiab] or indel[tiab] or insertion[tiab] or substitution[tiab] or transition[tiab] or transversion[tiab] or translocation[tiab] or CNV[tiab] or copy number variation[tiab] or SV[tiab] or chromosome structure variation[tiab]) NOT review[pt] AND English[LA] AND (\"1980/01/01\"[DP] : \"2023/4/1\"[DP])\n",
      "Retrieved article numbers：6\n"
     ]
    },
    {
     "name": "stderr",
     "output_type": "stream",
     "text": [
      " 92%|█████████▏| 546/595 [50:16<02:23,  2.93s/it]"
     ]
    },
    {
     "name": "stdout",
     "output_type": "stream",
     "text": [
      "===== search term =====\n",
      "( Hypoplastic nasopharyngeal adenoids[tiab] OR Underdeveloped nasopharyngeal adenoids[tiab]) AND ( variat*[tiab] or SNP[tiab] or allele*[tiab] or mutat*[tiab] or polymorphism*[tiab] or haplotype*[tiab] or SNPs[tiab] or genotype[tiab] or gene[tiab] or chromosome[tiab] or deletion[tiab] or indel[tiab] or insertion[tiab] or substitution[tiab] or transition[tiab] or transversion[tiab] or translocation[tiab] or CNV[tiab] or copy number variation[tiab] or SV[tiab] or chromosome structure variation[tiab]) NOT review[pt] AND English[LA] AND (\"1980/01/01\"[DP] : \"2023/4/1\"[DP])\n",
      "Retrieved article numbers：3\n"
     ]
    },
    {
     "name": "stderr",
     "output_type": "stream",
     "text": [
      " 92%|█████████▏| 547/595 [50:18<02:09,  2.69s/it]"
     ]
    },
    {
     "name": "stdout",
     "output_type": "stream",
     "text": [
      "===== search term =====\n",
      "( Congenital facial diplegia[tiab] OR Congenital bilateral facial weakness[tiab] OR  Congenital bilateral facial palsy[tiab]) AND ( variat*[tiab] or SNP[tiab] or allele*[tiab] or mutat*[tiab] or polymorphism*[tiab] or haplotype*[tiab] or SNPs[tiab] or genotype[tiab] or gene[tiab] or chromosome[tiab] or deletion[tiab] or indel[tiab] or insertion[tiab] or substitution[tiab] or transition[tiab] or transversion[tiab] or translocation[tiab] or CNV[tiab] or copy number variation[tiab] or SV[tiab] or chromosome structure variation[tiab]) NOT review[pt] AND English[LA] AND (\"1980/01/01\"[DP] : \"2023/4/1\"[DP])\n",
      "Retrieved article numbers：0\n"
     ]
    },
    {
     "name": "stderr",
     "output_type": "stream",
     "text": [
      " 92%|█████████▏| 548/595 [50:21<02:04,  2.64s/it]"
     ]
    },
    {
     "name": "stdout",
     "output_type": "stream",
     "text": [
      "===== search term =====\n",
      "( Atrophy of masseter muscleAtrophied masseter muscle[tiab] OR  Masseter muscle atrophy[tiab]) AND ( variat*[tiab] or SNP[tiab] or allele*[tiab] or mutat*[tiab] or polymorphism*[tiab] or haplotype*[tiab] or SNPs[tiab] or genotype[tiab] or gene[tiab] or chromosome[tiab] or deletion[tiab] or indel[tiab] or insertion[tiab] or substitution[tiab] or transition[tiab] or transversion[tiab] or translocation[tiab] or CNV[tiab] or copy number variation[tiab] or SV[tiab] or chromosome structure variation[tiab]) NOT review[pt] AND English[LA] AND (\"1980/01/01\"[DP] : \"2023/4/1\"[DP])\n",
      "Retrieved article numbers：3\n"
     ]
    },
    {
     "name": "stderr",
     "output_type": "stream",
     "text": [
      " 92%|█████████▏| 549/595 [50:23<02:01,  2.64s/it]"
     ]
    },
    {
     "name": "stdout",
     "output_type": "stream",
     "text": [
      "===== search term =====\n",
      "(Absent eyelashes[tiab] OR  Absent eyelashes[tiab] OR  Agenesis of eyelashes[tiab] OR  Failure of development of eyelashes[tiab] OR  Atrichia of eyelashes[tiab] OR  Aplasia of eyelashes[tiab]) AND ( variat*[tiab] or SNP[tiab] or allele*[tiab] or mutat*[tiab] or polymorphism*[tiab] or haplotype*[tiab] or SNPs[tiab] or genotype[tiab] or gene[tiab] or chromosome[tiab] or deletion[tiab] or indel[tiab] or insertion[tiab] or substitution[tiab] or transition[tiab] or transversion[tiab] or translocation[tiab] or CNV[tiab] or copy number variation[tiab] or SV[tiab] or chromosome structure variation[tiab]) NOT review[pt] AND English[LA] AND (\"1980/01/01\"[DP] : \"2023/4/1\"[DP])\n",
      "Retrieved article numbers：1\n"
     ]
    },
    {
     "name": "stderr",
     "output_type": "stream",
     "text": [
      " 92%|█████████▏| 550/595 [50:27<02:11,  2.92s/it]"
     ]
    },
    {
     "name": "stdout",
     "output_type": "stream",
     "text": [
      "===== search term =====\n",
      "(Sparse eyelashes[tiab] OR  Sparse eyelashes[tiab] OR  Partial absence of eyelashes[tiab] OR  Scant eyelashes[tiab] OR  Scanty eyelashes[tiab] OR  Thin eyelashes[tiab] OR  Hypotrichosis of eyelashes[tiab]) AND ( variat*[tiab] or SNP[tiab] or allele*[tiab] or mutat*[tiab] or polymorphism*[tiab] or haplotype*[tiab] or SNPs[tiab] or genotype[tiab] or gene[tiab] or chromosome[tiab] or deletion[tiab] or indel[tiab] or insertion[tiab] or substitution[tiab] or transition[tiab] or transversion[tiab] or translocation[tiab] or CNV[tiab] or copy number variation[tiab] or SV[tiab] or chromosome structure variation[tiab]) NOT review[pt] AND English[LA] AND (\"1980/01/01\"[DP] : \"2023/4/1\"[DP])\n",
      "Retrieved article numbers：84\n"
     ]
    },
    {
     "name": "stderr",
     "output_type": "stream",
     "text": [
      " 93%|█████████▎| 551/595 [50:32<02:38,  3.60s/it]"
     ]
    },
    {
     "name": "stdout",
     "output_type": "stream",
     "text": [
      "===== search term =====\n",
      "(Sparse lower eyelashes[tiab] OR Sparse lower eyelashes[tiab] OR  Thin lower eyelashes[tiab] OR  Hypotrichosis of lower eyelashes[tiab] OR  Scanty lower eyelashes[tiab] OR  Partial absence of lower eyelashes[tiab]) AND ( variat*[tiab] or SNP[tiab] or allele*[tiab] or mutat*[tiab] or polymorphism*[tiab] or haplotype*[tiab] or SNPs[tiab] or genotype[tiab] or gene[tiab] or chromosome[tiab] or deletion[tiab] or indel[tiab] or insertion[tiab] or substitution[tiab] or transition[tiab] or transversion[tiab] or translocation[tiab] or CNV[tiab] or copy number variation[tiab] or SV[tiab] or chromosome structure variation[tiab]) NOT review[pt] AND English[LA] AND (\"1980/01/01\"[DP] : \"2023/4/1\"[DP])\n",
      "Retrieved article numbers：44\n"
     ]
    },
    {
     "name": "stderr",
     "output_type": "stream",
     "text": [
      " 93%|█████████▎| 552/595 [50:36<02:36,  3.65s/it]"
     ]
    },
    {
     "name": "stdout",
     "output_type": "stream",
     "text": [
      "===== search term =====\n",
      "(Short lower eyelashes[tiab] OR Decreased length of lower eyelashes[tiab] OR  Short lower eyelashes[tiab]) AND ( variat*[tiab] or SNP[tiab] or allele*[tiab] or mutat*[tiab] or polymorphism*[tiab] or haplotype*[tiab] or SNPs[tiab] or genotype[tiab] or gene[tiab] or chromosome[tiab] or deletion[tiab] or indel[tiab] or insertion[tiab] or substitution[tiab] or transition[tiab] or transversion[tiab] or translocation[tiab] or CNV[tiab] or copy number variation[tiab] or SV[tiab] or chromosome structure variation[tiab]) NOT review[pt] AND English[LA] AND (\"1980/01/01\"[DP] : \"2023/4/1\"[DP])\n",
      "Retrieved article numbers：1\n"
     ]
    },
    {
     "name": "stderr",
     "output_type": "stream",
     "text": [
      " 93%|█████████▎| 553/595 [50:39<02:22,  3.39s/it]"
     ]
    },
    {
     "name": "stdout",
     "output_type": "stream",
     "text": [
      "===== search term =====\n",
      "(Long lower eyelashes[tiab] OR Ciliary trichomegaly of lower eyelashes[tiab] OR  Long lower eyelashes[tiab] OR  Increased length of lower eyelashes[tiab]) AND ( variat*[tiab] or SNP[tiab] or allele*[tiab] or mutat*[tiab] or polymorphism*[tiab] or haplotype*[tiab] or SNPs[tiab] or genotype[tiab] or gene[tiab] or chromosome[tiab] or deletion[tiab] or indel[tiab] or insertion[tiab] or substitution[tiab] or transition[tiab] or transversion[tiab] or translocation[tiab] or CNV[tiab] or copy number variation[tiab] or SV[tiab] or chromosome structure variation[tiab]) NOT review[pt] AND English[LA] AND (\"1980/01/01\"[DP] : \"2023/4/1\"[DP])\n",
      "Retrieved article numbers：0\n"
     ]
    },
    {
     "name": "stderr",
     "output_type": "stream",
     "text": [
      " 93%|█████████▎| 554/595 [50:44<02:38,  3.86s/it]"
     ]
    },
    {
     "name": "stdout",
     "output_type": "stream",
     "text": [
      "===== search term =====\n",
      "(Long eyelashes in irregular rows[tiab] OR Long eyelashes in irregular rows[tiab]) AND ( variat*[tiab] or SNP[tiab] or allele*[tiab] or mutat*[tiab] or polymorphism*[tiab] or haplotype*[tiab] or SNPs[tiab] or genotype[tiab] or gene[tiab] or chromosome[tiab] or deletion[tiab] or indel[tiab] or insertion[tiab] or substitution[tiab] or transition[tiab] or transversion[tiab] or translocation[tiab] or CNV[tiab] or copy number variation[tiab] or SV[tiab] or chromosome structure variation[tiab]) NOT review[pt] AND English[LA] AND (\"1980/01/01\"[DP] : \"2023/4/1\"[DP])\n",
      "Retrieved article numbers：0\n"
     ]
    },
    {
     "name": "stderr",
     "output_type": "stream",
     "text": [
      " 93%|█████████▎| 555/595 [50:46<02:12,  3.31s/it]"
     ]
    },
    {
     "name": "stdout",
     "output_type": "stream",
     "text": [
      "===== search term =====\n",
      "(Long upper eyelashes[tiab] OR Long upper eyelashes[tiab] OR  Increased length of upper eyelashes[tiab] OR  Ciliary trichomegaly of upper eyelashes[tiab]) AND ( variat*[tiab] or SNP[tiab] or allele*[tiab] or mutat*[tiab] or polymorphism*[tiab] or haplotype*[tiab] or SNPs[tiab] or genotype[tiab] or gene[tiab] or chromosome[tiab] or deletion[tiab] or indel[tiab] or insertion[tiab] or substitution[tiab] or transition[tiab] or transversion[tiab] or translocation[tiab] or CNV[tiab] or copy number variation[tiab] or SV[tiab] or chromosome structure variation[tiab]) NOT review[pt] AND English[LA] AND (\"1980/01/01\"[DP] : \"2023/4/1\"[DP])\n",
      "Retrieved article numbers：0\n"
     ]
    },
    {
     "name": "stderr",
     "output_type": "stream",
     "text": [
      " 93%|█████████▎| 556/595 [50:48<02:00,  3.08s/it]"
     ]
    },
    {
     "name": "stdout",
     "output_type": "stream",
     "text": [
      "===== search term =====\n",
      "(Sparse upper eyelashes[tiab] OR Partial absence of upper eyelashes[tiab] OR  Sparse upper eyelashes[tiab] OR  Hypotrichosis of upper eyelashes[tiab]) AND ( variat*[tiab] or SNP[tiab] or allele*[tiab] or mutat*[tiab] or polymorphism*[tiab] or haplotype*[tiab] or SNPs[tiab] or genotype[tiab] or gene[tiab] or chromosome[tiab] or deletion[tiab] or indel[tiab] or insertion[tiab] or substitution[tiab] or transition[tiab] or transversion[tiab] or translocation[tiab] or CNV[tiab] or copy number variation[tiab] or SV[tiab] or chromosome structure variation[tiab]) NOT review[pt] AND English[LA] AND (\"1980/01/01\"[DP] : \"2023/4/1\"[DP])\n",
      "Retrieved article numbers：1\n"
     ]
    },
    {
     "name": "stderr",
     "output_type": "stream",
     "text": [
      " 94%|█████████▎| 557/595 [50:51<01:52,  2.97s/it]"
     ]
    },
    {
     "name": "stdout",
     "output_type": "stream",
     "text": [
      "===== search term =====\n",
      "(Short upper eyelashes[tiab] OR Decreased length of upper eyelashes[tiab] OR  Short upper eyelashes[tiab]) AND ( variat*[tiab] or SNP[tiab] or allele*[tiab] or mutat*[tiab] or polymorphism*[tiab] or haplotype*[tiab] or SNPs[tiab] or genotype[tiab] or gene[tiab] or chromosome[tiab] or deletion[tiab] or indel[tiab] or insertion[tiab] or substitution[tiab] or transition[tiab] or transversion[tiab] or translocation[tiab] or CNV[tiab] or copy number variation[tiab] or SV[tiab] or chromosome structure variation[tiab]) NOT review[pt] AND English[LA] AND (\"1980/01/01\"[DP] : \"2023/4/1\"[DP])\n",
      "Retrieved article numbers：0\n"
     ]
    },
    {
     "name": "stderr",
     "output_type": "stream",
     "text": [
      " 94%|█████████▍| 558/595 [50:53<01:41,  2.75s/it]"
     ]
    },
    {
     "name": "stdout",
     "output_type": "stream",
     "text": [
      "===== search term =====\n",
      "(Distichiasis[tiab] OR Distichiasis of eyelid eyelashes[tiab]) AND ( variat*[tiab] or SNP[tiab] or allele*[tiab] or mutat*[tiab] or polymorphism*[tiab] or haplotype*[tiab] or SNPs[tiab] or genotype[tiab] or gene[tiab] or chromosome[tiab] or deletion[tiab] or indel[tiab] or insertion[tiab] or substitution[tiab] or transition[tiab] or transversion[tiab] or translocation[tiab] or CNV[tiab] or copy number variation[tiab] or SV[tiab] or chromosome structure variation[tiab]) NOT review[pt] AND English[LA] AND (\"1980/01/01\"[DP] : \"2023/4/1\"[DP])\n",
      "Retrieved article numbers：1\n"
     ]
    },
    {
     "name": "stderr",
     "output_type": "stream",
     "text": [
      " 94%|█████████▍| 559/595 [50:56<01:45,  2.94s/it]"
     ]
    },
    {
     "name": "stdout",
     "output_type": "stream",
     "text": [
      "===== search term =====\n",
      "(Three rows of eyelashes[tiab] OR Triple row of eyelashes[tiab] OR  Three rows of eyelashes[tiab]) AND ( variat*[tiab] or SNP[tiab] or allele*[tiab] or mutat*[tiab] or polymorphism*[tiab] or haplotype*[tiab] or SNPs[tiab] or genotype[tiab] or gene[tiab] or chromosome[tiab] or deletion[tiab] or indel[tiab] or insertion[tiab] or substitution[tiab] or transition[tiab] or transversion[tiab] or translocation[tiab] or CNV[tiab] or copy number variation[tiab] or SV[tiab] or chromosome structure variation[tiab]) NOT review[pt] AND English[LA] AND (\"1980/01/01\"[DP] : \"2023/4/1\"[DP])\n",
      "Retrieved article numbers：82\n"
     ]
    },
    {
     "name": "stderr",
     "output_type": "stream",
     "text": [
      " 94%|█████████▍| 560/595 [50:59<01:40,  2.86s/it]"
     ]
    },
    {
     "name": "stdout",
     "output_type": "stream",
     "text": [
      "===== search term =====\n",
      "(Blepharophimosis[tiab] OR  Decreased width of palpebral fissure[tiab] OR  Narrow opening between the eyelids[tiab]) AND ( variat*[tiab] or SNP[tiab] or allele*[tiab] or mutat*[tiab] or polymorphism*[tiab] or haplotype*[tiab] or SNPs[tiab] or genotype[tiab] or gene[tiab] or chromosome[tiab] or deletion[tiab] or indel[tiab] or insertion[tiab] or substitution[tiab] or transition[tiab] or transversion[tiab] or translocation[tiab] or CNV[tiab] or copy number variation[tiab] or SV[tiab] or chromosome structure variation[tiab]) NOT review[pt] AND English[LA] AND (\"1980/01/01\"[DP] : \"2023/4/1\"[DP])\n",
      "Retrieved article numbers：1\n"
     ]
    },
    {
     "name": "stderr",
     "output_type": "stream",
     "text": [
      " 94%|█████████▍| 561/595 [51:02<01:38,  2.91s/it]"
     ]
    },
    {
     "name": "stdout",
     "output_type": "stream",
     "text": [
      "===== search term =====\n",
      "(Long palpebral fissure[tiab] OR Broad opening between the eyelids[tiab] OR  Wide palpebral fissure[tiab] OR  Wide opening between the eyelids[tiab] OR  Long opening between the eyelids[tiab] OR  Broad palpebral fissure[tiab] OR  Wide palpebral fissures[tiab] OR  Long palpebral fissures[tiab]) AND ( variat*[tiab] or SNP[tiab] or allele*[tiab] or mutat*[tiab] or polymorphism*[tiab] or haplotype*[tiab] or SNPs[tiab] or genotype[tiab] or gene[tiab] or chromosome[tiab] or deletion[tiab] or indel[tiab] or insertion[tiab] or substitution[tiab] or transition[tiab] or transversion[tiab] or translocation[tiab] or CNV[tiab] or copy number variation[tiab] or SV[tiab] or chromosome structure variation[tiab]) NOT review[pt] AND English[LA] AND (\"1980/01/01\"[DP] : \"2023/4/1\"[DP])\n",
      "Retrieved article numbers：297\n"
     ]
    },
    {
     "name": "stderr",
     "output_type": "stream",
     "text": [
      " 94%|█████████▍| 562/595 [51:05<01:37,  2.94s/it]"
     ]
    },
    {
     "name": "stdout",
     "output_type": "stream",
     "text": [
      "===== search term =====\n",
      "(Short palpebral fissure[tiab] OR Decreased height of palpebral fissure[tiab] OR  Short palpebral fissures[tiab] OR  Short opening between the eyelids[tiab]) AND ( variat*[tiab] or SNP[tiab] or allele*[tiab] or mutat*[tiab] or polymorphism*[tiab] or haplotype*[tiab] or SNPs[tiab] or genotype[tiab] or gene[tiab] or chromosome[tiab] or deletion[tiab] or indel[tiab] or insertion[tiab] or substitution[tiab] or transition[tiab] or transversion[tiab] or translocation[tiab] or CNV[tiab] or copy number variation[tiab] or SV[tiab] or chromosome structure variation[tiab]) NOT review[pt] AND English[LA] AND (\"1980/01/01\"[DP] : \"2023/4/1\"[DP])\n",
      "Retrieved article numbers：36\n"
     ]
    },
    {
     "name": "stderr",
     "output_type": "stream",
     "text": [
      " 95%|█████████▍| 563/595 [51:08<01:35,  3.00s/it]"
     ]
    },
    {
     "name": "stdout",
     "output_type": "stream",
     "text": [
      "===== search term =====\n",
      "(Narrow palpebral fissure[tiab] OR Small opening between the eyelids[tiab] OR  Decreased size of palpebral fissure[tiab] OR  Small palpebral fissures[tiab] OR  Narrow eyelid opening[tiab] OR  Narrow palpebral fissures[tiab]) AND ( variat*[tiab] or SNP[tiab] or allele*[tiab] or mutat*[tiab] or polymorphism*[tiab] or haplotype*[tiab] or SNPs[tiab] or genotype[tiab] or gene[tiab] or chromosome[tiab] or deletion[tiab] or indel[tiab] or insertion[tiab] or substitution[tiab] or transition[tiab] or transversion[tiab] or translocation[tiab] or CNV[tiab] or copy number variation[tiab] or SV[tiab] or chromosome structure variation[tiab]) NOT review[pt] AND English[LA] AND (\"1980/01/01\"[DP] : \"2023/4/1\"[DP])\n",
      "Retrieved article numbers：66\n"
     ]
    },
    {
     "name": "stderr",
     "output_type": "stream",
     "text": [
      " 95%|█████████▍| 564/595 [51:13<01:45,  3.39s/it]"
     ]
    },
    {
     "name": "stdout",
     "output_type": "stream",
     "text": [
      "===== search term =====\n",
      "(Almond-shaped palpebral fissure[tiab] OR Almond-shaped opening between the eyelids[tiab] OR  Almond shaped eyes[tiab]) AND ( variat*[tiab] or SNP[tiab] or allele*[tiab] or mutat*[tiab] or polymorphism*[tiab] or haplotype*[tiab] or SNPs[tiab] or genotype[tiab] or gene[tiab] or chromosome[tiab] or deletion[tiab] or indel[tiab] or insertion[tiab] or substitution[tiab] or transition[tiab] or transversion[tiab] or translocation[tiab] or CNV[tiab] or copy number variation[tiab] or SV[tiab] or chromosome structure variation[tiab]) NOT review[pt] AND English[LA] AND (\"1980/01/01\"[DP] : \"2023/4/1\"[DP])\n",
      "Retrieved article numbers：66\n"
     ]
    },
    {
     "name": "stderr",
     "output_type": "stream",
     "text": [
      " 95%|█████████▍| 565/595 [51:15<01:32,  3.09s/it]"
     ]
    },
    {
     "name": "stdout",
     "output_type": "stream",
     "text": [
      "===== search term =====\n",
      "(S-shaped palpebral fissures[tiab] OR S-shaped opening between the eyelids[tiab] OR  S-shaped eyes[tiab]) AND ( variat*[tiab] or SNP[tiab] or allele*[tiab] or mutat*[tiab] or polymorphism*[tiab] or haplotype*[tiab] or SNPs[tiab] or genotype[tiab] or gene[tiab] or chromosome[tiab] or deletion[tiab] or indel[tiab] or insertion[tiab] or substitution[tiab] or transition[tiab] or transversion[tiab] or translocation[tiab] or CNV[tiab] or copy number variation[tiab] or SV[tiab] or chromosome structure variation[tiab]) NOT review[pt] AND English[LA] AND (\"1980/01/01\"[DP] : \"2023/4/1\"[DP])\n",
      "Retrieved article numbers：16\n"
     ]
    },
    {
     "name": "stderr",
     "output_type": "stream",
     "text": [
      " 95%|█████████▌| 566/595 [51:18<01:30,  3.12s/it]"
     ]
    },
    {
     "name": "stdout",
     "output_type": "stream",
     "text": [
      "===== search term =====\n",
      "(Downslanted palpebral fissures[tiab] OR Downslanting palpebral fissures[tiab] OR  Down slanting palpebral fissures[tiab] OR  Downward-slanting palpebral fissures[tiab] OR  Antimongoloid eye slant[tiab] OR  Down-slanting palpebral fissure[tiab] OR  Palpebral fissures down-slanted[tiab] OR  Antimongoloid slanted palpebral fissures[tiab] OR  Downward slanted palpebral fissures[tiab] OR  Downward slanting palpebral fissures[tiab] OR  Antimongoloid slant of palpebral fissures[tiab] OR  Downslanting palpebral fissure[tiab] OR  Downward slanting of the opening between the eyelids[tiab] OR  Down-slanting palpebral fissures[tiab] OR  Down-slanted palpebral fissures[tiab]) AND ( variat*[tiab] or SNP[tiab] or allele*[tiab] or mutat*[tiab] or polymorphism*[tiab] or haplotype*[tiab] or SNPs[tiab] or genotype[tiab] or gene[tiab] or chromosome[tiab] or deletion[tiab] or indel[tiab] or insertion[tiab] or substitution[tiab] or transition[tiab] or transversion[tiab] or translocation[tiab] or CNV[tiab] or copy number variation[tiab] or SV[tiab] or chromosome structure variation[tiab]) NOT review[pt] AND English[LA] AND (\"1980/01/01\"[DP] : \"2023/4/1\"[DP])\n",
      "Retrieved article numbers：2\n"
     ]
    },
    {
     "name": "stderr",
     "output_type": "stream",
     "text": [
      " 95%|█████████▌| 567/595 [51:22<01:32,  3.29s/it]"
     ]
    },
    {
     "name": "stdout",
     "output_type": "stream",
     "text": [
      "===== search term =====\n",
      "(Upslanted palpebral fissure[tiab] OR Upward slanting of the opening between the eyelids[tiab] OR  Upward slanting of palpebral fissures[tiab] OR  Mongoloid slant[tiab] OR  Upward slanting palpebral fissures[tiab] OR  Upward slanted palpebral fissures[tiab] OR  Upslanting palpebral fissures[tiab] OR  Upslanted palpebral fissures[tiab]) AND ( variat*[tiab] or SNP[tiab] or allele*[tiab] or mutat*[tiab] or polymorphism*[tiab] or haplotype*[tiab] or SNPs[tiab] or genotype[tiab] or gene[tiab] or chromosome[tiab] or deletion[tiab] or indel[tiab] or insertion[tiab] or substitution[tiab] or transition[tiab] or transversion[tiab] or translocation[tiab] or CNV[tiab] or copy number variation[tiab] or SV[tiab] or chromosome structure variation[tiab]) NOT review[pt] AND English[LA] AND (\"1980/01/01\"[DP] : \"2023/4/1\"[DP])\n",
      "Retrieved article numbers：215\n"
     ]
    },
    {
     "name": "stderr",
     "output_type": "stream",
     "text": [
      " 95%|█████████▌| 568/595 [51:27<01:39,  3.69s/it]"
     ]
    },
    {
     "name": "stdout",
     "output_type": "stream",
     "text": [
      "===== search term =====\n",
      "(Hypoplasia of the upper eyelids[tiab] OR Small upper eyelid[tiab] OR  Underdevelopment of upper eyelid[tiab] OR  Decreased size of upper eyelid[tiab] OR  Hypotrophic upper eyelid[tiab] OR  Short upper eyelid[tiab]) AND ( variat*[tiab] or SNP[tiab] or allele*[tiab] or mutat*[tiab] or polymorphism*[tiab] or haplotype*[tiab] or SNPs[tiab] or genotype[tiab] or gene[tiab] or chromosome[tiab] or deletion[tiab] or indel[tiab] or insertion[tiab] or substitution[tiab] or transition[tiab] or transversion[tiab] or translocation[tiab] or CNV[tiab] or copy number variation[tiab] or SV[tiab] or chromosome structure variation[tiab]) NOT review[pt] AND English[LA] AND (\"1980/01/01\"[DP] : \"2023/4/1\"[DP])\n",
      "Retrieved article numbers：95\n"
     ]
    },
    {
     "name": "stderr",
     "output_type": "stream",
     "text": [
      " 96%|█████████▌| 569/595 [51:29<01:26,  3.32s/it]"
     ]
    },
    {
     "name": "stdout",
     "output_type": "stream",
     "text": [
      "===== search term =====\n",
      "(Hypoplasia of the lower eyelids[tiab] OR Decreased size of lower eyelid[tiab] OR  Hypotrophic lower eyelid[tiab] OR  Short lower eyelid[tiab] OR  Small lower eyelid[tiab] OR  Underdevelopment of lower eyelid[tiab]) AND ( variat*[tiab] or SNP[tiab] or allele*[tiab] or mutat*[tiab] or polymorphism*[tiab] or haplotype*[tiab] or SNPs[tiab] or genotype[tiab] or gene[tiab] or chromosome[tiab] or deletion[tiab] or indel[tiab] or insertion[tiab] or substitution[tiab] or transition[tiab] or transversion[tiab] or translocation[tiab] or CNV[tiab] or copy number variation[tiab] or SV[tiab] or chromosome structure variation[tiab]) NOT review[pt] AND English[LA] AND (\"1980/01/01\"[DP] : \"2023/4/1\"[DP])\n",
      "Retrieved article numbers：41\n"
     ]
    },
    {
     "name": "stderr",
     "output_type": "stream",
     "text": [
      " 96%|█████████▌| 570/595 [51:32<01:17,  3.09s/it]"
     ]
    },
    {
     "name": "stdout",
     "output_type": "stream",
     "text": [
      "===== search term =====\n",
      "(Upper eyelid coloboma[tiab] OR Coloboma of the upper eyelid[tiab] OR  Cleft upper eyelid[tiab] OR  Upper eyelid colobomas[tiab] OR  Full thickness defect of the upper eyelid[tiab] OR  Notched upper eyelid[tiab]) AND ( variat*[tiab] or SNP[tiab] or allele*[tiab] or mutat*[tiab] or polymorphism*[tiab] or haplotype*[tiab] or SNPs[tiab] or genotype[tiab] or gene[tiab] or chromosome[tiab] or deletion[tiab] or indel[tiab] or insertion[tiab] or substitution[tiab] or transition[tiab] or transversion[tiab] or translocation[tiab] or CNV[tiab] or copy number variation[tiab] or SV[tiab] or chromosome structure variation[tiab]) NOT review[pt] AND English[LA] AND (\"1980/01/01\"[DP] : \"2023/4/1\"[DP])\n",
      "Retrieved article numbers：39\n"
     ]
    },
    {
     "name": "stderr",
     "output_type": "stream",
     "text": [
      " 96%|█████████▌| 571/595 [51:33<01:05,  2.74s/it]"
     ]
    },
    {
     "name": "stdout",
     "output_type": "stream",
     "text": [
      "===== search term =====\n",
      "(Lower eyelid coloboma[tiab] OR Coloboma of lower eyelid[tiab] OR  Notched lower eyelid[tiab] OR  Cleft lower eyelid[tiab] OR  Lower lid coloboma[tiab] OR  Full thickness defect of the lower eyelid[tiab]) AND ( variat*[tiab] or SNP[tiab] or allele*[tiab] or mutat*[tiab] or polymorphism*[tiab] or haplotype*[tiab] or SNPs[tiab] or genotype[tiab] or gene[tiab] or chromosome[tiab] or deletion[tiab] or indel[tiab] or insertion[tiab] or substitution[tiab] or transition[tiab] or transversion[tiab] or translocation[tiab] or CNV[tiab] or copy number variation[tiab] or SV[tiab] or chromosome structure variation[tiab]) NOT review[pt] AND English[LA] AND (\"1980/01/01\"[DP] : \"2023/4/1\"[DP])\n",
      "Retrieved article numbers：12\n"
     ]
    },
    {
     "name": "stderr",
     "output_type": "stream",
     "text": [
      " 96%|█████████▌| 572/595 [51:36<01:01,  2.68s/it]"
     ]
    },
    {
     "name": "stdout",
     "output_type": "stream",
     "text": [
      "===== search term =====\n",
      "(Hordeolum internum[tiab]) AND ( variat*[tiab] or SNP[tiab] or allele*[tiab] or mutat*[tiab] or polymorphism*[tiab] or haplotype*[tiab] or SNPs[tiab] or genotype[tiab] or gene[tiab] or chromosome[tiab] or deletion[tiab] or indel[tiab] or insertion[tiab] or substitution[tiab] or transition[tiab] or transversion[tiab] or translocation[tiab] or CNV[tiab] or copy number variation[tiab] or SV[tiab] or chromosome structure variation[tiab]) NOT review[pt] AND English[LA] AND (\"1980/01/01\"[DP] : \"2023/4/1\"[DP])\n",
      "Retrieved article numbers：10\n"
     ]
    },
    {
     "name": "stderr",
     "output_type": "stream",
     "text": [
      " 96%|█████████▋| 573/595 [51:38<00:54,  2.47s/it]"
     ]
    },
    {
     "name": "stdout",
     "output_type": "stream",
     "text": [
      "===== search term =====\n",
      "(Hordeolum externum[tiab]) AND ( variat*[tiab] or SNP[tiab] or allele*[tiab] or mutat*[tiab] or polymorphism*[tiab] or haplotype*[tiab] or SNPs[tiab] or genotype[tiab] or gene[tiab] or chromosome[tiab] or deletion[tiab] or indel[tiab] or insertion[tiab] or substitution[tiab] or transition[tiab] or transversion[tiab] or translocation[tiab] or CNV[tiab] or copy number variation[tiab] or SV[tiab] or chromosome structure variation[tiab]) NOT review[pt] AND English[LA] AND (\"1980/01/01\"[DP] : \"2023/4/1\"[DP])\n",
      "Retrieved article numbers：0\n"
     ]
    },
    {
     "name": "stderr",
     "output_type": "stream",
     "text": [
      " 96%|█████████▋| 574/595 [51:41<00:57,  2.74s/it]"
     ]
    },
    {
     "name": "stdout",
     "output_type": "stream",
     "text": [
      "===== search term =====\n",
      "(ChalazionMeibomian gland lipogranuloma[tiab]) AND ( variat*[tiab] or SNP[tiab] or allele*[tiab] or mutat*[tiab] or polymorphism*[tiab] or haplotype*[tiab] or SNPs[tiab] or genotype[tiab] or gene[tiab] or chromosome[tiab] or deletion[tiab] or indel[tiab] or insertion[tiab] or substitution[tiab] or transition[tiab] or transversion[tiab] or translocation[tiab] or CNV[tiab] or copy number variation[tiab] or SV[tiab] or chromosome structure variation[tiab]) NOT review[pt] AND English[LA] AND (\"1980/01/01\"[DP] : \"2023/4/1\"[DP])\n",
      "Retrieved article numbers：0\n"
     ]
    },
    {
     "name": "stderr",
     "output_type": "stream",
     "text": [
      " 97%|█████████▋| 575/595 [51:43<00:49,  2.48s/it]"
     ]
    },
    {
     "name": "stdout",
     "output_type": "stream",
     "text": [
      "===== search term =====\n",
      "( Seborrhoeic blepharitis[tiab]) AND ( variat*[tiab] or SNP[tiab] or allele*[tiab] or mutat*[tiab] or polymorphism*[tiab] or haplotype*[tiab] or SNPs[tiab] or genotype[tiab] or gene[tiab] or chromosome[tiab] or deletion[tiab] or indel[tiab] or insertion[tiab] or substitution[tiab] or transition[tiab] or transversion[tiab] or translocation[tiab] or CNV[tiab] or copy number variation[tiab] or SV[tiab] or chromosome structure variation[tiab]) NOT review[pt] AND English[LA] AND (\"1980/01/01\"[DP] : \"2023/4/1\"[DP])\n",
      "Retrieved article numbers：0\n"
     ]
    },
    {
     "name": "stderr",
     "output_type": "stream",
     "text": [
      " 97%|█████████▋| 576/595 [51:46<00:47,  2.50s/it]"
     ]
    },
    {
     "name": "stdout",
     "output_type": "stream",
     "text": [
      "===== search term =====\n",
      "( Collier's sign[tiab]) AND ( variat*[tiab] or SNP[tiab] or allele*[tiab] or mutat*[tiab] or polymorphism*[tiab] or haplotype*[tiab] or SNPs[tiab] or genotype[tiab] or gene[tiab] or chromosome[tiab] or deletion[tiab] or indel[tiab] or insertion[tiab] or substitution[tiab] or transition[tiab] or transversion[tiab] or translocation[tiab] or CNV[tiab] or copy number variation[tiab] or SV[tiab] or chromosome structure variation[tiab]) NOT review[pt] AND English[LA] AND (\"1980/01/01\"[DP] : \"2023/4/1\"[DP])\n",
      "Retrieved article numbers：0\n"
     ]
    },
    {
     "name": "stderr",
     "output_type": "stream",
     "text": [
      " 97%|█████████▋| 577/595 [51:48<00:41,  2.30s/it]"
     ]
    },
    {
     "name": "stdout",
     "output_type": "stream",
     "text": [
      "===== search term =====\n",
      "( Keratoconjunctivitis sicca[tiab] OR Xerophthalmia[tiab] OR  Dry eye syndrome[tiab] OR  Dry eyes[tiab] OR  Keratitis sicca[tiab]) AND ( variat*[tiab] or SNP[tiab] or allele*[tiab] or mutat*[tiab] or polymorphism*[tiab] or haplotype*[tiab] or SNPs[tiab] or genotype[tiab] or gene[tiab] or chromosome[tiab] or deletion[tiab] or indel[tiab] or insertion[tiab] or substitution[tiab] or transition[tiab] or transversion[tiab] or translocation[tiab] or CNV[tiab] or copy number variation[tiab] or SV[tiab] or chromosome structure variation[tiab]) NOT review[pt] AND English[LA] AND (\"1980/01/01\"[DP] : \"2023/4/1\"[DP])\n",
      "Retrieved article numbers：0\n"
     ]
    },
    {
     "name": "stderr",
     "output_type": "stream",
     "text": [
      " 97%|█████████▋| 578/595 [51:50<00:39,  2.33s/it]"
     ]
    },
    {
     "name": "stdout",
     "output_type": "stream",
     "text": [
      "===== search term =====\n",
      "( Dermolipoma of the conjunctiva[tiab] OR Conjunctival lipodermoid[tiab]) AND ( variat*[tiab] or SNP[tiab] or allele*[tiab] or mutat*[tiab] or polymorphism*[tiab] or haplotype*[tiab] or SNPs[tiab] or genotype[tiab] or gene[tiab] or chromosome[tiab] or deletion[tiab] or indel[tiab] or insertion[tiab] or substitution[tiab] or transition[tiab] or transversion[tiab] or translocation[tiab] or CNV[tiab] or copy number variation[tiab] or SV[tiab] or chromosome structure variation[tiab]) NOT review[pt] AND English[LA] AND (\"1980/01/01\"[DP] : \"2023/4/1\"[DP])\n",
      "Retrieved article numbers：244\n"
     ]
    },
    {
     "name": "stderr",
     "output_type": "stream",
     "text": [
      " 97%|█████████▋| 579/595 [51:52<00:35,  2.21s/it]"
     ]
    },
    {
     "name": "stdout",
     "output_type": "stream",
     "text": [
      "===== search term =====\n",
      "(Lacrimal duct stenosis[tiab] OR Narrowing of the tear duct[tiab] OR  Nasolacrimal duct stenosis[tiab]) AND ( variat*[tiab] or SNP[tiab] or allele*[tiab] or mutat*[tiab] or polymorphism*[tiab] or haplotype*[tiab] or SNPs[tiab] or genotype[tiab] or gene[tiab] or chromosome[tiab] or deletion[tiab] or indel[tiab] or insertion[tiab] or substitution[tiab] or transition[tiab] or transversion[tiab] or translocation[tiab] or CNV[tiab] or copy number variation[tiab] or SV[tiab] or chromosome structure variation[tiab]) NOT review[pt] AND English[LA] AND (\"1980/01/01\"[DP] : \"2023/4/1\"[DP])\n",
      "Retrieved article numbers：2\n"
     ]
    },
    {
     "name": "stderr",
     "output_type": "stream",
     "text": [
      " 97%|█████████▋| 580/595 [51:54<00:32,  2.19s/it]"
     ]
    },
    {
     "name": "stdout",
     "output_type": "stream",
     "text": [
      "===== search term =====\n",
      "(Delayed canalization of nasolacrimal duct[tiab]) AND ( variat*[tiab] or SNP[tiab] or allele*[tiab] or mutat*[tiab] or polymorphism*[tiab] or haplotype*[tiab] or SNPs[tiab] or genotype[tiab] or gene[tiab] or chromosome[tiab] or deletion[tiab] or indel[tiab] or insertion[tiab] or substitution[tiab] or transition[tiab] or transversion[tiab] or translocation[tiab] or CNV[tiab] or copy number variation[tiab] or SV[tiab] or chromosome structure variation[tiab]) NOT review[pt] AND English[LA] AND (\"1980/01/01\"[DP] : \"2023/4/1\"[DP])\n",
      "Retrieved article numbers：15\n"
     ]
    },
    {
     "name": "stderr",
     "output_type": "stream",
     "text": [
      " 98%|█████████▊| 581/595 [51:57<00:32,  2.35s/it]"
     ]
    },
    {
     "name": "stdout",
     "output_type": "stream",
     "text": [
      "===== search term =====\n",
      "(Dacryocystocele Timo cyst[tiab]) AND ( variat*[tiab] or SNP[tiab] or allele*[tiab] or mutat*[tiab] or polymorphism*[tiab] or haplotype*[tiab] or SNPs[tiab] or genotype[tiab] or gene[tiab] or chromosome[tiab] or deletion[tiab] or indel[tiab] or insertion[tiab] or substitution[tiab] or transition[tiab] or transversion[tiab] or translocation[tiab] or CNV[tiab] or copy number variation[tiab] or SV[tiab] or chromosome structure variation[tiab]) NOT review[pt] AND English[LA] AND (\"1980/01/01\"[DP] : \"2023/4/1\"[DP])\n",
      "Retrieved article numbers：0\n"
     ]
    },
    {
     "name": "stderr",
     "output_type": "stream",
     "text": [
      " 98%|█████████▊| 582/595 [51:59<00:29,  2.26s/it]"
     ]
    },
    {
     "name": "stdout",
     "output_type": "stream",
     "text": [
      "===== search term =====\n",
      "( Nasolacrimal sac granuloma[tiab]) AND ( variat*[tiab] or SNP[tiab] or allele*[tiab] or mutat*[tiab] or polymorphism*[tiab] or haplotype*[tiab] or SNPs[tiab] or genotype[tiab] or gene[tiab] or chromosome[tiab] or deletion[tiab] or indel[tiab] or insertion[tiab] or substitution[tiab] or transition[tiab] or transversion[tiab] or translocation[tiab] or CNV[tiab] or copy number variation[tiab] or SV[tiab] or chromosome structure variation[tiab]) NOT review[pt] AND English[LA] AND (\"1980/01/01\"[DP] : \"2023/4/1\"[DP])\n",
      "Retrieved article numbers：0\n"
     ]
    },
    {
     "name": "stderr",
     "output_type": "stream",
     "text": [
      " 98%|█████████▊| 583/595 [52:01<00:25,  2.16s/it]"
     ]
    },
    {
     "name": "stdout",
     "output_type": "stream",
     "text": [
      "===== search term =====\n",
      "(Lacrimal gland aplasia[tiab] OR Absent tear gland[tiab]) AND ( variat*[tiab] or SNP[tiab] or allele*[tiab] or mutat*[tiab] or polymorphism*[tiab] or haplotype*[tiab] or SNPs[tiab] or genotype[tiab] or gene[tiab] or chromosome[tiab] or deletion[tiab] or indel[tiab] or insertion[tiab] or substitution[tiab] or transition[tiab] or transversion[tiab] or translocation[tiab] or CNV[tiab] or copy number variation[tiab] or SV[tiab] or chromosome structure variation[tiab]) NOT review[pt] AND English[LA] AND (\"1980/01/01\"[DP] : \"2023/4/1\"[DP])\n",
      "Retrieved article numbers：2\n"
     ]
    },
    {
     "name": "stderr",
     "output_type": "stream",
     "text": [
      " 98%|█████████▊| 584/595 [52:03<00:24,  2.19s/it]"
     ]
    },
    {
     "name": "stdout",
     "output_type": "stream",
     "text": [
      "===== search term =====\n",
      "(Lacrimal gland hypoplasia[tiab] OR Underdeveloped tear gland[tiab] OR  Hypoplastic lacrimal gland[tiab]) AND ( variat*[tiab] or SNP[tiab] or allele*[tiab] or mutat*[tiab] or polymorphism*[tiab] or haplotype*[tiab] or SNPs[tiab] or genotype[tiab] or gene[tiab] or chromosome[tiab] or deletion[tiab] or indel[tiab] or insertion[tiab] or substitution[tiab] or transition[tiab] or transversion[tiab] or translocation[tiab] or CNV[tiab] or copy number variation[tiab] or SV[tiab] or chromosome structure variation[tiab]) NOT review[pt] AND English[LA] AND (\"1980/01/01\"[DP] : \"2023/4/1\"[DP])\n",
      "Retrieved article numbers：0\n"
     ]
    },
    {
     "name": "stderr",
     "output_type": "stream",
     "text": [
      " 98%|█████████▊| 585/595 [52:05<00:20,  2.07s/it]"
     ]
    },
    {
     "name": "stdout",
     "output_type": "stream",
     "text": [
      "===== search term =====\n",
      "(Sparse lateral eyebrow[tiab] OR Limited hair on end of eyebrow[tiab] OR  Laterally sparse eyebrow[tiab] OR  Lateral hypoplasia of eyebrows[tiab] OR  Lateral thinning of eyebrows[tiab] OR  Laterally sparse eyebrows[tiab] OR  Sparse lateral eyebrows[tiab]) AND ( variat*[tiab] or SNP[tiab] or allele*[tiab] or mutat*[tiab] or polymorphism*[tiab] or haplotype*[tiab] or SNPs[tiab] or genotype[tiab] or gene[tiab] or chromosome[tiab] or deletion[tiab] or indel[tiab] or insertion[tiab] or substitution[tiab] or transition[tiab] or transversion[tiab] or translocation[tiab] or CNV[tiab] or copy number variation[tiab] or SV[tiab] or chromosome structure variation[tiab]) NOT review[pt] AND English[LA] AND (\"1980/01/01\"[DP] : \"2023/4/1\"[DP])\n",
      "Retrieved article numbers：1\n"
     ]
    },
    {
     "name": "stderr",
     "output_type": "stream",
     "text": [
      " 98%|█████████▊| 586/595 [52:07<00:18,  2.06s/it]"
     ]
    },
    {
     "name": "stdout",
     "output_type": "stream",
     "text": [
      "===== search term =====\n",
      "(Sparse medial eyebrow[tiab] OR Medial thinning of eyebrow[tiab]) AND ( variat*[tiab] or SNP[tiab] or allele*[tiab] or mutat*[tiab] or polymorphism*[tiab] or haplotype*[tiab] or SNPs[tiab] or genotype[tiab] or gene[tiab] or chromosome[tiab] or deletion[tiab] or indel[tiab] or insertion[tiab] or substitution[tiab] or transition[tiab] or transversion[tiab] or translocation[tiab] or CNV[tiab] or copy number variation[tiab] or SV[tiab] or chromosome structure variation[tiab]) NOT review[pt] AND English[LA] AND (\"1980/01/01\"[DP] : \"2023/4/1\"[DP])\n",
      "Retrieved article numbers：11\n"
     ]
    },
    {
     "name": "stderr",
     "output_type": "stream",
     "text": [
      " 99%|█████████▊| 587/595 [52:10<00:19,  2.45s/it]"
     ]
    },
    {
     "name": "stdout",
     "output_type": "stream",
     "text": [
      "===== search term =====\n",
      "(Sparse and thin eyebrow[tiab] OR Thin sparse eyebrows[tiab] OR  Sparse and thin eyebrow[tiab]) AND ( variat*[tiab] or SNP[tiab] or allele*[tiab] or mutat*[tiab] or polymorphism*[tiab] or haplotype*[tiab] or SNPs[tiab] or genotype[tiab] or gene[tiab] or chromosome[tiab] or deletion[tiab] or indel[tiab] or insertion[tiab] or substitution[tiab] or transition[tiab] or transversion[tiab] or translocation[tiab] or CNV[tiab] or copy number variation[tiab] or SV[tiab] or chromosome structure variation[tiab]) NOT review[pt] AND English[LA] AND (\"1980/01/01\"[DP] : \"2023/4/1\"[DP])\n",
      "Retrieved article numbers：0\n"
     ]
    },
    {
     "name": "stderr",
     "output_type": "stream",
     "text": [
      " 99%|█████████▉| 588/595 [52:13<00:18,  2.62s/it]"
     ]
    },
    {
     "name": "stdout",
     "output_type": "stream",
     "text": [
      "===== search term =====\n",
      "(Absent upper eyelashes[tiab] OR  Absent upper eyelashes[tiab] OR  Atrichia of upper eyelashes[tiab] OR  Aplasia of upper eyelashes[tiab] OR  Failure of development of upper eyelashes[tiab] OR  Agenesis of upper eyelashes[tiab]) AND ( variat*[tiab] or SNP[tiab] or allele*[tiab] or mutat*[tiab] or polymorphism*[tiab] or haplotype*[tiab] or SNPs[tiab] or genotype[tiab] or gene[tiab] or chromosome[tiab] or deletion[tiab] or indel[tiab] or insertion[tiab] or substitution[tiab] or transition[tiab] or transversion[tiab] or translocation[tiab] or CNV[tiab] or copy number variation[tiab] or SV[tiab] or chromosome structure variation[tiab]) NOT review[pt] AND English[LA] AND (\"1980/01/01\"[DP] : \"2023/4/1\"[DP])\n",
      "Retrieved article numbers：7\n"
     ]
    },
    {
     "name": "stderr",
     "output_type": "stream",
     "text": [
      " 99%|█████████▉| 589/595 [52:15<00:14,  2.47s/it]"
     ]
    },
    {
     "name": "stdout",
     "output_type": "stream",
     "text": [
      "===== search term =====\n",
      "(Absent lower eyelashes[tiab] OR  Aplasia of lower eyelashes[tiab] OR  Failure of development of lower eyelashes[tiab] OR  Agenesis of lower eyelashes[tiab] OR  Absent lower eyelashes[tiab] OR  Atrichia of lower eyelashes[tiab]) AND ( variat*[tiab] or SNP[tiab] or allele*[tiab] or mutat*[tiab] or polymorphism*[tiab] or haplotype*[tiab] or SNPs[tiab] or genotype[tiab] or gene[tiab] or chromosome[tiab] or deletion[tiab] or indel[tiab] or insertion[tiab] or substitution[tiab] or transition[tiab] or transversion[tiab] or translocation[tiab] or CNV[tiab] or copy number variation[tiab] or SV[tiab] or chromosome structure variation[tiab]) NOT review[pt] AND English[LA] AND (\"1980/01/01\"[DP] : \"2023/4/1\"[DP])\n",
      "Retrieved article numbers：0\n"
     ]
    },
    {
     "name": "stderr",
     "output_type": "stream",
     "text": [
      " 99%|█████████▉| 590/595 [52:17<00:11,  2.31s/it]"
     ]
    },
    {
     "name": "stdout",
     "output_type": "stream",
     "text": [
      "===== search term =====\n",
      "(Absent inner eyelashes Absent inner eyelashes[tiab]) AND ( variat*[tiab] or SNP[tiab] or allele*[tiab] or mutat*[tiab] or polymorphism*[tiab] or haplotype*[tiab] or SNPs[tiab] or genotype[tiab] or gene[tiab] or chromosome[tiab] or deletion[tiab] or indel[tiab] or insertion[tiab] or substitution[tiab] or transition[tiab] or transversion[tiab] or translocation[tiab] or CNV[tiab] or copy number variation[tiab] or SV[tiab] or chromosome structure variation[tiab]) NOT review[pt] AND English[LA] AND (\"1980/01/01\"[DP] : \"2023/4/1\"[DP])\n",
      "Retrieved article numbers：0\n"
     ]
    },
    {
     "name": "stderr",
     "output_type": "stream",
     "text": [
      " 99%|█████████▉| 591/595 [52:19<00:08,  2.23s/it]"
     ]
    },
    {
     "name": "stdout",
     "output_type": "stream",
     "text": [
      "===== search term =====\n",
      "(Sparse lower eyelashes[tiab] OR  Sparse lower eyelashes[tiab] OR  Thin lower eyelashes[tiab] OR  Hypotrichosis of lower eyelashes[tiab] OR  Scanty lower eyelashes[tiab] OR  Partial absence of lower eyelashes[tiab]) AND ( variat*[tiab] or SNP[tiab] or allele*[tiab] or mutat*[tiab] or polymorphism*[tiab] or haplotype*[tiab] or SNPs[tiab] or genotype[tiab] or gene[tiab] or chromosome[tiab] or deletion[tiab] or indel[tiab] or insertion[tiab] or substitution[tiab] or transition[tiab] or transversion[tiab] or translocation[tiab] or CNV[tiab] or copy number variation[tiab] or SV[tiab] or chromosome structure variation[tiab]) NOT review[pt] AND English[LA] AND (\"1980/01/01\"[DP] : \"2023/4/1\"[DP])\n",
      "Retrieved article numbers：1\n"
     ]
    },
    {
     "name": "stderr",
     "output_type": "stream",
     "text": [
      " 99%|█████████▉| 592/595 [52:21<00:06,  2.15s/it]"
     ]
    },
    {
     "name": "stdout",
     "output_type": "stream",
     "text": [
      "===== search term =====\n",
      "(Palpebral fissure narrowing on adduction[tiab]) AND ( variat*[tiab] or SNP[tiab] or allele*[tiab] or mutat*[tiab] or polymorphism*[tiab] or haplotype*[tiab] or SNPs[tiab] or genotype[tiab] or gene[tiab] or chromosome[tiab] or deletion[tiab] or indel[tiab] or insertion[tiab] or substitution[tiab] or transition[tiab] or transversion[tiab] or translocation[tiab] or CNV[tiab] or copy number variation[tiab] or SV[tiab] or chromosome structure variation[tiab]) NOT review[pt] AND English[LA] AND (\"1980/01/01\"[DP] : \"2023/4/1\"[DP])\n",
      "Retrieved article numbers：1\n"
     ]
    },
    {
     "name": "stderr",
     "output_type": "stream",
     "text": [
      "100%|█████████▉| 593/595 [52:24<00:04,  2.30s/it]"
     ]
    },
    {
     "name": "stdout",
     "output_type": "stream",
     "text": [
      "===== search term =====\n",
      "(Unilateral narrow palpebral fissure[tiab] OR  Unequal size of opening between the eyelids[tiab]) AND ( variat*[tiab] or SNP[tiab] or allele*[tiab] or mutat*[tiab] or polymorphism*[tiab] or haplotype*[tiab] or SNPs[tiab] or genotype[tiab] or gene[tiab] or chromosome[tiab] or deletion[tiab] or indel[tiab] or insertion[tiab] or substitution[tiab] or transition[tiab] or transversion[tiab] or translocation[tiab] or CNV[tiab] or copy number variation[tiab] or SV[tiab] or chromosome structure variation[tiab]) NOT review[pt] AND English[LA] AND (\"1980/01/01\"[DP] : \"2023/4/1\"[DP])\n",
      "Retrieved article numbers：6\n"
     ]
    },
    {
     "name": "stderr",
     "output_type": "stream",
     "text": [
      "100%|█████████▉| 594/595 [52:26<00:02,  2.21s/it]"
     ]
    },
    {
     "name": "stdout",
     "output_type": "stream",
     "text": [
      "===== search term =====\n",
      "( Nasolacrimal sac papilloma[tiab]) AND ( variat*[tiab] or SNP[tiab] or allele*[tiab] or mutat*[tiab] or polymorphism*[tiab] or haplotype*[tiab] or SNPs[tiab] or genotype[tiab] or gene[tiab] or chromosome[tiab] or deletion[tiab] or indel[tiab] or insertion[tiab] or substitution[tiab] or transition[tiab] or transversion[tiab] or translocation[tiab] or CNV[tiab] or copy number variation[tiab] or SV[tiab] or chromosome structure variation[tiab]) NOT review[pt] AND English[LA] AND (\"1980/01/01\"[DP] : \"2023/4/1\"[DP])\n",
      "Retrieved article numbers：0\n"
     ]
    },
    {
     "name": "stderr",
     "output_type": "stream",
     "text": [
      "100%|██████████| 595/595 [52:28<00:00,  5.29s/it]"
     ]
    },
    {
     "name": "stdout",
     "output_type": "stream",
     "text": [
      "Total article numbers：26814\n"
     ]
    },
    {
     "name": "stderr",
     "output_type": "stream",
     "text": [
      "\n"
     ]
    }
   ],
   "source": [
    "from Bio import Entrez\n",
    "import pandas as pd\n",
    "import csv\n",
    "from tqdm import tqdm\n",
    "\n",
    "search_results = []\n",
    "with open('HPO_terms.csv', 'r', encoding='utf-8') as testfile:\n",
    "    reader = pd.read_csv(testfile, error_bad_lines=False)\n",
    "    all = 0   \n",
    "    res = []  \n",
    "\n",
    "    for i in tqdm(range(len(reader))):\n",
    "        # spilit string\n",
    "        s = reader[\"name\"][i]\n",
    "        s1 = s.split(\",\")\n",
    "        a = '[tiab] OR '.join(s1)\n",
    "\n",
    "        # generate search terms\n",
    "        search_terms = '(' + a + '[tiab])' + ' AND ( variat*[tiab] or SNP[tiab] or allele*[tiab] or mutat*[tiab] or polymorphism*[tiab] or haplotype*[tiab] or SNPs[tiab] ' \\\n",
    "        'or genotype[tiab] or gene[tiab] or chromosome[tiab] or deletion[tiab] or indel[tiab] or insertion[tiab] or substitution[tiab] or transition[tiab] or transversion[tiab] or translocation[tiab] or CNV[tiab] or copy number variation[tiab] or SV[tiab] or chromosome structure variation[tiab]) NOT review[pt] AND English[LA] AND (\"1980/01/01\"[DP] : \"2023/4/1\"[DP])'\n",
    "        print(\"===== search term =====\")\n",
    "        print(search_terms)\n",
    "        print(\"Retrieved article numbers：\" + record[\"Count\"]) # print article numbers\n",
    "\n",
    "        # Esearch for search\n",
    "        Entrez.email = \"1508525874@qq.com\"  # your email\n",
    "        handle = Entrez.esearch(db=\"pubmed\", term=search_terms, retmax=99999)\n",
    "        record = Entrez.read(handle)\n",
    "\n",
    "        # total article numbers\n",
    "        all = all + int(record[\"Count\"])\n",
    "        dataframe = pd.DataFrame(record[\"IdList\"])\n",
    "        dataframe = dataframe.drop_duplicates()\n",
    "        dataframe.to_csv(\"all.xlsx\", index=False, mode='a', sep=',')\n",
    "\n",
    "        # save search terms\n",
    "        search_results.append({'search_term': search_terms, 'count': record[\"Count\"]})\n",
    "\n",
    "    data = pd.DataFrame({'name': res})\n",
    "    data.to_csv(\"phenotype_name.xlsx\", index=False, mode='a', sep=',')\n",
    "    print(\"Total article numbers：\" + str(all))\n",
    "\n",
    "    results_df = pd.DataFrame(search_results)\n",
    "    results_df.to_csv(\"search_results.csv\", index=False)"
   ]
  }
 ],
 "metadata": {
  "kernelspec": {
   "display_name": "ML",
   "language": "python",
   "name": "python3"
  },
  "language_info": {
   "codemirror_mode": {
    "name": "ipython",
    "version": 3
   },
   "file_extension": ".py",
   "mimetype": "text/x-python",
   "name": "python",
   "nbconvert_exporter": "python",
   "pygments_lexer": "ipython3",
   "version": "3.10.12"
  }
 },
 "nbformat": 4,
 "nbformat_minor": 2
}
